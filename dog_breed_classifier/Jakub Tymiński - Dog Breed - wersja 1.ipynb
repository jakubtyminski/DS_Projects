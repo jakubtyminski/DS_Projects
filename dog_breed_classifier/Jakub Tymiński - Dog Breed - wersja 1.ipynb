{
 "cells": [
  {
   "cell_type": "code",
   "execution_count": 1,
   "metadata": {},
   "outputs": [],
   "source": [
    "import pandas as pd"
   ]
  },
  {
   "cell_type": "markdown",
   "metadata": {},
   "source": [
    "We are provided with a training set and a test set of images of dogs. Each image has a filename that is its unique id. The dataset comprises 120 breeds of dogs. The goal of the project is to create a classifier capable of determining a dog's breed from a photo."
   ]
  },
  {
   "cell_type": "markdown",
   "metadata": {},
   "source": [
    "First of all I look at the labels.csv file in order to understand how to start the analysis. I read the file using pandas library:"
   ]
  },
  {
   "cell_type": "markdown",
   "metadata": {},
   "source": [
    "Link to Kaggle competition:\n",
    "https://www.kaggle.com/c/dog-breed-identification"
   ]
  },
  {
   "cell_type": "code",
   "execution_count": 2,
   "metadata": {
    "scrolled": true
   },
   "outputs": [
    {
     "data": {
      "text/html": [
       "<div>\n",
       "<style scoped>\n",
       "    .dataframe tbody tr th:only-of-type {\n",
       "        vertical-align: middle;\n",
       "    }\n",
       "\n",
       "    .dataframe tbody tr th {\n",
       "        vertical-align: top;\n",
       "    }\n",
       "\n",
       "    .dataframe thead th {\n",
       "        text-align: right;\n",
       "    }\n",
       "</style>\n",
       "<table border=\"1\" class=\"dataframe\">\n",
       "  <thead>\n",
       "    <tr style=\"text-align: right;\">\n",
       "      <th></th>\n",
       "      <th>id</th>\n",
       "      <th>breed</th>\n",
       "    </tr>\n",
       "  </thead>\n",
       "  <tbody>\n",
       "    <tr>\n",
       "      <th>0</th>\n",
       "      <td>000bec180eb18c7604dcecc8fe0dba07</td>\n",
       "      <td>boston_bull</td>\n",
       "    </tr>\n",
       "    <tr>\n",
       "      <th>1</th>\n",
       "      <td>001513dfcb2ffafc82cccf4d8bbaba97</td>\n",
       "      <td>dingo</td>\n",
       "    </tr>\n",
       "    <tr>\n",
       "      <th>2</th>\n",
       "      <td>001cdf01b096e06d78e9e5112d419397</td>\n",
       "      <td>pekinese</td>\n",
       "    </tr>\n",
       "    <tr>\n",
       "      <th>3</th>\n",
       "      <td>00214f311d5d2247d5dfe4fe24b2303d</td>\n",
       "      <td>bluetick</td>\n",
       "    </tr>\n",
       "    <tr>\n",
       "      <th>4</th>\n",
       "      <td>0021f9ceb3235effd7fcde7f7538ed62</td>\n",
       "      <td>golden_retriever</td>\n",
       "    </tr>\n",
       "    <tr>\n",
       "      <th>...</th>\n",
       "      <td>...</td>\n",
       "      <td>...</td>\n",
       "    </tr>\n",
       "    <tr>\n",
       "      <th>10217</th>\n",
       "      <td>ffd25009d635cfd16e793503ac5edef0</td>\n",
       "      <td>borzoi</td>\n",
       "    </tr>\n",
       "    <tr>\n",
       "      <th>10218</th>\n",
       "      <td>ffd3f636f7f379c51ba3648a9ff8254f</td>\n",
       "      <td>dandie_dinmont</td>\n",
       "    </tr>\n",
       "    <tr>\n",
       "      <th>10219</th>\n",
       "      <td>ffe2ca6c940cddfee68fa3cc6c63213f</td>\n",
       "      <td>airedale</td>\n",
       "    </tr>\n",
       "    <tr>\n",
       "      <th>10220</th>\n",
       "      <td>ffe5f6d8e2bff356e9482a80a6e29aac</td>\n",
       "      <td>miniature_pinscher</td>\n",
       "    </tr>\n",
       "    <tr>\n",
       "      <th>10221</th>\n",
       "      <td>fff43b07992508bc822f33d8ffd902ae</td>\n",
       "      <td>chesapeake_bay_retriever</td>\n",
       "    </tr>\n",
       "  </tbody>\n",
       "</table>\n",
       "<p>10222 rows × 2 columns</p>\n",
       "</div>"
      ],
      "text/plain": [
       "                                     id                     breed\n",
       "0      000bec180eb18c7604dcecc8fe0dba07               boston_bull\n",
       "1      001513dfcb2ffafc82cccf4d8bbaba97                     dingo\n",
       "2      001cdf01b096e06d78e9e5112d419397                  pekinese\n",
       "3      00214f311d5d2247d5dfe4fe24b2303d                  bluetick\n",
       "4      0021f9ceb3235effd7fcde7f7538ed62          golden_retriever\n",
       "...                                 ...                       ...\n",
       "10217  ffd25009d635cfd16e793503ac5edef0                    borzoi\n",
       "10218  ffd3f636f7f379c51ba3648a9ff8254f            dandie_dinmont\n",
       "10219  ffe2ca6c940cddfee68fa3cc6c63213f                  airedale\n",
       "10220  ffe5f6d8e2bff356e9482a80a6e29aac        miniature_pinscher\n",
       "10221  fff43b07992508bc822f33d8ffd902ae  chesapeake_bay_retriever\n",
       "\n",
       "[10222 rows x 2 columns]"
      ]
     },
     "execution_count": 2,
     "metadata": {},
     "output_type": "execute_result"
    }
   ],
   "source": [
    "data = pd.read_csv('labels.csv')\n",
    "data"
   ]
  },
  {
   "cell_type": "markdown",
   "metadata": {},
   "source": [
    "Then I create a list of unique breeds that are provided from my data."
   ]
  },
  {
   "cell_type": "code",
   "execution_count": 3,
   "metadata": {
    "scrolled": true
   },
   "outputs": [
    {
     "data": {
      "text/plain": [
       "['boston_bull',\n",
       " 'dingo',\n",
       " 'pekinese',\n",
       " 'bluetick',\n",
       " 'golden_retriever',\n",
       " 'bedlington_terrier',\n",
       " 'borzoi',\n",
       " 'basenji',\n",
       " 'scottish_deerhound',\n",
       " 'shetland_sheepdog',\n",
       " 'walker_hound',\n",
       " 'maltese_dog',\n",
       " 'norfolk_terrier',\n",
       " 'african_hunting_dog',\n",
       " 'wire-haired_fox_terrier',\n",
       " 'redbone',\n",
       " 'lakeland_terrier',\n",
       " 'boxer',\n",
       " 'doberman',\n",
       " 'otterhound',\n",
       " 'standard_schnauzer',\n",
       " 'irish_water_spaniel',\n",
       " 'black-and-tan_coonhound',\n",
       " 'cairn',\n",
       " 'affenpinscher',\n",
       " 'labrador_retriever',\n",
       " 'ibizan_hound',\n",
       " 'english_setter',\n",
       " 'weimaraner',\n",
       " 'giant_schnauzer',\n",
       " 'groenendael',\n",
       " 'dhole',\n",
       " 'toy_poodle',\n",
       " 'border_terrier',\n",
       " 'tibetan_terrier',\n",
       " 'norwegian_elkhound',\n",
       " 'shih-tzu',\n",
       " 'irish_terrier',\n",
       " 'kuvasz',\n",
       " 'german_shepherd',\n",
       " 'greater_swiss_mountain_dog',\n",
       " 'basset',\n",
       " 'australian_terrier',\n",
       " 'schipperke',\n",
       " 'rhodesian_ridgeback',\n",
       " 'irish_setter',\n",
       " 'appenzeller',\n",
       " 'bloodhound',\n",
       " 'samoyed',\n",
       " 'miniature_schnauzer',\n",
       " 'brittany_spaniel',\n",
       " 'kelpie',\n",
       " 'papillon',\n",
       " 'border_collie',\n",
       " 'entlebucher',\n",
       " 'collie',\n",
       " 'malamute',\n",
       " 'welsh_springer_spaniel',\n",
       " 'chihuahua',\n",
       " 'saluki',\n",
       " 'pug',\n",
       " 'malinois',\n",
       " 'komondor',\n",
       " 'airedale',\n",
       " 'leonberg',\n",
       " 'mexican_hairless',\n",
       " 'bull_mastiff',\n",
       " 'bernese_mountain_dog',\n",
       " 'american_staffordshire_terrier',\n",
       " 'lhasa',\n",
       " 'cardigan',\n",
       " 'italian_greyhound',\n",
       " 'clumber',\n",
       " 'scotch_terrier',\n",
       " 'afghan_hound',\n",
       " 'old_english_sheepdog',\n",
       " 'saint_bernard',\n",
       " 'miniature_pinscher',\n",
       " 'eskimo_dog',\n",
       " 'irish_wolfhound',\n",
       " 'brabancon_griffon',\n",
       " 'toy_terrier',\n",
       " 'chow',\n",
       " 'flat-coated_retriever',\n",
       " 'norwich_terrier',\n",
       " 'soft-coated_wheaten_terrier',\n",
       " 'staffordshire_bullterrier',\n",
       " 'english_foxhound',\n",
       " 'gordon_setter',\n",
       " 'siberian_husky',\n",
       " 'newfoundland',\n",
       " 'briard',\n",
       " 'chesapeake_bay_retriever',\n",
       " 'dandie_dinmont',\n",
       " 'great_pyrenees',\n",
       " 'beagle',\n",
       " 'vizsla',\n",
       " 'west_highland_white_terrier',\n",
       " 'kerry_blue_terrier',\n",
       " 'whippet',\n",
       " 'sealyham_terrier',\n",
       " 'standard_poodle',\n",
       " 'keeshond',\n",
       " 'japanese_spaniel',\n",
       " 'miniature_poodle',\n",
       " 'pomeranian',\n",
       " 'curly-coated_retriever',\n",
       " 'yorkshire_terrier',\n",
       " 'pembroke',\n",
       " 'great_dane',\n",
       " 'blenheim_spaniel',\n",
       " 'silky_terrier',\n",
       " 'sussex_spaniel',\n",
       " 'german_short-haired_pointer',\n",
       " 'french_bulldog',\n",
       " 'bouvier_des_flandres',\n",
       " 'tibetan_mastiff',\n",
       " 'english_springer',\n",
       " 'cocker_spaniel',\n",
       " 'rottweiler']"
      ]
     },
     "execution_count": 3,
     "metadata": {},
     "output_type": "execute_result"
    }
   ],
   "source": [
    "breed_list = list(data.breed.unique())\n",
    "breed_list"
   ]
  },
  {
   "cell_type": "markdown",
   "metadata": {},
   "source": [
    "My model requiers me to have all the photos devided by the breed name in different folders. Right now I need to create folders for all the breeds."
   ]
  },
  {
   "cell_type": "code",
   "execution_count": 4,
   "metadata": {},
   "outputs": [],
   "source": [
    "import os\n",
    "for breed in breed_list:\n",
    "    newpath = r'C:\\Users\\Jakub\\Desktop\\Projekt Dog Breed\\dog-breed-identification\\train_new' + '\\\\' + breed \n",
    "    if not os.path.exists(newpath):\n",
    "        os.makedirs(newpath)"
   ]
  },
  {
   "cell_type": "code",
   "execution_count": 5,
   "metadata": {},
   "outputs": [],
   "source": [
    "# for breed in breed_list:\n",
    "#     newpath = r'C:\\Users\\Jakub\\Desktop\\Projekt Dog Breed\\dog-breed-identification\\test_new' + '\\\\' + breed \n",
    "#     if not os.path.exists(newpath):\n",
    "#         os.makedirs(newpath)"
   ]
  },
  {
   "cell_type": "code",
   "execution_count": 6,
   "metadata": {},
   "outputs": [],
   "source": [
    "for breed in breed_list:\n",
    "    newpath = r'C:\\Users\\Jakub\\Desktop\\Projekt Dog Breed\\dog-breed-identification\\validation_new' + '\\\\' + breed \n",
    "    if not os.path.exists(newpath):\n",
    "        os.makedirs(newpath)"
   ]
  },
  {
   "cell_type": "markdown",
   "metadata": {},
   "source": [
    "Right now all the photos need to end up in correct folders. To do so I create a dictionary with keys as dog breeds and yet empty values. Then looping on train folder and using my labels.csv file I map filenames with proper keys. "
   ]
  },
  {
   "cell_type": "code",
   "execution_count": 21,
   "metadata": {},
   "outputs": [],
   "source": [
    "rasa_nazwa_pliku = {}\n",
    "for rasa in breed_list:\n",
    "    rasa_nazwa_pliku[rasa] = []"
   ]
  },
  {
   "cell_type": "code",
   "execution_count": 22,
   "metadata": {
    "scrolled": true
   },
   "outputs": [],
   "source": [
    "for i in range(len(data)):\n",
    "    rasa_nazwa_pliku[data.breed[i]].append(data.id[i])\n",
    "       "
   ]
  },
  {
   "cell_type": "markdown",
   "metadata": {},
   "source": [
    "Having the dictionary prepared now I am able to move proper train files to their new folders."
   ]
  },
  {
   "cell_type": "code",
   "execution_count": 9,
   "metadata": {},
   "outputs": [],
   "source": [
    "import shutil, os\n",
    "for breed in breed_list:\n",
    "    for i in rasa_nazwa_pliku[breed]:\n",
    "        plik = i + '.jpg'\n",
    "        shutil.copy(r'C:\\Users\\Jakub\\Desktop\\Projekt Dog Breed\\dog-breed-identification\\train' + '\\\\' + plik, \\\n",
    "                    r'C:\\Users\\Jakub\\Desktop\\Projekt Dog Breed\\dog-breed-identification\\train_new' \\\n",
    "                    + \"\\\\\" + breed)"
   ]
  },
  {
   "cell_type": "markdown",
   "metadata": {},
   "source": [
    "To validate my model I need some validation data as well. My idea of getting it is taking 20 pictures from each dog breed folder and moving them to proper validation folders."
   ]
  },
  {
   "cell_type": "code",
   "execution_count": 10,
   "metadata": {},
   "outputs": [],
   "source": [
    "from os import listdir\n",
    "from os.path import isfile, join\n",
    "for nazwa in breed_list:\n",
    "    path = r'C:\\Users\\Jakub\\Desktop\\Projekt Dog Breed\\dog-breed-identification\\train_new' + '\\\\' + nazwa\n",
    "    lista_plikow = [f for f in listdir(path) if isfile(join(path, f))]\n",
    "    lista_plikow = lista_plikow[:20]\n",
    "    for i in lista_plikow:\n",
    "        before_path = r'C:\\Users\\Jakub\\Desktop\\Projekt Dog Breed\\dog-breed-identification\\train_new' + '\\\\' + nazwa \\\n",
    "        + '\\\\' + i\n",
    "        after_path = r'C:\\Users\\Jakub\\Desktop\\Projekt Dog Breed\\dog-breed-identification\\validation_new' + '\\\\' + nazwa \\\n",
    "        + '\\\\' + i\n",
    "        shutil.move(before_path, after_path)\n",
    "    "
   ]
  },
  {
   "cell_type": "markdown",
   "metadata": {},
   "source": [
    "Great. All the files are in proper folders so right now I can start modelling.\n",
    "\n",
    "After some research about this kind of tasks first of all I try pretrained convolutional InceptionResNetV2 neural network that is available in keras/tensorflow2 library. On top of that final layers are designed by me. "
   ]
  },
  {
   "cell_type": "code",
   "execution_count": 11,
   "metadata": {
    "scrolled": true
   },
   "outputs": [
    {
     "name": "stdout",
     "output_type": "stream",
     "text": [
      "2.4.1\n",
      "2.4.0\n"
     ]
    }
   ],
   "source": [
    "from tensorflow.keras.applications import VGG16, InceptionV3, InceptionResNetV2\n",
    "from keras.applications.resnet50 import ResNet50\n",
    "import numpy as np\n",
    "import pandas as pd\n",
    "import matplotlib.pyplot as plt\n",
    "import os\n",
    "\n",
    "from tensorflow.keras.models import Sequential\n",
    "from tensorflow.keras.layers import Dense\n",
    "from tensorflow.keras.callbacks import LearningRateScheduler\n",
    "from tensorflow.keras.callbacks import ModelCheckpoint\n",
    "from tensorflow.keras.callbacks import EarlyStopping\n",
    "from tensorflow.keras.layers import Dropout\n",
    "from tensorflow.keras.layers import BatchNormalization\n",
    "from tensorflow.keras.layers import Activation\n",
    "from tensorflow.keras.layers import Flatten\n",
    "from tensorflow.python.keras.layers.convolutional import Conv2D, MaxPooling2D, AveragePooling2D\n",
    "from tensorflow.keras.callbacks import History\n",
    "from tensorflow.keras.optimizers import Adam, SGD, RMSprop\n",
    "import tensorflow as tf\n",
    "from tensorflow import keras as keras\n",
    "print(tf.__version__)\n",
    "\n",
    "print(keras.__version__)"
   ]
  },
  {
   "cell_type": "markdown",
   "metadata": {},
   "source": [
    "- My model on top of the neural network contains two layers (256 and 120 neurons) with added dropout with 0.5 value. \n",
    "- Having 20 epochs I added early stopping as well with patience 5. \n",
    "- From the experience I also use 'relu' activation function."
   ]
  },
  {
   "cell_type": "code",
   "execution_count": 12,
   "metadata": {},
   "outputs": [
    {
     "name": "stdout",
     "output_type": "stream",
     "text": [
      "Model: \"sequential_1\"\n",
      "_________________________________________________________________\n",
      "Layer (type)                 Output Shape              Param #   \n",
      "=================================================================\n",
      "inception_resnet_v2 (Functio (None, 8, 8, 1536)        54336736  \n",
      "_________________________________________________________________\n",
      "sequential (Sequential)      (None, 120)               25196920  \n",
      "=================================================================\n",
      "Total params: 79,533,656\n",
      "Trainable params: 25,196,920\n",
      "Non-trainable params: 54,336,736\n",
      "_________________________________________________________________\n"
     ]
    }
   ],
   "source": [
    "h,w = 300, 300\n",
    "model = InceptionResNetV2(weights='imagenet',include_top=False,input_shape=(h,w,3))\n",
    "\n",
    "\n",
    "top_model = Sequential()\n",
    "top_model.add(Flatten(input_shape=model.output_shape[1:]))\n",
    "top_model.add(Dropout(0.5))\n",
    "top_model.add(Dense(256, activation='relu'))\n",
    "top_model.add(Dropout(0.5))\n",
    "top_model.add(Dense(120, activation='softmax'))\n",
    "\n",
    "model_transfer = Sequential()\n",
    "model_transfer.add(model)\n",
    "model_transfer.add(top_model)\n",
    "\n",
    "model_transfer.layers[0].trainable = False\n",
    "\n",
    "model_transfer.summary()"
   ]
  },
  {
   "cell_type": "markdown",
   "metadata": {},
   "source": [
    " - As an optimizer I use RMSprop because of the previous research, however, I also consider trying 'adam' optimizer during the process of trying different approaches.\n",
    " - Because there is a lot of data and my laptop isn not the fastest one I decided to use 20 epochs.\n",
    " - Bach size was considered during studying previous architectures."
   ]
  },
  {
   "cell_type": "code",
   "execution_count": 13,
   "metadata": {},
   "outputs": [
    {
     "name": "stdout",
     "output_type": "stream",
     "text": [
      "Found 7822 images belonging to 120 classes.\n",
      "Found 2400 images belonging to 120 classes.\n"
     ]
    }
   ],
   "source": [
    "from tensorflow.keras.preprocessing.image import ImageDataGenerator\n",
    "\n",
    "optimizer = RMSprop(lr = 0.0001, rho = 0.99)\n",
    "\n",
    "model_transfer.compile(loss='categorical_crossentropy',optimizer=optimizer,metrics=['accuracy'])\n",
    "\n",
    "train_data_dir = r'C:\\Users\\Jakub\\Desktop\\Projekt Dog Breed\\dog-breed-identification\\train_new'\n",
    "validation_data_dir = r'C:\\Users\\Jakub\\Desktop\\Projekt Dog Breed\\dog-breed-identification\\validation_new'\n",
    "epochs = 20\n",
    "batch_size = 16\n",
    "\n",
    "# prepare data augmentation configuration\n",
    "train_datagen = ImageDataGenerator(rescale=1./255, \n",
    "                                   shear_range=0.2, \n",
    "                                   zoom_range=0.2,\n",
    "                                   rotation_range=45, \n",
    "                                   horizontal_flip=True)\n",
    "\n",
    "\n",
    "test_datagen = ImageDataGenerator(rescale=1./255)\n",
    "\n",
    "train_generator = train_datagen.flow_from_directory(train_data_dir, \n",
    "                                                    target_size=(h, w), \n",
    "                                                    batch_size=batch_size, \n",
    "                                                    class_mode='categorical')\n",
    "\n",
    "validation_generator = test_datagen.flow_from_directory(validation_data_dir,\n",
    "                                                        target_size=(h, w), \n",
    "                                                        batch_size=batch_size,\n",
    "                                                        class_mode='categorical')"
   ]
  },
  {
   "cell_type": "code",
   "execution_count": 14,
   "metadata": {},
   "outputs": [
    {
     "name": "stdout",
     "output_type": "stream",
     "text": [
      "Epoch 1/20\n",
      "489/489 [==============================] - 2186s 4s/step - loss: 4.1046 - accuracy: 0.2336 - val_loss: 0.5903 - val_accuracy: 0.8558\n",
      "Epoch 2/20\n",
      "489/489 [==============================] - 2154s 4s/step - loss: 1.6037 - accuracy: 0.6362 - val_loss: 0.4702 - val_accuracy: 0.8729\n",
      "Epoch 3/20\n",
      "489/489 [==============================] - 2153s 4s/step - loss: 1.3469 - accuracy: 0.6922 - val_loss: 0.4369 - val_accuracy: 0.8829\n",
      "Epoch 4/20\n",
      "489/489 [==============================] - 2155s 4s/step - loss: 1.2107 - accuracy: 0.7295 - val_loss: 0.4177 - val_accuracy: 0.8892\n",
      "Epoch 5/20\n",
      "489/489 [==============================] - 2151s 4s/step - loss: 1.1588 - accuracy: 0.7351 - val_loss: 0.4500 - val_accuracy: 0.8813\n",
      "Epoch 6/20\n",
      "489/489 [==============================] - 2153s 4s/step - loss: 1.0950 - accuracy: 0.7456 - val_loss: 0.4424 - val_accuracy: 0.8863\n",
      "Epoch 7/20\n",
      "489/489 [==============================] - 2153s 4s/step - loss: 1.0725 - accuracy: 0.7577 - val_loss: 0.4376 - val_accuracy: 0.8813\n",
      "Epoch 8/20\n",
      "489/489 [==============================] - 2147s 4s/step - loss: 1.0201 - accuracy: 0.7631 - val_loss: 0.4655 - val_accuracy: 0.8817\n",
      "Epoch 9/20\n",
      "489/489 [==============================] - 2161s 4s/step - loss: 0.9871 - accuracy: 0.7729 - val_loss: 0.4416 - val_accuracy: 0.8883\n"
     ]
    },
    {
     "data": {
      "text/plain": [
       "<tensorflow.python.keras.callbacks.History at 0x175b050a790>"
      ]
     },
     "execution_count": 14,
     "metadata": {},
     "output_type": "execute_result"
    }
   ],
   "source": [
    "history_tr_ag = History()\n",
    "early_stopping = EarlyStopping(patience=5,monitor=\"val_loss\")\n",
    "save_best_model = ModelCheckpoint(r'C:\\Users\\Jakub\\Desktop\\GitHubProjects\\dog_breed_classifier\\best_model1.h5\",save_best_only=True')\n",
    "\n",
    "model_transfer.fit(train_generator, batch_size=batch_size, epochs=epochs, \n",
    "                    validation_data=validation_generator,  callbacks=[early_stopping, history_tr_ag, save_best_model])"
   ]
  },
  {
   "cell_type": "code",
   "execution_count": 15,
   "metadata": {},
   "outputs": [
    {
     "data": {
      "image/png": "[encoded data removed]",
      "text/plain": [
       "<Figure size 432x288 with 1 Axes>"
      ]
     },
     "metadata": {
      "needs_background": "light"
     },
     "output_type": "display_data"
    }
   ],
   "source": [
    "plt.plot(history_tr_ag.history['loss'], label = \"train\")\n",
    "plt.plot(history_tr_ag.history['val_loss'], label = \"test \")\n",
    "\n",
    "plt.legend()\n",
    "plt.show()"
   ]
  },
  {
   "cell_type": "markdown",
   "metadata": {},
   "source": [
    " - Looking at the val_loss graph I can assume that there is no overfitting - good sign.\n",
    " - Right now I want to see if my model does well on test data that I have as well from Kaggle.\n"
   ]
  },
  {
   "cell_type": "code",
   "execution_count": 24,
   "metadata": {},
   "outputs": [
    {
     "name": "stdout",
     "output_type": "stream",
     "text": [
      "Found 10359 images belonging to 1 classes.\n"
     ]
    }
   ],
   "source": [
    "test_generator = test_datagen.flow_from_directory(r'C:\\Users\\Jakub\\Desktop\\Projekt Dog Breed\\dog-breed-identification\\test',\n",
    "                                                        target_size=(h, w), \n",
    "                                                        batch_size=batch_size,\n",
    "                                                        class_mode='categorical')"
   ]
  },
  {
   "cell_type": "code",
   "execution_count": 25,
   "metadata": {},
   "outputs": [],
   "source": [
    "test_inception = model_transfer.predict_generator(test_generator)"
   ]
  },
  {
   "cell_type": "code",
   "execution_count": 26,
   "metadata": {},
   "outputs": [],
   "source": [
    "np.save('test_inception_v1.npy', test_inception)"
   ]
  },
  {
   "cell_type": "code",
   "execution_count": 27,
   "metadata": {},
   "outputs": [],
   "source": [
    "test_inception = np.load('test_inception_v1.npy')"
   ]
  },
  {
   "cell_type": "code",
   "execution_count": 29,
   "metadata": {},
   "outputs": [
    {
     "name": "stdout",
     "output_type": "stream",
     "text": [
      "648/648 [==============================] - 2095s 3s/step\n"
     ]
    }
   ],
   "source": [
    "prediction = model_transfer.predict(test_generator, verbose=1)"
   ]
  },
  {
   "cell_type": "code",
   "execution_count": 30,
   "metadata": {},
   "outputs": [
    {
     "name": "stdout",
     "output_type": "stream",
     "text": [
      "                0             1             2             3             4    \\\n",
      "0      1.832990e-08  1.796268e-09  3.392373e-09  1.182431e-06  7.011172e-04   \n",
      "1      1.300587e-09  5.395273e-11  3.512646e-11  5.073523e-12  1.195257e-10   \n",
      "2      1.170976e-09  7.117221e-10  6.782025e-08  2.968204e-06  2.821027e-05   \n",
      "3      1.459606e-10  7.006158e-13  1.139215e-10  6.041421e-11  8.714646e-10   \n",
      "4      8.599158e-11  1.860964e-08  7.188745e-11  2.063109e-11  2.672662e-07   \n",
      "...             ...           ...           ...           ...           ...   \n",
      "10354  3.126006e-08  1.072014e-08  1.310065e-10  2.189848e-07  4.237778e-07   \n",
      "10355  2.457981e-08  6.558990e-07  4.324687e-10  9.934193e-01  2.406985e-07   \n",
      "10356  2.236704e-12  1.294922e-08  4.866329e-11  3.621650e-11  4.868650e-11   \n",
      "10357  4.467681e-07  1.009602e-08  5.319463e-08  2.545541e-06  3.424092e-05   \n",
      "10358  5.673728e-06  7.291564e-06  1.589668e-05  5.961547e-07  2.927594e-07   \n",
      "\n",
      "                5             6             7             8             9    \\\n",
      "0      1.235292e-07  2.463765e-06  4.577038e-09  2.160749e-06  7.387321e-07   \n",
      "1      1.143332e-10  4.058403e-09  3.852538e-09  3.619773e-13  1.341235e-12   \n",
      "2      6.145741e-08  2.371909e-04  7.329213e-09  8.857944e-07  3.047348e-10   \n",
      "3      5.208160e-07  9.766170e-12  9.999654e-01  2.113128e-10  1.248315e-13   \n",
      "4      1.367709e-07  2.685046e-06  4.424264e-11  4.998382e-09  1.625862e-10   \n",
      "...             ...           ...           ...           ...           ...   \n",
      "10354  4.197002e-09  4.202778e-07  1.689806e-08  5.151368e-08  2.320619e-08   \n",
      "10355  1.328961e-08  9.425352e-08  6.158146e-09  7.628342e-08  3.211375e-08   \n",
      "10356  5.166527e-06  9.883979e-09  7.111977e-07  2.846574e-10  1.779582e-09   \n",
      "10357  9.223741e-06  9.672909e-04  4.069799e-05  3.628927e-07  4.210803e-08   \n",
      "10358  8.415476e-06  1.111741e-06  6.295923e-05  2.885526e-08  2.305635e-07   \n",
      "\n",
      "       ...           110           111           112           113  \\\n",
      "0      ...  1.861342e-07  1.290619e-06  7.200816e-09  3.812455e-08   \n",
      "1      ...  9.670189e-11  5.122010e-09  6.433754e-11  1.511711e-13   \n",
      "2      ...  2.595218e-07  1.527557e-06  3.337359e-10  9.318547e-10   \n",
      "3      ...  1.734253e-12  5.358291e-09  9.077133e-12  1.131237e-12   \n",
      "4      ...  1.099030e-09  2.601717e-09  6.099531e-11  1.992942e-09   \n",
      "...    ...           ...           ...           ...           ...   \n",
      "10354  ...  1.421140e-07  2.454075e-08  3.010323e-09  3.316942e-10   \n",
      "10355  ...  3.451304e-06  5.576914e-07  1.875563e-08  9.040998e-08   \n",
      "10356  ...  6.550007e-12  2.188797e-10  2.482025e-14  1.563081e-11   \n",
      "10357  ...  4.962521e-05  4.401729e-06  9.553222e-01  5.472605e-06   \n",
      "10358  ...  1.419454e-05  2.990588e-06  6.512530e-07  1.821006e-07   \n",
      "\n",
      "                114           115           116           117           118  \\\n",
      "0      1.979260e-08  1.214902e-08  4.946507e-08  2.937206e-06  1.474339e-06   \n",
      "1      7.713420e-12  5.142915e-11  9.660211e-12  4.554922e-10  1.784304e-11   \n",
      "2      1.620923e-08  4.758427e-08  4.033338e-07  1.402797e-08  4.496610e-09   \n",
      "3      5.287729e-17  9.061881e-11  5.277918e-08  4.833869e-11  1.140372e-08   \n",
      "4      1.258800e-08  1.468146e-11  2.353783e-10  1.299398e-07  1.964028e-10   \n",
      "...             ...           ...           ...           ...           ...   \n",
      "10354  9.632782e-08  1.356795e-08  8.250296e-09  8.554825e-07  2.541190e-10   \n",
      "10355  5.966999e-08  1.618539e-08  1.916187e-09  1.312551e-07  6.097042e-04   \n",
      "10356  4.391114e-12  2.557471e-09  1.538166e-12  4.504554e-10  1.418077e-11   \n",
      "10357  1.083124e-05  1.562200e-05  9.184216e-06  3.843643e-07  2.600553e-05   \n",
      "10358  5.699849e-07  4.184905e-06  1.822959e-06  4.440065e-06  5.776309e-08   \n",
      "\n",
      "                119  \n",
      "0      8.704566e-09  \n",
      "1      4.267922e-11  \n",
      "2      4.799658e-07  \n",
      "3      2.262239e-14  \n",
      "4      1.013325e-10  \n",
      "...             ...  \n",
      "10354  8.951574e-07  \n",
      "10355  1.876801e-08  \n",
      "10356  1.453781e-08  \n",
      "10357  3.776227e-05  \n",
      "10358  1.328907e-06  \n",
      "\n",
      "[10359 rows x 120 columns]\n"
     ]
    }
   ],
   "source": [
    "prediction = pd.DataFrame(prediction)\n",
    "print(prediction)"
   ]
  },
  {
   "cell_type": "code",
   "execution_count": 31,
   "metadata": {},
   "outputs": [],
   "source": [
    "prediction.to_csv('prediction_inception.csv')"
   ]
  }
 ],
 "metadata": {
  "kernelspec": {
   "display_name": "Python 3",
   "language": "python",
   "name": "python3"
  },
  "language_info": {
   "codemirror_mode": {
    "name": "ipython",
    "version": 3
   },
   "file_extension": ".py",
   "mimetype": "text/x-python",
   "name": "python",
   "nbconvert_exporter": "python",
   "pygments_lexer": "ipython3",
   "version": "3.8.3"
  }
 },
 "nbformat": 4,
 "nbformat_minor": 4
}
