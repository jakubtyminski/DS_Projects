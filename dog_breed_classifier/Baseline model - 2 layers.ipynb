{
 "cells": [
  {
   "cell_type": "markdown",
   "metadata": {},
   "source": [
    "Right now I am going to create my baseline model to estimate if the pretrained keras models work better than a simple network."
   ]
  },
  {
   "cell_type": "code",
   "execution_count": 1,
   "metadata": {},
   "outputs": [
    {
     "name": "stdout",
     "output_type": "stream",
     "text": [
      "2.4.1\n",
      "2.4.0\n"
     ]
    }
   ],
   "source": [
    "from tensorflow.keras.applications import VGG16, InceptionV3, InceptionResNetV2\n",
    "from keras.applications.resnet50 import ResNet50\n",
    "import numpy as np\n",
    "import pandas as pd\n",
    "import matplotlib.pyplot as plt\n",
    "import os\n",
    "\n",
    "from tensorflow.keras.models import Sequential\n",
    "from tensorflow.keras.layers import Dense\n",
    "from tensorflow.keras.callbacks import LearningRateScheduler\n",
    "from tensorflow.keras.callbacks import ModelCheckpoint\n",
    "from tensorflow.keras.callbacks import EarlyStopping\n",
    "from tensorflow.keras.layers import Dropout\n",
    "from tensorflow.keras.layers import BatchNormalization\n",
    "from tensorflow.keras.layers import Activation\n",
    "from tensorflow.keras.layers import Flatten\n",
    "from tensorflow.python.keras.layers.convolutional import Conv2D, MaxPooling2D, AveragePooling2D\n",
    "from tensorflow.keras.callbacks import History\n",
    "from tensorflow.keras.optimizers import Adam, SGD, RMSprop\n",
    "import tensorflow as tf\n",
    "from tensorflow import keras as keras\n",
    "print(tf.__version__)\n",
    "\n",
    "print(keras.__version__)"
   ]
  },
  {
   "cell_type": "markdown",
   "metadata": {},
   "source": [
    "I create a network with 2 convolutional layers and MaxPooling, as an activation function I choose 'relu' due to the previous research. Last layer has 120 neurons because of 120 dog breeds that I have in my train dataset."
   ]
  },
  {
   "cell_type": "code",
   "execution_count": 2,
   "metadata": {},
   "outputs": [
    {
     "name": "stdout",
     "output_type": "stream",
     "text": [
      "Model: \"sequential\"\n",
      "_________________________________________________________________\n",
      "Layer (type)                 Output Shape              Param #   \n",
      "=================================================================\n",
      "conv2d (Conv2D)              (None, 296, 296, 8)       608       \n",
      "_________________________________________________________________\n",
      "max_pooling2d (MaxPooling2D) (None, 148, 148, 8)       0         \n",
      "_________________________________________________________________\n",
      "conv2d_1 (Conv2D)            (None, 144, 144, 16)      3216      \n",
      "_________________________________________________________________\n",
      "max_pooling2d_1 (MaxPooling2 (None, 72, 72, 16)        0         \n",
      "_________________________________________________________________\n",
      "flatten (Flatten)            (None, 82944)             0         \n",
      "_________________________________________________________________\n",
      "dense (Dense)                (None, 260)               21565700  \n",
      "_________________________________________________________________\n",
      "dense_1 (Dense)              (None, 120)               31320     \n",
      "=================================================================\n",
      "Total params: 21,600,844\n",
      "Trainable params: 21,600,844\n",
      "Non-trainable params: 0\n",
      "_________________________________________________________________\n"
     ]
    }
   ],
   "source": [
    "h,w = 300, 300\n",
    "\n",
    "model = Sequential()\n",
    "model.add(Conv2D(8, (5, 5), activation='relu', input_shape=(h,w,3)))\n",
    "model.add(MaxPooling2D(2))\n",
    "model.add(Conv2D(16, (5, 5), activation='relu'))\n",
    "model.add(MaxPooling2D(2))\n",
    "model.add(Flatten())\n",
    "model.add(Dense(260, activation='relu'))\n",
    "model.add(Dense(120, activation='softmax'))\n",
    "model.summary()"
   ]
  },
  {
   "cell_type": "code",
   "execution_count": 3,
   "metadata": {},
   "outputs": [
    {
     "name": "stdout",
     "output_type": "stream",
     "text": [
      "Found 7822 images belonging to 120 classes.\n",
      "Found 2400 images belonging to 120 classes.\n"
     ]
    }
   ],
   "source": [
    "from tensorflow.keras.preprocessing.image import ImageDataGenerator\n",
    "\n",
    "optimizer = RMSprop(lr = 0.0001, rho = 0.99)\n",
    "\n",
    "model.compile(loss='categorical_crossentropy',optimizer=optimizer,metrics=['accuracy'])\n",
    "\n",
    "train_data_dir = r'C:\\Users\\Jakub\\Desktop\\Projekt Dog Breed\\dog-breed-identification\\train_new'\n",
    "validation_data_dir = r'C:\\Users\\Jakub\\Desktop\\Projekt Dog Breed\\dog-breed-identification\\validation_new'\n",
    "epochs = 50\n",
    "batch_size = 16\n",
    "\n",
    "# prepare data augmentation configuration\n",
    "train_datagen = ImageDataGenerator(rescale=1./255, \n",
    "                                   shear_range=0.2, \n",
    "                                   zoom_range=0.2,\n",
    "                                   rotation_range=45, \n",
    "                                   horizontal_flip=True)\n",
    "\n",
    "\n",
    "test_datagen = ImageDataGenerator(rescale=1./255)\n",
    "\n",
    "train_generator = train_datagen.flow_from_directory(train_data_dir, \n",
    "                                                    target_size=(h, w), \n",
    "                                                    batch_size=batch_size, \n",
    "                                                    class_mode='categorical')\n",
    "\n",
    "validation_generator = test_datagen.flow_from_directory(validation_data_dir,\n",
    "                                                        target_size=(h, w), \n",
    "                                                        batch_size=batch_size,\n",
    "                                                        class_mode='categorical')"
   ]
  },
  {
   "cell_type": "code",
   "execution_count": 4,
   "metadata": {},
   "outputs": [
    {
     "name": "stdout",
     "output_type": "stream",
     "text": [
      "Epoch 1/50\n",
      "489/489 [==============================] - 469s 958ms/step - loss: 5.0061 - accuracy: 0.0150 - val_loss: 4.7640 - val_accuracy: 0.0142\n",
      "Epoch 2/50\n",
      "489/489 [==============================] - 470s 961ms/step - loss: 4.6815 - accuracy: 0.0268 - val_loss: 4.6617 - val_accuracy: 0.0229\n",
      "Epoch 3/50\n",
      "489/489 [==============================] - 459s 939ms/step - loss: 4.5423 - accuracy: 0.0373 - val_loss: 4.5646 - val_accuracy: 0.0342\n",
      "Epoch 4/50\n",
      "489/489 [==============================] - 456s 932ms/step - loss: 4.4333 - accuracy: 0.0432 - val_loss: 4.4753 - val_accuracy: 0.0383\n",
      "Epoch 5/50\n",
      "489/489 [==============================] - 454s 927ms/step - loss: 4.3332 - accuracy: 0.0548 - val_loss: 4.4933 - val_accuracy: 0.0408\n",
      "Epoch 6/50\n",
      "489/489 [==============================] - 452s 923ms/step - loss: 4.2245 - accuracy: 0.0715 - val_loss: 4.4272 - val_accuracy: 0.0446\n",
      "Epoch 7/50\n",
      "489/489 [==============================] - 452s 924ms/step - loss: 4.2024 - accuracy: 0.0715 - val_loss: 4.4047 - val_accuracy: 0.0504\n",
      "Epoch 8/50\n",
      "489/489 [==============================] - 452s 924ms/step - loss: 4.1538 - accuracy: 0.0727 - val_loss: 4.3738 - val_accuracy: 0.0521\n",
      "Epoch 9/50\n",
      "489/489 [==============================] - 452s 924ms/step - loss: 4.1042 - accuracy: 0.0833 - val_loss: 4.3971 - val_accuracy: 0.0525\n",
      "Epoch 10/50\n",
      "489/489 [==============================] - 452s 924ms/step - loss: 4.0594 - accuracy: 0.0926 - val_loss: 4.3487 - val_accuracy: 0.0667\n",
      "Epoch 11/50\n",
      "489/489 [==============================] - 453s 926ms/step - loss: 4.0170 - accuracy: 0.1087 - val_loss: 4.3874 - val_accuracy: 0.0608\n",
      "Epoch 12/50\n",
      "489/489 [==============================] - 453s 926ms/step - loss: 3.9890 - accuracy: 0.1035 - val_loss: 4.3562 - val_accuracy: 0.0587\n",
      "Epoch 13/50\n",
      "489/489 [==============================] - 452s 923ms/step - loss: 3.9547 - accuracy: 0.1079 - val_loss: 4.3302 - val_accuracy: 0.0696\n",
      "Epoch 14/50\n",
      "489/489 [==============================] - 452s 923ms/step - loss: 3.8929 - accuracy: 0.1159 - val_loss: 4.3988 - val_accuracy: 0.0517\n",
      "Epoch 15/50\n",
      "489/489 [==============================] - 453s 925ms/step - loss: 3.8785 - accuracy: 0.1193 - val_loss: 4.3854 - val_accuracy: 0.0683\n",
      "Epoch 16/50\n",
      "489/489 [==============================] - 452s 923ms/step - loss: 3.8527 - accuracy: 0.1297 - val_loss: 4.3438 - val_accuracy: 0.0763\n",
      "Epoch 17/50\n",
      "489/489 [==============================] - 454s 928ms/step - loss: 3.7997 - accuracy: 0.1306 - val_loss: 4.3575 - val_accuracy: 0.0696\n",
      "Epoch 18/50\n",
      "489/489 [==============================] - 452s 925ms/step - loss: 3.7905 - accuracy: 0.1344 - val_loss: 4.3760 - val_accuracy: 0.0746\n"
     ]
    },
    {
     "data": {
      "text/plain": [
       "<tensorflow.python.keras.callbacks.History at 0x2450c31e3a0>"
      ]
     },
     "execution_count": 4,
     "metadata": {},
     "output_type": "execute_result"
    }
   ],
   "source": [
    "history = History()\n",
    "early_stopping = EarlyStopping(patience=5,monitor=\"val_loss\")\n",
    "save_best_model = ModelCheckpoint(r'C:\\Users\\Jakub\\Desktop\\GitHubProjects\\dog_breed_classifier\\baseline_model.h5',save_best_only=True)\n",
    "\n",
    "model.fit(train_generator, batch_size=batch_size, epochs=epochs, \n",
    "                    validation_data=validation_generator,  callbacks=[early_stopping, history, save_best_model])"
   ]
  },
  {
   "cell_type": "markdown",
   "metadata": {},
   "source": [
    "We can clearly see that custom convolutional neural network is not even near the pretrained model when it comes to val_accuracy. It is necessary to use pretrained Keras Neural Network"
   ]
  },
  {
   "cell_type": "code",
   "execution_count": 7,
   "metadata": {},
   "outputs": [
    {
     "data": {
      "image/png": "[encoded data removed]",
      "text/plain": [
       "<Figure size 432x288 with 1 Axes>"
      ]
     },
     "metadata": {
      "needs_background": "light"
     },
     "output_type": "display_data"
    }
   ],
   "source": [
    "plt.plot(history.history['accuracy'], label = \"train\")\n",
    "plt.plot(history.history['val_accuracy'], label = \"validation\")\n",
    "\n",
    "\n",
    "plt.legend()\n",
    "plt.show()"
   ]
  }
 ],
 "metadata": {
  "kernelspec": {
   "display_name": "Python 3",
   "language": "python",
   "name": "python3"
  },
  "language_info": {
   "codemirror_mode": {
    "name": "ipython",
    "version": 3
   },
   "file_extension": ".py",
   "mimetype": "text/x-python",
   "name": "python",
   "nbconvert_exporter": "python",
   "pygments_lexer": "ipython3",
   "version": "3.8.3"
  }
 },
 "nbformat": 4,
 "nbformat_minor": 4
}
