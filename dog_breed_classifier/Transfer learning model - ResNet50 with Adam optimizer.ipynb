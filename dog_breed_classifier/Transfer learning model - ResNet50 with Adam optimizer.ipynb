{
 "cells": [
  {
   "cell_type": "code",
   "execution_count": 1,
   "metadata": {},
   "outputs": [
    {
     "name": "stdout",
     "output_type": "stream",
     "text": [
      "2.4.1\n",
      "2.4.0\n"
     ]
    }
   ],
   "source": [
    "from tensorflow.keras.applications import VGG16, InceptionV3, InceptionResNetV2\n",
    "from keras.applications.resnet50 import ResNet50\n",
    "import numpy as np\n",
    "import pandas as pd\n",
    "import matplotlib.pyplot as plt\n",
    "import os\n",
    "\n",
    "from tensorflow.keras.models import Sequential\n",
    "from tensorflow.keras.layers import Dense\n",
    "from tensorflow.keras.callbacks import LearningRateScheduler\n",
    "from tensorflow.keras.callbacks import ModelCheckpoint\n",
    "from tensorflow.keras.callbacks import EarlyStopping\n",
    "from tensorflow.keras.layers import Dropout\n",
    "from tensorflow.keras.layers import BatchNormalization\n",
    "from tensorflow.keras.layers import Activation\n",
    "from tensorflow.keras.layers import Flatten\n",
    "from tensorflow.python.keras.layers.convolutional import Conv2D, MaxPooling2D, AveragePooling2D\n",
    "from tensorflow.keras.callbacks import History\n",
    "from tensorflow.keras.optimizers import Adam, SGD, RMSprop\n",
    "import tensorflow as tf\n",
    "from tensorflow import keras as keras\n",
    "print(tf.__version__)\n",
    "\n",
    "print(keras.__version__)"
   ]
  },
  {
   "cell_type": "code",
   "execution_count": 2,
   "metadata": {},
   "outputs": [
    {
     "name": "stdout",
     "output_type": "stream",
     "text": [
      "Model: \"sequential_1\"\n",
      "_________________________________________________________________\n",
      "Layer (type)                 Output Shape              Param #   \n",
      "=================================================================\n",
      "resnet50 (Functional)        (None, 10, 10, 2048)      23587712  \n",
      "_________________________________________________________________\n",
      "sequential (Sequential)      (None, 120)               52459896  \n",
      "=================================================================\n",
      "Total params: 76,047,608\n",
      "Trainable params: 52,459,896\n",
      "Non-trainable params: 23,587,712\n",
      "_________________________________________________________________\n"
     ]
    }
   ],
   "source": [
    "h,w = 300, 300\n",
    "model = ResNet50(weights='imagenet',include_top=False,input_shape=(h,w,3))\n",
    "\n",
    "\n",
    "top_model = Sequential()\n",
    "top_model.add(Flatten(input_shape=model.output_shape[1:]))\n",
    "top_model.add(Dropout(0.5))\n",
    "top_model.add(Dense(256, activation='relu'))\n",
    "top_model.add(Dropout(0.5))\n",
    "top_model.add(Dense(120, activation='softmax'))\n",
    "\n",
    "model_transfer = Sequential()\n",
    "model_transfer.add(model)\n",
    "model_transfer.add(top_model)\n",
    "\n",
    "model_transfer.layers[0].trainable = False\n",
    "\n",
    "model_transfer.summary()"
   ]
  },
  {
   "cell_type": "code",
   "execution_count": 3,
   "metadata": {},
   "outputs": [
    {
     "name": "stdout",
     "output_type": "stream",
     "text": [
      "Found 7822 images belonging to 120 classes.\n",
      "Found 2400 images belonging to 120 classes.\n"
     ]
    }
   ],
   "source": [
    "from tensorflow.keras.preprocessing.image import ImageDataGenerator\n",
    "\n",
    "optimizer = Adam(lr = 0.0001)\n",
    "\n",
    "model_transfer.compile(loss='categorical_crossentropy',optimizer=optimizer,metrics=['accuracy'])\n",
    "\n",
    "train_data_dir = r'C:\\Users\\Jakub\\Desktop\\Projekt Dog Breed\\dog-breed-identification\\train_new'\n",
    "validation_data_dir = r'C:\\Users\\Jakub\\Desktop\\Projekt Dog Breed\\dog-breed-identification\\validation_new'\n",
    "epochs = 80\n",
    "batch_size = 16\n",
    "\n",
    "# prepare data augmentation configuration\n",
    "train_datagen = ImageDataGenerator(rescale=1./255, \n",
    "                                   shear_range=0.2, \n",
    "                                   zoom_range=0.2,\n",
    "                                   rotation_range=45, \n",
    "                                   horizontal_flip=True)\n",
    "\n",
    "\n",
    "test_datagen = ImageDataGenerator(rescale=1./255)\n",
    "\n",
    "train_generator = train_datagen.flow_from_directory(train_data_dir, \n",
    "                                                    target_size=(h, w), \n",
    "                                                    batch_size=batch_size, \n",
    "                                                    class_mode='categorical')\n",
    "\n",
    "validation_generator = test_datagen.flow_from_directory(validation_data_dir,\n",
    "                                                        target_size=(h, w), \n",
    "                                                        batch_size=batch_size,\n",
    "                                                        class_mode='categorical')"
   ]
  },
  {
   "cell_type": "code",
   "execution_count": 4,
   "metadata": {},
   "outputs": [
    {
     "name": "stdout",
     "output_type": "stream",
     "text": [
      "Epoch 1/80\n",
      "489/489 [==============================] - 1536s 3s/step - loss: 5.0070 - accuracy: 0.0094 - val_loss: 4.7875 - val_accuracy: 0.0083\n",
      "Epoch 2/80\n",
      "489/489 [==============================] - 1513s 3s/step - loss: 4.7866 - accuracy: 0.0143 - val_loss: 4.7875 - val_accuracy: 0.0083\n",
      "Epoch 3/80\n",
      "489/489 [==============================] - 1520s 3s/step - loss: 4.7859 - accuracy: 0.0130 - val_loss: 4.7875 - val_accuracy: 0.0083\n",
      "Epoch 4/80\n",
      "489/489 [==============================] - 1518s 3s/step - loss: 4.7853 - accuracy: 0.0133 - val_loss: 4.7876 - val_accuracy: 0.0083\n",
      "Epoch 5/80\n",
      "489/489 [==============================] - 1531s 3s/step - loss: 4.7847 - accuracy: 0.0150 - val_loss: 4.7876 - val_accuracy: 0.0083\n",
      "Epoch 6/80\n",
      "489/489 [==============================] - 1540s 3s/step - loss: 4.7843 - accuracy: 0.0124 - val_loss: 4.7877 - val_accuracy: 0.0083\n",
      "Epoch 7/80\n",
      "489/489 [==============================] - 1543s 3s/step - loss: 4.7836 - accuracy: 0.0157 - val_loss: 4.7878 - val_accuracy: 0.0083\n",
      "Epoch 8/80\n",
      "489/489 [==============================] - 1541s 3s/step - loss: 4.7831 - accuracy: 0.0121 - val_loss: 4.7878 - val_accuracy: 0.0083\n",
      "Epoch 9/80\n",
      "489/489 [==============================] - 1546s 3s/step - loss: 4.7825 - accuracy: 0.0131 - val_loss: 4.7879 - val_accuracy: 0.0083\n",
      "Epoch 10/80\n",
      "489/489 [==============================] - 1544s 3s/step - loss: 4.7820 - accuracy: 0.0124 - val_loss: 4.7880 - val_accuracy: 0.0083\n",
      "Epoch 11/80\n",
      "489/489 [==============================] - 1552s 3s/step - loss: 4.7818 - accuracy: 0.0124 - val_loss: 4.7881 - val_accuracy: 0.0083\n",
      "Epoch 12/80\n",
      "489/489 [==============================] - 1539s 3s/step - loss: 4.7810 - accuracy: 0.0131 - val_loss: 4.7882 - val_accuracy: 0.0083\n",
      "Epoch 13/80\n",
      "489/489 [==============================] - 1542s 3s/step - loss: 4.7805 - accuracy: 0.0148 - val_loss: 4.7883 - val_accuracy: 0.0083\n",
      "Epoch 14/80\n",
      "489/489 [==============================] - 1531s 3s/step - loss: 4.7805 - accuracy: 0.0132 - val_loss: 4.7884 - val_accuracy: 0.0083\n",
      "Epoch 15/80\n",
      "489/489 [==============================] - 1540s 3s/step - loss: 4.7789 - accuracy: 0.0142 - val_loss: 4.7886 - val_accuracy: 0.0083\n",
      "Epoch 16/80\n",
      "489/489 [==============================] - 1536s 3s/step - loss: 4.7795 - accuracy: 0.0159 - val_loss: 4.7887 - val_accuracy: 0.0083\n",
      "Epoch 17/80\n",
      "489/489 [==============================] - 1541s 3s/step - loss: 4.7790 - accuracy: 0.0121 - val_loss: 4.7888 - val_accuracy: 0.0083\n",
      "Epoch 18/80\n",
      "489/489 [==============================] - 1535s 3s/step - loss: 4.7783 - accuracy: 0.0126 - val_loss: 4.7889 - val_accuracy: 0.0083\n",
      "Epoch 19/80\n",
      "489/489 [==============================] - 1536s 3s/step - loss: 4.7775 - accuracy: 0.0153 - val_loss: 4.7891 - val_accuracy: 0.0083\n",
      "Epoch 20/80\n",
      "489/489 [==============================] - 1534s 3s/step - loss: 4.7781 - accuracy: 0.0155 - val_loss: 4.7892 - val_accuracy: 0.0083\n",
      "Epoch 21/80\n",
      "489/489 [==============================] - 1533s 3s/step - loss: 4.7772 - accuracy: 0.0114 - val_loss: 4.7894 - val_accuracy: 0.0083\n",
      "Epoch 22/80\n",
      "489/489 [==============================] - 1540s 3s/step - loss: 4.7763 - accuracy: 0.0158 - val_loss: 4.7895 - val_accuracy: 0.0083\n",
      "Epoch 23/80\n",
      "489/489 [==============================] - 1537s 3s/step - loss: 4.7753 - accuracy: 0.0142 - val_loss: 4.7897 - val_accuracy: 0.0083\n",
      "Epoch 24/80\n",
      "489/489 [==============================] - 1531s 3s/step - loss: 4.7768 - accuracy: 0.0107 - val_loss: 4.7898 - val_accuracy: 0.0083\n",
      "Epoch 25/80\n",
      "489/489 [==============================] - 1536s 3s/step - loss: 4.7759 - accuracy: 0.0108 - val_loss: 4.7900 - val_accuracy: 0.0083\n",
      "Epoch 26/80\n",
      "489/489 [==============================] - 1533s 3s/step - loss: 4.7779 - accuracy: 0.0132 - val_loss: 4.7902 - val_accuracy: 0.0083\n",
      "Epoch 27/80\n",
      "489/489 [==============================] - 1534s 3s/step - loss: 4.7747 - accuracy: 0.0123 - val_loss: 4.7903 - val_accuracy: 0.0083\n",
      "Epoch 28/80\n",
      "489/489 [==============================] - 1534s 3s/step - loss: 4.7759 - accuracy: 0.0119 - val_loss: 4.7905 - val_accuracy: 0.0083\n",
      "Epoch 29/80\n",
      "489/489 [==============================] - 12147s 25s/step - loss: 4.7762 - accuracy: 0.0126 - val_loss: 4.7907 - val_accuracy: 0.0083\n",
      "Epoch 30/80\n",
      "489/489 [==============================] - 1494s 3s/step - loss: 4.7755 - accuracy: 0.0132 - val_loss: 4.7908 - val_accuracy: 0.0083\n",
      "Epoch 31/80\n",
      "489/489 [==============================] - 1492s 3s/step - loss: 4.7755 - accuracy: 0.0161 - val_loss: 4.7910 - val_accuracy: 0.0083\n"
     ]
    },
    {
     "data": {
      "text/plain": [
       "<tensorflow.python.keras.callbacks.History at 0x1ee13af86a0>"
      ]
     },
     "execution_count": 4,
     "metadata": {},
     "output_type": "execute_result"
    }
   ],
   "source": [
    "history_tr_ag = History()\n",
    "early_stopping = EarlyStopping(patience=30,monitor=\"val_loss\")\n",
    "save_best_model = ModelCheckpoint(r'C:\\Users\\Jakub\\Desktop\\GitHubProjects\\dog_breed_classifier\\best_model1.h5',save_best_only=True)\n",
    "\n",
    "model_transfer.fit(train_generator, batch_size=batch_size, epochs=epochs, \n",
    "                    validation_data=validation_generator,  callbacks=[early_stopping, history_tr_ag, save_best_model])"
   ]
  },
  {
   "cell_type": "code",
   "execution_count": 5,
   "metadata": {},
   "outputs": [
    {
     "data": {
      "image/png": "[encoded data removed]",
      "text/plain": [
       "<Figure size 432x288 with 1 Axes>"
      ]
     },
     "metadata": {
      "needs_background": "light"
     },
     "output_type": "display_data"
    }
   ],
   "source": [
    "plt.plot(history_tr_ag.history['loss'], label = \"train\")\n",
    "plt.plot(history_tr_ag.history['val_loss'], label = \"test \")\n",
    "\n",
    "plt.legend()\n",
    "plt.show()"
   ]
  },
  {
   "cell_type": "code",
   "execution_count": null,
   "metadata": {},
   "outputs": [],
   "source": []
  },
  {
   "cell_type": "code",
   "execution_count": null,
   "metadata": {},
   "outputs": [],
   "source": []
  },
  {
   "cell_type": "code",
   "execution_count": null,
   "metadata": {},
   "outputs": [],
   "source": []
  }
 ],
 "metadata": {
  "kernelspec": {
   "display_name": "Python 3",
   "language": "python",
   "name": "python3"
  },
  "language_info": {
   "codemirror_mode": {
    "name": "ipython",
    "version": 3
   },
   "file_extension": ".py",
   "mimetype": "text/x-python",
   "name": "python",
   "nbconvert_exporter": "python",
   "pygments_lexer": "ipython3",
   "version": "3.8.3"
  }
 },
 "nbformat": 4,
 "nbformat_minor": 4
}
