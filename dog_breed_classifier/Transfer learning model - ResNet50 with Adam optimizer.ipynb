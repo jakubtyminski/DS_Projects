{
 "cells": [
  {
   "cell_type": "code",
   "execution_count": 1,
   "metadata": {},
   "outputs": [
    {
     "name": "stdout",
     "output_type": "stream",
     "text": [
      "2.4.1\n",
      "2.4.0\n"
     ]
    }
   ],
   "source": [
    "from tensorflow.keras.applications import VGG16, InceptionV3, InceptionResNetV2\n",
    "from keras.applications.resnet50 import ResNet50\n",
    "import numpy as np\n",
    "import pandas as pd\n",
    "import matplotlib.pyplot as plt\n",
    "import os\n",
    "\n",
    "from tensorflow.keras.models import Sequential\n",
    "from tensorflow.keras.layers import Dense\n",
    "from tensorflow.keras.callbacks import LearningRateScheduler\n",
    "from tensorflow.keras.callbacks import ModelCheckpoint\n",
    "from tensorflow.keras.callbacks import EarlyStopping\n",
    "from tensorflow.keras.layers import Dropout\n",
    "from tensorflow.keras.layers import BatchNormalization\n",
    "from tensorflow.keras.layers import Activation\n",
    "from tensorflow.keras.layers import Flatten\n",
    "from tensorflow.python.keras.layers.convolutional import Conv2D, MaxPooling2D, AveragePooling2D\n",
    "from tensorflow.keras.callbacks import History\n",
    "from tensorflow.keras.optimizers import Adam, SGD, RMSprop\n",
    "import tensorflow as tf\n",
    "from tensorflow import keras as keras\n",
    "print(tf.__version__)\n",
    "\n",
    "print(keras.__version__)"
   ]
  },
  {
   "cell_type": "code",
   "execution_count": 2,
   "metadata": {},
   "outputs": [
    {
     "name": "stdout",
     "output_type": "stream",
     "text": [
      "Model: \"sequential_1\"\n",
      "_________________________________________________________________\n",
      "Layer (type)                 Output Shape              Param #   \n",
      "=================================================================\n",
      "resnet50 (Functional)        (None, 10, 10, 2048)      23587712  \n",
      "_________________________________________________________________\n",
      "sequential (Sequential)      (None, 120)               52459896  \n",
      "=================================================================\n",
      "Total params: 76,047,608\n",
      "Trainable params: 52,459,896\n",
      "Non-trainable params: 23,587,712\n",
      "_________________________________________________________________\n"
     ]
    }
   ],
   "source": [
    "h,w = 300, 300\n",
    "model = ResNet50(weights='imagenet',include_top=False,input_shape=(h,w,3))\n",
    "\n",
    "\n",
    "top_model = Sequential()\n",
    "top_model.add(Flatten(input_shape=model.output_shape[1:]))\n",
    "top_model.add(Dropout(0.5))\n",
    "top_model.add(Dense(256, activation='relu'))\n",
    "top_model.add(Dropout(0.5))\n",
    "top_model.add(Dense(120, activation='softmax'))\n",
    "\n",
    "model_transfer = Sequential()\n",
    "model_transfer.add(model)\n",
    "model_transfer.add(top_model)\n",
    "\n",
    "model_transfer.layers[0].trainable = False\n",
    "\n",
    "model_transfer.summary()"
   ]
  },
  {
   "cell_type": "code",
   "execution_count": 3,
   "metadata": {},
   "outputs": [
    {
     "name": "stdout",
     "output_type": "stream",
     "text": [
      "Found 7822 images belonging to 120 classes.\n",
      "Found 2400 images belonging to 120 classes.\n"
     ]
    }
   ],
   "source": [
    "from tensorflow.keras.preprocessing.image import ImageDataGenerator\n",
    "\n",
    "optimizer = Adam(lr = 0.0001)\n",
    "\n",
    "model_transfer.compile(loss='categorical_crossentropy',optimizer=optimizer,metrics=['accuracy'])\n",
    "\n",
    "train_data_dir = r'C:\\Users\\Jakub\\Desktop\\Projekt Dog Breed\\dog-breed-identification\\train_new'\n",
    "validation_data_dir = r'C:\\Users\\Jakub\\Desktop\\Projekt Dog Breed\\dog-breed-identification\\validation_new'\n",
    "epochs = 20\n",
    "batch_size = 16\n",
    "\n",
    "# prepare data augmentation configuration\n",
    "train_datagen = ImageDataGenerator(rescale=1./255, \n",
    "                                   shear_range=0.2, \n",
    "                                   zoom_range=0.2,\n",
    "                                   rotation_range=45, \n",
    "                                   horizontal_flip=True)\n",
    "\n",
    "\n",
    "test_datagen = ImageDataGenerator(rescale=1./255)\n",
    "\n",
    "train_generator = train_datagen.flow_from_directory(train_data_dir, \n",
    "                                                    target_size=(h, w), \n",
    "                                                    batch_size=batch_size, \n",
    "                                                    class_mode='categorical')\n",
    "\n",
    "validation_generator = test_datagen.flow_from_directory(validation_data_dir,\n",
    "                                                        target_size=(h, w), \n",
    "                                                        batch_size=batch_size,\n",
    "                                                        class_mode='categorical')"
   ]
  },
  {
   "cell_type": "code",
   "execution_count": 4,
   "metadata": {},
   "outputs": [
    {
     "name": "stdout",
     "output_type": "stream",
     "text": [
      "Epoch 1/20\n",
      "489/489 [==============================] - 1526s 3s/step - loss: 5.0910 - accuracy: 0.0097 - val_loss: 4.7875 - val_accuracy: 0.0083\n",
      "Epoch 2/20\n",
      "489/489 [==============================] - 1520s 3s/step - loss: 4.7869 - accuracy: 0.0136 - val_loss: 4.7875 - val_accuracy: 0.0083\n",
      "Epoch 3/20\n",
      "489/489 [==============================] - 1507s 3s/step - loss: 4.7859 - accuracy: 0.0143 - val_loss: 4.7875 - val_accuracy: 0.0083\n",
      "Epoch 4/20\n",
      "489/489 [==============================] - 1513s 3s/step - loss: 4.7855 - accuracy: 0.0141 - val_loss: 4.7876 - val_accuracy: 0.0083\n",
      "Epoch 5/20\n",
      "489/489 [==============================] - 1501s 3s/step - loss: 4.7849 - accuracy: 0.0130 - val_loss: 4.7876 - val_accuracy: 0.0083\n",
      "Epoch 6/20\n",
      "489/489 [==============================] - 1506s 3s/step - loss: 4.7844 - accuracy: 0.0123 - val_loss: 4.7877 - val_accuracy: 0.0083\n"
     ]
    },
    {
     "data": {
      "text/plain": [
       "<tensorflow.python.keras.callbacks.History at 0x213624b9c40>"
      ]
     },
     "execution_count": 4,
     "metadata": {},
     "output_type": "execute_result"
    }
   ],
   "source": [
    "history_tr_ag = History()\n",
    "early_stopping = EarlyStopping(patience=5,monitor=\"val_loss\")\n",
    "save_best_model = ModelCheckpoint(r'C:\\Users\\Jakub\\Desktop\\GitHubProjects\\dog_breed_classifier\\best_model1.h5',save_best_only=True)\n",
    "\n",
    "model_transfer.fit(train_generator, batch_size=batch_size, epochs=epochs, \n",
    "                    validation_data=validation_generator,  callbacks=[early_stopping, history_tr_ag, save_best_model])"
   ]
  },
  {
   "cell_type": "code",
   "execution_count": 5,
   "metadata": {},
   "outputs": [
    {
     "data": {
      "image/png": "[encoded data removed]",
      "text/plain": [
       "<Figure size 432x288 with 1 Axes>"
      ]
     },
     "metadata": {
      "needs_background": "light"
     },
     "output_type": "display_data"
    }
   ],
   "source": [
    "plt.plot(history_tr_ag.history['loss'], label = \"train\")\n",
    "plt.plot(history_tr_ag.history['val_loss'], label = \"test \")\n",
    "\n",
    "plt.legend()\n",
    "plt.show()"
   ]
  },
  {
   "cell_type": "code",
   "execution_count": null,
   "metadata": {},
   "outputs": [],
   "source": []
  },
  {
   "cell_type": "code",
   "execution_count": null,
   "metadata": {},
   "outputs": [],
   "source": []
  },
  {
   "cell_type": "code",
   "execution_count": null,
   "metadata": {},
   "outputs": [],
   "source": []
  }
 ],
 "metadata": {
  "kernelspec": {
   "display_name": "Python 3",
   "language": "python",
   "name": "python3"
  },
  "language_info": {
   "codemirror_mode": {
    "name": "ipython",
    "version": 3
   },
   "file_extension": ".py",
   "mimetype": "text/x-python",
   "name": "python",
   "nbconvert_exporter": "python",
   "pygments_lexer": "ipython3",
   "version": "3.8.3"
  }
 },
 "nbformat": 4,
 "nbformat_minor": 4
}
