{
 "cells": [
  {
   "cell_type": "code",
   "execution_count": 1,
   "metadata": {},
   "outputs": [
    {
     "name": "stdout",
     "output_type": "stream",
     "text": [
      "2.4.1\n",
      "2.4.0\n"
     ]
    }
   ],
   "source": [
    "from tensorflow.keras.applications import VGG16, InceptionV3, InceptionResNetV2\n",
    "from keras.applications.resnet50 import ResNet50\n",
    "import numpy as np\n",
    "import pandas as pd\n",
    "import matplotlib.pyplot as plt\n",
    "import os\n",
    "\n",
    "from tensorflow.keras.models import Sequential\n",
    "from tensorflow.keras.layers import Dense\n",
    "from tensorflow.keras.callbacks import LearningRateScheduler\n",
    "from tensorflow.keras.callbacks import ModelCheckpoint\n",
    "from tensorflow.keras.callbacks import EarlyStopping\n",
    "from tensorflow.keras.layers import Dropout\n",
    "from tensorflow.keras.layers import BatchNormalization\n",
    "from tensorflow.keras.layers import Activation\n",
    "from tensorflow.keras.layers import Flatten\n",
    "from tensorflow.python.keras.layers.convolutional import Conv2D, MaxPooling2D, AveragePooling2D\n",
    "from tensorflow.keras.callbacks import History\n",
    "from tensorflow.keras.optimizers import Adam, SGD, RMSprop\n",
    "import tensorflow as tf\n",
    "from tensorflow import keras as keras\n",
    "print(tf.__version__)\n",
    "\n",
    "print(keras.__version__)"
   ]
  },
  {
   "cell_type": "code",
   "execution_count": 2,
   "metadata": {},
   "outputs": [
    {
     "name": "stdout",
     "output_type": "stream",
     "text": [
      "Model: \"sequential_1\"\n",
      "_________________________________________________________________\n",
      "Layer (type)                 Output Shape              Param #   \n",
      "=================================================================\n",
      "resnet50 (Functional)        (None, 10, 10, 2048)      23587712  \n",
      "_________________________________________________________________\n",
      "sequential (Sequential)      (None, 120)               113222560 \n",
      "=================================================================\n",
      "Total params: 136,810,272\n",
      "Trainable params: 113,222,560\n",
      "Non-trainable params: 23,587,712\n",
      "_________________________________________________________________\n"
     ]
    }
   ],
   "source": [
    "h,w = 300, 300\n",
    "model = ResNet50(weights='imagenet',include_top=False,input_shape=(h,w,3))\n",
    "\n",
    "\n",
    "top_model = Sequential()\n",
    "top_model.add(Flatten(input_shape=model.output_shape[1:]))\n",
    "top_model.add(Dropout(0.5))\n",
    "top_model.add(Dense(552, activation='relu'))\n",
    "top_model.add(Dropout(0.5))\n",
    "top_model.add(Dense(256, activation='relu'))\n",
    "top_model.add(Dropout(0.5))\n",
    "top_model.add(Dense(120, activation='softmax'))\n",
    "\n",
    "model_transfer = Sequential()\n",
    "model_transfer.add(model)\n",
    "model_transfer.add(top_model)\n",
    "\n",
    "model_transfer.layers[0].trainable = False\n",
    "\n",
    "model_transfer.summary()"
   ]
  },
  {
   "cell_type": "code",
   "execution_count": 3,
   "metadata": {},
   "outputs": [
    {
     "name": "stdout",
     "output_type": "stream",
     "text": [
      "Found 7822 images belonging to 120 classes.\n",
      "Found 2400 images belonging to 120 classes.\n"
     ]
    }
   ],
   "source": [
    "from tensorflow.keras.preprocessing.image import ImageDataGenerator\n",
    "\n",
    "optimizer = RMSprop(lr = 0.0001, rho = 0.99)\n",
    "\n",
    "model_transfer.compile(loss='categorical_crossentropy',optimizer=optimizer,metrics=['accuracy'])\n",
    "\n",
    "train_data_dir = r'C:\\Users\\Jakub\\Desktop\\Projekt Dog Breed\\dog-breed-identification\\train_new'\n",
    "validation_data_dir = r'C:\\Users\\Jakub\\Desktop\\Projekt Dog Breed\\dog-breed-identification\\validation_new'\n",
    "epochs = 60\n",
    "batch_size = 16\n",
    "\n",
    "# prepare data augmentation configuration\n",
    "train_datagen = ImageDataGenerator(rescale=1./255, \n",
    "                                   shear_range=0.2, \n",
    "                                   zoom_range=0.2,\n",
    "                                   rotation_range=45, \n",
    "                                   horizontal_flip=True)\n",
    "\n",
    "\n",
    "test_datagen = ImageDataGenerator(rescale=1./255)\n",
    "\n",
    "train_generator = train_datagen.flow_from_directory(train_data_dir, \n",
    "                                                    target_size=(h, w), \n",
    "                                                    batch_size=batch_size, \n",
    "                                                    class_mode='categorical')\n",
    "\n",
    "validation_generator = test_datagen.flow_from_directory(validation_data_dir,\n",
    "                                                        target_size=(h, w), \n",
    "                                                        batch_size=batch_size,\n",
    "                                                        class_mode='categorical')"
   ]
  },
  {
   "cell_type": "code",
   "execution_count": 4,
   "metadata": {},
   "outputs": [
    {
     "name": "stdout",
     "output_type": "stream",
     "text": [
      "Epoch 1/60\n",
      "489/489 [==============================] - 1876s 4s/step - loss: 8.1169 - accuracy: 0.0093 - val_loss: 4.7875 - val_accuracy: 0.0083\n",
      "Epoch 2/60\n",
      "489/489 [==============================] - 1850s 4s/step - loss: 4.7894 - accuracy: 0.0152 - val_loss: 4.7875 - val_accuracy: 0.0083\n",
      "Epoch 3/60\n",
      "489/489 [==============================] - 1853s 4s/step - loss: 4.7968 - accuracy: 0.0164 - val_loss: 4.7876 - val_accuracy: 0.0083\n",
      "Epoch 4/60\n",
      "489/489 [==============================] - 1844s 4s/step - loss: 4.7891 - accuracy: 0.0135 - val_loss: 4.7876 - val_accuracy: 0.0083\n",
      "Epoch 5/60\n",
      "489/489 [==============================] - 1847s 4s/step - loss: 4.7856 - accuracy: 0.0117 - val_loss: 4.7877 - val_accuracy: 0.0083\n",
      "Epoch 6/60\n",
      "489/489 [==============================] - 1845s 4s/step - loss: 4.7843 - accuracy: 0.0143 - val_loss: 4.7878 - val_accuracy: 0.0083\n",
      "Epoch 7/60\n",
      "489/489 [==============================] - 1861s 4s/step - loss: 4.7832 - accuracy: 0.0121 - val_loss: 4.7880 - val_accuracy: 0.0083\n",
      "Epoch 8/60\n",
      "489/489 [==============================] - 1845s 4s/step - loss: 4.7814 - accuracy: 0.0117 - val_loss: 4.7882 - val_accuracy: 0.0083\n",
      "Epoch 9/60\n",
      "489/489 [==============================] - 1843s 4s/step - loss: 4.7810 - accuracy: 0.0152 - val_loss: 4.7884 - val_accuracy: 0.0083\n",
      "Epoch 10/60\n",
      "489/489 [==============================] - 1844s 4s/step - loss: 4.7809 - accuracy: 0.0108 - val_loss: 4.7887 - val_accuracy: 0.0083\n",
      "Epoch 11/60\n",
      "489/489 [==============================] - 1842s 4s/step - loss: 4.7798 - accuracy: 0.0122 - val_loss: 4.7891 - val_accuracy: 0.0083\n",
      "Epoch 12/60\n",
      "489/489 [==============================] - 1843s 4s/step - loss: 4.7818 - accuracy: 0.0132 - val_loss: 4.7895 - val_accuracy: 0.0083\n",
      "Epoch 13/60\n",
      "489/489 [==============================] - 1849s 4s/step - loss: 4.7775 - accuracy: 0.0147 - val_loss: 4.7900 - val_accuracy: 0.0083\n",
      "Epoch 14/60\n",
      "489/489 [==============================] - 1842s 4s/step - loss: 4.7770 - accuracy: 0.0128 - val_loss: 4.7906 - val_accuracy: 0.0083\n",
      "Epoch 15/60\n",
      "489/489 [==============================] - 1847s 4s/step - loss: 4.7755 - accuracy: 0.0158 - val_loss: 4.7913 - val_accuracy: 0.0083\n",
      "Epoch 16/60\n",
      "489/489 [==============================] - 1845s 4s/step - loss: 4.7813 - accuracy: 0.0135 - val_loss: 4.7920 - val_accuracy: 0.0083\n",
      "Epoch 17/60\n",
      "489/489 [==============================] - 1848s 4s/step - loss: 4.7754 - accuracy: 0.0115 - val_loss: 4.7927 - val_accuracy: 0.0083\n",
      "Epoch 18/60\n",
      "489/489 [==============================] - 1851s 4s/step - loss: 4.7701 - accuracy: 0.0148 - val_loss: 4.7935 - val_accuracy: 0.0083\n",
      "Epoch 19/60\n",
      "489/489 [==============================] - 1838s 4s/step - loss: 4.7719 - accuracy: 0.0143 - val_loss: 4.7943 - val_accuracy: 0.0083\n",
      "Epoch 20/60\n",
      "489/489 [==============================] - 1909s 4s/step - loss: 4.7720 - accuracy: 0.0149 - val_loss: 4.7951 - val_accuracy: 0.0083\n",
      "Epoch 21/60\n",
      "489/489 [==============================] - 1890s 4s/step - loss: 4.7704 - accuracy: 0.0106 - val_loss: 4.7959 - val_accuracy: 0.0083\n",
      "Epoch 22/60\n",
      "489/489 [==============================] - 1871s 4s/step - loss: 4.7686 - accuracy: 0.0152 - val_loss: 4.7967 - val_accuracy: 0.0083\n",
      "Epoch 23/60\n",
      "489/489 [==============================] - 1918s 4s/step - loss: 4.7717 - accuracy: 0.0139 - val_loss: 4.7974 - val_accuracy: 0.0083\n",
      "Epoch 24/60\n",
      "489/489 [==============================] - 1880s 4s/step - loss: 4.7679 - accuracy: 0.0121 - val_loss: 4.7982 - val_accuracy: 0.0083\n",
      "Epoch 25/60\n",
      "489/489 [==============================] - 1880s 4s/step - loss: 4.7706 - accuracy: 0.0145 - val_loss: 4.7989 - val_accuracy: 0.0083\n",
      "Epoch 26/60\n",
      "489/489 [==============================] - 5916s 12s/step - loss: 4.7710 - accuracy: 0.0134 - val_loss: 4.7995 - val_accuracy: 0.0083\n",
      "Epoch 27/60\n",
      "489/489 [==============================] - 13124s 27s/step - loss: 4.7732 - accuracy: 0.0126 - val_loss: 4.8001 - val_accuracy: 0.0083\n",
      "Epoch 28/60\n",
      "489/489 [==============================] - 1856s 4s/step - loss: 4.7699 - accuracy: 0.0134 - val_loss: 4.8005 - val_accuracy: 0.0083\n",
      "Epoch 29/60\n",
      "489/489 [==============================] - 1856s 4s/step - loss: 4.7726 - accuracy: 0.0121 - val_loss: 4.8011 - val_accuracy: 0.0083\n",
      "Epoch 30/60\n",
      "489/489 [==============================] - 1860s 4s/step - loss: 4.7743 - accuracy: 0.0128 - val_loss: 4.8014 - val_accuracy: 0.0083\n",
      "Epoch 31/60\n",
      "489/489 [==============================] - 1866s 4s/step - loss: 4.7679 - accuracy: 0.0115 - val_loss: 4.8018 - val_accuracy: 0.0083\n"
     ]
    },
    {
     "data": {
      "text/plain": [
       "<tensorflow.python.keras.callbacks.History at 0x275e8e49340>"
      ]
     },
     "execution_count": 4,
     "metadata": {},
     "output_type": "execute_result"
    }
   ],
   "source": [
    "history_tr_ag = History()\n",
    "early_stopping = EarlyStopping(patience=30,monitor=\"val_loss\")\n",
    "save_best_model = ModelCheckpoint(r'C:\\Users\\Jakub\\Desktop\\GitHubProjects\\dog_breed_classifier\\best_model1.h5',save_best_only=True)\n",
    "\n",
    "model_transfer.fit(train_generator, batch_size=batch_size, epochs=epochs, \n",
    "                    validation_data=validation_generator,  callbacks=[early_stopping, history_tr_ag, save_best_model])"
   ]
  },
  {
   "cell_type": "code",
   "execution_count": 5,
   "metadata": {},
   "outputs": [
    {
     "data": {
      "image/png": "[encoded data removed]",
      "text/plain": [
       "<Figure size 432x288 with 1 Axes>"
      ]
     },
     "metadata": {
      "needs_background": "light"
     },
     "output_type": "display_data"
    }
   ],
   "source": [
    "plt.plot(history_tr_ag.history['loss'], label = \"train\")\n",
    "plt.plot(history_tr_ag.history['val_loss'], label = \"test \")\n",
    "\n",
    "plt.legend()\n",
    "plt.show()"
   ]
  },
  {
   "cell_type": "code",
   "execution_count": null,
   "metadata": {},
   "outputs": [],
   "source": []
  }
 ],
 "metadata": {
  "kernelspec": {
   "display_name": "Python 3",
   "language": "python",
   "name": "python3"
  },
  "language_info": {
   "codemirror_mode": {
    "name": "ipython",
    "version": 3
   },
   "file_extension": ".py",
   "mimetype": "text/x-python",
   "name": "python",
   "nbconvert_exporter": "python",
   "pygments_lexer": "ipython3",
   "version": "3.8.3"
  }
 },
 "nbformat": 4,
 "nbformat_minor": 4
}
