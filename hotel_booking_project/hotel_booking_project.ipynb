{
 "cells": [
  {
   "cell_type": "code",
   "execution_count": 1,
   "metadata": {},
   "outputs": [],
   "source": [
    "# data manipulation\n",
    "import pandas as pd\n",
    "import numpy as np\n",
    "\n",
    "# data visualization\n",
    "import seaborn as sns\n",
    "import matplotlib.pyplot as plt\n",
    "\n",
    "# pipeline construction\n",
    "from sklearn.pipeline import FeatureUnion, Pipeline \n",
    "from sklearn.base import BaseEstimator, TransformerMixin\n",
    "from sklearn.compose import ColumnTransformer\n",
    "\n",
    "# data processing\n",
    "from sklearn.impute import SimpleImputer\n",
    "from sklearn.preprocessing import MinMaxScaler, StandardScaler\n",
    "from sklearn.preprocessing import OneHotEncoder\n",
    "\n",
    "# models trainng\n",
    "from sklearn.model_selection import train_test_split, GridSearchCV\n",
    "from sklearn.linear_model import LogisticRegression\n",
    "\n",
    "# models validation\n",
    "from sklearn.metrics import accuracy_score, precision_score, recall_score, f1_score\n",
    "\n",
    "# remove annoying warnings\n",
    "import warnings\n",
    "warnings.filterwarnings('ignore')"
   ]
  },
  {
   "cell_type": "code",
   "execution_count": 2,
   "metadata": {
    "scrolled": true
   },
   "outputs": [
    {
     "data": {
      "text/html": [
       "<div>\n",
       "<style scoped>\n",
       "    .dataframe tbody tr th:only-of-type {\n",
       "        vertical-align: middle;\n",
       "    }\n",
       "\n",
       "    .dataframe tbody tr th {\n",
       "        vertical-align: top;\n",
       "    }\n",
       "\n",
       "    .dataframe thead th {\n",
       "        text-align: right;\n",
       "    }\n",
       "</style>\n",
       "<table border=\"1\" class=\"dataframe\">\n",
       "  <thead>\n",
       "    <tr style=\"text-align: right;\">\n",
       "      <th></th>\n",
       "      <th>hotel</th>\n",
       "      <th>is_canceled</th>\n",
       "      <th>lead_time</th>\n",
       "      <th>arrival_date_year</th>\n",
       "      <th>arrival_date_month</th>\n",
       "      <th>arrival_date_week_number</th>\n",
       "      <th>arrival_date_day_of_month</th>\n",
       "      <th>stays_in_weekend_nights</th>\n",
       "      <th>stays_in_week_nights</th>\n",
       "      <th>adults</th>\n",
       "      <th>...</th>\n",
       "      <th>deposit_type</th>\n",
       "      <th>agent</th>\n",
       "      <th>company</th>\n",
       "      <th>days_in_waiting_list</th>\n",
       "      <th>customer_type</th>\n",
       "      <th>adr</th>\n",
       "      <th>required_car_parking_spaces</th>\n",
       "      <th>total_of_special_requests</th>\n",
       "      <th>reservation_status</th>\n",
       "      <th>reservation_status_date</th>\n",
       "    </tr>\n",
       "  </thead>\n",
       "  <tbody>\n",
       "    <tr>\n",
       "      <th>0</th>\n",
       "      <td>Resort Hotel</td>\n",
       "      <td>0</td>\n",
       "      <td>342</td>\n",
       "      <td>2015</td>\n",
       "      <td>July</td>\n",
       "      <td>27</td>\n",
       "      <td>1</td>\n",
       "      <td>0</td>\n",
       "      <td>0</td>\n",
       "      <td>2</td>\n",
       "      <td>...</td>\n",
       "      <td>No Deposit</td>\n",
       "      <td>NaN</td>\n",
       "      <td>NaN</td>\n",
       "      <td>0</td>\n",
       "      <td>Transient</td>\n",
       "      <td>0.0</td>\n",
       "      <td>0</td>\n",
       "      <td>0</td>\n",
       "      <td>Check-Out</td>\n",
       "      <td>2015-07-01</td>\n",
       "    </tr>\n",
       "    <tr>\n",
       "      <th>1</th>\n",
       "      <td>Resort Hotel</td>\n",
       "      <td>0</td>\n",
       "      <td>737</td>\n",
       "      <td>2015</td>\n",
       "      <td>July</td>\n",
       "      <td>27</td>\n",
       "      <td>1</td>\n",
       "      <td>0</td>\n",
       "      <td>0</td>\n",
       "      <td>2</td>\n",
       "      <td>...</td>\n",
       "      <td>No Deposit</td>\n",
       "      <td>NaN</td>\n",
       "      <td>NaN</td>\n",
       "      <td>0</td>\n",
       "      <td>Transient</td>\n",
       "      <td>0.0</td>\n",
       "      <td>0</td>\n",
       "      <td>0</td>\n",
       "      <td>Check-Out</td>\n",
       "      <td>2015-07-01</td>\n",
       "    </tr>\n",
       "    <tr>\n",
       "      <th>2</th>\n",
       "      <td>Resort Hotel</td>\n",
       "      <td>0</td>\n",
       "      <td>7</td>\n",
       "      <td>2015</td>\n",
       "      <td>July</td>\n",
       "      <td>27</td>\n",
       "      <td>1</td>\n",
       "      <td>0</td>\n",
       "      <td>1</td>\n",
       "      <td>1</td>\n",
       "      <td>...</td>\n",
       "      <td>No Deposit</td>\n",
       "      <td>NaN</td>\n",
       "      <td>NaN</td>\n",
       "      <td>0</td>\n",
       "      <td>Transient</td>\n",
       "      <td>75.0</td>\n",
       "      <td>0</td>\n",
       "      <td>0</td>\n",
       "      <td>Check-Out</td>\n",
       "      <td>2015-07-02</td>\n",
       "    </tr>\n",
       "    <tr>\n",
       "      <th>3</th>\n",
       "      <td>Resort Hotel</td>\n",
       "      <td>0</td>\n",
       "      <td>13</td>\n",
       "      <td>2015</td>\n",
       "      <td>July</td>\n",
       "      <td>27</td>\n",
       "      <td>1</td>\n",
       "      <td>0</td>\n",
       "      <td>1</td>\n",
       "      <td>1</td>\n",
       "      <td>...</td>\n",
       "      <td>No Deposit</td>\n",
       "      <td>304.0</td>\n",
       "      <td>NaN</td>\n",
       "      <td>0</td>\n",
       "      <td>Transient</td>\n",
       "      <td>75.0</td>\n",
       "      <td>0</td>\n",
       "      <td>0</td>\n",
       "      <td>Check-Out</td>\n",
       "      <td>2015-07-02</td>\n",
       "    </tr>\n",
       "    <tr>\n",
       "      <th>4</th>\n",
       "      <td>Resort Hotel</td>\n",
       "      <td>0</td>\n",
       "      <td>14</td>\n",
       "      <td>2015</td>\n",
       "      <td>July</td>\n",
       "      <td>27</td>\n",
       "      <td>1</td>\n",
       "      <td>0</td>\n",
       "      <td>2</td>\n",
       "      <td>2</td>\n",
       "      <td>...</td>\n",
       "      <td>No Deposit</td>\n",
       "      <td>240.0</td>\n",
       "      <td>NaN</td>\n",
       "      <td>0</td>\n",
       "      <td>Transient</td>\n",
       "      <td>98.0</td>\n",
       "      <td>0</td>\n",
       "      <td>1</td>\n",
       "      <td>Check-Out</td>\n",
       "      <td>2015-07-03</td>\n",
       "    </tr>\n",
       "  </tbody>\n",
       "</table>\n",
       "<p>5 rows × 32 columns</p>\n",
       "</div>"
      ],
      "text/plain": [
       "          hotel  is_canceled  lead_time  arrival_date_year arrival_date_month  \\\n",
       "0  Resort Hotel            0        342               2015               July   \n",
       "1  Resort Hotel            0        737               2015               July   \n",
       "2  Resort Hotel            0          7               2015               July   \n",
       "3  Resort Hotel            0         13               2015               July   \n",
       "4  Resort Hotel            0         14               2015               July   \n",
       "\n",
       "   arrival_date_week_number  arrival_date_day_of_month  \\\n",
       "0                        27                          1   \n",
       "1                        27                          1   \n",
       "2                        27                          1   \n",
       "3                        27                          1   \n",
       "4                        27                          1   \n",
       "\n",
       "   stays_in_weekend_nights  stays_in_week_nights  adults  ...  deposit_type  \\\n",
       "0                        0                     0       2  ...    No Deposit   \n",
       "1                        0                     0       2  ...    No Deposit   \n",
       "2                        0                     1       1  ...    No Deposit   \n",
       "3                        0                     1       1  ...    No Deposit   \n",
       "4                        0                     2       2  ...    No Deposit   \n",
       "\n",
       "   agent company days_in_waiting_list customer_type   adr  \\\n",
       "0    NaN     NaN                    0     Transient   0.0   \n",
       "1    NaN     NaN                    0     Transient   0.0   \n",
       "2    NaN     NaN                    0     Transient  75.0   \n",
       "3  304.0     NaN                    0     Transient  75.0   \n",
       "4  240.0     NaN                    0     Transient  98.0   \n",
       "\n",
       "   required_car_parking_spaces  total_of_special_requests  reservation_status  \\\n",
       "0                            0                          0           Check-Out   \n",
       "1                            0                          0           Check-Out   \n",
       "2                            0                          0           Check-Out   \n",
       "3                            0                          0           Check-Out   \n",
       "4                            0                          1           Check-Out   \n",
       "\n",
       "  reservation_status_date  \n",
       "0              2015-07-01  \n",
       "1              2015-07-01  \n",
       "2              2015-07-02  \n",
       "3              2015-07-02  \n",
       "4              2015-07-03  \n",
       "\n",
       "[5 rows x 32 columns]"
      ]
     },
     "execution_count": 2,
     "metadata": {},
     "output_type": "execute_result"
    }
   ],
   "source": [
    "data = pd.read_csv(r'C:\\Users\\Jakub\\Desktop\\GitHubProjects\\hotel_booking_project\\hotel_bookings.csv')\n",
    "data.head()"
   ]
  },
  {
   "cell_type": "markdown",
   "metadata": {},
   "source": [
    "I shufle the data as a good practice."
   ]
  },
  {
   "cell_type": "code",
   "execution_count": 3,
   "metadata": {
    "scrolled": true
   },
   "outputs": [
    {
     "data": {
      "text/html": [
       "<div>\n",
       "<style scoped>\n",
       "    .dataframe tbody tr th:only-of-type {\n",
       "        vertical-align: middle;\n",
       "    }\n",
       "\n",
       "    .dataframe tbody tr th {\n",
       "        vertical-align: top;\n",
       "    }\n",
       "\n",
       "    .dataframe thead th {\n",
       "        text-align: right;\n",
       "    }\n",
       "</style>\n",
       "<table border=\"1\" class=\"dataframe\">\n",
       "  <thead>\n",
       "    <tr style=\"text-align: right;\">\n",
       "      <th></th>\n",
       "      <th>hotel</th>\n",
       "      <th>is_canceled</th>\n",
       "      <th>lead_time</th>\n",
       "      <th>arrival_date_year</th>\n",
       "      <th>arrival_date_month</th>\n",
       "      <th>arrival_date_week_number</th>\n",
       "      <th>arrival_date_day_of_month</th>\n",
       "      <th>stays_in_weekend_nights</th>\n",
       "      <th>stays_in_week_nights</th>\n",
       "      <th>adults</th>\n",
       "      <th>...</th>\n",
       "      <th>deposit_type</th>\n",
       "      <th>agent</th>\n",
       "      <th>company</th>\n",
       "      <th>days_in_waiting_list</th>\n",
       "      <th>customer_type</th>\n",
       "      <th>adr</th>\n",
       "      <th>required_car_parking_spaces</th>\n",
       "      <th>total_of_special_requests</th>\n",
       "      <th>reservation_status</th>\n",
       "      <th>reservation_status_date</th>\n",
       "    </tr>\n",
       "  </thead>\n",
       "  <tbody>\n",
       "    <tr>\n",
       "      <th>0</th>\n",
       "      <td>Resort Hotel</td>\n",
       "      <td>0</td>\n",
       "      <td>209</td>\n",
       "      <td>2016</td>\n",
       "      <td>May</td>\n",
       "      <td>19</td>\n",
       "      <td>5</td>\n",
       "      <td>1</td>\n",
       "      <td>3</td>\n",
       "      <td>2</td>\n",
       "      <td>...</td>\n",
       "      <td>No Deposit</td>\n",
       "      <td>240.0</td>\n",
       "      <td>NaN</td>\n",
       "      <td>0</td>\n",
       "      <td>Transient</td>\n",
       "      <td>46.98</td>\n",
       "      <td>0</td>\n",
       "      <td>2</td>\n",
       "      <td>Check-Out</td>\n",
       "      <td>2016-05-09</td>\n",
       "    </tr>\n",
       "    <tr>\n",
       "      <th>1</th>\n",
       "      <td>City Hotel</td>\n",
       "      <td>1</td>\n",
       "      <td>341</td>\n",
       "      <td>2015</td>\n",
       "      <td>September</td>\n",
       "      <td>39</td>\n",
       "      <td>23</td>\n",
       "      <td>0</td>\n",
       "      <td>2</td>\n",
       "      <td>2</td>\n",
       "      <td>...</td>\n",
       "      <td>Non Refund</td>\n",
       "      <td>1.0</td>\n",
       "      <td>NaN</td>\n",
       "      <td>0</td>\n",
       "      <td>Transient-Party</td>\n",
       "      <td>62.00</td>\n",
       "      <td>0</td>\n",
       "      <td>0</td>\n",
       "      <td>Canceled</td>\n",
       "      <td>2015-07-02</td>\n",
       "    </tr>\n",
       "    <tr>\n",
       "      <th>2</th>\n",
       "      <td>Resort Hotel</td>\n",
       "      <td>0</td>\n",
       "      <td>321</td>\n",
       "      <td>2017</td>\n",
       "      <td>June</td>\n",
       "      <td>23</td>\n",
       "      <td>5</td>\n",
       "      <td>2</td>\n",
       "      <td>5</td>\n",
       "      <td>2</td>\n",
       "      <td>...</td>\n",
       "      <td>No Deposit</td>\n",
       "      <td>240.0</td>\n",
       "      <td>NaN</td>\n",
       "      <td>0</td>\n",
       "      <td>Transient-Party</td>\n",
       "      <td>100.92</td>\n",
       "      <td>0</td>\n",
       "      <td>3</td>\n",
       "      <td>Check-Out</td>\n",
       "      <td>2017-06-12</td>\n",
       "    </tr>\n",
       "    <tr>\n",
       "      <th>3</th>\n",
       "      <td>City Hotel</td>\n",
       "      <td>0</td>\n",
       "      <td>45</td>\n",
       "      <td>2017</td>\n",
       "      <td>March</td>\n",
       "      <td>10</td>\n",
       "      <td>5</td>\n",
       "      <td>2</td>\n",
       "      <td>1</td>\n",
       "      <td>2</td>\n",
       "      <td>...</td>\n",
       "      <td>No Deposit</td>\n",
       "      <td>9.0</td>\n",
       "      <td>NaN</td>\n",
       "      <td>0</td>\n",
       "      <td>Transient</td>\n",
       "      <td>97.20</td>\n",
       "      <td>0</td>\n",
       "      <td>2</td>\n",
       "      <td>Check-Out</td>\n",
       "      <td>2017-03-08</td>\n",
       "    </tr>\n",
       "    <tr>\n",
       "      <th>4</th>\n",
       "      <td>City Hotel</td>\n",
       "      <td>1</td>\n",
       "      <td>145</td>\n",
       "      <td>2016</td>\n",
       "      <td>September</td>\n",
       "      <td>38</td>\n",
       "      <td>16</td>\n",
       "      <td>2</td>\n",
       "      <td>2</td>\n",
       "      <td>2</td>\n",
       "      <td>...</td>\n",
       "      <td>No Deposit</td>\n",
       "      <td>9.0</td>\n",
       "      <td>NaN</td>\n",
       "      <td>0</td>\n",
       "      <td>Transient</td>\n",
       "      <td>118.80</td>\n",
       "      <td>0</td>\n",
       "      <td>0</td>\n",
       "      <td>Canceled</td>\n",
       "      <td>2016-06-28</td>\n",
       "    </tr>\n",
       "  </tbody>\n",
       "</table>\n",
       "<p>5 rows × 32 columns</p>\n",
       "</div>"
      ],
      "text/plain": [
       "          hotel  is_canceled  lead_time  arrival_date_year arrival_date_month  \\\n",
       "0  Resort Hotel            0        209               2016                May   \n",
       "1    City Hotel            1        341               2015          September   \n",
       "2  Resort Hotel            0        321               2017               June   \n",
       "3    City Hotel            0         45               2017              March   \n",
       "4    City Hotel            1        145               2016          September   \n",
       "\n",
       "   arrival_date_week_number  arrival_date_day_of_month  \\\n",
       "0                        19                          5   \n",
       "1                        39                         23   \n",
       "2                        23                          5   \n",
       "3                        10                          5   \n",
       "4                        38                         16   \n",
       "\n",
       "   stays_in_weekend_nights  stays_in_week_nights  adults  ...  deposit_type  \\\n",
       "0                        1                     3       2  ...    No Deposit   \n",
       "1                        0                     2       2  ...    Non Refund   \n",
       "2                        2                     5       2  ...    No Deposit   \n",
       "3                        2                     1       2  ...    No Deposit   \n",
       "4                        2                     2       2  ...    No Deposit   \n",
       "\n",
       "   agent company days_in_waiting_list    customer_type     adr  \\\n",
       "0  240.0     NaN                    0        Transient   46.98   \n",
       "1    1.0     NaN                    0  Transient-Party   62.00   \n",
       "2  240.0     NaN                    0  Transient-Party  100.92   \n",
       "3    9.0     NaN                    0        Transient   97.20   \n",
       "4    9.0     NaN                    0        Transient  118.80   \n",
       "\n",
       "   required_car_parking_spaces  total_of_special_requests  reservation_status  \\\n",
       "0                            0                          2           Check-Out   \n",
       "1                            0                          0            Canceled   \n",
       "2                            0                          3           Check-Out   \n",
       "3                            0                          2           Check-Out   \n",
       "4                            0                          0            Canceled   \n",
       "\n",
       "  reservation_status_date  \n",
       "0              2016-05-09  \n",
       "1              2015-07-02  \n",
       "2              2017-06-12  \n",
       "3              2017-03-08  \n",
       "4              2016-06-28  \n",
       "\n",
       "[5 rows x 32 columns]"
      ]
     },
     "execution_count": 3,
     "metadata": {},
     "output_type": "execute_result"
    }
   ],
   "source": [
    "data = data.sample(frac=1).reset_index(drop=True)\n",
    "data.head()"
   ]
  },
  {
   "cell_type": "code",
   "execution_count": 20,
   "metadata": {},
   "outputs": [],
   "source": [
    "# split data into training and test set \n",
    "X_train, X_test, y_train, y_test = train_test_split(data.drop('is_canceled', axis=1), \n",
    "                                                    data['is_canceled'], \n",
    "                                                    test_size=0.2,\n",
    "                                                    stratify=data['is_canceled'],\n",
    "                                                    random_state=42)"
   ]
  },
  {
   "cell_type": "markdown",
   "metadata": {},
   "source": [
    "# Basic Exploratory Data Analysis"
   ]
  },
  {
   "cell_type": "code",
   "execution_count": 4,
   "metadata": {
    "scrolled": false
   },
   "outputs": [
    {
     "name": "stdout",
     "output_type": "stream",
     "text": [
      "<class 'pandas.core.frame.DataFrame'>\n",
      "RangeIndex: 119390 entries, 0 to 119389\n",
      "Data columns (total 32 columns):\n",
      " #   Column                          Non-Null Count   Dtype  \n",
      "---  ------                          --------------   -----  \n",
      " 0   hotel                           119390 non-null  object \n",
      " 1   is_canceled                     119390 non-null  int64  \n",
      " 2   lead_time                       119390 non-null  int64  \n",
      " 3   arrival_date_year               119390 non-null  int64  \n",
      " 4   arrival_date_month              119390 non-null  object \n",
      " 5   arrival_date_week_number        119390 non-null  int64  \n",
      " 6   arrival_date_day_of_month       119390 non-null  int64  \n",
      " 7   stays_in_weekend_nights         119390 non-null  int64  \n",
      " 8   stays_in_week_nights            119390 non-null  int64  \n",
      " 9   adults                          119390 non-null  int64  \n",
      " 10  children                        119386 non-null  float64\n",
      " 11  babies                          119390 non-null  int64  \n",
      " 12  meal                            119390 non-null  object \n",
      " 13  country                         118902 non-null  object \n",
      " 14  market_segment                  119390 non-null  object \n",
      " 15  distribution_channel            119390 non-null  object \n",
      " 16  is_repeated_guest               119390 non-null  int64  \n",
      " 17  previous_cancellations          119390 non-null  int64  \n",
      " 18  previous_bookings_not_canceled  119390 non-null  int64  \n",
      " 19  reserved_room_type              119390 non-null  object \n",
      " 20  assigned_room_type              119390 non-null  object \n",
      " 21  booking_changes                 119390 non-null  int64  \n",
      " 22  deposit_type                    119390 non-null  object \n",
      " 23  agent                           103050 non-null  float64\n",
      " 24  company                         6797 non-null    float64\n",
      " 25  days_in_waiting_list            119390 non-null  int64  \n",
      " 26  customer_type                   119390 non-null  object \n",
      " 27  adr                             119390 non-null  float64\n",
      " 28  required_car_parking_spaces     119390 non-null  int64  \n",
      " 29  total_of_special_requests       119390 non-null  int64  \n",
      " 30  reservation_status              119390 non-null  object \n",
      " 31  reservation_status_date         119390 non-null  object \n",
      "dtypes: float64(4), int64(16), object(12)\n",
      "memory usage: 29.1+ MB\n"
     ]
    }
   ],
   "source": [
    "data.info()"
   ]
  },
  {
   "cell_type": "code",
   "execution_count": 5,
   "metadata": {},
   "outputs": [
    {
     "data": {
      "text/plain": [
       "(119390, 32)"
      ]
     },
     "execution_count": 5,
     "metadata": {},
     "output_type": "execute_result"
    }
   ],
   "source": [
    "data.shape"
   ]
  },
  {
   "cell_type": "markdown",
   "metadata": {},
   "source": [
    "We can see that there are some columns where some of the values are null, we will have to manage it later on during the processing stage."
   ]
  },
  {
   "cell_type": "code",
   "execution_count": 7,
   "metadata": {},
   "outputs": [
    {
     "data": {
      "text/html": [
       "<div>\n",
       "<style scoped>\n",
       "    .dataframe tbody tr th:only-of-type {\n",
       "        vertical-align: middle;\n",
       "    }\n",
       "\n",
       "    .dataframe tbody tr th {\n",
       "        vertical-align: top;\n",
       "    }\n",
       "\n",
       "    .dataframe thead th {\n",
       "        text-align: right;\n",
       "    }\n",
       "</style>\n",
       "<table border=\"1\" class=\"dataframe\">\n",
       "  <thead>\n",
       "    <tr style=\"text-align: right;\">\n",
       "      <th></th>\n",
       "      <th>is_canceled</th>\n",
       "      <th>lead_time</th>\n",
       "      <th>arrival_date_year</th>\n",
       "      <th>arrival_date_week_number</th>\n",
       "      <th>arrival_date_day_of_month</th>\n",
       "      <th>stays_in_weekend_nights</th>\n",
       "      <th>stays_in_week_nights</th>\n",
       "      <th>adults</th>\n",
       "      <th>children</th>\n",
       "      <th>babies</th>\n",
       "      <th>is_repeated_guest</th>\n",
       "      <th>previous_cancellations</th>\n",
       "      <th>previous_bookings_not_canceled</th>\n",
       "      <th>booking_changes</th>\n",
       "      <th>agent</th>\n",
       "      <th>company</th>\n",
       "      <th>days_in_waiting_list</th>\n",
       "      <th>adr</th>\n",
       "      <th>required_car_parking_spaces</th>\n",
       "      <th>total_of_special_requests</th>\n",
       "    </tr>\n",
       "  </thead>\n",
       "  <tbody>\n",
       "    <tr>\n",
       "      <th>count</th>\n",
       "      <td>119390.000000</td>\n",
       "      <td>119390.000000</td>\n",
       "      <td>119390.000000</td>\n",
       "      <td>119390.000000</td>\n",
       "      <td>119390.000000</td>\n",
       "      <td>119390.000000</td>\n",
       "      <td>119390.000000</td>\n",
       "      <td>119390.000000</td>\n",
       "      <td>119386.000000</td>\n",
       "      <td>119390.000000</td>\n",
       "      <td>119390.000000</td>\n",
       "      <td>119390.000000</td>\n",
       "      <td>119390.000000</td>\n",
       "      <td>119390.000000</td>\n",
       "      <td>103050.000000</td>\n",
       "      <td>6797.000000</td>\n",
       "      <td>119390.000000</td>\n",
       "      <td>119390.000000</td>\n",
       "      <td>119390.000000</td>\n",
       "      <td>119390.000000</td>\n",
       "    </tr>\n",
       "    <tr>\n",
       "      <th>mean</th>\n",
       "      <td>0.370416</td>\n",
       "      <td>104.011416</td>\n",
       "      <td>2016.156554</td>\n",
       "      <td>27.165173</td>\n",
       "      <td>15.798241</td>\n",
       "      <td>0.927599</td>\n",
       "      <td>2.500302</td>\n",
       "      <td>1.856403</td>\n",
       "      <td>0.103890</td>\n",
       "      <td>0.007949</td>\n",
       "      <td>0.031912</td>\n",
       "      <td>0.087118</td>\n",
       "      <td>0.137097</td>\n",
       "      <td>0.221124</td>\n",
       "      <td>86.693382</td>\n",
       "      <td>189.266735</td>\n",
       "      <td>2.321149</td>\n",
       "      <td>101.831122</td>\n",
       "      <td>0.062518</td>\n",
       "      <td>0.571363</td>\n",
       "    </tr>\n",
       "    <tr>\n",
       "      <th>std</th>\n",
       "      <td>0.482918</td>\n",
       "      <td>106.863097</td>\n",
       "      <td>0.707476</td>\n",
       "      <td>13.605138</td>\n",
       "      <td>8.780829</td>\n",
       "      <td>0.998613</td>\n",
       "      <td>1.908286</td>\n",
       "      <td>0.579261</td>\n",
       "      <td>0.398561</td>\n",
       "      <td>0.097436</td>\n",
       "      <td>0.175767</td>\n",
       "      <td>0.844336</td>\n",
       "      <td>1.497437</td>\n",
       "      <td>0.652306</td>\n",
       "      <td>110.774548</td>\n",
       "      <td>131.655015</td>\n",
       "      <td>17.594721</td>\n",
       "      <td>50.535790</td>\n",
       "      <td>0.245291</td>\n",
       "      <td>0.792798</td>\n",
       "    </tr>\n",
       "    <tr>\n",
       "      <th>min</th>\n",
       "      <td>0.000000</td>\n",
       "      <td>0.000000</td>\n",
       "      <td>2015.000000</td>\n",
       "      <td>1.000000</td>\n",
       "      <td>1.000000</td>\n",
       "      <td>0.000000</td>\n",
       "      <td>0.000000</td>\n",
       "      <td>0.000000</td>\n",
       "      <td>0.000000</td>\n",
       "      <td>0.000000</td>\n",
       "      <td>0.000000</td>\n",
       "      <td>0.000000</td>\n",
       "      <td>0.000000</td>\n",
       "      <td>0.000000</td>\n",
       "      <td>1.000000</td>\n",
       "      <td>6.000000</td>\n",
       "      <td>0.000000</td>\n",
       "      <td>-6.380000</td>\n",
       "      <td>0.000000</td>\n",
       "      <td>0.000000</td>\n",
       "    </tr>\n",
       "    <tr>\n",
       "      <th>25%</th>\n",
       "      <td>0.000000</td>\n",
       "      <td>18.000000</td>\n",
       "      <td>2016.000000</td>\n",
       "      <td>16.000000</td>\n",
       "      <td>8.000000</td>\n",
       "      <td>0.000000</td>\n",
       "      <td>1.000000</td>\n",
       "      <td>2.000000</td>\n",
       "      <td>0.000000</td>\n",
       "      <td>0.000000</td>\n",
       "      <td>0.000000</td>\n",
       "      <td>0.000000</td>\n",
       "      <td>0.000000</td>\n",
       "      <td>0.000000</td>\n",
       "      <td>9.000000</td>\n",
       "      <td>62.000000</td>\n",
       "      <td>0.000000</td>\n",
       "      <td>69.290000</td>\n",
       "      <td>0.000000</td>\n",
       "      <td>0.000000</td>\n",
       "    </tr>\n",
       "    <tr>\n",
       "      <th>50%</th>\n",
       "      <td>0.000000</td>\n",
       "      <td>69.000000</td>\n",
       "      <td>2016.000000</td>\n",
       "      <td>28.000000</td>\n",
       "      <td>16.000000</td>\n",
       "      <td>1.000000</td>\n",
       "      <td>2.000000</td>\n",
       "      <td>2.000000</td>\n",
       "      <td>0.000000</td>\n",
       "      <td>0.000000</td>\n",
       "      <td>0.000000</td>\n",
       "      <td>0.000000</td>\n",
       "      <td>0.000000</td>\n",
       "      <td>0.000000</td>\n",
       "      <td>14.000000</td>\n",
       "      <td>179.000000</td>\n",
       "      <td>0.000000</td>\n",
       "      <td>94.575000</td>\n",
       "      <td>0.000000</td>\n",
       "      <td>0.000000</td>\n",
       "    </tr>\n",
       "    <tr>\n",
       "      <th>75%</th>\n",
       "      <td>1.000000</td>\n",
       "      <td>160.000000</td>\n",
       "      <td>2017.000000</td>\n",
       "      <td>38.000000</td>\n",
       "      <td>23.000000</td>\n",
       "      <td>2.000000</td>\n",
       "      <td>3.000000</td>\n",
       "      <td>2.000000</td>\n",
       "      <td>0.000000</td>\n",
       "      <td>0.000000</td>\n",
       "      <td>0.000000</td>\n",
       "      <td>0.000000</td>\n",
       "      <td>0.000000</td>\n",
       "      <td>0.000000</td>\n",
       "      <td>229.000000</td>\n",
       "      <td>270.000000</td>\n",
       "      <td>0.000000</td>\n",
       "      <td>126.000000</td>\n",
       "      <td>0.000000</td>\n",
       "      <td>1.000000</td>\n",
       "    </tr>\n",
       "    <tr>\n",
       "      <th>max</th>\n",
       "      <td>1.000000</td>\n",
       "      <td>737.000000</td>\n",
       "      <td>2017.000000</td>\n",
       "      <td>53.000000</td>\n",
       "      <td>31.000000</td>\n",
       "      <td>19.000000</td>\n",
       "      <td>50.000000</td>\n",
       "      <td>55.000000</td>\n",
       "      <td>10.000000</td>\n",
       "      <td>10.000000</td>\n",
       "      <td>1.000000</td>\n",
       "      <td>26.000000</td>\n",
       "      <td>72.000000</td>\n",
       "      <td>21.000000</td>\n",
       "      <td>535.000000</td>\n",
       "      <td>543.000000</td>\n",
       "      <td>391.000000</td>\n",
       "      <td>5400.000000</td>\n",
       "      <td>8.000000</td>\n",
       "      <td>5.000000</td>\n",
       "    </tr>\n",
       "  </tbody>\n",
       "</table>\n",
       "</div>"
      ],
      "text/plain": [
       "         is_canceled      lead_time  arrival_date_year  \\\n",
       "count  119390.000000  119390.000000      119390.000000   \n",
       "mean        0.370416     104.011416        2016.156554   \n",
       "std         0.482918     106.863097           0.707476   \n",
       "min         0.000000       0.000000        2015.000000   \n",
       "25%         0.000000      18.000000        2016.000000   \n",
       "50%         0.000000      69.000000        2016.000000   \n",
       "75%         1.000000     160.000000        2017.000000   \n",
       "max         1.000000     737.000000        2017.000000   \n",
       "\n",
       "       arrival_date_week_number  arrival_date_day_of_month  \\\n",
       "count             119390.000000              119390.000000   \n",
       "mean                  27.165173                  15.798241   \n",
       "std                   13.605138                   8.780829   \n",
       "min                    1.000000                   1.000000   \n",
       "25%                   16.000000                   8.000000   \n",
       "50%                   28.000000                  16.000000   \n",
       "75%                   38.000000                  23.000000   \n",
       "max                   53.000000                  31.000000   \n",
       "\n",
       "       stays_in_weekend_nights  stays_in_week_nights         adults  \\\n",
       "count            119390.000000         119390.000000  119390.000000   \n",
       "mean                  0.927599              2.500302       1.856403   \n",
       "std                   0.998613              1.908286       0.579261   \n",
       "min                   0.000000              0.000000       0.000000   \n",
       "25%                   0.000000              1.000000       2.000000   \n",
       "50%                   1.000000              2.000000       2.000000   \n",
       "75%                   2.000000              3.000000       2.000000   \n",
       "max                  19.000000             50.000000      55.000000   \n",
       "\n",
       "            children         babies  is_repeated_guest  \\\n",
       "count  119386.000000  119390.000000      119390.000000   \n",
       "mean        0.103890       0.007949           0.031912   \n",
       "std         0.398561       0.097436           0.175767   \n",
       "min         0.000000       0.000000           0.000000   \n",
       "25%         0.000000       0.000000           0.000000   \n",
       "50%         0.000000       0.000000           0.000000   \n",
       "75%         0.000000       0.000000           0.000000   \n",
       "max        10.000000      10.000000           1.000000   \n",
       "\n",
       "       previous_cancellations  previous_bookings_not_canceled  \\\n",
       "count           119390.000000                   119390.000000   \n",
       "mean                 0.087118                        0.137097   \n",
       "std                  0.844336                        1.497437   \n",
       "min                  0.000000                        0.000000   \n",
       "25%                  0.000000                        0.000000   \n",
       "50%                  0.000000                        0.000000   \n",
       "75%                  0.000000                        0.000000   \n",
       "max                 26.000000                       72.000000   \n",
       "\n",
       "       booking_changes          agent      company  days_in_waiting_list  \\\n",
       "count    119390.000000  103050.000000  6797.000000         119390.000000   \n",
       "mean          0.221124      86.693382   189.266735              2.321149   \n",
       "std           0.652306     110.774548   131.655015             17.594721   \n",
       "min           0.000000       1.000000     6.000000              0.000000   \n",
       "25%           0.000000       9.000000    62.000000              0.000000   \n",
       "50%           0.000000      14.000000   179.000000              0.000000   \n",
       "75%           0.000000     229.000000   270.000000              0.000000   \n",
       "max          21.000000     535.000000   543.000000            391.000000   \n",
       "\n",
       "                 adr  required_car_parking_spaces  total_of_special_requests  \n",
       "count  119390.000000                119390.000000              119390.000000  \n",
       "mean      101.831122                     0.062518                   0.571363  \n",
       "std        50.535790                     0.245291                   0.792798  \n",
       "min        -6.380000                     0.000000                   0.000000  \n",
       "25%        69.290000                     0.000000                   0.000000  \n",
       "50%        94.575000                     0.000000                   0.000000  \n",
       "75%       126.000000                     0.000000                   1.000000  \n",
       "max      5400.000000                     8.000000                   5.000000  "
      ]
     },
     "execution_count": 7,
     "metadata": {},
     "output_type": "execute_result"
    }
   ],
   "source": [
    "data.describe()"
   ]
  },
  {
   "cell_type": "markdown",
   "metadata": {},
   "source": [
    "We can see that 37% of the entire is_canceled variable are \"1\". It is a little bit imbalanced but it should not be a huge problem in this case."
   ]
  },
  {
   "cell_type": "markdown",
   "metadata": {},
   "source": [
    "Now lets see the unique values per column:"
   ]
  },
  {
   "cell_type": "code",
   "execution_count": 8,
   "metadata": {},
   "outputs": [
    {
     "name": "stdout",
     "output_type": "stream",
     "text": [
      "hotel - 2\n",
      "['Resort Hotel' 'City Hotel']\n",
      "\n",
      "is_canceled - 2\n",
      "[0 1]\n",
      "\n",
      "lead_time - 479\n",
      "[209 341 321  45 145  39 296 188 203  15 149  94  55   0  72  41   2 155\n",
      " 351 322   1 286   4   3  34 221 212 141 106  12 302  37  21  44  69  98\n",
      " 183  13   8 379 307  73  40 531  77  82 211  61   6  11  91 274  10 146\n",
      " 232  32  99  22 257  86  59  47 234 186 224  67 102 278 230  20 171 114\n",
      "   7 195 304   5 130 320  78  89  28 277  29 383  33 133  51 150  43 109\n",
      " 169 125 359  18  26 342 237 194 196 162 238  57  58  49 156  95 207 137\n",
      "  63  76 103  80 173 281  24  30 178 219  36  93   9 267  92  75 524 215\n",
      " 111 292 236  71  46 201  16 151 208 350 268 409 175 347 104  56 258  19\n",
      " 276  83  14  17 283 159 248  27 115 352 213 168 264  62 249 165 124 206\n",
      "  35 164  79  23 419  31 185 105  60 147  68 301  87 134 336 129 110 205\n",
      " 191 297 158 309  54 187 128  90  88 199 287 118 131  53 240 323  74 349\n",
      " 405  50 180  81 132 364 288 167 290 119 444 148  25 157 121 192 273 243\n",
      " 135 101 177 226 222 262 272  84 184 198 181 160 448 559 193 100 126 279\n",
      " 182 113 179 247 142 197 108 275 343 233 263 143 154  96 305 218 239 489\n",
      " 330 170  38 443  52  64 317 327  97 166 241 163 117 138 573 107 414 172\n",
      " 253 122 265  48 127 204 144 457 412 140 423 338 189  70 112 289 312  42\n",
      " 176 200 475 227 295  66 332 123 116 136 291 214 566 328 482 225 315 280\n",
      " 433  65 153 259 270  85 311 308 251 348 210 468 429 229 139 261 318 202\n",
      " 335 377 152 120 372 256 190 174 244 337 298 282 365 464 605 220 271 325\n",
      " 313 367 396 386 246 285 300 242 235 269 228 284 303 339 250 217 407 447\n",
      " 245 542 344 580 479 385 316 161 465 334 355 391 346 252 422 216 231 615\n",
      " 420 306 314 397 451 504 255 393 340 378 266 450 467 622 223 418 310 254\n",
      " 440 333 360 608 399 490 358 629 371 356 329 376 538 454 445 394 260 552\n",
      " 406 411 517 368 461 319 293 601 462 388 478 384 299 395 507 294 518 345\n",
      " 353 426 594 471 437 326 521 476 626 496 331 354 410 510 373 503 458 460\n",
      " 361 434 398 363 357 587 374 545 324 408 493 382 381 403 366 389 362 390\n",
      " 387 463 435 375 380 532 424 709 400 370 737]\n",
      "\n",
      "arrival_date_year - 3\n",
      "[2016 2015 2017]\n",
      "\n",
      "arrival_date_month - 12\n",
      "['May' 'September' 'June' 'March' 'August' 'April' 'January' 'December'\n",
      " 'February' 'July' 'November' 'October']\n",
      "\n",
      "arrival_date_week_number - 53\n",
      "[19 39 23 10 38 33 14 37 20  4 49  6 29 53 18 51 36 26 46 47 41 42 22 13\n",
      " 34 45  3 30 48 52 31 25  1 44  8 21 27 17 16 40 35 24 43 32  2 28  9  7\n",
      " 15 12 50 11  5]\n",
      "\n",
      "arrival_date_day_of_month - 31\n",
      "[ 5 23 16 14  3 10 22  7  1 27 28 17  2  6  8 24 13 31  4 21 20 26 15 18\n",
      " 12 19 30 25  9 11 29]\n",
      "\n",
      "stays_in_weekend_nights - 17\n",
      "[ 1  0  2  4  3  6  5 13 12  8  7 18 16 10  9 14 19]\n",
      "\n",
      "stays_in_week_nights - 35\n",
      "[ 3  2  5  1  0  4 10  8 15  7  9  6 11 32 13 19 30 14 12 16 20 21 26 17\n",
      " 42 41 18 25 35 40 24 22 33 50 34]\n",
      "\n",
      "adults - 14\n",
      "[ 2  3  1  0  4  5 40 27 26 55 10  6 20 50]\n",
      "\n",
      "children - 6\n",
      "[ 0.  1.  2.  3. nan 10.]\n",
      "\n",
      "babies - 5\n",
      "[ 0  1  2 10  9]\n",
      "\n",
      "meal - 5\n",
      "['BB' 'SC' 'HB' 'FB' 'Undefined']\n",
      "\n",
      "country - 178\n",
      "['IRL' 'PRT' 'BEL' 'GBR' 'DEU' 'FRA' 'BRA' 'POL' 'ISR' 'CHE' 'ITA' 'HUN'\n",
      " 'NLD' 'SWE' 'ESP' nan 'CHN' 'USA' 'ZAF' 'VEN' 'MAR' 'LUX' 'MLT' 'OMN'\n",
      " 'FIN' 'CN' 'CZE' 'AUT' 'GIB' 'JPN' 'HRV' 'AUS' 'HKG' 'DNK' 'DZA' 'THA'\n",
      " 'IRQ' 'MAC' 'AGO' 'SVK' 'GRC' 'RUS' 'TUN' 'KOR' 'NGA' 'SRB' 'ROU' 'ISL'\n",
      " 'NOR' 'BLR' 'BGR' 'TWN' 'ETH' 'IMN' 'AND' 'NZL' 'TUR' 'ARG' 'IND' 'PHL'\n",
      " 'LVA' 'MNE' 'MEX' 'COL' 'EST' 'IRN' 'IDN' 'CYP' 'RWA' 'MYS' 'EGY' 'GEO'\n",
      " 'SGP' 'TGO' 'SAU' 'MKD' 'MUS' 'KWT' 'URY' 'MOZ' 'ARM' 'ARE' 'LTU' 'KAZ'\n",
      " 'PAK' 'CPV' 'JAM' 'CHL' 'BEN' 'SVN' 'BOL' 'ECU' 'DOM' 'PRI' 'LBY' 'PER'\n",
      " 'PAN' 'JEY' 'MWI' 'BHR' 'SLV' 'BGD' 'TZA' 'JOR' 'CUB' 'UGA' 'UKR' 'CMR'\n",
      " 'CAF' 'SEN' 'CRI' 'QAT' 'GHA' 'BIH' 'LBN' 'SYR' 'ASM' 'GNB' 'ZWE' 'TMP'\n",
      " 'MDV' 'UZB' 'GAB' 'TJK' 'COM' 'MRT' 'FJI' 'SDN' 'VGB' 'FRO' 'ALB' 'MDG'\n",
      " 'CIV' 'MLI' 'KEN' 'VNM' 'SUR' 'AZE' 'BRB' 'BDI' 'AIA' 'SYC' 'GTM' 'LIE'\n",
      " 'MCO' 'GGY' 'ATA' 'GUY' 'PLW' 'MYT' 'LAO' 'LKA' 'NPL' 'SMR' 'ZMB' 'ABW'\n",
      " 'GLP' 'UMI' 'KHM' 'BFA' 'LCA' 'BWA' 'KIR' 'STP' 'KNA' 'NCL' 'NIC' 'PRY'\n",
      " 'ATF' 'DJI' 'NAM' 'MMR' 'BHS' 'CYM' 'HND' 'SLE' 'PYF' 'DMA']\n",
      "\n",
      "market_segment - 8\n",
      "['Online TA' 'Groups' 'Offline TA/TO' 'Direct' 'Corporate' 'Complementary'\n",
      " 'Aviation' 'Undefined']\n",
      "\n",
      "distribution_channel - 5\n",
      "['TA/TO' 'Direct' 'Corporate' 'GDS' 'Undefined']\n",
      "\n",
      "is_repeated_guest - 2\n",
      "[0 1]\n",
      "\n",
      "previous_cancellations - 15\n",
      "[ 0  1  3 25  2 19  6 26 11  4 14 24  5 13 21]\n",
      "\n",
      "previous_bookings_not_canceled - 73\n",
      "[ 0  5 10  1  3  2  9  8 15 14  4  6 21  7 61 26 22 12 39 25 20 29 43 11\n",
      " 16 48 44 46 27 38 13 18 19 24 52 17 65 32 66 58 69 33 23 30 42 31 63 28\n",
      " 67 68 45 35 53 54 50 71 60 64 70 56 41 72 57 47 51 55 62 34 40 36 49 59\n",
      " 37]\n",
      "\n",
      "reserved_room_type - 10\n",
      "['A' 'D' 'F' 'E' 'H' 'B' 'C' 'G' 'P' 'L']\n",
      "\n",
      "assigned_room_type - 12\n",
      "['A' 'D' 'F' 'E' 'B' 'H' 'C' 'I' 'G' 'K' 'P' 'L']\n",
      "\n",
      "booking_changes - 21\n",
      "[ 0  3  2  1  5  4  7  6 11  9 13  8 10 12 21 18 15 16 17 14 20]\n",
      "\n",
      "deposit_type - 3\n",
      "['No Deposit' 'Non Refund' 'Refundable']\n",
      "\n",
      "agent - 334\n",
      "[240.   1.   9.   6. 250. 248.  38. 241.  nan   3.  83.  20.  68.  56.\n",
      "  14. 134.   5.  12.  28.  17.  11. 171.  27. 385. 251.   2. 181.  16.\n",
      " 196. 315.  21. 243.   8.  19. 175. 314. 150.  96.   7.  15.  37. 242.\n",
      "  13.  30.  40. 229. 273. 118.  31.  95.  42. 281. 298. 192.  52.  10.\n",
      "  91. 234. 159. 364.  99.  86. 531.  45. 208. 326.  71.  57. 146. 290.\n",
      "  85. 138. 119.  26. 156. 195. 378. 223. 177. 394.  34.  44.  90. 252.\n",
      " 183. 220. 168.  98.  41. 436. 215. 185. 330. 308. 103.  58. 201. 310.\n",
      " 390.  67. 191. 157. 110. 254. 236.  22. 410. 261. 115. 155. 339. 256.\n",
      " 153. 187.  29. 151. 104. 249. 464. 440. 147.  39.  89.  78. 170. 121.\n",
      " 336. 133.  23. 182. 245. 112. 414.  64. 149.  94. 493. 481. 296. 154.\n",
      " 527. 411.   4. 313.  35. 143.  79. 235. 468.  69. 363. 425. 350. 253.\n",
      " 387. 334. 375. 152.  75. 441. 434.  60. 141.  36. 205.  33. 142. 286.\n",
      " 479. 210. 348. 262. 305.  87. 328.  53. 467.  82.  66. 354.  24. 459.\n",
      " 162.  61.  77. 502. 128. 184. 127. 472. 495. 105. 307. 492. 509. 332.\n",
      " 368.  50. 132.  92.  32. 173. 371. 270. 306.  47. 126. 484. 430. 174.\n",
      "  70. 344. 423.  55. 455. 275. 111. 327. 180. 384. 405. 418. 335. 163.\n",
      " 429. 257. 508.  74. 355. 265. 303. 370. 276. 474. 324. 388. 167. 193.\n",
      " 139. 211. 107. 219. 288. 393. 341. 227.  81. 129. 295.  72. 510. 367.\n",
      " 323. 346. 258. 360. 331. 358. 403. 526. 325. 267. 359. 287. 106. 404.\n",
      " 426. 449.  88.  63. 283. 278. 291. 475. 302. 300. 454. 469. 427. 420.\n",
      " 122. 244. 282. 438. 451. 535. 269. 299. 216. 294. 280. 114. 483.  93.\n",
      " 391. 214. 135. 247. 148. 453. 476. 213.  25. 321. 165. 197. 497. 232.\n",
      "  54. 480. 431. 416. 117. 337. 446. 179. 301.  59. 408. 444. 333. 158.\n",
      " 397. 461. 289. 433. 285. 406. 450.  73. 432. 304. 144. 352.]\n",
      "\n",
      "company - 353\n",
      "[ nan  40.  67. 364. 308. 153. 378.  81. 233. 369.  72. 223.  22.  31.\n",
      "  45. 525.  62. 342. 219. 405. 195. 144. 396.  38. 281.  12. 507. 279.\n",
      " 174. 380. 444. 202.  51. 169. 343.  68. 110.  28.  94. 135. 280. 108.\n",
      " 304. 333. 418. 204. 397. 218. 407. 371. 127. 377. 148. 122. 154. 477.\n",
      " 353. 485.  20. 307. 523. 159. 408. 498. 260. 163. 268. 465. 207. 178.\n",
      " 270. 221. 385. 183. 180. 197.  91.  46. 329. 242.  34. 216.  47.  59.\n",
      " 292. 193.  43. 254. 379.  39. 450. 297. 511. 365. 531. 105. 286. 366.\n",
      " 255. 112. 269. 287. 348. 245.  37. 349. 334. 137. 351. 394. 337.  78.\n",
      " 103.  88. 232.  64. 390. 400. 331. 293. 504. 383.  82. 167. 150. 301.\n",
      " 367. 399.  42. 200. 179. 273. 257. 494. 435. 317. 149. 518. 160. 165.\n",
      " 290. 356. 355. 395. 227.  86. 130.  99.   9. 143. 530.  53. 209. 116.\n",
      " 251. 238. 433. 520. 186. 426. 203. 513. 424. 403. 491. 324. 483. 445.\n",
      "  49.  92. 521. 240. 515. 113. 392. 323. 338. 413. 275. 115. 386. 302.\n",
      " 357.  16. 372. 482. 263. 142. 393. 539.  71. 436. 443. 120. 451. 384.\n",
      "  29. 541.  65.  84. 101. 325.  32. 118. 346. 224.  83. 332.  11. 478.\n",
      " 437. 388.  35. 452. 439. 107. 274.   8. 428. 492. 215. 360. 448.  61.\n",
      " 282. 220. 291. 185. 284. 461. 391. 409. 429. 330. 272.  48. 288. 225.\n",
      " 316. 528.  73. 402. 102. 382. 312. 278. 470. 320. 222. 361. 271. 311.\n",
      " 341. 347. 456. 422. 410. 192.  93. 217. 466.  14. 543.  52. 421. 139.\n",
      " 457. 246. 362. 358. 411. 486. 415. 460.  77.  18.  76. 104. 146. 158.\n",
      " 514. 420. 459. 321. 277. 230.  85. 352. 184. 484. 479. 490. 259. 512.\n",
      " 132. 168.  80. 516. 454. 289. 370. 417. 319. 501. 243. 126. 425. 140.\n",
      "  96. 305. 455. 497.  10. 447. 489. 350. 313. 481. 368. 109. 234. 496.\n",
      " 423. 253. 106. 398. 210. 442. 412. 419. 499. 237. 487. 318. 506. 416.\n",
      " 458. 264. 229. 250. 212. 446.  54. 314. 401. 534. 309. 100. 213. 258.\n",
      " 376. 373.   6.]\n",
      "\n",
      "days_in_waiting_list - 128\n",
      "[  0  75  44  27   1 174  58 160  21 236   4  39   3  22  25  34 122  56\n",
      " 162  84  68  35  93 330  32  45  50  46  69  28  63  20  65  98  85  42\n",
      "  77 120  38  91 111 379 215  79   9 101  87  41  31  57  33  10  60  96\n",
      "  15  70   6 176  72 223  47  49  48  19 121  59  99  80  62  17  14  43\n",
      "  16 391  40  24 100 150   2 147 108 178  11  26 113  83  55 187 259 207\n",
      " 167  61 224 154   7  71 125   5  92 107  13  37  97   8  23 142  53  54\n",
      "  12 105  18 175  64 183  81 109  73  30  52  76 185  89 117 165 193 116\n",
      "  74  36]\n",
      "\n",
      "customer_type - 4\n",
      "['Transient' 'Transient-Party' 'Contract' 'Group']\n",
      "\n",
      "adr - 8879\n",
      "[ 46.98  62.   100.92 ... 148.79 184.86 224.25]\n",
      "\n",
      "required_car_parking_spaces - 5\n",
      "[0 1 8 2 3]\n",
      "\n",
      "total_of_special_requests - 6\n",
      "[2 0 3 1 5 4]\n",
      "\n",
      "reservation_status - 3\n",
      "['Check-Out' 'Canceled' 'No-Show']\n",
      "\n",
      "reservation_status_date - 926\n",
      "['2016-05-09' '2015-07-02' '2017-06-12' '2017-03-08' '2016-06-28'\n",
      " '2015-08-16' '2016-07-22' '2016-03-05' '2016-05-12' '2016-01-24'\n",
      " '2015-11-19' '2017-02-05' '2016-02-05' '2015-07-21' '2015-11-11'\n",
      " '2016-05-02' '2015-12-19' '2016-08-15' '2015-10-21' '2016-06-25'\n",
      " '2016-11-08' '2016-09-18' '2016-11-11' '2016-10-07' '2015-10-20'\n",
      " '2017-04-21' '2017-02-06' '2016-01-22' '2015-08-23' '2016-09-06'\n",
      " '2016-09-21' '2015-11-30' '2016-11-04' '2016-05-08' '2016-04-09'\n",
      " '2016-06-11' '2016-01-14' '2015-01-01' '2015-11-27' '2017-01-19'\n",
      " '2017-01-07' '2016-09-07' '2016-05-04' '2017-07-25' '2016-11-29'\n",
      " '2017-02-10' '2015-08-18' '2017-08-05' '2016-04-06' '2017-07-02'\n",
      " '2016-12-30' '2016-04-04' '2016-07-16' '2015-10-31' '2016-04-30'\n",
      " '2016-02-20' '2017-05-25' '2016-09-14' '2015-07-03' '2016-04-21'\n",
      " '2016-04-19' '2015-12-08' '2017-03-30' '2015-09-07' '2015-10-05'\n",
      " '2016-10-12' '2017-03-25' '2014-10-17' '2016-05-15' '2016-08-30'\n",
      " '2017-06-23' '2017-06-05' '2015-08-27' '2016-07-29' '2015-09-30'\n",
      " '2015-09-28' '2016-05-18' '2016-10-23' '2016-08-23' '2015-07-14'\n",
      " '2017-08-14' '2016-02-01' '2016-03-26' '2016-08-20' '2016-04-17'\n",
      " '2015-09-09' '2015-10-22' '2016-01-05' '2016-03-29' '2017-08-10'\n",
      " '2016-10-09' '2015-12-28' '2017-04-02' '2016-08-25' '2015-10-08'\n",
      " '2016-06-20' '2017-07-30' '2016-04-28' '2015-09-02' '2016-11-05'\n",
      " '2016-01-13' '2017-07-11' '2017-06-29' '2017-01-18' '2017-06-21'\n",
      " '2015-09-21' '2015-10-24' '2017-01-13' '2015-12-18' '2017-08-26'\n",
      " '2017-08-03' '2016-10-19' '2017-05-10' '2016-02-15' '2017-08-24'\n",
      " '2015-09-17' '2016-05-19' '2017-08-11' '2016-12-22' '2016-04-12'\n",
      " '2015-11-03' '2016-10-31' '2017-08-31' '2017-04-14' '2016-09-22'\n",
      " '2017-03-31' '2016-03-07' '2016-04-23' '2016-11-21' '2016-12-26'\n",
      " '2016-10-25' '2016-10-05' '2017-05-18' '2016-08-19' '2015-07-16'\n",
      " '2017-01-27' '2017-07-14' '2016-01-21' '2017-04-30' '2015-11-22'\n",
      " '2016-10-24' '2017-04-01' '2017-08-09' '2016-10-14' '2016-10-04'\n",
      " '2017-03-05' '2016-12-09' '2017-04-10' '2016-08-26' '2016-04-13'\n",
      " '2017-05-11' '2015-09-08' '2016-02-03' '2017-06-09' '2016-07-01'\n",
      " '2016-02-17' '2016-11-17' '2016-03-14' '2015-12-30' '2016-05-14'\n",
      " '2017-03-02' '2017-05-19' '2017-03-09' '2016-09-08' '2016-11-24'\n",
      " '2017-07-07' '2016-12-05' '2017-02-28' '2016-07-23' '2017-06-01'\n",
      " '2016-06-12' '2016-11-06' '2017-01-14' '2016-01-02' '2016-04-02'\n",
      " '2016-05-11' '2016-02-27' '2016-09-23' '2016-10-26' '2017-06-03'\n",
      " '2017-03-21' '2015-08-20' '2017-05-29' '2016-11-23' '2016-04-26'\n",
      " '2015-11-16' '2016-02-25' '2017-01-31' '2017-07-18' '2017-04-07'\n",
      " '2016-03-09' '2015-10-29' '2015-10-12' '2017-02-19' '2016-01-18'\n",
      " '2016-02-11' '2016-12-20' '2015-07-06' '2016-09-16' '2016-06-13'\n",
      " '2016-11-26' '2016-02-29' '2016-06-30' '2016-05-30' '2016-06-15'\n",
      " '2016-07-14' '2017-08-27' '2016-09-12' '2016-07-11' '2015-10-10'\n",
      " '2016-03-03' '2016-12-21' '2017-06-08' '2017-07-04' '2016-06-21'\n",
      " '2017-07-23' '2016-06-17' '2016-11-01' '2016-11-12' '2016-10-01'\n",
      " '2015-12-17' '2016-02-28' '2016-11-02' '2015-06-15' '2016-01-19'\n",
      " '2015-11-18' '2016-04-01' '2017-05-05' '2015-11-06' '2016-07-28'\n",
      " '2015-09-26' '2017-03-06' '2016-10-11' '2016-12-14' '2016-03-12'\n",
      " '2017-07-10' '2015-11-28' '2015-09-03' '2017-05-24' '2015-11-20'\n",
      " '2016-10-17' '2015-09-23' '2015-11-25' '2016-03-23' '2016-04-11'\n",
      " '2015-09-24' '2016-11-03' '2017-03-20' '2017-03-01' '2016-09-20'\n",
      " '2016-08-14' '2016-03-19' '2016-09-01' '2015-12-03' '2016-02-07'\n",
      " '2015-10-17' '2016-03-30' '2016-12-28' '2016-06-06' '2016-05-16'\n",
      " '2017-07-22' '2016-03-20' '2016-09-17' '2017-05-06' '2017-02-13'\n",
      " '2015-12-10' '2017-05-12' '2017-06-30' '2016-12-16' '2016-02-08'\n",
      " '2016-09-13' '2017-02-07' '2015-09-11' '2016-11-27' '2016-11-25'\n",
      " '2016-03-27' '2016-03-24' '2017-07-21' '2015-08-21' '2017-02-20'\n",
      " '2017-05-09' '2015-10-19' '2017-06-19' '2016-09-02' '2016-09-27'\n",
      " '2016-08-12' '2017-08-28' '2015-10-18' '2015-08-14' '2015-11-21'\n",
      " '2015-12-22' '2016-07-30' '2016-05-27' '2017-07-29' '2017-04-08'\n",
      " '2017-05-28' '2016-05-03' '2017-05-23' '2016-07-20' '2016-03-18'\n",
      " '2017-08-02' '2017-02-11' '2017-01-22' '2016-05-06' '2016-07-21'\n",
      " '2015-08-28' '2015-10-02' '2017-06-28' '2016-04-10' '2015-07-13'\n",
      " '2016-03-13' '2017-06-15' '2016-02-09' '2015-08-26' '2015-09-20'\n",
      " '2015-12-11' '2017-02-03' '2016-03-16' '2016-07-19' '2016-12-12'\n",
      " '2016-07-08' '2016-01-15' '2015-07-29' '2017-02-14' '2016-10-13'\n",
      " '2016-10-27' '2017-04-25' '2017-02-25' '2015-10-16' '2015-10-23'\n",
      " '2017-08-20' '2016-01-16' '2017-06-27' '2016-10-10' '2017-02-22'\n",
      " '2016-03-06' '2017-06-06' '2016-07-02' '2016-06-26' '2017-05-15'\n",
      " '2017-06-07' '2015-09-05' '2015-09-19' '2017-07-03' '2017-03-27'\n",
      " '2016-12-11' '2016-07-09' '2016-03-28' '2017-05-16' '2015-03-03'\n",
      " '2016-05-22' '2016-06-23' '2015-09-25' '2017-06-04' '2016-05-23'\n",
      " '2017-02-18' '2017-05-26' '2017-03-26' '2016-03-15' '2017-02-02'\n",
      " '2017-01-06' '2016-05-28' '2016-04-14' '2017-07-26' '2017-06-20'\n",
      " '2016-04-05' '2016-01-25' '2016-04-08' '2017-05-13' '2015-08-22'\n",
      " '2016-01-06' '2017-04-06' '2017-04-23' '2015-08-12' '2017-06-02'\n",
      " '2017-06-25' '2016-03-01' '2016-12-27' '2016-04-16' '2017-06-10'\n",
      " '2016-08-27' '2016-02-14' '2017-01-09' '2017-02-21' '2016-12-07'\n",
      " '2015-12-29' '2017-06-13' '2016-05-05' '2017-07-16' '2016-08-01'\n",
      " '2016-08-03' '2016-11-18' '2015-12-16' '2016-09-09' '2017-03-17'\n",
      " '2015-08-31' '2017-08-12' '2016-06-08' '2017-02-04' '2016-10-18'\n",
      " '2015-07-23' '2016-03-25' '2016-07-07' '2017-04-27' '2015-08-08'\n",
      " '2016-01-08' '2016-06-24' '2015-12-14' '2017-01-12' '2017-01-24'\n",
      " '2015-07-17' '2017-01-29' '2016-08-17' '2017-06-22' '2017-07-12'\n",
      " '2016-07-12' '2016-11-28' '2016-09-26' '2017-04-16' '2016-11-10'\n",
      " '2016-01-28' '2015-11-17' '2015-07-10' '2017-01-21' '2017-01-11'\n",
      " '2016-12-19' '2017-06-11' '2016-01-03' '2017-01-25' '2016-10-20'\n",
      " '2016-11-19' '2016-05-31' '2016-05-26' '2016-10-21' '2016-08-05'\n",
      " '2017-09-07' '2017-03-13' '2017-04-19' '2015-12-23' '2016-08-06'\n",
      " '2016-02-19' '2016-04-15' '2017-02-08' '2017-04-13' '2017-08-06'\n",
      " '2017-03-11' '2017-05-14' '2016-05-10' '2016-02-12' '2016-11-20'\n",
      " '2016-10-15' '2017-01-08' '2016-12-06' '2016-02-22' '2016-08-18'\n",
      " '2016-09-15' '2016-01-26' '2017-06-18' '2016-09-28' '2016-11-15'\n",
      " '2015-07-24' '2015-08-19' '2017-01-15' '2016-06-09' '2015-07-26'\n",
      " '2015-12-13' '2017-08-19' '2017-04-17' '2016-01-11' '2016-04-20'\n",
      " '2016-07-06' '2017-03-24' '2016-04-07' '2015-11-01' '2015-08-17'\n",
      " '2015-11-07' '2015-10-26' '2015-08-09' '2017-04-09' '2015-11-26'\n",
      " '2017-09-06' '2016-02-04' '2016-12-24' '2016-08-21' '2015-09-18'\n",
      " '2015-11-24' '2017-05-30' '2016-02-10' '2017-08-29' '2016-01-27'\n",
      " '2016-01-01' '2016-01-07' '2016-09-25' '2017-08-17' '2015-09-14'\n",
      " '2017-05-07' '2016-09-30' '2016-12-23' '2017-07-08' '2016-02-26'\n",
      " '2015-07-19' '2017-05-21' '2015-08-06' '2016-04-03' '2015-10-01'\n",
      " '2017-03-16' '2016-02-24' '2017-03-28' '2017-01-16' '2016-06-02'\n",
      " '2017-05-01' '2016-04-27' '2016-06-29' '2017-01-03' '2017-02-27'\n",
      " '2017-02-15' '2016-07-24' '2016-07-13' '2015-10-30' '2016-06-14'\n",
      " '2017-03-12' '2017-02-09' '2015-12-12' '2015-08-07' '2016-08-02'\n",
      " '2017-04-04' '2017-02-12' '2016-04-25' '2017-07-20' '2015-12-02'\n",
      " '2017-07-15' '2016-05-25' '2017-02-23' '2017-03-15' '2017-07-19'\n",
      " '2017-08-15' '2015-10-13' '2017-05-20' '2017-06-24' '2016-06-05'\n",
      " '2015-10-03' '2017-05-17' '2017-04-26' '2017-05-04' '2017-04-12'\n",
      " '2015-10-04' '2015-06-29' '2016-04-29' '2016-10-28' '2015-11-09'\n",
      " '2017-07-17' '2016-11-16' '2016-06-19' '2017-07-06' '2015-09-16'\n",
      " '2016-09-04' '2017-05-02' '2016-05-20' '2016-09-10' '2016-02-13'\n",
      " '2017-07-13' '2015-09-29' '2015-09-06' '2015-07-30' '2016-04-18'\n",
      " '2015-08-04' '2017-07-09' '2016-09-19' '2015-08-24' '2016-07-15'\n",
      " '2016-07-03' '2016-01-23' '2016-05-21' '2017-01-26' '2015-07-08'\n",
      " '2016-07-26' '2016-08-11' '2016-03-10' '2015-08-11' '2016-08-10'\n",
      " '2015-07-20' '2015-07-25' '2015-12-04' '2017-06-26' '2015-01-21'\n",
      " '2016-08-24' '2015-09-22' '2015-12-26' '2017-04-20' '2015-07-15'\n",
      " '2016-01-10' '2016-11-30' '2016-04-22' '2016-12-02' '2017-04-28'\n",
      " '2017-01-20' '2015-05-19' '2015-07-22' '2015-07-31' '2015-10-09'\n",
      " '2016-05-29' '2016-01-29' '2016-06-27' '2015-06-20' '2017-07-31'\n",
      " '2017-03-23' '2015-08-10' '2015-10-07' '2015-07-27' '2017-01-05'\n",
      " '2015-05-29' '2016-05-17' '2017-07-28' '2016-07-10' '2015-09-15'\n",
      " '2017-08-22' '2015-12-20' '2016-10-16' '2016-06-01' '2015-01-22'\n",
      " '2015-10-28' '2017-01-30' '2015-07-05' '2015-11-04' '2017-07-27'\n",
      " '2017-04-18' '2016-12-04' '2017-08-21' '2016-10-22' '2017-01-04'\n",
      " '2017-03-04' '2016-06-22' '2016-07-18' '2016-11-22' '2015-11-23'\n",
      " '2016-01-12' '2015-09-13' '2016-10-30' '2017-01-10' '2017-04-15'\n",
      " '2016-08-07' '2015-11-08' '2017-07-01' '2015-10-27' '2016-11-07'\n",
      " '2017-04-05' '2016-02-16' '2017-03-29' '2016-03-04' '2016-07-25'\n",
      " '2016-11-14' '2017-04-11' '2016-08-08' '2015-07-09' '2015-10-06'\n",
      " '2015-08-01' '2015-09-10' '2016-08-29' '2017-02-24' '2016-12-18'\n",
      " '2017-08-30' '2015-10-11' '2016-10-06' '2017-03-18' '2016-03-08'\n",
      " '2017-04-24' '2017-01-02' '2016-12-13' '2016-09-29' '2016-07-31'\n",
      " '2017-06-17' '2015-11-12' '2017-02-26' '2016-08-09' '2017-05-22'\n",
      " '2016-02-06' '2017-04-22' '2017-02-01' '2016-08-04' '2017-06-14'\n",
      " '2016-12-01' '2016-08-22' '2015-05-12' '2015-08-13' '2016-12-08'\n",
      " '2016-07-17' '2017-08-07' '2015-11-02' '2016-06-03' '2015-11-10'\n",
      " '2017-08-08' '2015-06-19' '2015-05-09' '2017-05-27' '2016-05-07'\n",
      " '2015-09-12' '2016-01-20' '2017-03-19' '2017-04-29' '2016-02-21'\n",
      " '2017-03-10' '2016-12-03' '2016-12-17' '2017-08-04' '2015-12-09'\n",
      " '2015-04-29' '2016-07-27' '2015-06-30' '2017-05-08' '2016-12-10'\n",
      " '2016-05-24' '2015-11-14' '2017-01-17' '2016-09-03' '2016-07-05'\n",
      " '2015-12-15' '2015-08-29' '2017-03-07' '2017-04-03' '2016-05-13'\n",
      " '2016-07-04' '2017-08-25' '2016-02-18' '2015-04-05' '2017-06-16'\n",
      " '2015-09-04' '2016-09-24' '2016-08-31' '2017-08-18' '2016-04-24'\n",
      " '2016-09-11' '2017-08-23' '2015-01-30' '2015-12-27' '2015-08-02'\n",
      " '2017-03-14' '2015-06-17' '2017-01-01' '2016-10-02' '2016-06-10'\n",
      " '2015-06-02' '2016-03-02' '2015-03-24' '2016-01-17' '2015-12-07'\n",
      " '2015-10-14' '2016-11-09' '2017-07-24' '2017-01-28' '2016-03-21'\n",
      " '2016-03-22' '2015-04-11' '2016-05-01' '2017-09-01' '2015-10-25'\n",
      " '2016-03-11' '2017-09-09' '2015-11-15' '2016-06-16' '2017-02-16'\n",
      " '2016-03-31' '2016-02-23' '2016-10-08' '2016-08-28' '2016-12-29'\n",
      " '2016-08-13' '2017-08-13' '2016-06-18' '2017-08-16' '2015-08-25'\n",
      " '2017-05-31' '2017-03-22' '2015-07-04' '2016-02-02' '2017-09-02'\n",
      " '2015-11-13' '2016-09-05' '2017-01-23' '2015-05-14' '2015-08-15'\n",
      " '2017-03-03' '2017-05-03' '2015-08-30' '2016-01-04' '2015-09-01'\n",
      " '2015-07-28' '2015-08-03' '2015-11-29' '2016-08-16' '2015-12-25'\n",
      " '2015-05-20' '2015-04-02' '2017-09-05' '2016-11-13' '2015-04-28'\n",
      " '2016-06-07' '2015-12-31' '2015-12-05' '2016-12-15' '2017-09-03'\n",
      " '2017-08-01' '2015-07-01' '2016-12-31' '2017-02-17' '2015-12-24'\n",
      " '2016-03-17' '2015-10-15' '2015-12-01' '2015-07-07' '2016-06-04'\n",
      " '2015-06-13' '2016-01-31' '2016-01-09' '2015-04-18' '2016-10-03'\n",
      " '2016-10-29' '2016-01-30' '2015-05-25' '2015-06-25' '2015-06-16'\n",
      " '2017-09-08' '2015-04-17' '2015-11-05' '2015-04-04' '2015-05-08'\n",
      " '2015-12-21' '2015-05-30' '2015-05-13' '2017-07-05' '2015-08-05'\n",
      " '2015-07-12' '2015-06-09' '2015-05-22' '2015-05-28' '2015-07-18'\n",
      " '2015-03-31' '2015-06-06' '2015-06-01' '2015-04-16' '2015-02-20'\n",
      " '2017-09-04' '2015-04-20' '2015-05-26' '2015-06-18' '2015-06-12'\n",
      " '2015-06-26' '2015-03-29' '2015-09-27' '2015-06-23' '2015-05-05'\n",
      " '2015-06-11' '2015-12-06' '2015-05-16' '2015-06-27' '2015-01-28'\n",
      " '2015-06-04' '2015-03-04' '2015-06-24' '2015-04-22' '2015-07-11'\n",
      " '2015-01-20' '2016-12-25' '2015-03-17' '2015-04-10' '2015-02-25'\n",
      " '2015-05-27' '2015-05-01' '2015-06-03' '2015-05-23' '2015-04-15'\n",
      " '2015-04-25' '2015-01-02' '2015-02-17' '2017-09-10' '2015-04-24'\n",
      " '2015-02-09' '2015-05-18' '2015-05-11' '2015-03-25' '2015-06-14'\n",
      " '2015-06-22' '2015-05-06' '2015-06-10' '2014-11-18' '2015-06-08'\n",
      " '2015-03-06' '2015-05-07' '2015-06-05' '2015-02-11' '2015-04-08'\n",
      " '2017-09-14' '2015-03-09' '2015-02-05' '2015-02-10' '2015-02-02'\n",
      " '2017-09-12' '2015-03-13' '2015-05-04' '2015-03-23' '2015-04-13'\n",
      " '2015-04-14' '2015-02-24' '2015-02-06' '2015-04-03' '2015-04-06'\n",
      " '2015-05-21' '2015-03-30' '2015-02-27' '2015-02-23' '2015-02-19'\n",
      " '2015-02-12' '2015-02-26' '2015-03-12' '2015-05-15' '2015-03-18'\n",
      " '2015-04-23' '2015-04-07' '2015-04-21' '2015-03-28' '2015-01-29'\n",
      " '2015-04-30' '2015-01-18' '2015-03-10' '2015-03-11' '2015-03-05'\n",
      " '2015-04-27']\n",
      "\n"
     ]
    }
   ],
   "source": [
    "for column in data:\n",
    "    print(f'{column} - {len(data[column].unique())}')\n",
    "    print(data[column].unique())\n",
    "    print()"
   ]
  },
  {
   "cell_type": "markdown",
   "metadata": {},
   "source": [
    "Missing Values"
   ]
  },
  {
   "cell_type": "code",
   "execution_count": 9,
   "metadata": {},
   "outputs": [
    {
     "data": {
      "text/plain": [
       "children     0.003350\n",
       "country      0.408744\n",
       "agent       13.686238\n",
       "company     94.306893\n",
       "dtype: float64"
      ]
     },
     "execution_count": 9,
     "metadata": {},
     "output_type": "execute_result"
    }
   ],
   "source": [
    "a = data.isna().mean()*100\n",
    "a[a>0]"
   ]
  },
  {
   "cell_type": "code",
   "execution_count": 10,
   "metadata": {},
   "outputs": [
    {
     "data": {
      "text/plain": [
       "children         4\n",
       "country        488\n",
       "agent        16340\n",
       "company     112593\n",
       "dtype: int64"
      ]
     },
     "execution_count": 10,
     "metadata": {},
     "output_type": "execute_result"
    }
   ],
   "source": [
    "a = data.isna().sum()\n",
    "a[a>0]"
   ]
  },
  {
   "cell_type": "markdown",
   "metadata": {},
   "source": [
    "Distributions"
   ]
  },
  {
   "cell_type": "code",
   "execution_count": 11,
   "metadata": {},
   "outputs": [
    {
     "data": {
      "text/plain": [
       "Index(['is_canceled', 'lead_time', 'arrival_date_year',\n",
       "       'arrival_date_week_number', 'arrival_date_day_of_month',\n",
       "       'stays_in_weekend_nights', 'stays_in_week_nights', 'adults', 'children',\n",
       "       'babies', 'is_repeated_guest', 'previous_cancellations',\n",
       "       'previous_bookings_not_canceled', 'booking_changes', 'agent', 'company',\n",
       "       'days_in_waiting_list', 'adr', 'required_car_parking_spaces',\n",
       "       'total_of_special_requests'],\n",
       "      dtype='object')"
      ]
     },
     "execution_count": 11,
     "metadata": {},
     "output_type": "execute_result"
    }
   ],
   "source": [
    "numeric_columns = data.select_dtypes(include=np.number).columns\n",
    "numeric_columns"
   ]
  },
  {
   "cell_type": "code",
   "execution_count": 12,
   "metadata": {},
   "outputs": [
    {
     "data": {
      "text/plain": [
       "Index(['hotel', 'arrival_date_month', 'meal', 'country', 'market_segment',\n",
       "       'distribution_channel', 'reserved_room_type', 'assigned_room_type',\n",
       "       'deposit_type', 'customer_type', 'reservation_status',\n",
       "       'reservation_status_date'],\n",
       "      dtype='object')"
      ]
     },
     "execution_count": 12,
     "metadata": {},
     "output_type": "execute_result"
    }
   ],
   "source": [
    "non_numeric_columns = data.select_dtypes(exclude=np.number).columns\n",
    "non_numeric_columns"
   ]
  },
  {
   "cell_type": "markdown",
   "metadata": {},
   "source": [
    "Numeric Columns:"
   ]
  },
  {
   "cell_type": "code",
   "execution_count": 13,
   "metadata": {
    "collapsed": true
   },
   "outputs": [
    {
     "name": "stdout",
     "output_type": "stream",
     "text": [
      "Column: is_canceled\n",
      "Unique values: 2\n"
     ]
    },
    {
     "data": {
      "image/png": "[encoded data removed]",
      "text/plain": [
       "<Figure size 432x288 with 1 Axes>"
      ]
     },
     "metadata": {
      "needs_background": "light"
     },
     "output_type": "display_data"
    },
    {
     "name": "stdout",
     "output_type": "stream",
     "text": [
      "Column: lead_time\n",
      "Unique values: 479\n"
     ]
    },
    {
     "data": {
      "image/png": "[encoded data removed]",
      "text/plain": [
       "<Figure size 432x288 with 1 Axes>"
      ]
     },
     "metadata": {
      "needs_background": "light"
     },
     "output_type": "display_data"
    },
    {
     "name": "stdout",
     "output_type": "stream",
     "text": [
      "Column: arrival_date_year\n",
      "Unique values: 3\n"
     ]
    },
    {
     "data": {
      "image/png": "[encoded data removed]",
      "text/plain": [
       "<Figure size 432x288 with 1 Axes>"
      ]
     },
     "metadata": {
      "needs_background": "light"
     },
     "output_type": "display_data"
    },
    {
     "name": "stdout",
     "output_type": "stream",
     "text": [
      "Column: arrival_date_week_number\n",
      "Unique values: 53\n"
     ]
    },
    {
     "data": {
      "image/png": "[encoded data removed]",
      "text/plain": [
       "<Figure size 432x288 with 1 Axes>"
      ]
     },
     "metadata": {
      "needs_background": "light"
     },
     "output_type": "display_data"
    },
    {
     "name": "stdout",
     "output_type": "stream",
     "text": [
      "Column: arrival_date_day_of_month\n",
      "Unique values: 31\n"
     ]
    },
    {
     "data": {
      "image/png": "[encoded data removed]",
      "text/plain": [
       "<Figure size 432x288 with 1 Axes>"
      ]
     },
     "metadata": {
      "needs_background": "light"
     },
     "output_type": "display_data"
    },
    {
     "name": "stdout",
     "output_type": "stream",
     "text": [
      "Column: stays_in_weekend_nights\n",
      "Unique values: 17\n"
     ]
    },
    {
     "data": {
      "image/png": "[encoded data removed]",
      "text/plain": [
       "<Figure size 432x288 with 1 Axes>"
      ]
     },
     "metadata": {
      "needs_background": "light"
     },
     "output_type": "display_data"
    },
    {
     "name": "stdout",
     "output_type": "stream",
     "text": [
      "Column: stays_in_week_nights\n",
      "Unique values: 35\n"
     ]
    },
    {
     "data": {
      "image/png": "[encoded data removed]",
      "text/plain": [
       "<Figure size 432x288 with 1 Axes>"
      ]
     },
     "metadata": {
      "needs_background": "light"
     },
     "output_type": "display_data"
    },
    {
     "name": "stdout",
     "output_type": "stream",
     "text": [
      "Column: adults\n",
      "Unique values: 14\n"
     ]
    },
    {
     "data": {
      "image/png": "[encoded data removed]",
      "text/plain": [
       "<Figure size 432x288 with 1 Axes>"
      ]
     },
     "metadata": {
      "needs_background": "light"
     },
     "output_type": "display_data"
    },
    {
     "name": "stdout",
     "output_type": "stream",
     "text": [
      "Column: children\n",
      "Unique values: 6\n"
     ]
    },
    {
     "data": {
      "image/png": "[encoded data removed]",
      "text/plain": [
       "<Figure size 432x288 with 1 Axes>"
      ]
     },
     "metadata": {
      "needs_background": "light"
     },
     "output_type": "display_data"
    },
    {
     "name": "stdout",
     "output_type": "stream",
     "text": [
      "Column: babies\n",
      "Unique values: 5\n"
     ]
    },
    {
     "data": {
      "image/png": "[encoded data removed]",
      "text/plain": [
       "<Figure size 432x288 with 1 Axes>"
      ]
     },
     "metadata": {
      "needs_background": "light"
     },
     "output_type": "display_data"
    },
    {
     "name": "stdout",
     "output_type": "stream",
     "text": [
      "Column: is_repeated_guest\n",
      "Unique values: 2\n"
     ]
    },
    {
     "data": {
      "image/png": "[encoded data removed]",
      "text/plain": [
       "<Figure size 432x288 with 1 Axes>"
      ]
     },
     "metadata": {
      "needs_background": "light"
     },
     "output_type": "display_data"
    },
    {
     "name": "stdout",
     "output_type": "stream",
     "text": [
      "Column: previous_cancellations\n",
      "Unique values: 15\n"
     ]
    },
    {
     "data": {
      "image/png": "[encoded data removed]",
      "text/plain": [
       "<Figure size 432x288 with 1 Axes>"
      ]
     },
     "metadata": {
      "needs_background": "light"
     },
     "output_type": "display_data"
    },
    {
     "name": "stdout",
     "output_type": "stream",
     "text": [
      "Column: previous_bookings_not_canceled\n",
      "Unique values: 73\n"
     ]
    },
    {
     "data": {
      "image/png": "[encoded data removed]",
      "text/plain": [
       "<Figure size 432x288 with 1 Axes>"
      ]
     },
     "metadata": {
      "needs_background": "light"
     },
     "output_type": "display_data"
    },
    {
     "name": "stdout",
     "output_type": "stream",
     "text": [
      "Column: booking_changes\n",
      "Unique values: 21\n"
     ]
    },
    {
     "data": {
      "image/png": "[encoded data removed]",
      "text/plain": [
       "<Figure size 432x288 with 1 Axes>"
      ]
     },
     "metadata": {
      "needs_background": "light"
     },
     "output_type": "display_data"
    },
    {
     "name": "stdout",
     "output_type": "stream",
     "text": [
      "Column: agent\n",
      "Unique values: 334\n"
     ]
    },
    {
     "data": {
      "image/png": "[encoded data removed]",
      "text/plain": [
       "<Figure size 432x288 with 1 Axes>"
      ]
     },
     "metadata": {
      "needs_background": "light"
     },
     "output_type": "display_data"
    },
    {
     "name": "stdout",
     "output_type": "stream",
     "text": [
      "Column: company\n",
      "Unique values: 353\n"
     ]
    },
    {
     "data": {
      "image/png": "[encoded data removed]",
      "text/plain": [
       "<Figure size 432x288 with 1 Axes>"
      ]
     },
     "metadata": {
      "needs_background": "light"
     },
     "output_type": "display_data"
    },
    {
     "name": "stdout",
     "output_type": "stream",
     "text": [
      "Column: days_in_waiting_list\n",
      "Unique values: 128\n"
     ]
    },
    {
     "data": {
      "image/png": "[encoded data removed]",
      "text/plain": [
       "<Figure size 432x288 with 1 Axes>"
      ]
     },
     "metadata": {
      "needs_background": "light"
     },
     "output_type": "display_data"
    },
    {
     "name": "stdout",
     "output_type": "stream",
     "text": [
      "Column: adr\n",
      "Unique values: 8879\n"
     ]
    },
    {
     "data": {
      "image/png": "[encoded data removed]",
      "text/plain": [
       "<Figure size 432x288 with 1 Axes>"
      ]
     },
     "metadata": {
      "needs_background": "light"
     },
     "output_type": "display_data"
    },
    {
     "name": "stdout",
     "output_type": "stream",
     "text": [
      "Column: required_car_parking_spaces\n",
      "Unique values: 5\n"
     ]
    },
    {
     "data": {
      "image/png": "[encoded data removed]",
      "text/plain": [
       "<Figure size 432x288 with 1 Axes>"
      ]
     },
     "metadata": {
      "needs_background": "light"
     },
     "output_type": "display_data"
    },
    {
     "name": "stdout",
     "output_type": "stream",
     "text": [
      "Column: total_of_special_requests\n",
      "Unique values: 6\n"
     ]
    },
    {
     "data": {
      "image/png": "[encoded data removed]",
      "text/plain": [
       "<Figure size 432x288 with 1 Axes>"
      ]
     },
     "metadata": {
      "needs_background": "light"
     },
     "output_type": "display_data"
    }
   ],
   "source": [
    "for column in numeric_columns:\n",
    "    print(f'Column: {column}')\n",
    "    print(f'Unique values: {len(data[column].unique())}')\n",
    "    data[column].plot.hist(bins=20)\n",
    "    plt.show()"
   ]
  },
  {
   "cell_type": "code",
   "execution_count": null,
   "metadata": {},
   "outputs": [],
   "source": []
  },
  {
   "cell_type": "markdown",
   "metadata": {},
   "source": [
    "Categorical Columns:"
   ]
  },
  {
   "cell_type": "code",
   "execution_count": 14,
   "metadata": {
    "scrolled": true
   },
   "outputs": [
    {
     "name": "stdout",
     "output_type": "stream",
     "text": [
      "Columns: hotel\n",
      "Unique values: 2\n"
     ]
    },
    {
     "data": {
      "image/png": "[encoded data removed]",
      "text/plain": [
       "<Figure size 432x288 with 1 Axes>"
      ]
     },
     "metadata": {
      "needs_background": "light"
     },
     "output_type": "display_data"
    },
    {
     "name": "stdout",
     "output_type": "stream",
     "text": [
      "Columns: arrival_date_month\n",
      "Unique values: 12\n"
     ]
    },
    {
     "data": {
      "image/png": "[encoded data removed]",
      "text/plain": [
       "<Figure size 432x288 with 1 Axes>"
      ]
     },
     "metadata": {
      "needs_background": "light"
     },
     "output_type": "display_data"
    },
    {
     "name": "stdout",
     "output_type": "stream",
     "text": [
      "Columns: meal\n",
      "Unique values: 5\n"
     ]
    },
    {
     "data": {
      "image/png": "[encoded data removed]",
      "text/plain": [
       "<Figure size 432x288 with 1 Axes>"
      ]
     },
     "metadata": {
      "needs_background": "light"
     },
     "output_type": "display_data"
    },
    {
     "name": "stdout",
     "output_type": "stream",
     "text": [
      "Columns: country\n",
      "Unique values: 178\n"
     ]
    },
    {
     "data": {
      "image/png": "[encoded data removed]",
      "text/plain": [
       "<Figure size 432x288 with 1 Axes>"
      ]
     },
     "metadata": {
      "needs_background": "light"
     },
     "output_type": "display_data"
    },
    {
     "name": "stdout",
     "output_type": "stream",
     "text": [
      "Columns: market_segment\n",
      "Unique values: 8\n"
     ]
    },
    {
     "data": {
      "image/png": "[encoded data removed]",
      "text/plain": [
       "<Figure size 432x288 with 1 Axes>"
      ]
     },
     "metadata": {
      "needs_background": "light"
     },
     "output_type": "display_data"
    },
    {
     "name": "stdout",
     "output_type": "stream",
     "text": [
      "Columns: distribution_channel\n",
      "Unique values: 5\n"
     ]
    },
    {
     "data": {
      "image/png": "[encoded data removed]",
      "text/plain": [
       "<Figure size 432x288 with 1 Axes>"
      ]
     },
     "metadata": {
      "needs_background": "light"
     },
     "output_type": "display_data"
    },
    {
     "name": "stdout",
     "output_type": "stream",
     "text": [
      "Columns: reserved_room_type\n",
      "Unique values: 10\n"
     ]
    },
    {
     "data": {
      "image/png": "[encoded data removed]",
      "text/plain": [
       "<Figure size 432x288 with 1 Axes>"
      ]
     },
     "metadata": {
      "needs_background": "light"
     },
     "output_type": "display_data"
    },
    {
     "name": "stdout",
     "output_type": "stream",
     "text": [
      "Columns: assigned_room_type\n",
      "Unique values: 12\n"
     ]
    },
    {
     "data": {
      "image/png": "[encoded data removed]",
      "text/plain": [
       "<Figure size 432x288 with 1 Axes>"
      ]
     },
     "metadata": {
      "needs_background": "light"
     },
     "output_type": "display_data"
    },
    {
     "name": "stdout",
     "output_type": "stream",
     "text": [
      "Columns: deposit_type\n",
      "Unique values: 3\n"
     ]
    },
    {
     "data": {
      "image/png": "[encoded data removed]",
      "text/plain": [
       "<Figure size 432x288 with 1 Axes>"
      ]
     },
     "metadata": {
      "needs_background": "light"
     },
     "output_type": "display_data"
    },
    {
     "name": "stdout",
     "output_type": "stream",
     "text": [
      "Columns: customer_type\n",
      "Unique values: 4\n"
     ]
    },
    {
     "data": {
      "image/png": "[encoded data removed]",
      "text/plain": [
       "<Figure size 432x288 with 1 Axes>"
      ]
     },
     "metadata": {
      "needs_background": "light"
     },
     "output_type": "display_data"
    },
    {
     "name": "stdout",
     "output_type": "stream",
     "text": [
      "Columns: reservation_status\n",
      "Unique values: 3\n"
     ]
    },
    {
     "data": {
      "image/png": "[encoded data removed]",
      "text/plain": [
       "<Figure size 432x288 with 1 Axes>"
      ]
     },
     "metadata": {
      "needs_background": "light"
     },
     "output_type": "display_data"
    },
    {
     "name": "stdout",
     "output_type": "stream",
     "text": [
      "Columns: reservation_status_date\n",
      "Unique values: 926\n"
     ]
    },
    {
     "data": {
      "image/png": "[encoded data removed]",
      "text/plain": [
       "<Figure size 432x288 with 1 Axes>"
      ]
     },
     "metadata": {
      "needs_background": "light"
     },
     "output_type": "display_data"
    }
   ],
   "source": [
    "for column in non_numeric_columns:\n",
    "    print(f'Columns: {column}')\n",
    "    print(f'Unique values: {len(data[column].unique())}')\n",
    "    data[column].value_counts().plot.bar()\n",
    "    plt.show()"
   ]
  },
  {
   "cell_type": "code",
   "execution_count": 21,
   "metadata": {},
   "outputs": [
    {
     "data": {
      "image/png": "[encoded data removed]",
      "text/plain": [
       "<Figure size 432x288 with 1 Axes>"
      ]
     },
     "metadata": {},
     "output_type": "display_data"
    }
   ],
   "source": [
    "sns.set(style = \"darkgrid\")\n",
    "plt.title(\"Canceled or not\", fontdict = {'fontsize': 20})\n",
    "ax = sns.countplot(x = \"is_canceled\", hue = 'is_repeated_guest', data = data)"
   ]
  },
  {
   "cell_type": "markdown",
   "metadata": {},
   "source": [
    "From the graph above we can assume that repeated guests do not cancel their reservations. The data looks logic."
   ]
  },
  {
   "cell_type": "code",
   "execution_count": 22,
   "metadata": {},
   "outputs": [
    {
     "data": {
      "image/png": "[encoded data removed]",
      "text/plain": [
       "<Figure size 936x720 with 1 Axes>"
      ]
     },
     "metadata": {},
     "output_type": "display_data"
    }
   ],
   "source": [
    "plt.figure(figsize = (13,10))\n",
    "sns.set(style = \"darkgrid\")\n",
    "plt.title(\"Countplot Distributon of Segments by Cancellation\", fontdict = {'fontsize':20})\n",
    "ax = sns.countplot(x = \"market_segment\", hue = 'is_canceled', data = data)"
   ]
  },
  {
   "cell_type": "code",
   "execution_count": 23,
   "metadata": {
    "scrolled": false
   },
   "outputs": [
    {
     "data": {
      "image/png": "[encoded data removed]",
      "text/plain": [
       "<Figure size 936x720 with 1 Axes>"
      ]
     },
     "metadata": {},
     "output_type": "display_data"
    }
   ],
   "source": [
    "plt.figure(figsize = (13,10))\n",
    "sns.set(style = \"darkgrid\")\n",
    "plt.title(\"Countplot Distrubiton of Segment by Deposit Type\", fontdict = {'fontsize':20})\n",
    "ax = sns.countplot(x = \"market_segment\", hue = 'deposit_type', data = data)"
   ]
  },
  {
   "cell_type": "markdown",
   "metadata": {},
   "source": [
    "- When we look at Distribution of Segment by Deposit Type graph it is clear that Group reservations are often made with Non Refund Deposit - which is quite obvious because group reservations are much bigger than individual guests and they require reservation of many rooms. When the group cancels the reservation, hotel will not be easily able to fill the empty rooms.\n",
    "- I guess that case with Offline TA/TO is similar. Travel Agents probably reserve many rooms at the same time so they may be treated same as groups - these are only my assumption, I am not sure of this case."
   ]
  },
  {
   "cell_type": "code",
   "execution_count": 40,
   "metadata": {},
   "outputs": [],
   "source": [
    "months = ['January', 'February', 'March', 'April', 'May', 'June', 'July', 'August', 'September', 'October', \\\n",
    "         'November', 'December']"
   ]
  },
  {
   "cell_type": "code",
   "execution_count": 41,
   "metadata": {
    "scrolled": true
   },
   "outputs": [
    {
     "data": {
      "image/png": "[encoded data removed]",
      "text/plain": [
       "<Figure size 1440x720 with 1 Axes>"
      ]
     },
     "metadata": {},
     "output_type": "display_data"
    }
   ],
   "source": [
    "plt.figure(figsize = (20,10))\n",
    "sns.barplot(x = 'arrival_date_month', y = 'is_canceled', hue = 'hotel', data = data, order = months);"
   ]
  },
  {
   "cell_type": "code",
   "execution_count": 43,
   "metadata": {},
   "outputs": [
    {
     "data": {
      "image/png": "[encoded data removed]",
      "text/plain": [
       "<Figure size 936x720 with 1 Axes>"
      ]
     },
     "metadata": {},
     "output_type": "display_data"
    }
   ],
   "source": [
    "plt.figure(figsize =(13,10))\n",
    "sns.set(style=\"darkgrid\")\n",
    "plt.title(\"Total Customers - Monthly \", fontdict={'fontsize': 20})\n",
    "ax = sns.countplot(x = \"arrival_date_month\", hue = 'hotel', data = data, order = months)"
   ]
  },
  {
   "cell_type": "markdown",
   "metadata": {},
   "source": [
    "We can clearly see that during winter time there is a lot less guests in both hotels. The cancelation rate is lower in that period of time as well in Resort Hotel. In City Hotel the cancelation rate is generally on the constant level for the entire year."
   ]
  },
  {
   "cell_type": "markdown",
   "metadata": {},
   "source": [
    "# Feature Engineering"
   ]
  },
  {
   "cell_type": "markdown",
   "metadata": {},
   "source": [
    "Conclusions:\n",
    "- Numeric columns are skewed. For linear algorithms it can be a problem. Log or Yeo-Jonson transformation may help.\n",
    "\n",
    "Categorical columns:\n",
    "- City and Resort hotel: change for binary\n",
    "- Arrival date month: one hot encoding (?) - not sure yet\n",
    "- Meal: BB + others\n",
    "- Country: Group the countries\n",
    "- Market_segment: Online TA, Offline TA/TO, Groups, Others\n",
    "- Distribution_channel: TA/TO, Others\n",
    "- Reserved_room_type: A, Others\n",
    "- Assigned_room_type: A, D, Others\n",
    "- deposit_type: No Deposit, Non Refund Deposit, Refundable\n",
    "- Customer_type: Transient, Others\n",
    "- Reservation_status: CHeck-out, Canceled, No-show\n",
    "- reservation_status_date: Remove(?)\n",
    "\n",
    "Numeric columns:\n",
    "- Company: Remove, too many missing values\n",
    "- Agent: fill with mode\n",
    "- Children: drop duplicates\n",
    "- Country: drop duplicates"
   ]
  },
  {
   "cell_type": "code",
   "execution_count": 56,
   "metadata": {},
   "outputs": [],
   "source": [
    "df = data.copy()"
   ]
  },
  {
   "cell_type": "code",
   "execution_count": 47,
   "metadata": {},
   "outputs": [],
   "source": [
    "# I want to remove \"company\" and \"reservation_status_date\"\n",
    "\n",
    "class RemoveColumnsTransformer(BaseEstimator, TransformerMixin):\n",
    "    def __init__(self, columns_to_remove: list):\n",
    "        self.columns_to_remove = columns_to_remove\n",
    "    \n",
    "    # even if nothing to fit, this method must return self\n",
    "    def fit(self, X, y = None ):\n",
    "        return self \n",
    "    \n",
    "    def transform(self, X, y = None ):\n",
    "        return X.drop(self.columns_to_remove, axis=1)"
   ]
  },
  {
   "cell_type": "code",
   "execution_count": 48,
   "metadata": {},
   "outputs": [],
   "source": [
    "class HotelTransformer(BaseEstimator, TransformerMixin):\n",
    "    def __init__(self):\n",
    "        pass\n",
    "    \n",
    "    def fit( self, X, y = None ):\n",
    "        return self \n",
    "    \n",
    "    def transform( self, X, y = None ):\n",
    "        X['hotel'] = X['hotel'].apply(lambda x: 0 if x=='Resort Hotel' else 1)\n",
    "        return X"
   ]
  },
  {
   "cell_type": "code",
   "execution_count": 49,
   "metadata": {},
   "outputs": [],
   "source": [
    "class Market_segment_Transformer(BaseEstimator, TransformerMixin):\n",
    "    def __init__(self):\n",
    "        pass\n",
    "    \n",
    "    def fit( self, X, y = None ):\n",
    "        return self \n",
    "    \n",
    "    def transform( self, X, y = None ):\n",
    "        categories = ['Online TA', 'Offline TA/TO', 'Groups', 'Direct']\n",
    "        X['market_segment'] = X['market_segment'].apply(lambda x: \"Other\" if x not in categories else x)\n",
    "        return X"
   ]
  },
  {
   "cell_type": "code",
   "execution_count": 50,
   "metadata": {},
   "outputs": [],
   "source": [
    "class ChannelTransformer(BaseEstimator, TransformerMixin):\n",
    "    def __init__(self):\n",
    "        pass\n",
    "    \n",
    "    def fit( self, X, y = None ):\n",
    "        return self \n",
    "    \n",
    "    def transform( self, X, y = None ):\n",
    "        X['distribution_channel'] = X['distribution_channel'].apply(lambda x: 1 if x=='TA/TO' else 0)\n",
    "        return X"
   ]
  },
  {
   "cell_type": "code",
   "execution_count": 51,
   "metadata": {},
   "outputs": [],
   "source": [
    "class ReservedTransformer(BaseEstimator, TransformerMixin):\n",
    "    def __init__(self):\n",
    "        pass\n",
    "    \n",
    "    def fit( self, X, y = None ):\n",
    "        return self \n",
    "    \n",
    "    def transform( self, X, y = None ):\n",
    "        X['reserved_room_type'] = X['reserved_room_type'].apply(lambda x: 1 if x=='A' else 0)\n",
    "        return X"
   ]
  },
  {
   "cell_type": "code",
   "execution_count": 52,
   "metadata": {},
   "outputs": [],
   "source": [
    "class AssignedTransformer(BaseEstimator, TransformerMixin):\n",
    "    def __init__(self):\n",
    "        pass\n",
    "    \n",
    "    def fit( self, X, y = None ):\n",
    "        return self \n",
    "    \n",
    "    def transform( self, X, y = None ):\n",
    "        categories = ['A', 'D']\n",
    "        X['assigned_room_type'] = X['assigned_room_type'].apply(lambda x: \"Other\" if x not in categories else x)\n",
    "        return X"
   ]
  },
  {
   "cell_type": "code",
   "execution_count": 53,
   "metadata": {},
   "outputs": [],
   "source": [
    "class CustomerTransformer(BaseEstimator, TransformerMixin):\n",
    "    def __init__(self):\n",
    "        pass\n",
    "    \n",
    "    def fit( self, X, y = None ):\n",
    "        return self \n",
    "    \n",
    "    def transform( self, X, y = None ):\n",
    "        X['customer_type'] = X['customer_type'].apply(lambda x: 1 if x=='Transient' else 0)\n",
    "        return X"
   ]
  },
  {
   "cell_type": "code",
   "execution_count": 59,
   "metadata": {},
   "outputs": [
    {
     "data": {
      "text/html": [
       "<div>\n",
       "<style scoped>\n",
       "    .dataframe tbody tr th:only-of-type {\n",
       "        vertical-align: middle;\n",
       "    }\n",
       "\n",
       "    .dataframe tbody tr th {\n",
       "        vertical-align: top;\n",
       "    }\n",
       "\n",
       "    .dataframe thead th {\n",
       "        text-align: right;\n",
       "    }\n",
       "</style>\n",
       "<table border=\"1\" class=\"dataframe\">\n",
       "  <thead>\n",
       "    <tr style=\"text-align: right;\">\n",
       "      <th></th>\n",
       "      <th>hotel</th>\n",
       "      <th>is_canceled</th>\n",
       "      <th>lead_time</th>\n",
       "      <th>arrival_date_year</th>\n",
       "      <th>arrival_date_month</th>\n",
       "      <th>arrival_date_week_number</th>\n",
       "      <th>arrival_date_day_of_month</th>\n",
       "      <th>stays_in_weekend_nights</th>\n",
       "      <th>stays_in_week_nights</th>\n",
       "      <th>adults</th>\n",
       "      <th>...</th>\n",
       "      <th>assigned_room_type</th>\n",
       "      <th>booking_changes</th>\n",
       "      <th>deposit_type</th>\n",
       "      <th>agent</th>\n",
       "      <th>days_in_waiting_list</th>\n",
       "      <th>customer_type</th>\n",
       "      <th>adr</th>\n",
       "      <th>required_car_parking_spaces</th>\n",
       "      <th>total_of_special_requests</th>\n",
       "      <th>reservation_status</th>\n",
       "    </tr>\n",
       "  </thead>\n",
       "  <tbody>\n",
       "    <tr>\n",
       "      <th>0</th>\n",
       "      <td>0</td>\n",
       "      <td>0</td>\n",
       "      <td>209</td>\n",
       "      <td>2016</td>\n",
       "      <td>May</td>\n",
       "      <td>19</td>\n",
       "      <td>5</td>\n",
       "      <td>1</td>\n",
       "      <td>3</td>\n",
       "      <td>2</td>\n",
       "      <td>...</td>\n",
       "      <td>A</td>\n",
       "      <td>0</td>\n",
       "      <td>No Deposit</td>\n",
       "      <td>240.0</td>\n",
       "      <td>0</td>\n",
       "      <td>1</td>\n",
       "      <td>46.98</td>\n",
       "      <td>0</td>\n",
       "      <td>2</td>\n",
       "      <td>Check-Out</td>\n",
       "    </tr>\n",
       "    <tr>\n",
       "      <th>1</th>\n",
       "      <td>1</td>\n",
       "      <td>1</td>\n",
       "      <td>341</td>\n",
       "      <td>2015</td>\n",
       "      <td>September</td>\n",
       "      <td>39</td>\n",
       "      <td>23</td>\n",
       "      <td>0</td>\n",
       "      <td>2</td>\n",
       "      <td>2</td>\n",
       "      <td>...</td>\n",
       "      <td>A</td>\n",
       "      <td>0</td>\n",
       "      <td>Non Refund</td>\n",
       "      <td>1.0</td>\n",
       "      <td>0</td>\n",
       "      <td>0</td>\n",
       "      <td>62.00</td>\n",
       "      <td>0</td>\n",
       "      <td>0</td>\n",
       "      <td>Canceled</td>\n",
       "    </tr>\n",
       "    <tr>\n",
       "      <th>2</th>\n",
       "      <td>0</td>\n",
       "      <td>0</td>\n",
       "      <td>321</td>\n",
       "      <td>2017</td>\n",
       "      <td>June</td>\n",
       "      <td>23</td>\n",
       "      <td>5</td>\n",
       "      <td>2</td>\n",
       "      <td>5</td>\n",
       "      <td>2</td>\n",
       "      <td>...</td>\n",
       "      <td>A</td>\n",
       "      <td>3</td>\n",
       "      <td>No Deposit</td>\n",
       "      <td>240.0</td>\n",
       "      <td>0</td>\n",
       "      <td>0</td>\n",
       "      <td>100.92</td>\n",
       "      <td>0</td>\n",
       "      <td>3</td>\n",
       "      <td>Check-Out</td>\n",
       "    </tr>\n",
       "    <tr>\n",
       "      <th>3</th>\n",
       "      <td>1</td>\n",
       "      <td>0</td>\n",
       "      <td>45</td>\n",
       "      <td>2017</td>\n",
       "      <td>March</td>\n",
       "      <td>10</td>\n",
       "      <td>5</td>\n",
       "      <td>2</td>\n",
       "      <td>1</td>\n",
       "      <td>2</td>\n",
       "      <td>...</td>\n",
       "      <td>A</td>\n",
       "      <td>0</td>\n",
       "      <td>No Deposit</td>\n",
       "      <td>9.0</td>\n",
       "      <td>0</td>\n",
       "      <td>1</td>\n",
       "      <td>97.20</td>\n",
       "      <td>0</td>\n",
       "      <td>2</td>\n",
       "      <td>Check-Out</td>\n",
       "    </tr>\n",
       "    <tr>\n",
       "      <th>4</th>\n",
       "      <td>1</td>\n",
       "      <td>1</td>\n",
       "      <td>145</td>\n",
       "      <td>2016</td>\n",
       "      <td>September</td>\n",
       "      <td>38</td>\n",
       "      <td>16</td>\n",
       "      <td>2</td>\n",
       "      <td>2</td>\n",
       "      <td>2</td>\n",
       "      <td>...</td>\n",
       "      <td>A</td>\n",
       "      <td>0</td>\n",
       "      <td>No Deposit</td>\n",
       "      <td>9.0</td>\n",
       "      <td>0</td>\n",
       "      <td>1</td>\n",
       "      <td>118.80</td>\n",
       "      <td>0</td>\n",
       "      <td>0</td>\n",
       "      <td>Canceled</td>\n",
       "    </tr>\n",
       "    <tr>\n",
       "      <th>5</th>\n",
       "      <td>1</td>\n",
       "      <td>0</td>\n",
       "      <td>39</td>\n",
       "      <td>2015</td>\n",
       "      <td>August</td>\n",
       "      <td>33</td>\n",
       "      <td>14</td>\n",
       "      <td>0</td>\n",
       "      <td>2</td>\n",
       "      <td>2</td>\n",
       "      <td>...</td>\n",
       "      <td>A</td>\n",
       "      <td>0</td>\n",
       "      <td>No Deposit</td>\n",
       "      <td>6.0</td>\n",
       "      <td>0</td>\n",
       "      <td>0</td>\n",
       "      <td>109.00</td>\n",
       "      <td>0</td>\n",
       "      <td>0</td>\n",
       "      <td>Check-Out</td>\n",
       "    </tr>\n",
       "    <tr>\n",
       "      <th>6</th>\n",
       "      <td>1</td>\n",
       "      <td>1</td>\n",
       "      <td>296</td>\n",
       "      <td>2017</td>\n",
       "      <td>April</td>\n",
       "      <td>14</td>\n",
       "      <td>3</td>\n",
       "      <td>1</td>\n",
       "      <td>5</td>\n",
       "      <td>3</td>\n",
       "      <td>...</td>\n",
       "      <td>D</td>\n",
       "      <td>0</td>\n",
       "      <td>No Deposit</td>\n",
       "      <td>9.0</td>\n",
       "      <td>0</td>\n",
       "      <td>1</td>\n",
       "      <td>193.50</td>\n",
       "      <td>0</td>\n",
       "      <td>0</td>\n",
       "      <td>Canceled</td>\n",
       "    </tr>\n",
       "    <tr>\n",
       "      <th>7</th>\n",
       "      <td>0</td>\n",
       "      <td>1</td>\n",
       "      <td>188</td>\n",
       "      <td>2016</td>\n",
       "      <td>September</td>\n",
       "      <td>37</td>\n",
       "      <td>5</td>\n",
       "      <td>1</td>\n",
       "      <td>5</td>\n",
       "      <td>1</td>\n",
       "      <td>...</td>\n",
       "      <td>Other</td>\n",
       "      <td>0</td>\n",
       "      <td>No Deposit</td>\n",
       "      <td>250.0</td>\n",
       "      <td>0</td>\n",
       "      <td>1</td>\n",
       "      <td>150.60</td>\n",
       "      <td>0</td>\n",
       "      <td>0</td>\n",
       "      <td>Canceled</td>\n",
       "    </tr>\n",
       "    <tr>\n",
       "      <th>8</th>\n",
       "      <td>0</td>\n",
       "      <td>0</td>\n",
       "      <td>203</td>\n",
       "      <td>2016</td>\n",
       "      <td>May</td>\n",
       "      <td>20</td>\n",
       "      <td>10</td>\n",
       "      <td>0</td>\n",
       "      <td>2</td>\n",
       "      <td>2</td>\n",
       "      <td>...</td>\n",
       "      <td>A</td>\n",
       "      <td>0</td>\n",
       "      <td>No Deposit</td>\n",
       "      <td>248.0</td>\n",
       "      <td>0</td>\n",
       "      <td>0</td>\n",
       "      <td>46.00</td>\n",
       "      <td>0</td>\n",
       "      <td>0</td>\n",
       "      <td>Check-Out</td>\n",
       "    </tr>\n",
       "    <tr>\n",
       "      <th>9</th>\n",
       "      <td>1</td>\n",
       "      <td>0</td>\n",
       "      <td>15</td>\n",
       "      <td>2016</td>\n",
       "      <td>January</td>\n",
       "      <td>4</td>\n",
       "      <td>22</td>\n",
       "      <td>0</td>\n",
       "      <td>2</td>\n",
       "      <td>2</td>\n",
       "      <td>...</td>\n",
       "      <td>A</td>\n",
       "      <td>0</td>\n",
       "      <td>No Deposit</td>\n",
       "      <td>9.0</td>\n",
       "      <td>0</td>\n",
       "      <td>1</td>\n",
       "      <td>80.30</td>\n",
       "      <td>0</td>\n",
       "      <td>1</td>\n",
       "      <td>Check-Out</td>\n",
       "    </tr>\n",
       "    <tr>\n",
       "      <th>10</th>\n",
       "      <td>0</td>\n",
       "      <td>1</td>\n",
       "      <td>149</td>\n",
       "      <td>2015</td>\n",
       "      <td>December</td>\n",
       "      <td>49</td>\n",
       "      <td>5</td>\n",
       "      <td>2</td>\n",
       "      <td>1</td>\n",
       "      <td>2</td>\n",
       "      <td>...</td>\n",
       "      <td>A</td>\n",
       "      <td>0</td>\n",
       "      <td>Non Refund</td>\n",
       "      <td>38.0</td>\n",
       "      <td>0</td>\n",
       "      <td>1</td>\n",
       "      <td>68.00</td>\n",
       "      <td>0</td>\n",
       "      <td>0</td>\n",
       "      <td>Canceled</td>\n",
       "    </tr>\n",
       "    <tr>\n",
       "      <th>11</th>\n",
       "      <td>1</td>\n",
       "      <td>1</td>\n",
       "      <td>94</td>\n",
       "      <td>2017</td>\n",
       "      <td>May</td>\n",
       "      <td>19</td>\n",
       "      <td>7</td>\n",
       "      <td>2</td>\n",
       "      <td>3</td>\n",
       "      <td>2</td>\n",
       "      <td>...</td>\n",
       "      <td>D</td>\n",
       "      <td>0</td>\n",
       "      <td>No Deposit</td>\n",
       "      <td>9.0</td>\n",
       "      <td>0</td>\n",
       "      <td>1</td>\n",
       "      <td>135.00</td>\n",
       "      <td>0</td>\n",
       "      <td>0</td>\n",
       "      <td>Canceled</td>\n",
       "    </tr>\n",
       "    <tr>\n",
       "      <th>12</th>\n",
       "      <td>1</td>\n",
       "      <td>0</td>\n",
       "      <td>55</td>\n",
       "      <td>2016</td>\n",
       "      <td>February</td>\n",
       "      <td>6</td>\n",
       "      <td>1</td>\n",
       "      <td>1</td>\n",
       "      <td>3</td>\n",
       "      <td>2</td>\n",
       "      <td>...</td>\n",
       "      <td>A</td>\n",
       "      <td>0</td>\n",
       "      <td>No Deposit</td>\n",
       "      <td>9.0</td>\n",
       "      <td>0</td>\n",
       "      <td>1</td>\n",
       "      <td>75.95</td>\n",
       "      <td>0</td>\n",
       "      <td>0</td>\n",
       "      <td>Check-Out</td>\n",
       "    </tr>\n",
       "    <tr>\n",
       "      <th>13</th>\n",
       "      <td>0</td>\n",
       "      <td>0</td>\n",
       "      <td>0</td>\n",
       "      <td>2015</td>\n",
       "      <td>July</td>\n",
       "      <td>29</td>\n",
       "      <td>16</td>\n",
       "      <td>2</td>\n",
       "      <td>3</td>\n",
       "      <td>2</td>\n",
       "      <td>...</td>\n",
       "      <td>Other</td>\n",
       "      <td>0</td>\n",
       "      <td>No Deposit</td>\n",
       "      <td>241.0</td>\n",
       "      <td>0</td>\n",
       "      <td>1</td>\n",
       "      <td>126.28</td>\n",
       "      <td>0</td>\n",
       "      <td>0</td>\n",
       "      <td>Check-Out</td>\n",
       "    </tr>\n",
       "    <tr>\n",
       "      <th>14</th>\n",
       "      <td>1</td>\n",
       "      <td>1</td>\n",
       "      <td>72</td>\n",
       "      <td>2015</td>\n",
       "      <td>December</td>\n",
       "      <td>53</td>\n",
       "      <td>27</td>\n",
       "      <td>2</td>\n",
       "      <td>0</td>\n",
       "      <td>2</td>\n",
       "      <td>...</td>\n",
       "      <td>A</td>\n",
       "      <td>0</td>\n",
       "      <td>Non Refund</td>\n",
       "      <td>1.0</td>\n",
       "      <td>0</td>\n",
       "      <td>1</td>\n",
       "      <td>90.00</td>\n",
       "      <td>0</td>\n",
       "      <td>0</td>\n",
       "      <td>Canceled</td>\n",
       "    </tr>\n",
       "  </tbody>\n",
       "</table>\n",
       "<p>15 rows × 30 columns</p>\n",
       "</div>"
      ],
      "text/plain": [
       "    hotel  is_canceled  lead_time  arrival_date_year arrival_date_month  \\\n",
       "0       0            0        209               2016                May   \n",
       "1       1            1        341               2015          September   \n",
       "2       0            0        321               2017               June   \n",
       "3       1            0         45               2017              March   \n",
       "4       1            1        145               2016          September   \n",
       "5       1            0         39               2015             August   \n",
       "6       1            1        296               2017              April   \n",
       "7       0            1        188               2016          September   \n",
       "8       0            0        203               2016                May   \n",
       "9       1            0         15               2016            January   \n",
       "10      0            1        149               2015           December   \n",
       "11      1            1         94               2017                May   \n",
       "12      1            0         55               2016           February   \n",
       "13      0            0          0               2015               July   \n",
       "14      1            1         72               2015           December   \n",
       "\n",
       "    arrival_date_week_number  arrival_date_day_of_month  \\\n",
       "0                         19                          5   \n",
       "1                         39                         23   \n",
       "2                         23                          5   \n",
       "3                         10                          5   \n",
       "4                         38                         16   \n",
       "5                         33                         14   \n",
       "6                         14                          3   \n",
       "7                         37                          5   \n",
       "8                         20                         10   \n",
       "9                          4                         22   \n",
       "10                        49                          5   \n",
       "11                        19                          7   \n",
       "12                         6                          1   \n",
       "13                        29                         16   \n",
       "14                        53                         27   \n",
       "\n",
       "    stays_in_weekend_nights  stays_in_week_nights  adults  ...  \\\n",
       "0                         1                     3       2  ...   \n",
       "1                         0                     2       2  ...   \n",
       "2                         2                     5       2  ...   \n",
       "3                         2                     1       2  ...   \n",
       "4                         2                     2       2  ...   \n",
       "5                         0                     2       2  ...   \n",
       "6                         1                     5       3  ...   \n",
       "7                         1                     5       1  ...   \n",
       "8                         0                     2       2  ...   \n",
       "9                         0                     2       2  ...   \n",
       "10                        2                     1       2  ...   \n",
       "11                        2                     3       2  ...   \n",
       "12                        1                     3       2  ...   \n",
       "13                        2                     3       2  ...   \n",
       "14                        2                     0       2  ...   \n",
       "\n",
       "    assigned_room_type  booking_changes deposit_type  agent  \\\n",
       "0                    A                0   No Deposit  240.0   \n",
       "1                    A                0   Non Refund    1.0   \n",
       "2                    A                3   No Deposit  240.0   \n",
       "3                    A                0   No Deposit    9.0   \n",
       "4                    A                0   No Deposit    9.0   \n",
       "5                    A                0   No Deposit    6.0   \n",
       "6                    D                0   No Deposit    9.0   \n",
       "7                Other                0   No Deposit  250.0   \n",
       "8                    A                0   No Deposit  248.0   \n",
       "9                    A                0   No Deposit    9.0   \n",
       "10                   A                0   Non Refund   38.0   \n",
       "11                   D                0   No Deposit    9.0   \n",
       "12                   A                0   No Deposit    9.0   \n",
       "13               Other                0   No Deposit  241.0   \n",
       "14                   A                0   Non Refund    1.0   \n",
       "\n",
       "   days_in_waiting_list  customer_type     adr  required_car_parking_spaces  \\\n",
       "0                     0              1   46.98                            0   \n",
       "1                     0              0   62.00                            0   \n",
       "2                     0              0  100.92                            0   \n",
       "3                     0              1   97.20                            0   \n",
       "4                     0              1  118.80                            0   \n",
       "5                     0              0  109.00                            0   \n",
       "6                     0              1  193.50                            0   \n",
       "7                     0              1  150.60                            0   \n",
       "8                     0              0   46.00                            0   \n",
       "9                     0              1   80.30                            0   \n",
       "10                    0              1   68.00                            0   \n",
       "11                    0              1  135.00                            0   \n",
       "12                    0              1   75.95                            0   \n",
       "13                    0              1  126.28                            0   \n",
       "14                    0              1   90.00                            0   \n",
       "\n",
       "    total_of_special_requests  reservation_status  \n",
       "0                           2           Check-Out  \n",
       "1                           0            Canceled  \n",
       "2                           3           Check-Out  \n",
       "3                           2           Check-Out  \n",
       "4                           0            Canceled  \n",
       "5                           0           Check-Out  \n",
       "6                           0            Canceled  \n",
       "7                           0            Canceled  \n",
       "8                           0           Check-Out  \n",
       "9                           1           Check-Out  \n",
       "10                          0            Canceled  \n",
       "11                          0            Canceled  \n",
       "12                          0           Check-Out  \n",
       "13                          0           Check-Out  \n",
       "14                          0            Canceled  \n",
       "\n",
       "[15 rows x 30 columns]"
      ]
     },
     "execution_count": 59,
     "metadata": {},
     "output_type": "execute_result"
    }
   ],
   "source": [
    "# check if all the transformers work\n",
    "\n",
    "steps = [\n",
    "    ('remove', RemoveColumnsTransformer(columns_to_remove=['company', 'reservation_status_date'])),         \n",
    "    ('hotel', HotelTransformer()), \n",
    "    ('market_segment', Market_segment_Transformer()),\n",
    "    ('channel', ChannelTransformer()), \n",
    "    ('reserved', ReservedTransformer()),\n",
    "    ('assigned', AssignedTransformer()), \n",
    "    ('customer', CustomerTransformer()), \n",
    "]\n",
    "\n",
    "pipeline = Pipeline(steps=steps)\n",
    "pipeline.fit_transform(df).head(15)"
   ]
  }
 ],
 "metadata": {
  "kernelspec": {
   "display_name": "Python 3",
   "language": "python",
   "name": "python3"
  },
  "language_info": {
   "codemirror_mode": {
    "name": "ipython",
    "version": 3
   },
   "file_extension": ".py",
   "mimetype": "text/x-python",
   "name": "python",
   "nbconvert_exporter": "python",
   "pygments_lexer": "ipython3",
   "version": "3.8.3"
  }
 },
 "nbformat": 4,
 "nbformat_minor": 4
}
