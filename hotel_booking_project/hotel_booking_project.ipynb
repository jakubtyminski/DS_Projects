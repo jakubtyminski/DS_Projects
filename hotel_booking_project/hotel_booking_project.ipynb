{
 "cells": [
  {
   "cell_type": "code",
   "execution_count": 27,
   "metadata": {},
   "outputs": [],
   "source": [
    "# data manipulation\n",
    "import pandas as pd\n",
    "import numpy as np\n",
    "\n",
    "# data visualization\n",
    "import seaborn as sns\n",
    "import matplotlib.pyplot as plt\n",
    "\n",
    "# pipeline construction\n",
    "from sklearn.pipeline import FeatureUnion, Pipeline \n",
    "from sklearn.base import BaseEstimator, TransformerMixin\n",
    "from sklearn.compose import ColumnTransformer\n",
    "\n",
    "# data processing\n",
    "from sklearn.impute import SimpleImputer\n",
    "from sklearn.preprocessing import MinMaxScaler, StandardScaler\n",
    "from sklearn.preprocessing import OneHotEncoder\n",
    "\n",
    "# models trainng\n",
    "from sklearn.model_selection import train_test_split, GridSearchCV\n",
    "from sklearn.linear_model import LogisticRegression\n",
    "\n",
    "# models validation\n",
    "from sklearn.metrics import accuracy_score, precision_score, recall_score, f1_score\n",
    "\n",
    "# remove annoying warnings\n",
    "import warnings\n",
    "warnings.filterwarnings('ignore')"
   ]
  },
  {
   "cell_type": "code",
   "execution_count": 2,
   "metadata": {
    "scrolled": true
   },
   "outputs": [
    {
     "data": {
      "text/html": [
       "<div>\n",
       "<style scoped>\n",
       "    .dataframe tbody tr th:only-of-type {\n",
       "        vertical-align: middle;\n",
       "    }\n",
       "\n",
       "    .dataframe tbody tr th {\n",
       "        vertical-align: top;\n",
       "    }\n",
       "\n",
       "    .dataframe thead th {\n",
       "        text-align: right;\n",
       "    }\n",
       "</style>\n",
       "<table border=\"1\" class=\"dataframe\">\n",
       "  <thead>\n",
       "    <tr style=\"text-align: right;\">\n",
       "      <th></th>\n",
       "      <th>hotel</th>\n",
       "      <th>is_canceled</th>\n",
       "      <th>lead_time</th>\n",
       "      <th>arrival_date_year</th>\n",
       "      <th>arrival_date_month</th>\n",
       "      <th>arrival_date_week_number</th>\n",
       "      <th>arrival_date_day_of_month</th>\n",
       "      <th>stays_in_weekend_nights</th>\n",
       "      <th>stays_in_week_nights</th>\n",
       "      <th>adults</th>\n",
       "      <th>...</th>\n",
       "      <th>deposit_type</th>\n",
       "      <th>agent</th>\n",
       "      <th>company</th>\n",
       "      <th>days_in_waiting_list</th>\n",
       "      <th>customer_type</th>\n",
       "      <th>adr</th>\n",
       "      <th>required_car_parking_spaces</th>\n",
       "      <th>total_of_special_requests</th>\n",
       "      <th>reservation_status</th>\n",
       "      <th>reservation_status_date</th>\n",
       "    </tr>\n",
       "  </thead>\n",
       "  <tbody>\n",
       "    <tr>\n",
       "      <th>0</th>\n",
       "      <td>Resort Hotel</td>\n",
       "      <td>0</td>\n",
       "      <td>342</td>\n",
       "      <td>2015</td>\n",
       "      <td>July</td>\n",
       "      <td>27</td>\n",
       "      <td>1</td>\n",
       "      <td>0</td>\n",
       "      <td>0</td>\n",
       "      <td>2</td>\n",
       "      <td>...</td>\n",
       "      <td>No Deposit</td>\n",
       "      <td>NaN</td>\n",
       "      <td>NaN</td>\n",
       "      <td>0</td>\n",
       "      <td>Transient</td>\n",
       "      <td>0.0</td>\n",
       "      <td>0</td>\n",
       "      <td>0</td>\n",
       "      <td>Check-Out</td>\n",
       "      <td>2015-07-01</td>\n",
       "    </tr>\n",
       "    <tr>\n",
       "      <th>1</th>\n",
       "      <td>Resort Hotel</td>\n",
       "      <td>0</td>\n",
       "      <td>737</td>\n",
       "      <td>2015</td>\n",
       "      <td>July</td>\n",
       "      <td>27</td>\n",
       "      <td>1</td>\n",
       "      <td>0</td>\n",
       "      <td>0</td>\n",
       "      <td>2</td>\n",
       "      <td>...</td>\n",
       "      <td>No Deposit</td>\n",
       "      <td>NaN</td>\n",
       "      <td>NaN</td>\n",
       "      <td>0</td>\n",
       "      <td>Transient</td>\n",
       "      <td>0.0</td>\n",
       "      <td>0</td>\n",
       "      <td>0</td>\n",
       "      <td>Check-Out</td>\n",
       "      <td>2015-07-01</td>\n",
       "    </tr>\n",
       "    <tr>\n",
       "      <th>2</th>\n",
       "      <td>Resort Hotel</td>\n",
       "      <td>0</td>\n",
       "      <td>7</td>\n",
       "      <td>2015</td>\n",
       "      <td>July</td>\n",
       "      <td>27</td>\n",
       "      <td>1</td>\n",
       "      <td>0</td>\n",
       "      <td>1</td>\n",
       "      <td>1</td>\n",
       "      <td>...</td>\n",
       "      <td>No Deposit</td>\n",
       "      <td>NaN</td>\n",
       "      <td>NaN</td>\n",
       "      <td>0</td>\n",
       "      <td>Transient</td>\n",
       "      <td>75.0</td>\n",
       "      <td>0</td>\n",
       "      <td>0</td>\n",
       "      <td>Check-Out</td>\n",
       "      <td>2015-07-02</td>\n",
       "    </tr>\n",
       "    <tr>\n",
       "      <th>3</th>\n",
       "      <td>Resort Hotel</td>\n",
       "      <td>0</td>\n",
       "      <td>13</td>\n",
       "      <td>2015</td>\n",
       "      <td>July</td>\n",
       "      <td>27</td>\n",
       "      <td>1</td>\n",
       "      <td>0</td>\n",
       "      <td>1</td>\n",
       "      <td>1</td>\n",
       "      <td>...</td>\n",
       "      <td>No Deposit</td>\n",
       "      <td>304.0</td>\n",
       "      <td>NaN</td>\n",
       "      <td>0</td>\n",
       "      <td>Transient</td>\n",
       "      <td>75.0</td>\n",
       "      <td>0</td>\n",
       "      <td>0</td>\n",
       "      <td>Check-Out</td>\n",
       "      <td>2015-07-02</td>\n",
       "    </tr>\n",
       "    <tr>\n",
       "      <th>4</th>\n",
       "      <td>Resort Hotel</td>\n",
       "      <td>0</td>\n",
       "      <td>14</td>\n",
       "      <td>2015</td>\n",
       "      <td>July</td>\n",
       "      <td>27</td>\n",
       "      <td>1</td>\n",
       "      <td>0</td>\n",
       "      <td>2</td>\n",
       "      <td>2</td>\n",
       "      <td>...</td>\n",
       "      <td>No Deposit</td>\n",
       "      <td>240.0</td>\n",
       "      <td>NaN</td>\n",
       "      <td>0</td>\n",
       "      <td>Transient</td>\n",
       "      <td>98.0</td>\n",
       "      <td>0</td>\n",
       "      <td>1</td>\n",
       "      <td>Check-Out</td>\n",
       "      <td>2015-07-03</td>\n",
       "    </tr>\n",
       "  </tbody>\n",
       "</table>\n",
       "<p>5 rows × 32 columns</p>\n",
       "</div>"
      ],
      "text/plain": [
       "          hotel  is_canceled  lead_time  arrival_date_year arrival_date_month  \\\n",
       "0  Resort Hotel            0        342               2015               July   \n",
       "1  Resort Hotel            0        737               2015               July   \n",
       "2  Resort Hotel            0          7               2015               July   \n",
       "3  Resort Hotel            0         13               2015               July   \n",
       "4  Resort Hotel            0         14               2015               July   \n",
       "\n",
       "   arrival_date_week_number  arrival_date_day_of_month  \\\n",
       "0                        27                          1   \n",
       "1                        27                          1   \n",
       "2                        27                          1   \n",
       "3                        27                          1   \n",
       "4                        27                          1   \n",
       "\n",
       "   stays_in_weekend_nights  stays_in_week_nights  adults  ...  deposit_type  \\\n",
       "0                        0                     0       2  ...    No Deposit   \n",
       "1                        0                     0       2  ...    No Deposit   \n",
       "2                        0                     1       1  ...    No Deposit   \n",
       "3                        0                     1       1  ...    No Deposit   \n",
       "4                        0                     2       2  ...    No Deposit   \n",
       "\n",
       "   agent company days_in_waiting_list customer_type   adr  \\\n",
       "0    NaN     NaN                    0     Transient   0.0   \n",
       "1    NaN     NaN                    0     Transient   0.0   \n",
       "2    NaN     NaN                    0     Transient  75.0   \n",
       "3  304.0     NaN                    0     Transient  75.0   \n",
       "4  240.0     NaN                    0     Transient  98.0   \n",
       "\n",
       "   required_car_parking_spaces  total_of_special_requests  reservation_status  \\\n",
       "0                            0                          0           Check-Out   \n",
       "1                            0                          0           Check-Out   \n",
       "2                            0                          0           Check-Out   \n",
       "3                            0                          0           Check-Out   \n",
       "4                            0                          1           Check-Out   \n",
       "\n",
       "  reservation_status_date  \n",
       "0              2015-07-01  \n",
       "1              2015-07-01  \n",
       "2              2015-07-02  \n",
       "3              2015-07-02  \n",
       "4              2015-07-03  \n",
       "\n",
       "[5 rows x 32 columns]"
      ]
     },
     "execution_count": 2,
     "metadata": {},
     "output_type": "execute_result"
    }
   ],
   "source": [
    "data = pd.read_csv(r'C:\\Users\\Jakub\\Desktop\\GitHubProjects\\hotel_booking_project\\hotel_bookings.csv')\n",
    "data.head()"
   ]
  },
  {
   "cell_type": "markdown",
   "metadata": {},
   "source": [
    "I shufle the data as a good practice."
   ]
  },
  {
   "cell_type": "code",
   "execution_count": 3,
   "metadata": {
    "scrolled": true
   },
   "outputs": [
    {
     "data": {
      "text/html": [
       "<div>\n",
       "<style scoped>\n",
       "    .dataframe tbody tr th:only-of-type {\n",
       "        vertical-align: middle;\n",
       "    }\n",
       "\n",
       "    .dataframe tbody tr th {\n",
       "        vertical-align: top;\n",
       "    }\n",
       "\n",
       "    .dataframe thead th {\n",
       "        text-align: right;\n",
       "    }\n",
       "</style>\n",
       "<table border=\"1\" class=\"dataframe\">\n",
       "  <thead>\n",
       "    <tr style=\"text-align: right;\">\n",
       "      <th></th>\n",
       "      <th>hotel</th>\n",
       "      <th>is_canceled</th>\n",
       "      <th>lead_time</th>\n",
       "      <th>arrival_date_year</th>\n",
       "      <th>arrival_date_month</th>\n",
       "      <th>arrival_date_week_number</th>\n",
       "      <th>arrival_date_day_of_month</th>\n",
       "      <th>stays_in_weekend_nights</th>\n",
       "      <th>stays_in_week_nights</th>\n",
       "      <th>adults</th>\n",
       "      <th>...</th>\n",
       "      <th>deposit_type</th>\n",
       "      <th>agent</th>\n",
       "      <th>company</th>\n",
       "      <th>days_in_waiting_list</th>\n",
       "      <th>customer_type</th>\n",
       "      <th>adr</th>\n",
       "      <th>required_car_parking_spaces</th>\n",
       "      <th>total_of_special_requests</th>\n",
       "      <th>reservation_status</th>\n",
       "      <th>reservation_status_date</th>\n",
       "    </tr>\n",
       "  </thead>\n",
       "  <tbody>\n",
       "    <tr>\n",
       "      <th>0</th>\n",
       "      <td>City Hotel</td>\n",
       "      <td>0</td>\n",
       "      <td>151</td>\n",
       "      <td>2017</td>\n",
       "      <td>March</td>\n",
       "      <td>12</td>\n",
       "      <td>20</td>\n",
       "      <td>1</td>\n",
       "      <td>1</td>\n",
       "      <td>2</td>\n",
       "      <td>...</td>\n",
       "      <td>No Deposit</td>\n",
       "      <td>37.0</td>\n",
       "      <td>NaN</td>\n",
       "      <td>0</td>\n",
       "      <td>Transient-Party</td>\n",
       "      <td>95.0</td>\n",
       "      <td>0</td>\n",
       "      <td>1</td>\n",
       "      <td>Check-Out</td>\n",
       "      <td>2017-03-22</td>\n",
       "    </tr>\n",
       "    <tr>\n",
       "      <th>1</th>\n",
       "      <td>City Hotel</td>\n",
       "      <td>0</td>\n",
       "      <td>55</td>\n",
       "      <td>2015</td>\n",
       "      <td>September</td>\n",
       "      <td>37</td>\n",
       "      <td>6</td>\n",
       "      <td>2</td>\n",
       "      <td>0</td>\n",
       "      <td>2</td>\n",
       "      <td>...</td>\n",
       "      <td>No Deposit</td>\n",
       "      <td>1.0</td>\n",
       "      <td>NaN</td>\n",
       "      <td>0</td>\n",
       "      <td>Transient-Party</td>\n",
       "      <td>75.0</td>\n",
       "      <td>0</td>\n",
       "      <td>0</td>\n",
       "      <td>Check-Out</td>\n",
       "      <td>2015-09-08</td>\n",
       "    </tr>\n",
       "    <tr>\n",
       "      <th>2</th>\n",
       "      <td>Resort Hotel</td>\n",
       "      <td>1</td>\n",
       "      <td>104</td>\n",
       "      <td>2015</td>\n",
       "      <td>July</td>\n",
       "      <td>30</td>\n",
       "      <td>19</td>\n",
       "      <td>2</td>\n",
       "      <td>4</td>\n",
       "      <td>2</td>\n",
       "      <td>...</td>\n",
       "      <td>No Deposit</td>\n",
       "      <td>240.0</td>\n",
       "      <td>NaN</td>\n",
       "      <td>0</td>\n",
       "      <td>Transient</td>\n",
       "      <td>115.0</td>\n",
       "      <td>0</td>\n",
       "      <td>2</td>\n",
       "      <td>Canceled</td>\n",
       "      <td>2015-07-02</td>\n",
       "    </tr>\n",
       "    <tr>\n",
       "      <th>3</th>\n",
       "      <td>City Hotel</td>\n",
       "      <td>0</td>\n",
       "      <td>0</td>\n",
       "      <td>2017</td>\n",
       "      <td>May</td>\n",
       "      <td>19</td>\n",
       "      <td>13</td>\n",
       "      <td>0</td>\n",
       "      <td>1</td>\n",
       "      <td>2</td>\n",
       "      <td>...</td>\n",
       "      <td>No Deposit</td>\n",
       "      <td>NaN</td>\n",
       "      <td>NaN</td>\n",
       "      <td>0</td>\n",
       "      <td>Transient</td>\n",
       "      <td>169.0</td>\n",
       "      <td>0</td>\n",
       "      <td>1</td>\n",
       "      <td>Check-Out</td>\n",
       "      <td>2017-05-14</td>\n",
       "    </tr>\n",
       "    <tr>\n",
       "      <th>4</th>\n",
       "      <td>City Hotel</td>\n",
       "      <td>1</td>\n",
       "      <td>295</td>\n",
       "      <td>2016</td>\n",
       "      <td>April</td>\n",
       "      <td>18</td>\n",
       "      <td>28</td>\n",
       "      <td>0</td>\n",
       "      <td>2</td>\n",
       "      <td>2</td>\n",
       "      <td>...</td>\n",
       "      <td>Non Refund</td>\n",
       "      <td>1.0</td>\n",
       "      <td>NaN</td>\n",
       "      <td>0</td>\n",
       "      <td>Transient</td>\n",
       "      <td>62.0</td>\n",
       "      <td>0</td>\n",
       "      <td>0</td>\n",
       "      <td>Canceled</td>\n",
       "      <td>2015-10-21</td>\n",
       "    </tr>\n",
       "  </tbody>\n",
       "</table>\n",
       "<p>5 rows × 32 columns</p>\n",
       "</div>"
      ],
      "text/plain": [
       "          hotel  is_canceled  lead_time  arrival_date_year arrival_date_month  \\\n",
       "0    City Hotel            0        151               2017              March   \n",
       "1    City Hotel            0         55               2015          September   \n",
       "2  Resort Hotel            1        104               2015               July   \n",
       "3    City Hotel            0          0               2017                May   \n",
       "4    City Hotel            1        295               2016              April   \n",
       "\n",
       "   arrival_date_week_number  arrival_date_day_of_month  \\\n",
       "0                        12                         20   \n",
       "1                        37                          6   \n",
       "2                        30                         19   \n",
       "3                        19                         13   \n",
       "4                        18                         28   \n",
       "\n",
       "   stays_in_weekend_nights  stays_in_week_nights  adults  ...  deposit_type  \\\n",
       "0                        1                     1       2  ...    No Deposit   \n",
       "1                        2                     0       2  ...    No Deposit   \n",
       "2                        2                     4       2  ...    No Deposit   \n",
       "3                        0                     1       2  ...    No Deposit   \n",
       "4                        0                     2       2  ...    Non Refund   \n",
       "\n",
       "   agent company days_in_waiting_list    customer_type    adr  \\\n",
       "0   37.0     NaN                    0  Transient-Party   95.0   \n",
       "1    1.0     NaN                    0  Transient-Party   75.0   \n",
       "2  240.0     NaN                    0        Transient  115.0   \n",
       "3    NaN     NaN                    0        Transient  169.0   \n",
       "4    1.0     NaN                    0        Transient   62.0   \n",
       "\n",
       "   required_car_parking_spaces  total_of_special_requests  reservation_status  \\\n",
       "0                            0                          1           Check-Out   \n",
       "1                            0                          0           Check-Out   \n",
       "2                            0                          2            Canceled   \n",
       "3                            0                          1           Check-Out   \n",
       "4                            0                          0            Canceled   \n",
       "\n",
       "  reservation_status_date  \n",
       "0              2017-03-22  \n",
       "1              2015-09-08  \n",
       "2              2015-07-02  \n",
       "3              2017-05-14  \n",
       "4              2015-10-21  \n",
       "\n",
       "[5 rows x 32 columns]"
      ]
     },
     "execution_count": 3,
     "metadata": {},
     "output_type": "execute_result"
    }
   ],
   "source": [
    "data = data.sample(frac=1).reset_index(drop=True)\n",
    "data.head()"
   ]
  },
  {
   "cell_type": "code",
   "execution_count": 4,
   "metadata": {},
   "outputs": [],
   "source": [
    "# split data into training and test set \n",
    "X_train, X_test, y_train, y_test = train_test_split(data.drop('is_canceled', axis=1), \n",
    "                                                    data['is_canceled'], \n",
    "                                                    test_size=0.2,\n",
    "                                                    stratify=data['is_canceled'],\n",
    "                                                    random_state=42)"
   ]
  },
  {
   "cell_type": "markdown",
   "metadata": {},
   "source": [
    "# Basic Exploratory Data Analysis"
   ]
  },
  {
   "cell_type": "code",
   "execution_count": 5,
   "metadata": {
    "scrolled": false
   },
   "outputs": [
    {
     "name": "stdout",
     "output_type": "stream",
     "text": [
      "<class 'pandas.core.frame.DataFrame'>\n",
      "RangeIndex: 119390 entries, 0 to 119389\n",
      "Data columns (total 32 columns):\n",
      " #   Column                          Non-Null Count   Dtype  \n",
      "---  ------                          --------------   -----  \n",
      " 0   hotel                           119390 non-null  object \n",
      " 1   is_canceled                     119390 non-null  int64  \n",
      " 2   lead_time                       119390 non-null  int64  \n",
      " 3   arrival_date_year               119390 non-null  int64  \n",
      " 4   arrival_date_month              119390 non-null  object \n",
      " 5   arrival_date_week_number        119390 non-null  int64  \n",
      " 6   arrival_date_day_of_month       119390 non-null  int64  \n",
      " 7   stays_in_weekend_nights         119390 non-null  int64  \n",
      " 8   stays_in_week_nights            119390 non-null  int64  \n",
      " 9   adults                          119390 non-null  int64  \n",
      " 10  children                        119386 non-null  float64\n",
      " 11  babies                          119390 non-null  int64  \n",
      " 12  meal                            119390 non-null  object \n",
      " 13  country                         118902 non-null  object \n",
      " 14  market_segment                  119390 non-null  object \n",
      " 15  distribution_channel            119390 non-null  object \n",
      " 16  is_repeated_guest               119390 non-null  int64  \n",
      " 17  previous_cancellations          119390 non-null  int64  \n",
      " 18  previous_bookings_not_canceled  119390 non-null  int64  \n",
      " 19  reserved_room_type              119390 non-null  object \n",
      " 20  assigned_room_type              119390 non-null  object \n",
      " 21  booking_changes                 119390 non-null  int64  \n",
      " 22  deposit_type                    119390 non-null  object \n",
      " 23  agent                           103050 non-null  float64\n",
      " 24  company                         6797 non-null    float64\n",
      " 25  days_in_waiting_list            119390 non-null  int64  \n",
      " 26  customer_type                   119390 non-null  object \n",
      " 27  adr                             119390 non-null  float64\n",
      " 28  required_car_parking_spaces     119390 non-null  int64  \n",
      " 29  total_of_special_requests       119390 non-null  int64  \n",
      " 30  reservation_status              119390 non-null  object \n",
      " 31  reservation_status_date         119390 non-null  object \n",
      "dtypes: float64(4), int64(16), object(12)\n",
      "memory usage: 29.1+ MB\n"
     ]
    }
   ],
   "source": [
    "data.info()"
   ]
  },
  {
   "cell_type": "code",
   "execution_count": 6,
   "metadata": {},
   "outputs": [
    {
     "data": {
      "text/plain": [
       "(119390, 32)"
      ]
     },
     "execution_count": 6,
     "metadata": {},
     "output_type": "execute_result"
    }
   ],
   "source": [
    "data.shape"
   ]
  },
  {
   "cell_type": "markdown",
   "metadata": {},
   "source": [
    "We can see that there are some columns where some of the values are null, we will have to manage it later on during the processing stage."
   ]
  },
  {
   "cell_type": "code",
   "execution_count": 7,
   "metadata": {},
   "outputs": [
    {
     "data": {
      "text/html": [
       "<div>\n",
       "<style scoped>\n",
       "    .dataframe tbody tr th:only-of-type {\n",
       "        vertical-align: middle;\n",
       "    }\n",
       "\n",
       "    .dataframe tbody tr th {\n",
       "        vertical-align: top;\n",
       "    }\n",
       "\n",
       "    .dataframe thead th {\n",
       "        text-align: right;\n",
       "    }\n",
       "</style>\n",
       "<table border=\"1\" class=\"dataframe\">\n",
       "  <thead>\n",
       "    <tr style=\"text-align: right;\">\n",
       "      <th></th>\n",
       "      <th>is_canceled</th>\n",
       "      <th>lead_time</th>\n",
       "      <th>arrival_date_year</th>\n",
       "      <th>arrival_date_week_number</th>\n",
       "      <th>arrival_date_day_of_month</th>\n",
       "      <th>stays_in_weekend_nights</th>\n",
       "      <th>stays_in_week_nights</th>\n",
       "      <th>adults</th>\n",
       "      <th>children</th>\n",
       "      <th>babies</th>\n",
       "      <th>is_repeated_guest</th>\n",
       "      <th>previous_cancellations</th>\n",
       "      <th>previous_bookings_not_canceled</th>\n",
       "      <th>booking_changes</th>\n",
       "      <th>agent</th>\n",
       "      <th>company</th>\n",
       "      <th>days_in_waiting_list</th>\n",
       "      <th>adr</th>\n",
       "      <th>required_car_parking_spaces</th>\n",
       "      <th>total_of_special_requests</th>\n",
       "    </tr>\n",
       "  </thead>\n",
       "  <tbody>\n",
       "    <tr>\n",
       "      <th>count</th>\n",
       "      <td>119390.000000</td>\n",
       "      <td>119390.000000</td>\n",
       "      <td>119390.000000</td>\n",
       "      <td>119390.000000</td>\n",
       "      <td>119390.000000</td>\n",
       "      <td>119390.000000</td>\n",
       "      <td>119390.000000</td>\n",
       "      <td>119390.000000</td>\n",
       "      <td>119386.000000</td>\n",
       "      <td>119390.000000</td>\n",
       "      <td>119390.000000</td>\n",
       "      <td>119390.000000</td>\n",
       "      <td>119390.000000</td>\n",
       "      <td>119390.000000</td>\n",
       "      <td>103050.000000</td>\n",
       "      <td>6797.000000</td>\n",
       "      <td>119390.000000</td>\n",
       "      <td>119390.000000</td>\n",
       "      <td>119390.000000</td>\n",
       "      <td>119390.000000</td>\n",
       "    </tr>\n",
       "    <tr>\n",
       "      <th>mean</th>\n",
       "      <td>0.370416</td>\n",
       "      <td>104.011416</td>\n",
       "      <td>2016.156554</td>\n",
       "      <td>27.165173</td>\n",
       "      <td>15.798241</td>\n",
       "      <td>0.927599</td>\n",
       "      <td>2.500302</td>\n",
       "      <td>1.856403</td>\n",
       "      <td>0.103890</td>\n",
       "      <td>0.007949</td>\n",
       "      <td>0.031912</td>\n",
       "      <td>0.087118</td>\n",
       "      <td>0.137097</td>\n",
       "      <td>0.221124</td>\n",
       "      <td>86.693382</td>\n",
       "      <td>189.266735</td>\n",
       "      <td>2.321149</td>\n",
       "      <td>101.831122</td>\n",
       "      <td>0.062518</td>\n",
       "      <td>0.571363</td>\n",
       "    </tr>\n",
       "    <tr>\n",
       "      <th>std</th>\n",
       "      <td>0.482918</td>\n",
       "      <td>106.863097</td>\n",
       "      <td>0.707476</td>\n",
       "      <td>13.605138</td>\n",
       "      <td>8.780829</td>\n",
       "      <td>0.998613</td>\n",
       "      <td>1.908286</td>\n",
       "      <td>0.579261</td>\n",
       "      <td>0.398561</td>\n",
       "      <td>0.097436</td>\n",
       "      <td>0.175767</td>\n",
       "      <td>0.844336</td>\n",
       "      <td>1.497437</td>\n",
       "      <td>0.652306</td>\n",
       "      <td>110.774548</td>\n",
       "      <td>131.655015</td>\n",
       "      <td>17.594721</td>\n",
       "      <td>50.535790</td>\n",
       "      <td>0.245291</td>\n",
       "      <td>0.792798</td>\n",
       "    </tr>\n",
       "    <tr>\n",
       "      <th>min</th>\n",
       "      <td>0.000000</td>\n",
       "      <td>0.000000</td>\n",
       "      <td>2015.000000</td>\n",
       "      <td>1.000000</td>\n",
       "      <td>1.000000</td>\n",
       "      <td>0.000000</td>\n",
       "      <td>0.000000</td>\n",
       "      <td>0.000000</td>\n",
       "      <td>0.000000</td>\n",
       "      <td>0.000000</td>\n",
       "      <td>0.000000</td>\n",
       "      <td>0.000000</td>\n",
       "      <td>0.000000</td>\n",
       "      <td>0.000000</td>\n",
       "      <td>1.000000</td>\n",
       "      <td>6.000000</td>\n",
       "      <td>0.000000</td>\n",
       "      <td>-6.380000</td>\n",
       "      <td>0.000000</td>\n",
       "      <td>0.000000</td>\n",
       "    </tr>\n",
       "    <tr>\n",
       "      <th>25%</th>\n",
       "      <td>0.000000</td>\n",
       "      <td>18.000000</td>\n",
       "      <td>2016.000000</td>\n",
       "      <td>16.000000</td>\n",
       "      <td>8.000000</td>\n",
       "      <td>0.000000</td>\n",
       "      <td>1.000000</td>\n",
       "      <td>2.000000</td>\n",
       "      <td>0.000000</td>\n",
       "      <td>0.000000</td>\n",
       "      <td>0.000000</td>\n",
       "      <td>0.000000</td>\n",
       "      <td>0.000000</td>\n",
       "      <td>0.000000</td>\n",
       "      <td>9.000000</td>\n",
       "      <td>62.000000</td>\n",
       "      <td>0.000000</td>\n",
       "      <td>69.290000</td>\n",
       "      <td>0.000000</td>\n",
       "      <td>0.000000</td>\n",
       "    </tr>\n",
       "    <tr>\n",
       "      <th>50%</th>\n",
       "      <td>0.000000</td>\n",
       "      <td>69.000000</td>\n",
       "      <td>2016.000000</td>\n",
       "      <td>28.000000</td>\n",
       "      <td>16.000000</td>\n",
       "      <td>1.000000</td>\n",
       "      <td>2.000000</td>\n",
       "      <td>2.000000</td>\n",
       "      <td>0.000000</td>\n",
       "      <td>0.000000</td>\n",
       "      <td>0.000000</td>\n",
       "      <td>0.000000</td>\n",
       "      <td>0.000000</td>\n",
       "      <td>0.000000</td>\n",
       "      <td>14.000000</td>\n",
       "      <td>179.000000</td>\n",
       "      <td>0.000000</td>\n",
       "      <td>94.575000</td>\n",
       "      <td>0.000000</td>\n",
       "      <td>0.000000</td>\n",
       "    </tr>\n",
       "    <tr>\n",
       "      <th>75%</th>\n",
       "      <td>1.000000</td>\n",
       "      <td>160.000000</td>\n",
       "      <td>2017.000000</td>\n",
       "      <td>38.000000</td>\n",
       "      <td>23.000000</td>\n",
       "      <td>2.000000</td>\n",
       "      <td>3.000000</td>\n",
       "      <td>2.000000</td>\n",
       "      <td>0.000000</td>\n",
       "      <td>0.000000</td>\n",
       "      <td>0.000000</td>\n",
       "      <td>0.000000</td>\n",
       "      <td>0.000000</td>\n",
       "      <td>0.000000</td>\n",
       "      <td>229.000000</td>\n",
       "      <td>270.000000</td>\n",
       "      <td>0.000000</td>\n",
       "      <td>126.000000</td>\n",
       "      <td>0.000000</td>\n",
       "      <td>1.000000</td>\n",
       "    </tr>\n",
       "    <tr>\n",
       "      <th>max</th>\n",
       "      <td>1.000000</td>\n",
       "      <td>737.000000</td>\n",
       "      <td>2017.000000</td>\n",
       "      <td>53.000000</td>\n",
       "      <td>31.000000</td>\n",
       "      <td>19.000000</td>\n",
       "      <td>50.000000</td>\n",
       "      <td>55.000000</td>\n",
       "      <td>10.000000</td>\n",
       "      <td>10.000000</td>\n",
       "      <td>1.000000</td>\n",
       "      <td>26.000000</td>\n",
       "      <td>72.000000</td>\n",
       "      <td>21.000000</td>\n",
       "      <td>535.000000</td>\n",
       "      <td>543.000000</td>\n",
       "      <td>391.000000</td>\n",
       "      <td>5400.000000</td>\n",
       "      <td>8.000000</td>\n",
       "      <td>5.000000</td>\n",
       "    </tr>\n",
       "  </tbody>\n",
       "</table>\n",
       "</div>"
      ],
      "text/plain": [
       "         is_canceled      lead_time  arrival_date_year  \\\n",
       "count  119390.000000  119390.000000      119390.000000   \n",
       "mean        0.370416     104.011416        2016.156554   \n",
       "std         0.482918     106.863097           0.707476   \n",
       "min         0.000000       0.000000        2015.000000   \n",
       "25%         0.000000      18.000000        2016.000000   \n",
       "50%         0.000000      69.000000        2016.000000   \n",
       "75%         1.000000     160.000000        2017.000000   \n",
       "max         1.000000     737.000000        2017.000000   \n",
       "\n",
       "       arrival_date_week_number  arrival_date_day_of_month  \\\n",
       "count             119390.000000              119390.000000   \n",
       "mean                  27.165173                  15.798241   \n",
       "std                   13.605138                   8.780829   \n",
       "min                    1.000000                   1.000000   \n",
       "25%                   16.000000                   8.000000   \n",
       "50%                   28.000000                  16.000000   \n",
       "75%                   38.000000                  23.000000   \n",
       "max                   53.000000                  31.000000   \n",
       "\n",
       "       stays_in_weekend_nights  stays_in_week_nights         adults  \\\n",
       "count            119390.000000         119390.000000  119390.000000   \n",
       "mean                  0.927599              2.500302       1.856403   \n",
       "std                   0.998613              1.908286       0.579261   \n",
       "min                   0.000000              0.000000       0.000000   \n",
       "25%                   0.000000              1.000000       2.000000   \n",
       "50%                   1.000000              2.000000       2.000000   \n",
       "75%                   2.000000              3.000000       2.000000   \n",
       "max                  19.000000             50.000000      55.000000   \n",
       "\n",
       "            children         babies  is_repeated_guest  \\\n",
       "count  119386.000000  119390.000000      119390.000000   \n",
       "mean        0.103890       0.007949           0.031912   \n",
       "std         0.398561       0.097436           0.175767   \n",
       "min         0.000000       0.000000           0.000000   \n",
       "25%         0.000000       0.000000           0.000000   \n",
       "50%         0.000000       0.000000           0.000000   \n",
       "75%         0.000000       0.000000           0.000000   \n",
       "max        10.000000      10.000000           1.000000   \n",
       "\n",
       "       previous_cancellations  previous_bookings_not_canceled  \\\n",
       "count           119390.000000                   119390.000000   \n",
       "mean                 0.087118                        0.137097   \n",
       "std                  0.844336                        1.497437   \n",
       "min                  0.000000                        0.000000   \n",
       "25%                  0.000000                        0.000000   \n",
       "50%                  0.000000                        0.000000   \n",
       "75%                  0.000000                        0.000000   \n",
       "max                 26.000000                       72.000000   \n",
       "\n",
       "       booking_changes          agent      company  days_in_waiting_list  \\\n",
       "count    119390.000000  103050.000000  6797.000000         119390.000000   \n",
       "mean          0.221124      86.693382   189.266735              2.321149   \n",
       "std           0.652306     110.774548   131.655015             17.594721   \n",
       "min           0.000000       1.000000     6.000000              0.000000   \n",
       "25%           0.000000       9.000000    62.000000              0.000000   \n",
       "50%           0.000000      14.000000   179.000000              0.000000   \n",
       "75%           0.000000     229.000000   270.000000              0.000000   \n",
       "max          21.000000     535.000000   543.000000            391.000000   \n",
       "\n",
       "                 adr  required_car_parking_spaces  total_of_special_requests  \n",
       "count  119390.000000                119390.000000              119390.000000  \n",
       "mean      101.831122                     0.062518                   0.571363  \n",
       "std        50.535790                     0.245291                   0.792798  \n",
       "min        -6.380000                     0.000000                   0.000000  \n",
       "25%        69.290000                     0.000000                   0.000000  \n",
       "50%        94.575000                     0.000000                   0.000000  \n",
       "75%       126.000000                     0.000000                   1.000000  \n",
       "max      5400.000000                     8.000000                   5.000000  "
      ]
     },
     "execution_count": 7,
     "metadata": {},
     "output_type": "execute_result"
    }
   ],
   "source": [
    "data.describe()"
   ]
  },
  {
   "cell_type": "markdown",
   "metadata": {},
   "source": [
    "We can see that 37% of the entire is_canceled variable are \"1\". It is a little bit imbalanced but it should not be a huge problem in this case."
   ]
  },
  {
   "cell_type": "markdown",
   "metadata": {},
   "source": [
    "Now lets see the unique values per column:"
   ]
  },
  {
   "cell_type": "code",
   "execution_count": 8,
   "metadata": {},
   "outputs": [
    {
     "name": "stdout",
     "output_type": "stream",
     "text": [
      "hotel - 2\n",
      "['City Hotel' 'Resort Hotel']\n",
      "\n",
      "is_canceled - 2\n",
      "[0 1]\n",
      "\n",
      "lead_time - 479\n",
      "[151  55 104   0 295 203  59 131 292 213 364   1  14   9 137   7 268 152\n",
      " 100 216  51 250  62  22  47 312  69  21 132  70  72   5 189   3  48 101\n",
      "  87  53  75  92  60 187 130 142 193 157  15 155 113 146  35  82 173   6\n",
      " 240 148  19  44 112 236 252 196  54 222  88 150  56  37  29  95  50 241\n",
      "  66 177  32  42 168  26 165  17 304 105 231 106  38 265 201  83  49 140\n",
      "  25 272  18  28  36  41 283 377 224  80  20  12  85  76  33  39 309 286\n",
      " 154 139 245  11 127 302  24   8   2 225  73 350 475  40 391  16 326 170\n",
      " 204  68 119 117 205 120 275  93 107  10 108  34  63  61 147 601 226 394\n",
      "  43  67 153 212 129 211  31  46 264  91 183  98  97 202 167 185 102 339\n",
      "  23 160 228  27 219 124   4 118  13 244 176 247 342 433 145 287  86 393\n",
      " 266 316  77 220 267 178 457  74 386 149  64 327 158 197 276 374 223 125\n",
      " 103 271  58  65 510 109 289 172 164 141 314 192 257 186 134 246 115 251\n",
      " 174 323 238 301 159  96 135 462 166 235 114 298 305 290 344 237 503 256\n",
      "  78 262 136 277 468  99 355  57  79 138 181 356  45 191 207 110 133 163\n",
      " 111 227  84 143  30 199 179 123 253 126 243 587 175 281 320 330 395 420\n",
      " 307 239 325 116 405 210 594 169  94 171 261 162 336  52 423 465 324 414\n",
      " 263 273 128 490 297 367 195 184  89 454 121 180 444 188 337 208 214 368\n",
      " 398 518 206 338 182 410 346 144  90 161 285 274 200 254 293 156 448 288\n",
      " 332 269 538 383 365 260 479 221 278 605 229 626 363 279 190 335 122 348\n",
      " 259 358  71 198 258 496 524 296 233 280 313 232 215 209 300 378 284 249\n",
      " 450 334 351 291  81 308 217 299 328 248 389 230 443 422 343 194 322 545\n",
      " 218 242 379 451 294 255 396 311 321 234 315 317 385 437 303 478 573 447\n",
      " 504 418 352 359 372 580 353 434 341 282 270 507 461 360 306 406 319 333\n",
      " 476 615 388 345 566 318 622 409 384 419 349 397 373 331 542 412 517 467\n",
      " 629 440 407 329 608 429 489 559 426 552 357 310 411 521 382 340 408 361\n",
      " 464 354 390 471 531 376 493 347 482 424 380 403 445 381 460 737 458 366\n",
      " 399 435 709 400 375 362 370 371 463 532 387]\n",
      "\n",
      "arrival_date_year - 3\n",
      "[2017 2015 2016]\n",
      "\n",
      "arrival_date_month - 12\n",
      "['March' 'September' 'July' 'May' 'April' 'October' 'December' 'August'\n",
      " 'January' 'June' 'November' 'February']\n",
      "\n",
      "arrival_date_week_number - 53\n",
      "[12 37 30 19 18 41 52 33 42 20 35 45 50  5 21 29 28 17 26 24 34 48  4 10\n",
      " 14  1 25 23 39 43  3 16 32 15 31 27  7  9  6 44 22 47  8 53 51 13  2 36\n",
      " 49 40 11 38 46]\n",
      "\n",
      "arrival_date_day_of_month - 31\n",
      "[20  6 19 13 28  8  2 22 21 12 16 26 30 10 27 18 17 14 15 29  4  5  3 11\n",
      " 25  7  9 24 23  1 31]\n",
      "\n",
      "stays_in_weekend_nights - 17\n",
      "[ 1  2  0  4  3  5  8  6  7  9 12 10 14 18 16 13 19]\n",
      "\n",
      "stays_in_week_nights - 35\n",
      "[ 1  0  4  2  5  3 10  6  8  7 11  9 20 19 15 14 13 16 24 12 21 26 18 34\n",
      " 30 17 25 22 42 40 41 33 35 32 50]\n",
      "\n",
      "adults - 14\n",
      "[ 2  1  3  0  4 20  6 10 55 27 26  5 50 40]\n",
      "\n",
      "children - 6\n",
      "[ 0.  1.  2.  3. nan 10.]\n",
      "\n",
      "babies - 5\n",
      "[ 0  1  2  9 10]\n",
      "\n",
      "meal - 5\n",
      "['BB' 'HB' 'SC' 'Undefined' 'FB']\n",
      "\n",
      "country - 178\n",
      "['PRT' 'FRA' 'DEU' 'GBR' 'IRL' 'ITA' 'TUR' 'ESP' 'NLD' 'BEL' 'USA' 'AUS'\n",
      " 'AUT' 'CHN' 'LTU' 'DNK' 'FIN' 'SWE' 'CHE' 'IND' 'ARG' 'RUS' 'LBY' 'PER'\n",
      " 'POL' 'BRA' 'LUX' 'TZA' 'ISR' 'ROU' 'STP' 'HUN' 'CN' 'EST' 'MAR' 'NOR'\n",
      " 'NZL' 'KOR' 'HRV' 'AGO' nan 'LVA' 'GRC' 'IRN' 'EGY' 'SAU' 'VEN' 'ZAF'\n",
      " 'VNM' 'MEX' 'KWT' 'MLI' 'BLR' 'TJK' 'IDN' 'PHL' 'SRB' 'JPN' 'MYS' 'COM'\n",
      " 'CZE' 'NIC' 'HKG' 'QAT' 'THA' 'LBN' 'ALB' 'DZA' 'ECU' 'BGR' 'MNE' 'TUN'\n",
      " 'GHA' 'UKR' 'PYF' 'CYP' 'OMN' 'SVN' 'CHL' 'COL' 'GEO' 'GIB' 'SVK' 'SEN'\n",
      " 'NGA' 'SUR' 'TWN' 'MOZ' 'FRO' 'CRI' 'SYC' 'SGP' 'ARE' 'MUS' 'JOR' 'SYR'\n",
      " 'MLT' 'BIH' 'UZB' 'KNA' 'KAZ' 'PAK' 'IRQ' 'BOL' 'ARM' 'URY' 'JEY' 'AND'\n",
      " 'MMR' 'CPV' 'DOM' 'PRI' 'ISL' 'CMR' 'KEN' 'AZE' 'PRY' 'JAM' 'SMR' 'GLP'\n",
      " 'BRB' 'GGY' 'MDV' 'HND' 'ZWE' 'GNB' 'CUB' 'LKA' 'ATA' 'BWA' 'GTM' 'MAC'\n",
      " 'ZMB' 'BHR' 'PAN' 'GAB' 'MKD' 'VGB' 'ABW' 'BGD' 'CYM' 'ETH' 'TMP' 'KHM'\n",
      " 'MCO' 'LAO' 'NAM' 'CIV' 'CAF' 'IMN' 'UMI' 'DJI' 'LIE' 'BHS' 'SLV' 'ASM'\n",
      " 'KIR' 'MDG' 'NCL' 'ATF' 'FJI' 'MRT' 'NPL' 'TGO' 'UGA' 'BEN' 'PLW' 'MWI'\n",
      " 'LCA' 'RWA' 'DMA' 'GUY' 'MYT' 'BDI' 'SLE' 'AIA' 'BFA' 'SDN']\n",
      "\n",
      "market_segment - 8\n",
      "['Groups' 'Online TA' 'Offline TA/TO' 'Direct' 'Corporate' 'Complementary'\n",
      " 'Aviation' 'Undefined']\n",
      "\n",
      "distribution_channel - 5\n",
      "['TA/TO' 'Corporate' 'Direct' 'GDS' 'Undefined']\n",
      "\n",
      "is_repeated_guest - 2\n",
      "[0 1]\n",
      "\n",
      "previous_cancellations - 15\n",
      "[ 0  1 24 19  2  6  3  4 14 26 11 13 25  5 21]\n",
      "\n",
      "previous_bookings_not_canceled - 73\n",
      "[ 0  3  1 14  2  5  4  6 21 70  7 13  8 11 12 10 62 22 15 18 25 28 59  9\n",
      " 27 19 46 16 17 63 20 24 23 26 45 32 43 66 64 44 30 72 42 61 49 29 58 35\n",
      " 36 67 68 56 47 51 48 31 38 33 71 50 40 55 60 69 54 65 53 52 34 37 39 41\n",
      " 57]\n",
      "\n",
      "reserved_room_type - 10\n",
      "['A' 'D' 'E' 'G' 'C' 'F' 'B' 'P' 'H' 'L']\n",
      "\n",
      "assigned_room_type - 12\n",
      "['A' 'B' 'C' 'D' 'E' 'G' 'I' 'F' 'H' 'P' 'K' 'L']\n",
      "\n",
      "booking_changes - 21\n",
      "[ 0  1  3  2  4  5  6  7 16  8 10 15  9 14 17 13 20 11 12 18 21]\n",
      "\n",
      "deposit_type - 3\n",
      "['No Deposit' 'Non Refund' 'Refundable']\n",
      "\n",
      "agent - 334\n",
      "[ 37.   1. 240.  nan  79.   9. 314.   6. 250.  14.  29. 242. 385. 531.\n",
      " 241. 298.  20.  83.   3. 229. 177.  19.  28. 273.  26. 308.  21.  68.\n",
      " 171. 195.   7.  22. 339.  27.  38. 248.   5.  12.  40. 509. 368.  15.\n",
      "  47. 156. 175. 134.   8. 154. 326. 115. 220.  89.  11.  42. 367. 288.\n",
      " 310.  44. 223.  86.  30. 243.   2. 119.  67. 527. 152. 138.  96. 410.\n",
      " 143.  98. 332. 236. 286.  17. 196. 191. 146. 182. 168. 334.  66.  31.\n",
      " 315.  85.  10. 155. 305. 371. 235. 330. 181. 208. 142. 393. 253.  35.\n",
      "  77.  82. 205. 104. 153. 394.  34.  58. 180. 325. 184. 173. 378.  52.\n",
      "  56.  95. 170. 174.  16. 132. 162. 436. 354. 126.  87.  39. 440.  57.\n",
      " 105.  60. 234.  88. 405. 249.  36. 262. 411. 427.  99. 193. 185. 493.\n",
      " 251.   4. 423. 281. 344.  91. 183. 348. 187. 201.  78. 474. 375. 333.\n",
      " 484. 307.  63. 313. 159. 464. 397. 495.  75. 390. 360. 245. 387. 110.\n",
      "  94. 118. 133. 147. 296. 335. 350.  69.  13.  74. 112. 406. 197.  32.\n",
      "  81.  41. 467. 433. 192. 306. 150. 139. 441. 388. 151. 285. 261. 283.\n",
      "  50. 430.  33. 418. 327.  71. 479. 492.  45. 127. 468. 425. 215. 290.\n",
      " 323. 121. 219. 429.  23.  53. 103. 363. 254. 135. 455. 276. 256. 210.\n",
      " 157. 502. 336.  64. 163. 167. 434. 232. 359. 244. 510. 358. 214.  24.\n",
      " 111. 149. 364.  72. 391. 416. 294. 303. 128.  92.  55. 257. 304. 129.\n",
      " 384. 141. 481. 526. 252. 370. 475. 449. 352. 258.  25. 469. 459. 106.\n",
      "  73. 287. 227. 179. 144. 453. 426. 289. 341. 508. 476. 461. 480. 275.\n",
      " 282. 211. 148. 216. 535. 355. 328. 270. 324. 302. 114. 446. 295. 117.\n",
      "  70. 497.  59.  93. 337.  61. 267. 331. 403. 472. 454. 444. 299. 278.\n",
      " 483. 432. 408. 414. 158. 420. 213. 300. 291. 107. 431. 265.  90. 404.\n",
      " 321. 269. 438. 280.  54. 122. 451. 450. 301. 346. 247. 165.]\n",
      "\n",
      "company - 353\n",
      "[ nan 223. 197.  67. 110.  82.  40. 348. 195. 221. 492. 107. 304. 407.\n",
      " 347.  20. 421. 360. 227. 281. 270.  94.  43. 174. 169. 219.  86. 148.\n",
      " 337. 153.  31. 251. 217. 218. 122. 274. 498. 405.  45. 408. 331. 167.\n",
      " 309.  51. 392. 154. 238. 287. 280.  78. 216. 367. 135. 424. 202. 355.\n",
      "  12. 302. 305. 308.  91. 179. 446. 539. 380.  28. 525. 229.   9. 323.\n",
      " 186.  38.  92.  47. 428. 342. 311. 233. 504.  62. 144.  88.  68. 365.\n",
      "  72. 178. 397. 292. 105. 307. 460. 343. 479. 120.  83. 130. 263. 523.\n",
      " 314. 143.  93. 112. 330. 242. 409. 346. 264. 209. 452. 443. 396. 395.\n",
      " 418. 329. 250. 286. 103. 433. 394. 203. 282.  53. 371. 520. 450. 512.\n",
      " 269. 477. 260. 351. 108.  46. 277. 379. 388. 385. 507. 470. 416. 291.\n",
      "  59.  34.  14. 259. 349. 168. 204. 435. 425. 333. 193.  81. 382. 254.\n",
      " 163.  37. 137.  85. 465. 150. 485. 113. 272. 422. 366. 183.  99. 390.\n",
      " 444. 268.  48.  11. 399. 338.  80.  73. 118. 200. 518. 357. 127. 341.\n",
      " 410. 384. 456. 486. 279. 437. 332. 271. 448. 383. 516. 149. 288.  16.\n",
      " 420. 180. 377.  64.  84. 215. 290. 101. 515. 207. 225. 132. 115. 531.\n",
      " 369. 350. 222. 159. 356. 273. 146. 439. 142. 484.  35.  42. 257. 316.\n",
      " 255. 185.   6. 334. 521. 458. 230.  22. 436. 466. 358. 482. 490. 415.\n",
      " 496. 376. 210. 534. 506. 530. 220. 140. 289.  39. 489. 429. 104. 478.\n",
      " 459. 160. 317. 224. 513. 232. 481. 243. 324. 370.  49. 293. 116.  52.\n",
      " 165. 511. 528. 400. 364. 514. 246. 445. 213. 106. 126. 393. 426. 361.\n",
      " 158. 258.  71. 278. 192. 494. 275. 319. 212. 297.  77. 352.  18. 245.\n",
      " 457. 253. 312. 499. 378.  29. 372. 373.  65. 240. 455. 491. 320. 353.\n",
      " 284. 362. 402. 451. 391. 401.  54. 483. 313.  10. 423. 139. 321. 368.\n",
      " 442. 501. 184. 412. 325. 454. 497. 447. 403. 413. 102. 237. 417. 100.\n",
      " 411.  76. 109. 543.  96. 318. 487.  61. 419.  32. 234. 301.   8. 398.\n",
      " 461. 541. 386.]\n",
      "\n",
      "days_in_waiting_list - 128\n",
      "[  0  45  41  10  44 122  87  15  70  11  77   3 176  96  42 224 259  39\n",
      "  46  62  58  28  17  50 160  25 108 215  91  63  69  57  48 236 101   9\n",
      "  31 125 111  68  49   6  38   4 207  80  40 223  79  55  85  93  60  22\n",
      "  56  98  61 150  19 120   1  43  24  53 379 113 162  34  74  75  84 391\n",
      "  20  35 330  59  71  65  32  76  21  27  26  99 178 187  14  13  97   5\n",
      "  33 147 175  83   2  23  18   7  47  30   8 105  64  92 174 107  81 185\n",
      " 121 167  16  12 183  73 154 142  37  72 165 100  54 193  89  36 109  52\n",
      " 117 116]\n",
      "\n",
      "customer_type - 4\n",
      "['Transient-Party' 'Transient' 'Contract' 'Group']\n",
      "\n",
      "adr - 8879\n",
      "[ 95.    75.   115.   ... 255.84 208.02  65.64]\n",
      "\n",
      "required_car_parking_spaces - 5\n",
      "[0 1 2 3 8]\n",
      "\n",
      "total_of_special_requests - 6\n",
      "[1 0 2 3 4 5]\n",
      "\n",
      "reservation_status - 3\n",
      "['Check-Out' 'Canceled' 'No-Show']\n",
      "\n",
      "reservation_status_date - 926\n",
      "['2017-03-22' '2015-09-08' '2015-07-02' '2017-05-14' '2015-10-21'\n",
      " '2016-10-11' '2016-08-24' '2015-12-02' '2016-07-23' '2016-06-19'\n",
      " '2016-10-17' '2017-05-17' '2016-08-28' '2016-10-31' '2016-12-14'\n",
      " '2015-10-27' '2016-05-19' '2017-07-14' '2017-07-15' '2016-07-17'\n",
      " '2017-05-02' '2016-12-07' '2017-05-12' '2017-06-19' '2016-10-19'\n",
      " '2017-08-27' '2015-11-26' '2016-01-25' '2017-03-12' '2017-01-27'\n",
      " '2016-01-16' '2017-04-14' '2016-06-05' '2015-09-21' '2016-10-26'\n",
      " '2017-01-17' '2016-04-11' '2016-08-04' '2016-02-04' '2015-09-09'\n",
      " '2016-10-07' '2017-05-23' '2015-08-28' '2017-08-28' '2016-08-27'\n",
      " '2015-12-15' '2016-05-21' '2016-07-31' '2017-06-27' '2016-03-07'\n",
      " '2016-02-09' '2016-12-12' '2015-12-18' '2016-10-05' '2016-02-05'\n",
      " '2016-05-04' '2016-12-11' '2017-07-11' '2015-12-12' '2016-07-12'\n",
      " '2017-05-08' '2016-02-13' '2016-10-30' '2016-06-03' '2016-05-11'\n",
      " '2016-10-22' '2016-05-02' '2016-11-03' '2016-10-18' '2015-08-21'\n",
      " '2017-03-15' '2016-11-04' '2015-12-27' '2015-09-07' '2017-07-09'\n",
      " '2016-10-21' '2016-01-20' '2016-07-11' '2016-11-18' '2017-09-01'\n",
      " '2015-09-13' '2017-02-28' '2016-01-03' '2015-12-31' '2016-02-01'\n",
      " '2016-10-15' '2016-12-19' '2016-01-22' '2015-09-23' '2015-10-22'\n",
      " '2016-04-19' '2017-08-05' '2016-09-02' '2016-11-25' '2016-05-20'\n",
      " '2017-07-19' '2015-12-06' '2015-11-21' '2015-11-17' '2017-04-26'\n",
      " '2017-07-10' '2017-01-29' '2017-07-02' '2015-08-09' '2015-09-22'\n",
      " '2016-10-28' '2015-10-12' '2016-10-16' '2017-05-28' '2017-02-21'\n",
      " '2017-07-06' '2017-05-30' '2015-07-13' '2017-01-02' '2017-03-27'\n",
      " '2016-01-10' '2015-11-05' '2016-01-21' '2017-04-04' '2017-06-17'\n",
      " '2017-05-06' '2016-09-20' '2016-07-02' '2017-03-29' '2017-03-16'\n",
      " '2016-04-04' '2016-12-26' '2017-01-24' '2015-07-31' '2016-12-24'\n",
      " '2016-02-10' '2015-08-29' '2017-01-12' '2016-01-28' '2017-04-28'\n",
      " '2017-05-25' '2016-05-27' '2016-06-25' '2015-09-30' '2017-08-04'\n",
      " '2015-08-11' '2015-08-15' '2017-07-01' '2016-10-13' '2017-08-25'\n",
      " '2016-09-27' '2016-12-15' '2016-06-30' '2016-10-03' '2016-05-18'\n",
      " '2016-03-03' '2016-11-19' '2017-03-01' '2016-02-14' '2016-06-16'\n",
      " '2016-02-26' '2015-10-11' '2016-10-06' '2017-08-15' '2015-06-19'\n",
      " '2016-11-20' '2016-03-30' '2015-12-19' '2016-12-30' '2016-05-13'\n",
      " '2015-12-29' '2017-04-11' '2016-06-06' '2017-02-19' '2015-11-04'\n",
      " '2016-04-29' '2016-07-19' '2017-02-13' '2016-01-14' '2017-05-04'\n",
      " '2016-01-17' '2017-06-22' '2016-07-01' '2016-04-17' '2017-07-28'\n",
      " '2015-07-16' '2016-07-18' '2016-02-06' '2015-08-12' '2015-07-10'\n",
      " '2016-09-19' '2017-06-20' '2015-09-14' '2015-07-03' '2016-09-12'\n",
      " '2017-04-02' '2017-03-13' '2016-07-10' '2016-01-06' '2016-04-20'\n",
      " '2017-08-16' '2016-05-17' '2016-03-11' '2016-07-05' '2015-04-16'\n",
      " '2015-11-11' '2017-04-16' '2016-03-24' '2017-04-21' '2017-01-16'\n",
      " '2016-04-03' '2015-12-09' '2017-06-03' '2016-09-21' '2017-02-16'\n",
      " '2015-11-20' '2016-11-21' '2015-10-16' '2015-09-11' '2015-07-22'\n",
      " '2016-04-08' '2017-05-21' '2017-07-07' '2016-05-05' '2017-01-19'\n",
      " '2016-07-15' '2016-07-04' '2016-10-23' '2015-11-16' '2017-02-02'\n",
      " '2016-06-26' '2016-09-08' '2017-06-02' '2015-10-19' '2017-05-20'\n",
      " '2016-09-25' '2017-04-17' '2015-08-13' '2015-10-20' '2016-08-29'\n",
      " '2017-01-28' '2016-05-23' '2016-05-16' '2017-08-17' '2016-08-25'\n",
      " '2016-12-10' '2017-03-28' '2016-04-30' '2016-08-13' '2017-02-08'\n",
      " '2016-05-29' '2016-11-14' '2017-04-30' '2015-09-28' '2016-11-11'\n",
      " '2017-05-18' '2016-08-14' '2015-11-06' '2017-03-24' '2017-08-30'\n",
      " '2017-03-11' '2016-08-03' '2016-06-09' '2016-01-07' '2017-03-25'\n",
      " '2016-08-22' '2015-11-22' '2016-12-13' '2015-11-30' '2016-02-02'\n",
      " '2015-08-19' '2015-12-30' '2016-10-12' '2017-07-29' '2016-03-15'\n",
      " '2017-04-29' '2016-06-11' '2015-01-01' '2016-08-30' '2017-07-27'\n",
      " '2017-08-10' '2016-11-23' '2016-03-02' '2017-01-15' '2016-09-07'\n",
      " '2016-02-22' '2016-01-31' '2017-03-21' '2016-08-15' '2015-09-16'\n",
      " '2016-09-30' '2017-02-15' '2017-01-21' '2017-05-05' '2016-04-21'\n",
      " '2015-12-07' '2015-12-08' '2016-07-09' '2015-07-19' '2015-11-23'\n",
      " '2017-03-05' '2015-09-19' '2016-02-15' '2016-01-26' '2017-05-27'\n",
      " '2017-08-29' '2016-03-06' '2016-04-15' '2017-02-10' '2017-08-24'\n",
      " '2017-05-13' '2017-08-26' '2016-07-29' '2016-01-18' '2016-02-17'\n",
      " '2016-03-19' '2017-08-11' '2017-02-09' '2017-02-01' '2017-02-24'\n",
      " '2017-07-13' '2016-05-14' '2016-08-10' '2016-01-12' '2017-01-09'\n",
      " '2016-11-16' '2016-10-01' '2016-06-27' '2016-09-23' '2016-03-29'\n",
      " '2015-07-06' '2017-02-14' '2017-02-12' '2016-03-22' '2017-06-08'\n",
      " '2016-11-12' '2016-12-08' '2016-07-21' '2016-07-24' '2015-11-15'\n",
      " '2016-01-15' '2016-07-07' '2015-09-25' '2015-06-17' '2016-06-07'\n",
      " '2017-06-18' '2016-02-18' '2017-08-22' '2016-07-13' '2016-06-20'\n",
      " '2017-08-09' '2016-09-18' '2015-08-20' '2016-03-17' '2016-11-02'\n",
      " '2016-08-07' '2017-05-07' '2015-11-29' '2017-06-29' '2017-08-13'\n",
      " '2017-06-30' '2015-07-18' '2016-03-18' '2015-10-04' '2017-06-06'\n",
      " '2016-02-27' '2015-09-01' '2016-12-02' '2017-02-22' '2017-06-26'\n",
      " '2017-04-01' '2017-01-06' '2016-08-20' '2015-07-23' '2016-11-10'\n",
      " '2016-04-14' '2017-04-27' '2017-08-06' '2015-07-29' '2016-06-17'\n",
      " '2017-09-03' '2015-10-09' '2017-07-25' '2015-07-14' '2015-07-24'\n",
      " '2017-07-16' '2015-09-03' '2017-03-09' '2017-01-31' '2016-07-27'\n",
      " '2015-04-29' '2015-09-27' '2015-07-09' '2015-10-13' '2016-10-14'\n",
      " '2017-05-11' '2016-09-09' '2016-02-21' '2016-06-02' '2015-09-04'\n",
      " '2016-12-20' '2016-07-28' '2015-10-02' '2016-06-23' '2017-01-13'\n",
      " '2016-09-11' '2015-09-29' '2016-11-24' '2016-01-29' '2017-07-24'\n",
      " '2016-02-25' '2017-02-17' '2016-03-26' '2017-03-18' '2015-09-05'\n",
      " '2015-07-26' '2016-11-27' '2017-02-05' '2017-04-12' '2016-12-09'\n",
      " '2017-03-06' '2015-08-26' '2017-01-18' '2017-04-05' '2015-12-13'\n",
      " '2016-06-12' '2017-02-25' '2017-05-16' '2016-05-25' '2016-03-08'\n",
      " '2015-10-03' '2015-05-05' '2017-02-20' '2015-08-16' '2016-04-06'\n",
      " '2016-07-06' '2016-09-05' '2016-05-01' '2016-03-05' '2016-01-23'\n",
      " '2016-12-21' '2015-10-30' '2017-04-06' '2017-08-19' '2015-10-01'\n",
      " '2017-05-01' '2017-07-04' '2017-06-16' '2015-08-31' '2016-04-26'\n",
      " '2015-10-06' '2014-10-17' '2016-03-31' '2016-11-07' '2017-03-30'\n",
      " '2016-04-28' '2015-07-17' '2017-04-22' '2016-07-25' '2016-11-22'\n",
      " '2016-05-08' '2016-05-03' '2017-03-31' '2016-05-09' '2017-02-23'\n",
      " '2016-04-10' '2017-03-19' '2015-10-05' '2017-07-17' '2017-01-26'\n",
      " '2015-10-28' '2017-02-27' '2016-05-10' '2017-05-22' '2016-04-01'\n",
      " '2016-05-06' '2016-02-16' '2016-07-16' '2017-07-21' '2016-04-12'\n",
      " '2017-07-12' '2015-06-16' '2017-02-11' '2015-08-18' '2016-05-30'\n",
      " '2016-01-27' '2016-04-09' '2016-08-26' '2016-04-23' '2017-06-11'\n",
      " '2016-03-28' '2017-01-04' '2016-10-09' '2016-09-14' '2016-12-06'\n",
      " '2016-12-04' '2017-06-14' '2017-07-26' '2017-06-01' '2015-12-20'\n",
      " '2017-01-25' '2015-05-25' '2016-06-21' '2016-09-17' '2016-10-20'\n",
      " '2016-11-13' '2017-01-08' '2016-02-29' '2017-03-03' '2015-10-14'\n",
      " '2016-10-04' '2017-06-12' '2015-06-30' '2015-09-10' '2017-04-09'\n",
      " '2016-08-12' '2017-07-22' '2017-01-20' '2015-10-18' '2017-03-26'\n",
      " '2015-06-15' '2015-12-01' '2016-03-04' '2015-09-02' '2016-04-05'\n",
      " '2016-02-24' '2015-02-05' '2017-04-23' '2017-06-24' '2016-11-06'\n",
      " '2016-01-08' '2017-02-07' '2016-05-24' '2017-06-10' '2016-08-16'\n",
      " '2016-01-04' '2015-07-25' '2016-06-22' '2016-11-17' '2017-06-28'\n",
      " '2017-03-04' '2015-11-19' '2015-10-31' '2015-10-15' '2017-04-19'\n",
      " '2016-09-15' '2017-08-01' '2016-10-02' '2015-11-27' '2015-12-28'\n",
      " '2016-08-23' '2017-03-17' '2016-08-19' '2017-09-09' '2016-04-27'\n",
      " '2015-09-06' '2015-08-04' '2016-08-02' '2015-10-08' '2015-07-12'\n",
      " '2015-09-26' '2016-10-27' '2016-07-26' '2016-02-20' '2015-10-25'\n",
      " '2017-03-10' '2017-01-05' '2016-03-09' '2017-06-23' '2017-04-13'\n",
      " '2016-09-16' '2017-09-02' '2015-10-26' '2015-12-03' '2016-08-21'\n",
      " '2016-03-14' '2015-11-13' '2016-03-10' '2017-03-20' '2016-10-10'\n",
      " '2016-02-28' '2015-10-23' '2016-06-29' '2016-03-27' '2017-05-15'\n",
      " '2017-01-07' '2017-05-29' '2017-04-24' '2016-12-27' '2016-07-08'\n",
      " '2016-05-22' '2015-08-08' '2016-11-15' '2016-11-28' '2015-12-04'\n",
      " '2016-11-09' '2017-08-03' '2015-06-09' '2016-05-26' '2016-03-01'\n",
      " '2015-11-25' '2016-11-05' '2016-02-19' '2017-07-31' '2015-05-19'\n",
      " '2016-10-25' '2017-04-18' '2016-02-11' '2017-03-23' '2016-06-24'\n",
      " '2016-04-24' '2016-06-15' '2016-07-22' '2017-02-06' '2017-01-10'\n",
      " '2016-08-11' '2016-03-13' '2016-09-24' '2016-04-25' '2016-09-04'\n",
      " '2017-06-05' '2016-11-01' '2016-08-05' '2017-01-11' '2015-12-17'\n",
      " '2016-10-29' '2016-04-07' '2015-07-28' '2015-11-18' '2016-04-13'\n",
      " '2015-08-06' '2016-12-18' '2016-12-03' '2015-12-21' '2015-12-14'\n",
      " '2015-08-22' '2017-05-09' '2017-02-26' '2016-07-20' '2016-08-06'\n",
      " '2016-02-23' '2017-09-04' '2016-06-18' '2016-12-16' '2016-12-28'\n",
      " '2016-09-10' '2016-06-08' '2017-03-02' '2016-03-16' '2016-01-13'\n",
      " '2016-01-19' '2017-06-04' '2017-08-12' '2015-09-20' '2016-01-05'\n",
      " '2015-08-10' '2016-05-31' '2017-04-15' '2015-11-28' '2017-05-10'\n",
      " '2016-06-13' '2015-12-22' '2015-06-24' '2015-10-07' '2016-04-22'\n",
      " '2015-12-23' '2016-08-17' '2015-08-23' '2016-07-30' '2016-12-29'\n",
      " '2015-01-30' '2017-02-03' '2015-12-11' '2016-09-06' '2015-06-22'\n",
      " '2015-07-08' '2017-05-24' '2017-01-01' '2016-07-03' '2017-07-30'\n",
      " '2017-04-10' '2017-04-20' '2015-08-01' '2015-12-26' '2016-03-20'\n",
      " '2015-08-02' '2015-12-10' '2016-09-26' '2017-05-03' '2016-10-24'\n",
      " '2017-04-08' '2015-09-24' '2017-08-20' '2016-02-08' '2015-06-08'\n",
      " '2016-01-09' '2016-11-30' '2017-05-19' '2017-03-08' '2015-07-30'\n",
      " '2015-11-03' '2017-08-02' '2016-11-26' '2016-05-12' '2015-08-27'\n",
      " '2015-01-21' '2015-07-21' '2017-08-31' '2016-08-08' '2016-09-13'\n",
      " '2016-07-14' '2015-11-01' '2016-09-28' '2017-04-03' '2017-04-07'\n",
      " '2016-10-08' '2016-09-03' '2015-10-10' '2016-12-22' '2016-06-14'\n",
      " '2015-09-12' '2015-07-01' '2015-05-18' '2015-12-05' '2015-10-17'\n",
      " '2016-02-12' '2015-09-15' '2017-07-18' '2016-03-12' '2017-06-09'\n",
      " '2015-07-27' '2017-01-30' '2016-08-31' '2016-06-01' '2016-02-03'\n",
      " '2015-09-17' '2015-11-09' '2016-04-16' '2017-08-21' '2016-12-23'\n",
      " '2016-01-01' '2015-11-14' '2016-04-18' '2016-09-01' '2016-08-01'\n",
      " '2015-06-26' '2015-04-24' '2017-01-22' '2016-09-22' '2015-08-17'\n",
      " '2017-07-05' '2015-06-23' '2016-03-23' '2015-05-29' '2015-11-10'\n",
      " '2017-04-25' '2017-05-26' '2016-05-07' '2015-06-01' '2015-12-16'\n",
      " '2017-07-23' '2016-01-30' '2015-08-25' '2017-08-18' '2015-11-07'\n",
      " '2015-04-02' '2017-02-04' '2015-03-17' '2015-07-07' '2015-08-24'\n",
      " '2017-07-20' '2015-12-25' '2016-06-28' '2017-01-03' '2017-08-23'\n",
      " '2015-08-07' '2016-04-02' '2015-10-29' '2017-07-08' '2015-11-02'\n",
      " '2016-08-18' '2015-08-14' '2015-10-24' '2015-07-20' '2017-08-14'\n",
      " '2016-01-02' '2017-06-13' '2016-11-08' '2015-11-24' '2017-06-15'\n",
      " '2015-05-09' '2017-03-14' '2015-08-03' '2017-06-25' '2016-03-21'\n",
      " '2015-08-30' '2016-03-25' '2016-08-09' '2015-11-08' '2015-07-11'\n",
      " '2017-07-03' '2015-05-14' '2017-06-07' '2016-05-15' '2016-06-04'\n",
      " '2016-01-24' '2016-02-07' '2017-08-07' '2016-11-29' '2017-05-31'\n",
      " '2016-12-25' '2015-04-28' '2015-08-05' '2017-01-23' '2016-09-29'\n",
      " '2016-12-17' '2017-09-05' '2015-07-15' '2016-12-05' '2016-05-28'\n",
      " '2017-02-18' '2016-06-10' '2015-06-11' '2015-03-25' '2015-06-27'\n",
      " '2015-05-01' '2017-06-21' '2015-05-12' '2015-06-29' '2017-01-14'\n",
      " '2017-03-07' '2017-08-08' '2015-04-25' '2015-07-05' '2015-01-28'\n",
      " '2017-09-07' '2016-01-11' '2015-09-18' '2016-12-31' '2015-01-02'\n",
      " '2015-05-22' '2015-11-12' '2015-05-28' '2015-03-05' '2015-03-03'\n",
      " '2015-06-06' '2015-06-03' '2015-05-13' '2016-12-01' '2015-02-20'\n",
      " '2017-09-06' '2015-02-02' '2015-04-10' '2015-06-25' '2015-04-06'\n",
      " '2015-04-18' '2015-05-11' '2015-04-15' '2015-05-07' '2015-06-05'\n",
      " '2015-06-04' '2015-05-08' '2015-04-03' '2015-05-04' '2015-05-06'\n",
      " '2015-04-04' '2015-12-24' '2015-06-13' '2015-04-22' '2015-03-31'\n",
      " '2015-02-24' '2015-04-08' '2015-01-20' '2015-07-04' '2015-04-23'\n",
      " '2017-09-08' '2015-03-24' '2015-05-16' '2015-02-09' '2015-04-05'\n",
      " '2015-02-06' '2015-03-06' '2015-05-23' '2015-06-12' '2015-05-20'\n",
      " '2015-04-20' '2015-05-21' '2014-11-18' '2015-02-17' '2015-06-02'\n",
      " '2015-04-27' '2015-05-15' '2017-09-12' '2017-09-14' '2015-06-20'\n",
      " '2015-06-10' '2015-03-30' '2015-05-26' '2015-03-23' '2015-05-27'\n",
      " '2015-01-22' '2015-03-12' '2015-04-14' '2015-02-10' '2015-06-18'\n",
      " '2015-03-11' '2015-03-09' '2015-04-07' '2015-04-30' '2015-05-30'\n",
      " '2015-01-29' '2015-02-19' '2015-04-11' '2015-02-27' '2015-04-17'\n",
      " '2017-09-10' '2015-02-11' '2015-01-18' '2015-03-04' '2015-03-13'\n",
      " '2015-03-18' '2015-04-13' '2015-06-14' '2015-02-25' '2015-03-10'\n",
      " '2015-02-23' '2015-03-28' '2015-02-26' '2015-02-12' '2015-03-29'\n",
      " '2015-04-21']\n",
      "\n"
     ]
    }
   ],
   "source": [
    "for column in data:\n",
    "    print(f'{column} - {len(data[column].unique())}')\n",
    "    print(data[column].unique())\n",
    "    print()"
   ]
  },
  {
   "cell_type": "markdown",
   "metadata": {},
   "source": [
    "Missing Values"
   ]
  },
  {
   "cell_type": "code",
   "execution_count": 9,
   "metadata": {},
   "outputs": [
    {
     "data": {
      "text/plain": [
       "children     0.003350\n",
       "country      0.408744\n",
       "agent       13.686238\n",
       "company     94.306893\n",
       "dtype: float64"
      ]
     },
     "execution_count": 9,
     "metadata": {},
     "output_type": "execute_result"
    }
   ],
   "source": [
    "a = data.isna().mean()*100\n",
    "a[a>0]"
   ]
  },
  {
   "cell_type": "code",
   "execution_count": 10,
   "metadata": {},
   "outputs": [
    {
     "data": {
      "text/plain": [
       "children         4\n",
       "country        488\n",
       "agent        16340\n",
       "company     112593\n",
       "dtype: int64"
      ]
     },
     "execution_count": 10,
     "metadata": {},
     "output_type": "execute_result"
    }
   ],
   "source": [
    "a = data.isna().sum()\n",
    "a[a>0]"
   ]
  },
  {
   "cell_type": "markdown",
   "metadata": {},
   "source": [
    "Distributions"
   ]
  },
  {
   "cell_type": "code",
   "execution_count": 11,
   "metadata": {},
   "outputs": [
    {
     "data": {
      "text/plain": [
       "Index(['is_canceled', 'lead_time', 'arrival_date_year',\n",
       "       'arrival_date_week_number', 'arrival_date_day_of_month',\n",
       "       'stays_in_weekend_nights', 'stays_in_week_nights', 'adults', 'children',\n",
       "       'babies', 'is_repeated_guest', 'previous_cancellations',\n",
       "       'previous_bookings_not_canceled', 'booking_changes', 'agent', 'company',\n",
       "       'days_in_waiting_list', 'adr', 'required_car_parking_spaces',\n",
       "       'total_of_special_requests'],\n",
       "      dtype='object')"
      ]
     },
     "execution_count": 11,
     "metadata": {},
     "output_type": "execute_result"
    }
   ],
   "source": [
    "numeric_columns = data.select_dtypes(include=np.number).columns\n",
    "numeric_columns"
   ]
  },
  {
   "cell_type": "code",
   "execution_count": 12,
   "metadata": {},
   "outputs": [
    {
     "data": {
      "text/plain": [
       "Index(['hotel', 'arrival_date_month', 'meal', 'country', 'market_segment',\n",
       "       'distribution_channel', 'reserved_room_type', 'assigned_room_type',\n",
       "       'deposit_type', 'customer_type', 'reservation_status',\n",
       "       'reservation_status_date'],\n",
       "      dtype='object')"
      ]
     },
     "execution_count": 12,
     "metadata": {},
     "output_type": "execute_result"
    }
   ],
   "source": [
    "non_numeric_columns = data.select_dtypes(exclude=np.number).columns\n",
    "non_numeric_columns"
   ]
  },
  {
   "cell_type": "markdown",
   "metadata": {},
   "source": [
    "Numeric Columns:"
   ]
  },
  {
   "cell_type": "code",
   "execution_count": 13,
   "metadata": {
    "scrolled": true
   },
   "outputs": [
    {
     "name": "stdout",
     "output_type": "stream",
     "text": [
      "Column: is_canceled\n",
      "Unique values: 2\n"
     ]
    },
    {
     "data": {
      "image/png": "[encoded data removed]",
      "text/plain": [
       "<Figure size 432x288 with 1 Axes>"
      ]
     },
     "metadata": {
      "needs_background": "light"
     },
     "output_type": "display_data"
    },
    {
     "name": "stdout",
     "output_type": "stream",
     "text": [
      "Column: lead_time\n",
      "Unique values: 479\n"
     ]
    },
    {
     "data": {
      "image/png": "[encoded data removed]",
      "text/plain": [
       "<Figure size 432x288 with 1 Axes>"
      ]
     },
     "metadata": {
      "needs_background": "light"
     },
     "output_type": "display_data"
    },
    {
     "name": "stdout",
     "output_type": "stream",
     "text": [
      "Column: arrival_date_year\n",
      "Unique values: 3\n"
     ]
    },
    {
     "data": {
      "image/png": "[encoded data removed]",
      "text/plain": [
       "<Figure size 432x288 with 1 Axes>"
      ]
     },
     "metadata": {
      "needs_background": "light"
     },
     "output_type": "display_data"
    },
    {
     "name": "stdout",
     "output_type": "stream",
     "text": [
      "Column: arrival_date_week_number\n",
      "Unique values: 53\n"
     ]
    },
    {
     "data": {
      "image/png": "[encoded data removed]",
      "text/plain": [
       "<Figure size 432x288 with 1 Axes>"
      ]
     },
     "metadata": {
      "needs_background": "light"
     },
     "output_type": "display_data"
    },
    {
     "name": "stdout",
     "output_type": "stream",
     "text": [
      "Column: arrival_date_day_of_month\n",
      "Unique values: 31\n"
     ]
    },
    {
     "data": {
      "image/png": "[encoded data removed]",
      "text/plain": [
       "<Figure size 432x288 with 1 Axes>"
      ]
     },
     "metadata": {
      "needs_background": "light"
     },
     "output_type": "display_data"
    },
    {
     "name": "stdout",
     "output_type": "stream",
     "text": [
      "Column: stays_in_weekend_nights\n",
      "Unique values: 17\n"
     ]
    },
    {
     "data": {
      "image/png": "[encoded data removed]",
      "text/plain": [
       "<Figure size 432x288 with 1 Axes>"
      ]
     },
     "metadata": {
      "needs_background": "light"
     },
     "output_type": "display_data"
    },
    {
     "name": "stdout",
     "output_type": "stream",
     "text": [
      "Column: stays_in_week_nights\n",
      "Unique values: 35\n"
     ]
    },
    {
     "data": {
      "image/png": "[encoded data removed]",
      "text/plain": [
       "<Figure size 432x288 with 1 Axes>"
      ]
     },
     "metadata": {
      "needs_background": "light"
     },
     "output_type": "display_data"
    },
    {
     "name": "stdout",
     "output_type": "stream",
     "text": [
      "Column: adults\n",
      "Unique values: 14\n"
     ]
    },
    {
     "data": {
      "image/png": "[encoded data removed]",
      "text/plain": [
       "<Figure size 432x288 with 1 Axes>"
      ]
     },
     "metadata": {
      "needs_background": "light"
     },
     "output_type": "display_data"
    },
    {
     "name": "stdout",
     "output_type": "stream",
     "text": [
      "Column: children\n",
      "Unique values: 6\n"
     ]
    },
    {
     "data": {
      "image/png": "[encoded data removed]",
      "text/plain": [
       "<Figure size 432x288 with 1 Axes>"
      ]
     },
     "metadata": {
      "needs_background": "light"
     },
     "output_type": "display_data"
    },
    {
     "name": "stdout",
     "output_type": "stream",
     "text": [
      "Column: babies\n",
      "Unique values: 5\n"
     ]
    },
    {
     "data": {
      "image/png": "[encoded data removed]",
      "text/plain": [
       "<Figure size 432x288 with 1 Axes>"
      ]
     },
     "metadata": {
      "needs_background": "light"
     },
     "output_type": "display_data"
    },
    {
     "name": "stdout",
     "output_type": "stream",
     "text": [
      "Column: is_repeated_guest\n",
      "Unique values: 2\n"
     ]
    },
    {
     "data": {
      "image/png": "[encoded data removed]",
      "text/plain": [
       "<Figure size 432x288 with 1 Axes>"
      ]
     },
     "metadata": {
      "needs_background": "light"
     },
     "output_type": "display_data"
    },
    {
     "name": "stdout",
     "output_type": "stream",
     "text": [
      "Column: previous_cancellations\n",
      "Unique values: 15\n"
     ]
    },
    {
     "data": {
      "image/png": "[encoded data removed]",
      "text/plain": [
       "<Figure size 432x288 with 1 Axes>"
      ]
     },
     "metadata": {
      "needs_background": "light"
     },
     "output_type": "display_data"
    },
    {
     "name": "stdout",
     "output_type": "stream",
     "text": [
      "Column: previous_bookings_not_canceled\n",
      "Unique values: 73\n"
     ]
    },
    {
     "data": {
      "image/png": "[encoded data removed]",
      "text/plain": [
       "<Figure size 432x288 with 1 Axes>"
      ]
     },
     "metadata": {
      "needs_background": "light"
     },
     "output_type": "display_data"
    },
    {
     "name": "stdout",
     "output_type": "stream",
     "text": [
      "Column: booking_changes\n",
      "Unique values: 21\n"
     ]
    },
    {
     "data": {
      "image/png": "[encoded data removed]",
      "text/plain": [
       "<Figure size 432x288 with 1 Axes>"
      ]
     },
     "metadata": {
      "needs_background": "light"
     },
     "output_type": "display_data"
    },
    {
     "name": "stdout",
     "output_type": "stream",
     "text": [
      "Column: agent\n",
      "Unique values: 334\n"
     ]
    },
    {
     "data": {
      "image/png": "[encoded data removed]",
      "text/plain": [
       "<Figure size 432x288 with 1 Axes>"
      ]
     },
     "metadata": {
      "needs_background": "light"
     },
     "output_type": "display_data"
    },
    {
     "name": "stdout",
     "output_type": "stream",
     "text": [
      "Column: company\n",
      "Unique values: 353\n"
     ]
    },
    {
     "data": {
      "image/png": "[encoded data removed]",
      "text/plain": [
       "<Figure size 432x288 with 1 Axes>"
      ]
     },
     "metadata": {
      "needs_background": "light"
     },
     "output_type": "display_data"
    },
    {
     "name": "stdout",
     "output_type": "stream",
     "text": [
      "Column: days_in_waiting_list\n",
      "Unique values: 128\n"
     ]
    },
    {
     "data": {
      "image/png": "[encoded data removed]",
      "text/plain": [
       "<Figure size 432x288 with 1 Axes>"
      ]
     },
     "metadata": {
      "needs_background": "light"
     },
     "output_type": "display_data"
    },
    {
     "name": "stdout",
     "output_type": "stream",
     "text": [
      "Column: adr\n",
      "Unique values: 8879\n"
     ]
    },
    {
     "data": {
      "image/png": "[encoded data removed]",
      "text/plain": [
       "<Figure size 432x288 with 1 Axes>"
      ]
     },
     "metadata": {
      "needs_background": "light"
     },
     "output_type": "display_data"
    },
    {
     "name": "stdout",
     "output_type": "stream",
     "text": [
      "Column: required_car_parking_spaces\n",
      "Unique values: 5\n"
     ]
    },
    {
     "data": {
      "image/png": "[encoded data removed]",
      "text/plain": [
       "<Figure size 432x288 with 1 Axes>"
      ]
     },
     "metadata": {
      "needs_background": "light"
     },
     "output_type": "display_data"
    },
    {
     "name": "stdout",
     "output_type": "stream",
     "text": [
      "Column: total_of_special_requests\n",
      "Unique values: 6\n"
     ]
    },
    {
     "data": {
      "image/png": "[encoded data removed]",
      "text/plain": [
       "<Figure size 432x288 with 1 Axes>"
      ]
     },
     "metadata": {
      "needs_background": "light"
     },
     "output_type": "display_data"
    }
   ],
   "source": [
    "for column in numeric_columns:\n",
    "    print(f'Column: {column}')\n",
    "    print(f'Unique values: {len(data[column].unique())}')\n",
    "    data[column].plot.hist(bins=20)\n",
    "    plt.show()"
   ]
  },
  {
   "cell_type": "markdown",
   "metadata": {},
   "source": [
    "Categorical Columns:"
   ]
  },
  {
   "cell_type": "code",
   "execution_count": 14,
   "metadata": {
    "scrolled": true
   },
   "outputs": [
    {
     "name": "stdout",
     "output_type": "stream",
     "text": [
      "Columns: hotel\n",
      "Unique values: 2\n"
     ]
    },
    {
     "data": {
      "image/png": "[encoded data removed]",
      "text/plain": [
       "<Figure size 432x288 with 1 Axes>"
      ]
     },
     "metadata": {
      "needs_background": "light"
     },
     "output_type": "display_data"
    },
    {
     "name": "stdout",
     "output_type": "stream",
     "text": [
      "Columns: arrival_date_month\n",
      "Unique values: 12\n"
     ]
    },
    {
     "data": {
      "image/png": "[encoded data removed]",
      "text/plain": [
       "<Figure size 432x288 with 1 Axes>"
      ]
     },
     "metadata": {
      "needs_background": "light"
     },
     "output_type": "display_data"
    },
    {
     "name": "stdout",
     "output_type": "stream",
     "text": [
      "Columns: meal\n",
      "Unique values: 5\n"
     ]
    },
    {
     "data": {
      "image/png": "[encoded data removed]",
      "text/plain": [
       "<Figure size 432x288 with 1 Axes>"
      ]
     },
     "metadata": {
      "needs_background": "light"
     },
     "output_type": "display_data"
    },
    {
     "name": "stdout",
     "output_type": "stream",
     "text": [
      "Columns: country\n",
      "Unique values: 178\n"
     ]
    },
    {
     "data": {
      "image/png": "[encoded data removed]",
      "text/plain": [
       "<Figure size 432x288 with 1 Axes>"
      ]
     },
     "metadata": {
      "needs_background": "light"
     },
     "output_type": "display_data"
    },
    {
     "name": "stdout",
     "output_type": "stream",
     "text": [
      "Columns: market_segment\n",
      "Unique values: 8\n"
     ]
    },
    {
     "data": {
      "image/png": "[encoded data removed]",
      "text/plain": [
       "<Figure size 432x288 with 1 Axes>"
      ]
     },
     "metadata": {
      "needs_background": "light"
     },
     "output_type": "display_data"
    },
    {
     "name": "stdout",
     "output_type": "stream",
     "text": [
      "Columns: distribution_channel\n",
      "Unique values: 5\n"
     ]
    },
    {
     "data": {
      "image/png": "[encoded data removed]",
      "text/plain": [
       "<Figure size 432x288 with 1 Axes>"
      ]
     },
     "metadata": {
      "needs_background": "light"
     },
     "output_type": "display_data"
    },
    {
     "name": "stdout",
     "output_type": "stream",
     "text": [
      "Columns: reserved_room_type\n",
      "Unique values: 10\n"
     ]
    },
    {
     "data": {
      "image/png": "[encoded data removed]",
      "text/plain": [
       "<Figure size 432x288 with 1 Axes>"
      ]
     },
     "metadata": {
      "needs_background": "light"
     },
     "output_type": "display_data"
    },
    {
     "name": "stdout",
     "output_type": "stream",
     "text": [
      "Columns: assigned_room_type\n",
      "Unique values: 12\n"
     ]
    },
    {
     "data": {
      "image/png": "[encoded data removed]",
      "text/plain": [
       "<Figure size 432x288 with 1 Axes>"
      ]
     },
     "metadata": {
      "needs_background": "light"
     },
     "output_type": "display_data"
    },
    {
     "name": "stdout",
     "output_type": "stream",
     "text": [
      "Columns: deposit_type\n",
      "Unique values: 3\n"
     ]
    },
    {
     "data": {
      "image/png": "[encoded data removed]",
      "text/plain": [
       "<Figure size 432x288 with 1 Axes>"
      ]
     },
     "metadata": {
      "needs_background": "light"
     },
     "output_type": "display_data"
    },
    {
     "name": "stdout",
     "output_type": "stream",
     "text": [
      "Columns: customer_type\n",
      "Unique values: 4\n"
     ]
    },
    {
     "data": {
      "image/png": "[encoded data removed]",
      "text/plain": [
       "<Figure size 432x288 with 1 Axes>"
      ]
     },
     "metadata": {
      "needs_background": "light"
     },
     "output_type": "display_data"
    },
    {
     "name": "stdout",
     "output_type": "stream",
     "text": [
      "Columns: reservation_status\n",
      "Unique values: 3\n"
     ]
    },
    {
     "data": {
      "image/png": "[encoded data removed]",
      "text/plain": [
       "<Figure size 432x288 with 1 Axes>"
      ]
     },
     "metadata": {
      "needs_background": "light"
     },
     "output_type": "display_data"
    },
    {
     "name": "stdout",
     "output_type": "stream",
     "text": [
      "Columns: reservation_status_date\n",
      "Unique values: 926\n"
     ]
    },
    {
     "data": {
      "image/png": "[encoded data removed]",
      "text/plain": [
       "<Figure size 432x288 with 1 Axes>"
      ]
     },
     "metadata": {
      "needs_background": "light"
     },
     "output_type": "display_data"
    }
   ],
   "source": [
    "for column in non_numeric_columns:\n",
    "    print(f'Columns: {column}')\n",
    "    print(f'Unique values: {len(data[column].unique())}')\n",
    "    data[column].value_counts().plot.bar()\n",
    "    plt.show()"
   ]
  },
  {
   "cell_type": "code",
   "execution_count": 15,
   "metadata": {},
   "outputs": [
    {
     "data": {
      "image/png": "[encoded data removed]",
      "text/plain": [
       "<Figure size 432x288 with 1 Axes>"
      ]
     },
     "metadata": {},
     "output_type": "display_data"
    }
   ],
   "source": [
    "sns.set(style = \"darkgrid\")\n",
    "plt.title(\"Canceled or not\", fontdict = {'fontsize': 20})\n",
    "ax = sns.countplot(x = \"is_canceled\", hue = 'is_repeated_guest', data = data)"
   ]
  },
  {
   "cell_type": "markdown",
   "metadata": {},
   "source": [
    "From the graph above we can assume that repeated guests do not cancel their reservations. The data looks logic."
   ]
  },
  {
   "cell_type": "code",
   "execution_count": 16,
   "metadata": {},
   "outputs": [
    {
     "data": {
      "image/png": "[encoded data removed]",
      "text/plain": [
       "<Figure size 936x720 with 1 Axes>"
      ]
     },
     "metadata": {},
     "output_type": "display_data"
    }
   ],
   "source": [
    "plt.figure(figsize = (13,10))\n",
    "sns.set(style = \"darkgrid\")\n",
    "plt.title(\"Countplot Distributon of Segments by Cancellation\", fontdict = {'fontsize':20})\n",
    "ax = sns.countplot(x = \"market_segment\", hue = 'is_canceled', data = data)"
   ]
  },
  {
   "cell_type": "code",
   "execution_count": 17,
   "metadata": {
    "scrolled": false
   },
   "outputs": [
    {
     "data": {
      "image/png": "[encoded data removed]",
      "text/plain": [
       "<Figure size 936x720 with 1 Axes>"
      ]
     },
     "metadata": {},
     "output_type": "display_data"
    }
   ],
   "source": [
    "plt.figure(figsize = (13,10))\n",
    "sns.set(style = \"darkgrid\")\n",
    "plt.title(\"Countplot Distrubiton of Segment by Deposit Type\", fontdict = {'fontsize':20})\n",
    "ax = sns.countplot(x = \"market_segment\", hue = 'deposit_type', data = data)"
   ]
  },
  {
   "cell_type": "markdown",
   "metadata": {},
   "source": [
    "- When we look at Distribution of Segment by Deposit Type graph it is clear that Group reservations are often made with Non Refund Deposit - which is quite obvious because group reservations are much bigger than individual guests and they require reservation of many rooms. When the group cancels the reservation, hotel will not be easily able to fill the empty rooms.\n",
    "- I guess that case with Offline TA/TO is similar. Travel Agents probably reserve many rooms at the same time so they may be treated same as groups - these are only my assumption, I am not sure of this case."
   ]
  },
  {
   "cell_type": "code",
   "execution_count": 18,
   "metadata": {},
   "outputs": [],
   "source": [
    "months = ['January', 'February', 'March', 'April', 'May', 'June', 'July', 'August', 'September', 'October', \\\n",
    "         'November', 'December']"
   ]
  },
  {
   "cell_type": "code",
   "execution_count": 19,
   "metadata": {
    "scrolled": true
   },
   "outputs": [
    {
     "data": {
      "image/png": "[encoded data removed]",
      "text/plain": [
       "<Figure size 1440x720 with 1 Axes>"
      ]
     },
     "metadata": {},
     "output_type": "display_data"
    }
   ],
   "source": [
    "plt.figure(figsize = (20,10))\n",
    "sns.barplot(x = 'arrival_date_month', y = 'is_canceled', hue = 'hotel', data = data, order = months);"
   ]
  },
  {
   "cell_type": "code",
   "execution_count": 20,
   "metadata": {},
   "outputs": [
    {
     "data": {
      "image/png": "[encoded data removed]",
      "text/plain": [
       "<Figure size 936x720 with 1 Axes>"
      ]
     },
     "metadata": {},
     "output_type": "display_data"
    }
   ],
   "source": [
    "plt.figure(figsize =(13,10))\n",
    "sns.set(style=\"darkgrid\")\n",
    "plt.title(\"Total Customers - Monthly \", fontdict={'fontsize': 20})\n",
    "ax = sns.countplot(x = \"arrival_date_month\", hue = 'hotel', data = data, order = months)"
   ]
  },
  {
   "cell_type": "markdown",
   "metadata": {},
   "source": [
    "We can clearly see that during winter time there is a lot less guests in both hotels. The cancelation rate is lower in that period of time as well in Resort Hotel. In City Hotel the cancelation rate is generally on the constant level for the entire year."
   ]
  },
  {
   "cell_type": "markdown",
   "metadata": {},
   "source": [
    "How to deal with Country variable?"
   ]
  },
  {
   "cell_type": "code",
   "execution_count": 24,
   "metadata": {
    "scrolled": true
   },
   "outputs": [
    {
     "data": {
      "text/plain": [
       "PRT    48590\n",
       "GBR    12129\n",
       "FRA    10415\n",
       "ESP     8568\n",
       "DEU     7287\n",
       "ITA     3766\n",
       "IRL     3375\n",
       "BEL     2342\n",
       "BRA     2224\n",
       "NLD     2104\n",
       "USA     2097\n",
       "CHE     1730\n",
       "CN      1279\n",
       "AUT     1263\n",
       "SWE     1024\n",
       "CHN      999\n",
       "POL      919\n",
       "ISR      669\n",
       "RUS      632\n",
       "NOR      607\n",
       "Name: country, dtype: int64"
      ]
     },
     "execution_count": 24,
     "metadata": {},
     "output_type": "execute_result"
    }
   ],
   "source": [
    "data.country.value_counts().head(20)"
   ]
  },
  {
   "cell_type": "markdown",
   "metadata": {},
   "source": [
    "# Feature Engineering"
   ]
  },
  {
   "cell_type": "markdown",
   "metadata": {},
   "source": [
    "Conclusions:\n",
    "- Numeric columns are skewed. For linear algorithms it can be a problem. Log or Yeo-Jonson transformation may help.\n",
    "\n",
    "Categorical columns:\n",
    "- City and Resort hotel: change for binary\n",
    "- Arrival date month: one hot encoding (?) - not sure yet\n",
    "- Meal: BB + others\n",
    "- Country: Group the countries\n",
    "- Market_segment: Online TA, Offline TA/TO, Groups, Others\n",
    "- Distribution_channel: TA/TO, Others\n",
    "- Reserved_room_type: A, Others\n",
    "- Assigned_room_type: A, D, Others\n",
    "- deposit_type: No Deposit, Non Refund Deposit, Refundable\n",
    "- Customer_type: Transient, Others\n",
    "- Reservation_status: CHeck-out, Canceled, No-show\n",
    "- reservation_status_date: Remove(?)\n",
    "\n",
    "Numeric columns:\n",
    "- Company: Remove, too many missing values\n",
    "- Agent: Remove\n",
    "- Children: fill with mode\n",
    "- Country: drop NA"
   ]
  },
  {
   "cell_type": "code",
   "execution_count": 29,
   "metadata": {},
   "outputs": [],
   "source": [
    "df = data.copy()"
   ]
  },
  {
   "cell_type": "code",
   "execution_count": 28,
   "metadata": {},
   "outputs": [],
   "source": []
  },
  {
   "cell_type": "code",
   "execution_count": null,
   "metadata": {},
   "outputs": [],
   "source": []
  },
  {
   "cell_type": "code",
   "execution_count": 33,
   "metadata": {},
   "outputs": [],
   "source": [
    "# I want to remove \"company\" and \"reservation_status_date\" + \"agent\"\n",
    "\n",
    "class RemoveColumnsTransformer(BaseEstimator, TransformerMixin):\n",
    "    def __init__(self, columns_to_remove: list):\n",
    "        self.columns_to_remove = columns_to_remove\n",
    "    \n",
    "    # even if nothing to fit, this method must return self\n",
    "    def fit(self, X, y = None ):\n",
    "        return self \n",
    "    \n",
    "    def transform(self, X, y = None ):\n",
    "        return X.drop(self.columns_to_remove, axis=1)"
   ]
  },
  {
   "cell_type": "code",
   "execution_count": 34,
   "metadata": {},
   "outputs": [],
   "source": [
    "class SelectColumnsByTypeTransformer(BaseEstimator, TransformerMixin):\n",
    "    def __init__( self, type_to_select):\n",
    "        self.type_to_select = type_to_select\n",
    "    \n",
    "    \n",
    "    def fit( self, X, y = None ):\n",
    "        return self \n",
    "    \n",
    "    def transform( self, X, y = None ):\n",
    "        if self.type_to_select == 'numeric':\n",
    "            return X.select_dtypes(include=np.number)\n",
    "        else:\n",
    "            return X.select_dtypes(exclude=np.number)"
   ]
  },
  {
   "cell_type": "code",
   "execution_count": 35,
   "metadata": {},
   "outputs": [],
   "source": [
    "class HotelTransformer(BaseEstimator, TransformerMixin):\n",
    "    def __init__(self):\n",
    "        pass\n",
    "    \n",
    "    def fit( self, X, y = None ):\n",
    "        return self \n",
    "    \n",
    "    def transform( self, X, y = None ):\n",
    "        X['hotel'] = X['hotel'].apply(lambda x: 0 if x=='Resort Hotel' else 1)\n",
    "        return X"
   ]
  },
  {
   "cell_type": "code",
   "execution_count": 36,
   "metadata": {},
   "outputs": [],
   "source": [
    "class Market_segment_Transformer(BaseEstimator, TransformerMixin):\n",
    "    def __init__(self):\n",
    "        pass\n",
    "    \n",
    "    def fit( self, X, y = None ):\n",
    "        return self \n",
    "    \n",
    "    def transform( self, X, y = None ):\n",
    "        categories = ['Online TA', 'Offline TA/TO', 'Groups', 'Direct']\n",
    "        X['market_segment'] = X['market_segment'].apply(lambda x: \"Other\" if x not in categories else x)\n",
    "        return X"
   ]
  },
  {
   "cell_type": "code",
   "execution_count": 37,
   "metadata": {},
   "outputs": [],
   "source": [
    "class ChannelTransformer(BaseEstimator, TransformerMixin):\n",
    "    def __init__(self):\n",
    "        pass\n",
    "    \n",
    "    def fit( self, X, y = None ):\n",
    "        return self \n",
    "    \n",
    "    def transform( self, X, y = None ):\n",
    "        X['distribution_channel'] = X['distribution_channel'].apply(lambda x: 1 if x=='TA/TO' else 0)\n",
    "        return X"
   ]
  },
  {
   "cell_type": "code",
   "execution_count": 38,
   "metadata": {},
   "outputs": [],
   "source": [
    "class ReservedTransformer(BaseEstimator, TransformerMixin):\n",
    "    def __init__(self):\n",
    "        pass\n",
    "    \n",
    "    def fit( self, X, y = None ):\n",
    "        return self \n",
    "    \n",
    "    def transform( self, X, y = None ):\n",
    "        X['reserved_room_type'] = X['reserved_room_type'].apply(lambda x: 1 if x=='A' else 0)\n",
    "        return X"
   ]
  },
  {
   "cell_type": "code",
   "execution_count": 39,
   "metadata": {},
   "outputs": [],
   "source": [
    "class AssignedTransformer(BaseEstimator, TransformerMixin):\n",
    "    def __init__(self):\n",
    "        pass\n",
    "    \n",
    "    def fit( self, X, y = None ):\n",
    "        return self \n",
    "    \n",
    "    def transform( self, X, y = None ):\n",
    "        categories = ['A', 'D']\n",
    "        X['assigned_room_type'] = X['assigned_room_type'].apply(lambda x: \"Other\" if x not in categories else x)\n",
    "        return X"
   ]
  },
  {
   "cell_type": "code",
   "execution_count": 40,
   "metadata": {},
   "outputs": [],
   "source": [
    "class CustomerTransformer(BaseEstimator, TransformerMixin):\n",
    "    def __init__(self):\n",
    "        pass\n",
    "    \n",
    "    def fit( self, X, y = None ):\n",
    "        return self \n",
    "    \n",
    "    def transform( self, X, y = None ):\n",
    "        X['customer_type'] = X['customer_type'].apply(lambda x: 1 if x=='Transient' else 0)\n",
    "        return X"
   ]
  },
  {
   "cell_type": "code",
   "execution_count": 41,
   "metadata": {},
   "outputs": [],
   "source": [
    "class ImputeNumColsTransformer(BaseEstimator, TransformerMixin):\n",
    "    def __init__( self, method):\n",
    "        self.method=method\n",
    "        # for keeping values to impute any specified column\n",
    "        self.impute_values = {}\n",
    "        \n",
    "    def fit( self, X, y = None ):\n",
    "        if self.method == 'mean':\n",
    "            for col in X:\n",
    "                mean = X[col].mean()\n",
    "                self.impute_values[col] = mean\n",
    "        # extra option is added here\n",
    "        elif self.method == 'median':\n",
    "            for col in X:\n",
    "                median = X[col].median()\n",
    "                self.impute_values[col] = median\n",
    "            \n",
    "        return self \n",
    "    \n",
    "    def transform( self, X, y = None ):\n",
    "        for col in X:\n",
    "            value_to_impute = self.impute_values[col]\n",
    "            X[col] = X[col].fillna(value_to_impute)\n",
    "        return X"
   ]
  },
  {
   "cell_type": "code",
   "execution_count": 42,
   "metadata": {},
   "outputs": [],
   "source": [
    "class ImputeCatColsTransformer(BaseEstimator, TransformerMixin):\n",
    "    def __init__( self, method='mode'):\n",
    "        self.method=method\n",
    "        # for keeping values to impute any specified column\n",
    "        self.impute_values = {}\n",
    "        \n",
    "    def fit( self, X, y = None ):\n",
    "        if self.method == 'mode':\n",
    "            for col in X:\n",
    "                mode = X[col].mode()[0]\n",
    "                self.impute_values[col] = mode\n",
    "        elif self.method == 'missing':\n",
    "            for col in X:\n",
    "                self.impute_values[col] = 'missing'\n",
    "        return self \n",
    "    \n",
    "    def transform( self, X, y = None ):\n",
    "        for col in X:\n",
    "            value_to_impute = self.impute_values[col]\n",
    "            X[col] = X[col].astype('object')\n",
    "            X[col] = X[col].fillna(value_to_impute)\n",
    "        return X"
   ]
  },
  {
   "cell_type": "code",
   "execution_count": 44,
   "metadata": {},
   "outputs": [],
   "source": [
    "class DropNATransformer(BaseEstimator, TransformerMixin):\n",
    "    def __init__(self):\n",
    "        pass\n",
    "        \n",
    "        \n",
    "    def fit( self, X, y = None ):\n",
    "        return self \n",
    "    \n",
    "    def transform( self, X, y = None ):\n",
    "        df_features = X.copy()      \n",
    "        \n",
    "        # drop missing values\n",
    "        df_features = df_features.dropna()\n",
    "    \n",
    "        return df_features"
   ]
  },
  {
   "cell_type": "code",
   "execution_count": 51,
   "metadata": {},
   "outputs": [],
   "source": [
    "class GetDummiesTransformer(BaseEstimator, TransformerMixin):\n",
    "    def __init__(self):\n",
    "        pass\n",
    "        \n",
    "        \n",
    "    def fit( self, X, y = None ):\n",
    "        return self \n",
    "    \n",
    "    def transform( self, X, y = None ):\n",
    "        df_features = X.copy()      \n",
    "        \n",
    "        # drop missing values\n",
    "        df_features = pd.get_dummies(df_features)\n",
    "    \n",
    "        return df_features"
   ]
  },
  {
   "cell_type": "code",
   "execution_count": null,
   "metadata": {},
   "outputs": [],
   "source": []
  },
  {
   "cell_type": "code",
   "execution_count": 61,
   "metadata": {
    "scrolled": true
   },
   "outputs": [
    {
     "data": {
      "text/html": [
       "<div>\n",
       "<style scoped>\n",
       "    .dataframe tbody tr th:only-of-type {\n",
       "        vertical-align: middle;\n",
       "    }\n",
       "\n",
       "    .dataframe tbody tr th {\n",
       "        vertical-align: top;\n",
       "    }\n",
       "\n",
       "    .dataframe thead th {\n",
       "        text-align: right;\n",
       "    }\n",
       "</style>\n",
       "<table border=\"1\" class=\"dataframe\">\n",
       "  <thead>\n",
       "    <tr style=\"text-align: right;\">\n",
       "      <th></th>\n",
       "      <th>hotel</th>\n",
       "      <th>is_canceled</th>\n",
       "      <th>lead_time</th>\n",
       "      <th>arrival_date_year</th>\n",
       "      <th>arrival_date_week_number</th>\n",
       "      <th>arrival_date_day_of_month</th>\n",
       "      <th>stays_in_weekend_nights</th>\n",
       "      <th>stays_in_week_nights</th>\n",
       "      <th>adults</th>\n",
       "      <th>children</th>\n",
       "      <th>...</th>\n",
       "      <th>market_segment_Other</th>\n",
       "      <th>assigned_room_type_A</th>\n",
       "      <th>assigned_room_type_D</th>\n",
       "      <th>assigned_room_type_Other</th>\n",
       "      <th>deposit_type_No Deposit</th>\n",
       "      <th>deposit_type_Non Refund</th>\n",
       "      <th>deposit_type_Refundable</th>\n",
       "      <th>reservation_status_Canceled</th>\n",
       "      <th>reservation_status_Check-Out</th>\n",
       "      <th>reservation_status_No-Show</th>\n",
       "    </tr>\n",
       "  </thead>\n",
       "  <tbody>\n",
       "    <tr>\n",
       "      <th>0</th>\n",
       "      <td>1</td>\n",
       "      <td>0</td>\n",
       "      <td>151</td>\n",
       "      <td>2017</td>\n",
       "      <td>12</td>\n",
       "      <td>20</td>\n",
       "      <td>1</td>\n",
       "      <td>1</td>\n",
       "      <td>2</td>\n",
       "      <td>0.0</td>\n",
       "      <td>...</td>\n",
       "      <td>0</td>\n",
       "      <td>1</td>\n",
       "      <td>0</td>\n",
       "      <td>0</td>\n",
       "      <td>1</td>\n",
       "      <td>0</td>\n",
       "      <td>0</td>\n",
       "      <td>0</td>\n",
       "      <td>1</td>\n",
       "      <td>0</td>\n",
       "    </tr>\n",
       "    <tr>\n",
       "      <th>1</th>\n",
       "      <td>1</td>\n",
       "      <td>0</td>\n",
       "      <td>55</td>\n",
       "      <td>2015</td>\n",
       "      <td>37</td>\n",
       "      <td>6</td>\n",
       "      <td>2</td>\n",
       "      <td>0</td>\n",
       "      <td>2</td>\n",
       "      <td>0.0</td>\n",
       "      <td>...</td>\n",
       "      <td>0</td>\n",
       "      <td>0</td>\n",
       "      <td>0</td>\n",
       "      <td>1</td>\n",
       "      <td>1</td>\n",
       "      <td>0</td>\n",
       "      <td>0</td>\n",
       "      <td>0</td>\n",
       "      <td>1</td>\n",
       "      <td>0</td>\n",
       "    </tr>\n",
       "    <tr>\n",
       "      <th>2</th>\n",
       "      <td>0</td>\n",
       "      <td>1</td>\n",
       "      <td>104</td>\n",
       "      <td>2015</td>\n",
       "      <td>30</td>\n",
       "      <td>19</td>\n",
       "      <td>2</td>\n",
       "      <td>4</td>\n",
       "      <td>2</td>\n",
       "      <td>0.0</td>\n",
       "      <td>...</td>\n",
       "      <td>0</td>\n",
       "      <td>1</td>\n",
       "      <td>0</td>\n",
       "      <td>0</td>\n",
       "      <td>1</td>\n",
       "      <td>0</td>\n",
       "      <td>0</td>\n",
       "      <td>1</td>\n",
       "      <td>0</td>\n",
       "      <td>0</td>\n",
       "    </tr>\n",
       "    <tr>\n",
       "      <th>3</th>\n",
       "      <td>1</td>\n",
       "      <td>0</td>\n",
       "      <td>0</td>\n",
       "      <td>2017</td>\n",
       "      <td>19</td>\n",
       "      <td>13</td>\n",
       "      <td>0</td>\n",
       "      <td>1</td>\n",
       "      <td>2</td>\n",
       "      <td>0.0</td>\n",
       "      <td>...</td>\n",
       "      <td>0</td>\n",
       "      <td>1</td>\n",
       "      <td>0</td>\n",
       "      <td>0</td>\n",
       "      <td>1</td>\n",
       "      <td>0</td>\n",
       "      <td>0</td>\n",
       "      <td>0</td>\n",
       "      <td>1</td>\n",
       "      <td>0</td>\n",
       "    </tr>\n",
       "    <tr>\n",
       "      <th>4</th>\n",
       "      <td>1</td>\n",
       "      <td>1</td>\n",
       "      <td>295</td>\n",
       "      <td>2016</td>\n",
       "      <td>18</td>\n",
       "      <td>28</td>\n",
       "      <td>0</td>\n",
       "      <td>2</td>\n",
       "      <td>2</td>\n",
       "      <td>0.0</td>\n",
       "      <td>...</td>\n",
       "      <td>0</td>\n",
       "      <td>1</td>\n",
       "      <td>0</td>\n",
       "      <td>0</td>\n",
       "      <td>0</td>\n",
       "      <td>1</td>\n",
       "      <td>0</td>\n",
       "      <td>1</td>\n",
       "      <td>0</td>\n",
       "      <td>0</td>\n",
       "    </tr>\n",
       "    <tr>\n",
       "      <th>...</th>\n",
       "      <td>...</td>\n",
       "      <td>...</td>\n",
       "      <td>...</td>\n",
       "      <td>...</td>\n",
       "      <td>...</td>\n",
       "      <td>...</td>\n",
       "      <td>...</td>\n",
       "      <td>...</td>\n",
       "      <td>...</td>\n",
       "      <td>...</td>\n",
       "      <td>...</td>\n",
       "      <td>...</td>\n",
       "      <td>...</td>\n",
       "      <td>...</td>\n",
       "      <td>...</td>\n",
       "      <td>...</td>\n",
       "      <td>...</td>\n",
       "      <td>...</td>\n",
       "      <td>...</td>\n",
       "      <td>...</td>\n",
       "      <td>...</td>\n",
       "    </tr>\n",
       "    <tr>\n",
       "      <th>119385</th>\n",
       "      <td>1</td>\n",
       "      <td>1</td>\n",
       "      <td>46</td>\n",
       "      <td>2016</td>\n",
       "      <td>38</td>\n",
       "      <td>11</td>\n",
       "      <td>2</td>\n",
       "      <td>3</td>\n",
       "      <td>2</td>\n",
       "      <td>0.0</td>\n",
       "      <td>...</td>\n",
       "      <td>0</td>\n",
       "      <td>0</td>\n",
       "      <td>1</td>\n",
       "      <td>0</td>\n",
       "      <td>1</td>\n",
       "      <td>0</td>\n",
       "      <td>0</td>\n",
       "      <td>1</td>\n",
       "      <td>0</td>\n",
       "      <td>0</td>\n",
       "    </tr>\n",
       "    <tr>\n",
       "      <th>119386</th>\n",
       "      <td>0</td>\n",
       "      <td>0</td>\n",
       "      <td>69</td>\n",
       "      <td>2017</td>\n",
       "      <td>18</td>\n",
       "      <td>6</td>\n",
       "      <td>2</td>\n",
       "      <td>1</td>\n",
       "      <td>2</td>\n",
       "      <td>0.0</td>\n",
       "      <td>...</td>\n",
       "      <td>0</td>\n",
       "      <td>1</td>\n",
       "      <td>0</td>\n",
       "      <td>0</td>\n",
       "      <td>1</td>\n",
       "      <td>0</td>\n",
       "      <td>0</td>\n",
       "      <td>0</td>\n",
       "      <td>1</td>\n",
       "      <td>0</td>\n",
       "    </tr>\n",
       "    <tr>\n",
       "      <th>119387</th>\n",
       "      <td>0</td>\n",
       "      <td>0</td>\n",
       "      <td>130</td>\n",
       "      <td>2015</td>\n",
       "      <td>39</td>\n",
       "      <td>21</td>\n",
       "      <td>3</td>\n",
       "      <td>8</td>\n",
       "      <td>2</td>\n",
       "      <td>0.0</td>\n",
       "      <td>...</td>\n",
       "      <td>0</td>\n",
       "      <td>0</td>\n",
       "      <td>0</td>\n",
       "      <td>1</td>\n",
       "      <td>1</td>\n",
       "      <td>0</td>\n",
       "      <td>0</td>\n",
       "      <td>0</td>\n",
       "      <td>1</td>\n",
       "      <td>0</td>\n",
       "    </tr>\n",
       "    <tr>\n",
       "      <th>119388</th>\n",
       "      <td>0</td>\n",
       "      <td>0</td>\n",
       "      <td>7</td>\n",
       "      <td>2017</td>\n",
       "      <td>9</td>\n",
       "      <td>2</td>\n",
       "      <td>1</td>\n",
       "      <td>3</td>\n",
       "      <td>2</td>\n",
       "      <td>0.0</td>\n",
       "      <td>...</td>\n",
       "      <td>0</td>\n",
       "      <td>0</td>\n",
       "      <td>1</td>\n",
       "      <td>0</td>\n",
       "      <td>1</td>\n",
       "      <td>0</td>\n",
       "      <td>0</td>\n",
       "      <td>0</td>\n",
       "      <td>1</td>\n",
       "      <td>0</td>\n",
       "    </tr>\n",
       "    <tr>\n",
       "      <th>119389</th>\n",
       "      <td>1</td>\n",
       "      <td>0</td>\n",
       "      <td>110</td>\n",
       "      <td>2015</td>\n",
       "      <td>50</td>\n",
       "      <td>9</td>\n",
       "      <td>0</td>\n",
       "      <td>4</td>\n",
       "      <td>2</td>\n",
       "      <td>0.0</td>\n",
       "      <td>...</td>\n",
       "      <td>0</td>\n",
       "      <td>1</td>\n",
       "      <td>0</td>\n",
       "      <td>0</td>\n",
       "      <td>1</td>\n",
       "      <td>0</td>\n",
       "      <td>0</td>\n",
       "      <td>0</td>\n",
       "      <td>1</td>\n",
       "      <td>0</td>\n",
       "    </tr>\n",
       "  </tbody>\n",
       "</table>\n",
       "<p>118898 rows × 230 columns</p>\n",
       "</div>"
      ],
      "text/plain": [
       "        hotel  is_canceled  lead_time  arrival_date_year  \\\n",
       "0           1            0        151               2017   \n",
       "1           1            0         55               2015   \n",
       "2           0            1        104               2015   \n",
       "3           1            0          0               2017   \n",
       "4           1            1        295               2016   \n",
       "...       ...          ...        ...                ...   \n",
       "119385      1            1         46               2016   \n",
       "119386      0            0         69               2017   \n",
       "119387      0            0        130               2015   \n",
       "119388      0            0          7               2017   \n",
       "119389      1            0        110               2015   \n",
       "\n",
       "        arrival_date_week_number  arrival_date_day_of_month  \\\n",
       "0                             12                         20   \n",
       "1                             37                          6   \n",
       "2                             30                         19   \n",
       "3                             19                         13   \n",
       "4                             18                         28   \n",
       "...                          ...                        ...   \n",
       "119385                        38                         11   \n",
       "119386                        18                          6   \n",
       "119387                        39                         21   \n",
       "119388                         9                          2   \n",
       "119389                        50                          9   \n",
       "\n",
       "        stays_in_weekend_nights  stays_in_week_nights  adults  children  ...  \\\n",
       "0                             1                     1       2       0.0  ...   \n",
       "1                             2                     0       2       0.0  ...   \n",
       "2                             2                     4       2       0.0  ...   \n",
       "3                             0                     1       2       0.0  ...   \n",
       "4                             0                     2       2       0.0  ...   \n",
       "...                         ...                   ...     ...       ...  ...   \n",
       "119385                        2                     3       2       0.0  ...   \n",
       "119386                        2                     1       2       0.0  ...   \n",
       "119387                        3                     8       2       0.0  ...   \n",
       "119388                        1                     3       2       0.0  ...   \n",
       "119389                        0                     4       2       0.0  ...   \n",
       "\n",
       "        market_segment_Other  assigned_room_type_A  assigned_room_type_D  \\\n",
       "0                          0                     1                     0   \n",
       "1                          0                     0                     0   \n",
       "2                          0                     1                     0   \n",
       "3                          0                     1                     0   \n",
       "4                          0                     1                     0   \n",
       "...                      ...                   ...                   ...   \n",
       "119385                     0                     0                     1   \n",
       "119386                     0                     1                     0   \n",
       "119387                     0                     0                     0   \n",
       "119388                     0                     0                     1   \n",
       "119389                     0                     1                     0   \n",
       "\n",
       "        assigned_room_type_Other  deposit_type_No Deposit  \\\n",
       "0                              0                        1   \n",
       "1                              1                        1   \n",
       "2                              0                        1   \n",
       "3                              0                        1   \n",
       "4                              0                        0   \n",
       "...                          ...                      ...   \n",
       "119385                         0                        1   \n",
       "119386                         0                        1   \n",
       "119387                         1                        1   \n",
       "119388                         0                        1   \n",
       "119389                         0                        1   \n",
       "\n",
       "        deposit_type_Non Refund  deposit_type_Refundable  \\\n",
       "0                             0                        0   \n",
       "1                             0                        0   \n",
       "2                             0                        0   \n",
       "3                             0                        0   \n",
       "4                             1                        0   \n",
       "...                         ...                      ...   \n",
       "119385                        0                        0   \n",
       "119386                        0                        0   \n",
       "119387                        0                        0   \n",
       "119388                        0                        0   \n",
       "119389                        0                        0   \n",
       "\n",
       "        reservation_status_Canceled  reservation_status_Check-Out  \\\n",
       "0                                 0                             1   \n",
       "1                                 0                             1   \n",
       "2                                 1                             0   \n",
       "3                                 0                             1   \n",
       "4                                 1                             0   \n",
       "...                             ...                           ...   \n",
       "119385                            1                             0   \n",
       "119386                            0                             1   \n",
       "119387                            0                             1   \n",
       "119388                            0                             1   \n",
       "119389                            0                             1   \n",
       "\n",
       "        reservation_status_No-Show  \n",
       "0                                0  \n",
       "1                                0  \n",
       "2                                0  \n",
       "3                                0  \n",
       "4                                0  \n",
       "...                            ...  \n",
       "119385                           0  \n",
       "119386                           0  \n",
       "119387                           0  \n",
       "119388                           0  \n",
       "119389                           0  \n",
       "\n",
       "[118898 rows x 230 columns]"
      ]
     },
     "execution_count": 61,
     "metadata": {},
     "output_type": "execute_result"
    }
   ],
   "source": [
    "# check if all the transformers work\n",
    "\n",
    "steps = [\n",
    "    ('remove', RemoveColumnsTransformer(columns_to_remove=['company', 'reservation_status_date', 'agent'])),         \n",
    "    ('hotel', HotelTransformer()), \n",
    "    ('market_segment', Market_segment_Transformer()),\n",
    "    ('channel', ChannelTransformer()), \n",
    "    ('reserved', ReservedTransformer()),\n",
    "    ('assigned', AssignedTransformer()), \n",
    "    ('customer', CustomerTransformer()),\n",
    "    ('dropNA', DropNATransformer()),\n",
    "    ('GetDummies', GetDummiesTransformer())\n",
    "]\n",
    "\n",
    "processing = Pipeline(steps=steps)\n",
    "processing.fit_transform(df)"
   ]
  },
  {
   "cell_type": "code",
   "execution_count": null,
   "metadata": {},
   "outputs": [],
   "source": []
  },
  {
   "cell_type": "code",
   "execution_count": null,
   "metadata": {},
   "outputs": [],
   "source": []
  }
 ],
 "metadata": {
  "kernelspec": {
   "display_name": "Python 3",
   "language": "python",
   "name": "python3"
  },
  "language_info": {
   "codemirror_mode": {
    "name": "ipython",
    "version": 3
   },
   "file_extension": ".py",
   "mimetype": "text/x-python",
   "name": "python",
   "nbconvert_exporter": "python",
   "pygments_lexer": "ipython3",
   "version": "3.8.3"
  }
 },
 "nbformat": 4,
 "nbformat_minor": 4
}
