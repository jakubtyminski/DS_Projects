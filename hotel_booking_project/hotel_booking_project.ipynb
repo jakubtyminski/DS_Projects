{
 "cells": [
  {
   "cell_type": "code",
   "execution_count": 1,
   "metadata": {},
   "outputs": [],
   "source": [
    "# data manipulation\n",
    "import pandas as pd\n",
    "import numpy as np\n",
    "\n",
    "# data visualization\n",
    "import seaborn as sns\n",
    "import matplotlib.pyplot as plt\n",
    "\n",
    "# pipeline construction\n",
    "from sklearn.pipeline import FeatureUnion, Pipeline \n",
    "from sklearn.base import BaseEstimator, TransformerMixin\n",
    "from sklearn.compose import ColumnTransformer\n",
    "\n",
    "# data processing\n",
    "from sklearn.impute import SimpleImputer\n",
    "from sklearn.preprocessing import MinMaxScaler, StandardScaler\n",
    "from sklearn.preprocessing import OneHotEncoder\n",
    "from sklearn.preprocessing import PowerTransformer\n",
    "from sklearn.preprocessing import normalize\n",
    "from sklearn.decomposition import PCA\n",
    "\n",
    "# models trainng\n",
    "from sklearn.model_selection import train_test_split, GridSearchCV\n",
    "from sklearn.linear_model import LogisticRegression\n",
    "from sklearn.tree import DecisionTreeClassifier\n",
    "\n",
    "# models validation\n",
    "from sklearn.metrics import accuracy_score, precision_score, recall_score, f1_score\n",
    "\n",
    "# remove annoying warnings\n",
    "import warnings\n",
    "warnings.filterwarnings('ignore')"
   ]
  },
  {
   "cell_type": "code",
   "execution_count": 2,
   "metadata": {
    "scrolled": true
   },
   "outputs": [
    {
     "data": {
      "text/html": [
       "<div>\n",
       "<style scoped>\n",
       "    .dataframe tbody tr th:only-of-type {\n",
       "        vertical-align: middle;\n",
       "    }\n",
       "\n",
       "    .dataframe tbody tr th {\n",
       "        vertical-align: top;\n",
       "    }\n",
       "\n",
       "    .dataframe thead th {\n",
       "        text-align: right;\n",
       "    }\n",
       "</style>\n",
       "<table border=\"1\" class=\"dataframe\">\n",
       "  <thead>\n",
       "    <tr style=\"text-align: right;\">\n",
       "      <th></th>\n",
       "      <th>hotel</th>\n",
       "      <th>is_canceled</th>\n",
       "      <th>lead_time</th>\n",
       "      <th>arrival_date_year</th>\n",
       "      <th>arrival_date_month</th>\n",
       "      <th>arrival_date_week_number</th>\n",
       "      <th>arrival_date_day_of_month</th>\n",
       "      <th>stays_in_weekend_nights</th>\n",
       "      <th>stays_in_week_nights</th>\n",
       "      <th>adults</th>\n",
       "      <th>...</th>\n",
       "      <th>deposit_type</th>\n",
       "      <th>agent</th>\n",
       "      <th>company</th>\n",
       "      <th>days_in_waiting_list</th>\n",
       "      <th>customer_type</th>\n",
       "      <th>adr</th>\n",
       "      <th>required_car_parking_spaces</th>\n",
       "      <th>total_of_special_requests</th>\n",
       "      <th>reservation_status</th>\n",
       "      <th>reservation_status_date</th>\n",
       "    </tr>\n",
       "  </thead>\n",
       "  <tbody>\n",
       "    <tr>\n",
       "      <th>0</th>\n",
       "      <td>Resort Hotel</td>\n",
       "      <td>0</td>\n",
       "      <td>342</td>\n",
       "      <td>2015</td>\n",
       "      <td>July</td>\n",
       "      <td>27</td>\n",
       "      <td>1</td>\n",
       "      <td>0</td>\n",
       "      <td>0</td>\n",
       "      <td>2</td>\n",
       "      <td>...</td>\n",
       "      <td>No Deposit</td>\n",
       "      <td>NaN</td>\n",
       "      <td>NaN</td>\n",
       "      <td>0</td>\n",
       "      <td>Transient</td>\n",
       "      <td>0.0</td>\n",
       "      <td>0</td>\n",
       "      <td>0</td>\n",
       "      <td>Check-Out</td>\n",
       "      <td>2015-07-01</td>\n",
       "    </tr>\n",
       "    <tr>\n",
       "      <th>1</th>\n",
       "      <td>Resort Hotel</td>\n",
       "      <td>0</td>\n",
       "      <td>737</td>\n",
       "      <td>2015</td>\n",
       "      <td>July</td>\n",
       "      <td>27</td>\n",
       "      <td>1</td>\n",
       "      <td>0</td>\n",
       "      <td>0</td>\n",
       "      <td>2</td>\n",
       "      <td>...</td>\n",
       "      <td>No Deposit</td>\n",
       "      <td>NaN</td>\n",
       "      <td>NaN</td>\n",
       "      <td>0</td>\n",
       "      <td>Transient</td>\n",
       "      <td>0.0</td>\n",
       "      <td>0</td>\n",
       "      <td>0</td>\n",
       "      <td>Check-Out</td>\n",
       "      <td>2015-07-01</td>\n",
       "    </tr>\n",
       "    <tr>\n",
       "      <th>2</th>\n",
       "      <td>Resort Hotel</td>\n",
       "      <td>0</td>\n",
       "      <td>7</td>\n",
       "      <td>2015</td>\n",
       "      <td>July</td>\n",
       "      <td>27</td>\n",
       "      <td>1</td>\n",
       "      <td>0</td>\n",
       "      <td>1</td>\n",
       "      <td>1</td>\n",
       "      <td>...</td>\n",
       "      <td>No Deposit</td>\n",
       "      <td>NaN</td>\n",
       "      <td>NaN</td>\n",
       "      <td>0</td>\n",
       "      <td>Transient</td>\n",
       "      <td>75.0</td>\n",
       "      <td>0</td>\n",
       "      <td>0</td>\n",
       "      <td>Check-Out</td>\n",
       "      <td>2015-07-02</td>\n",
       "    </tr>\n",
       "    <tr>\n",
       "      <th>3</th>\n",
       "      <td>Resort Hotel</td>\n",
       "      <td>0</td>\n",
       "      <td>13</td>\n",
       "      <td>2015</td>\n",
       "      <td>July</td>\n",
       "      <td>27</td>\n",
       "      <td>1</td>\n",
       "      <td>0</td>\n",
       "      <td>1</td>\n",
       "      <td>1</td>\n",
       "      <td>...</td>\n",
       "      <td>No Deposit</td>\n",
       "      <td>304.0</td>\n",
       "      <td>NaN</td>\n",
       "      <td>0</td>\n",
       "      <td>Transient</td>\n",
       "      <td>75.0</td>\n",
       "      <td>0</td>\n",
       "      <td>0</td>\n",
       "      <td>Check-Out</td>\n",
       "      <td>2015-07-02</td>\n",
       "    </tr>\n",
       "    <tr>\n",
       "      <th>4</th>\n",
       "      <td>Resort Hotel</td>\n",
       "      <td>0</td>\n",
       "      <td>14</td>\n",
       "      <td>2015</td>\n",
       "      <td>July</td>\n",
       "      <td>27</td>\n",
       "      <td>1</td>\n",
       "      <td>0</td>\n",
       "      <td>2</td>\n",
       "      <td>2</td>\n",
       "      <td>...</td>\n",
       "      <td>No Deposit</td>\n",
       "      <td>240.0</td>\n",
       "      <td>NaN</td>\n",
       "      <td>0</td>\n",
       "      <td>Transient</td>\n",
       "      <td>98.0</td>\n",
       "      <td>0</td>\n",
       "      <td>1</td>\n",
       "      <td>Check-Out</td>\n",
       "      <td>2015-07-03</td>\n",
       "    </tr>\n",
       "  </tbody>\n",
       "</table>\n",
       "<p>5 rows × 32 columns</p>\n",
       "</div>"
      ],
      "text/plain": [
       "          hotel  is_canceled  lead_time  arrival_date_year arrival_date_month  \\\n",
       "0  Resort Hotel            0        342               2015               July   \n",
       "1  Resort Hotel            0        737               2015               July   \n",
       "2  Resort Hotel            0          7               2015               July   \n",
       "3  Resort Hotel            0         13               2015               July   \n",
       "4  Resort Hotel            0         14               2015               July   \n",
       "\n",
       "   arrival_date_week_number  arrival_date_day_of_month  \\\n",
       "0                        27                          1   \n",
       "1                        27                          1   \n",
       "2                        27                          1   \n",
       "3                        27                          1   \n",
       "4                        27                          1   \n",
       "\n",
       "   stays_in_weekend_nights  stays_in_week_nights  adults  ...  deposit_type  \\\n",
       "0                        0                     0       2  ...    No Deposit   \n",
       "1                        0                     0       2  ...    No Deposit   \n",
       "2                        0                     1       1  ...    No Deposit   \n",
       "3                        0                     1       1  ...    No Deposit   \n",
       "4                        0                     2       2  ...    No Deposit   \n",
       "\n",
       "   agent company days_in_waiting_list customer_type   adr  \\\n",
       "0    NaN     NaN                    0     Transient   0.0   \n",
       "1    NaN     NaN                    0     Transient   0.0   \n",
       "2    NaN     NaN                    0     Transient  75.0   \n",
       "3  304.0     NaN                    0     Transient  75.0   \n",
       "4  240.0     NaN                    0     Transient  98.0   \n",
       "\n",
       "   required_car_parking_spaces  total_of_special_requests  reservation_status  \\\n",
       "0                            0                          0           Check-Out   \n",
       "1                            0                          0           Check-Out   \n",
       "2                            0                          0           Check-Out   \n",
       "3                            0                          0           Check-Out   \n",
       "4                            0                          1           Check-Out   \n",
       "\n",
       "  reservation_status_date  \n",
       "0              2015-07-01  \n",
       "1              2015-07-01  \n",
       "2              2015-07-02  \n",
       "3              2015-07-02  \n",
       "4              2015-07-03  \n",
       "\n",
       "[5 rows x 32 columns]"
      ]
     },
     "execution_count": 2,
     "metadata": {},
     "output_type": "execute_result"
    }
   ],
   "source": [
    "data = pd.read_csv(r'C:\\Users\\Jakub\\Desktop\\GitHubProjects\\hotel_booking_project\\hotel_bookings.csv')\n",
    "data.head()"
   ]
  },
  {
   "cell_type": "markdown",
   "metadata": {},
   "source": [
    "I shufle the data as a good practice."
   ]
  },
  {
   "cell_type": "code",
   "execution_count": 3,
   "metadata": {
    "scrolled": true
   },
   "outputs": [
    {
     "data": {
      "text/html": [
       "<div>\n",
       "<style scoped>\n",
       "    .dataframe tbody tr th:only-of-type {\n",
       "        vertical-align: middle;\n",
       "    }\n",
       "\n",
       "    .dataframe tbody tr th {\n",
       "        vertical-align: top;\n",
       "    }\n",
       "\n",
       "    .dataframe thead th {\n",
       "        text-align: right;\n",
       "    }\n",
       "</style>\n",
       "<table border=\"1\" class=\"dataframe\">\n",
       "  <thead>\n",
       "    <tr style=\"text-align: right;\">\n",
       "      <th></th>\n",
       "      <th>hotel</th>\n",
       "      <th>is_canceled</th>\n",
       "      <th>lead_time</th>\n",
       "      <th>arrival_date_year</th>\n",
       "      <th>arrival_date_month</th>\n",
       "      <th>arrival_date_week_number</th>\n",
       "      <th>arrival_date_day_of_month</th>\n",
       "      <th>stays_in_weekend_nights</th>\n",
       "      <th>stays_in_week_nights</th>\n",
       "      <th>adults</th>\n",
       "      <th>...</th>\n",
       "      <th>deposit_type</th>\n",
       "      <th>agent</th>\n",
       "      <th>company</th>\n",
       "      <th>days_in_waiting_list</th>\n",
       "      <th>customer_type</th>\n",
       "      <th>adr</th>\n",
       "      <th>required_car_parking_spaces</th>\n",
       "      <th>total_of_special_requests</th>\n",
       "      <th>reservation_status</th>\n",
       "      <th>reservation_status_date</th>\n",
       "    </tr>\n",
       "  </thead>\n",
       "  <tbody>\n",
       "    <tr>\n",
       "      <th>0</th>\n",
       "      <td>City Hotel</td>\n",
       "      <td>1</td>\n",
       "      <td>49</td>\n",
       "      <td>2017</td>\n",
       "      <td>July</td>\n",
       "      <td>28</td>\n",
       "      <td>12</td>\n",
       "      <td>0</td>\n",
       "      <td>1</td>\n",
       "      <td>2</td>\n",
       "      <td>...</td>\n",
       "      <td>No Deposit</td>\n",
       "      <td>52.0</td>\n",
       "      <td>NaN</td>\n",
       "      <td>0</td>\n",
       "      <td>Transient</td>\n",
       "      <td>80.1</td>\n",
       "      <td>0</td>\n",
       "      <td>1</td>\n",
       "      <td>Canceled</td>\n",
       "      <td>2017-05-27</td>\n",
       "    </tr>\n",
       "    <tr>\n",
       "      <th>1</th>\n",
       "      <td>City Hotel</td>\n",
       "      <td>1</td>\n",
       "      <td>33</td>\n",
       "      <td>2015</td>\n",
       "      <td>October</td>\n",
       "      <td>43</td>\n",
       "      <td>21</td>\n",
       "      <td>0</td>\n",
       "      <td>4</td>\n",
       "      <td>1</td>\n",
       "      <td>...</td>\n",
       "      <td>No Deposit</td>\n",
       "      <td>6.0</td>\n",
       "      <td>NaN</td>\n",
       "      <td>0</td>\n",
       "      <td>Transient</td>\n",
       "      <td>17.6</td>\n",
       "      <td>0</td>\n",
       "      <td>1</td>\n",
       "      <td>Canceled</td>\n",
       "      <td>2015-09-28</td>\n",
       "    </tr>\n",
       "    <tr>\n",
       "      <th>2</th>\n",
       "      <td>City Hotel</td>\n",
       "      <td>0</td>\n",
       "      <td>0</td>\n",
       "      <td>2016</td>\n",
       "      <td>April</td>\n",
       "      <td>17</td>\n",
       "      <td>23</td>\n",
       "      <td>1</td>\n",
       "      <td>1</td>\n",
       "      <td>1</td>\n",
       "      <td>...</td>\n",
       "      <td>No Deposit</td>\n",
       "      <td>9.0</td>\n",
       "      <td>NaN</td>\n",
       "      <td>0</td>\n",
       "      <td>Transient</td>\n",
       "      <td>123.0</td>\n",
       "      <td>1</td>\n",
       "      <td>0</td>\n",
       "      <td>Check-Out</td>\n",
       "      <td>2016-04-25</td>\n",
       "    </tr>\n",
       "    <tr>\n",
       "      <th>3</th>\n",
       "      <td>Resort Hotel</td>\n",
       "      <td>0</td>\n",
       "      <td>13</td>\n",
       "      <td>2016</td>\n",
       "      <td>August</td>\n",
       "      <td>36</td>\n",
       "      <td>29</td>\n",
       "      <td>0</td>\n",
       "      <td>0</td>\n",
       "      <td>1</td>\n",
       "      <td>...</td>\n",
       "      <td>No Deposit</td>\n",
       "      <td>339.0</td>\n",
       "      <td>NaN</td>\n",
       "      <td>0</td>\n",
       "      <td>Transient-Party</td>\n",
       "      <td>0.0</td>\n",
       "      <td>0</td>\n",
       "      <td>1</td>\n",
       "      <td>Check-Out</td>\n",
       "      <td>2016-08-29</td>\n",
       "    </tr>\n",
       "    <tr>\n",
       "      <th>4</th>\n",
       "      <td>City Hotel</td>\n",
       "      <td>1</td>\n",
       "      <td>268</td>\n",
       "      <td>2015</td>\n",
       "      <td>July</td>\n",
       "      <td>29</td>\n",
       "      <td>12</td>\n",
       "      <td>2</td>\n",
       "      <td>1</td>\n",
       "      <td>2</td>\n",
       "      <td>...</td>\n",
       "      <td>No Deposit</td>\n",
       "      <td>5.0</td>\n",
       "      <td>NaN</td>\n",
       "      <td>0</td>\n",
       "      <td>Transient</td>\n",
       "      <td>82.0</td>\n",
       "      <td>0</td>\n",
       "      <td>0</td>\n",
       "      <td>Canceled</td>\n",
       "      <td>2015-06-26</td>\n",
       "    </tr>\n",
       "  </tbody>\n",
       "</table>\n",
       "<p>5 rows × 32 columns</p>\n",
       "</div>"
      ],
      "text/plain": [
       "          hotel  is_canceled  lead_time  arrival_date_year arrival_date_month  \\\n",
       "0    City Hotel            1         49               2017               July   \n",
       "1    City Hotel            1         33               2015            October   \n",
       "2    City Hotel            0          0               2016              April   \n",
       "3  Resort Hotel            0         13               2016             August   \n",
       "4    City Hotel            1        268               2015               July   \n",
       "\n",
       "   arrival_date_week_number  arrival_date_day_of_month  \\\n",
       "0                        28                         12   \n",
       "1                        43                         21   \n",
       "2                        17                         23   \n",
       "3                        36                         29   \n",
       "4                        29                         12   \n",
       "\n",
       "   stays_in_weekend_nights  stays_in_week_nights  adults  ...  deposit_type  \\\n",
       "0                        0                     1       2  ...    No Deposit   \n",
       "1                        0                     4       1  ...    No Deposit   \n",
       "2                        1                     1       1  ...    No Deposit   \n",
       "3                        0                     0       1  ...    No Deposit   \n",
       "4                        2                     1       2  ...    No Deposit   \n",
       "\n",
       "   agent company days_in_waiting_list    customer_type    adr  \\\n",
       "0   52.0     NaN                    0        Transient   80.1   \n",
       "1    6.0     NaN                    0        Transient   17.6   \n",
       "2    9.0     NaN                    0        Transient  123.0   \n",
       "3  339.0     NaN                    0  Transient-Party    0.0   \n",
       "4    5.0     NaN                    0        Transient   82.0   \n",
       "\n",
       "   required_car_parking_spaces  total_of_special_requests  reservation_status  \\\n",
       "0                            0                          1            Canceled   \n",
       "1                            0                          1            Canceled   \n",
       "2                            1                          0           Check-Out   \n",
       "3                            0                          1           Check-Out   \n",
       "4                            0                          0            Canceled   \n",
       "\n",
       "  reservation_status_date  \n",
       "0              2017-05-27  \n",
       "1              2015-09-28  \n",
       "2              2016-04-25  \n",
       "3              2016-08-29  \n",
       "4              2015-06-26  \n",
       "\n",
       "[5 rows x 32 columns]"
      ]
     },
     "execution_count": 3,
     "metadata": {},
     "output_type": "execute_result"
    }
   ],
   "source": [
    "data = data.sample(frac=1).reset_index(drop=True)\n",
    "data.head()"
   ]
  },
  {
   "cell_type": "code",
   "execution_count": 4,
   "metadata": {},
   "outputs": [],
   "source": []
  },
  {
   "cell_type": "markdown",
   "metadata": {},
   "source": [
    "# Basic Exploratory Data Analysis"
   ]
  },
  {
   "cell_type": "code",
   "execution_count": 5,
   "metadata": {
    "scrolled": false
   },
   "outputs": [
    {
     "name": "stdout",
     "output_type": "stream",
     "text": [
      "<class 'pandas.core.frame.DataFrame'>\n",
      "RangeIndex: 119390 entries, 0 to 119389\n",
      "Data columns (total 32 columns):\n",
      " #   Column                          Non-Null Count   Dtype  \n",
      "---  ------                          --------------   -----  \n",
      " 0   hotel                           119390 non-null  object \n",
      " 1   is_canceled                     119390 non-null  int64  \n",
      " 2   lead_time                       119390 non-null  int64  \n",
      " 3   arrival_date_year               119390 non-null  int64  \n",
      " 4   arrival_date_month              119390 non-null  object \n",
      " 5   arrival_date_week_number        119390 non-null  int64  \n",
      " 6   arrival_date_day_of_month       119390 non-null  int64  \n",
      " 7   stays_in_weekend_nights         119390 non-null  int64  \n",
      " 8   stays_in_week_nights            119390 non-null  int64  \n",
      " 9   adults                          119390 non-null  int64  \n",
      " 10  children                        119386 non-null  float64\n",
      " 11  babies                          119390 non-null  int64  \n",
      " 12  meal                            119390 non-null  object \n",
      " 13  country                         118902 non-null  object \n",
      " 14  market_segment                  119390 non-null  object \n",
      " 15  distribution_channel            119390 non-null  object \n",
      " 16  is_repeated_guest               119390 non-null  int64  \n",
      " 17  previous_cancellations          119390 non-null  int64  \n",
      " 18  previous_bookings_not_canceled  119390 non-null  int64  \n",
      " 19  reserved_room_type              119390 non-null  object \n",
      " 20  assigned_room_type              119390 non-null  object \n",
      " 21  booking_changes                 119390 non-null  int64  \n",
      " 22  deposit_type                    119390 non-null  object \n",
      " 23  agent                           103050 non-null  float64\n",
      " 24  company                         6797 non-null    float64\n",
      " 25  days_in_waiting_list            119390 non-null  int64  \n",
      " 26  customer_type                   119390 non-null  object \n",
      " 27  adr                             119390 non-null  float64\n",
      " 28  required_car_parking_spaces     119390 non-null  int64  \n",
      " 29  total_of_special_requests       119390 non-null  int64  \n",
      " 30  reservation_status              119390 non-null  object \n",
      " 31  reservation_status_date         119390 non-null  object \n",
      "dtypes: float64(4), int64(16), object(12)\n",
      "memory usage: 29.1+ MB\n"
     ]
    }
   ],
   "source": [
    "data.info()"
   ]
  },
  {
   "cell_type": "code",
   "execution_count": 6,
   "metadata": {},
   "outputs": [
    {
     "data": {
      "text/plain": [
       "(119390, 32)"
      ]
     },
     "execution_count": 6,
     "metadata": {},
     "output_type": "execute_result"
    }
   ],
   "source": [
    "data.shape"
   ]
  },
  {
   "cell_type": "markdown",
   "metadata": {},
   "source": [
    "We can see that there are some columns where some of the values are null, we will have to manage it later on during the processing stage."
   ]
  },
  {
   "cell_type": "code",
   "execution_count": 7,
   "metadata": {},
   "outputs": [
    {
     "data": {
      "text/html": [
       "<div>\n",
       "<style scoped>\n",
       "    .dataframe tbody tr th:only-of-type {\n",
       "        vertical-align: middle;\n",
       "    }\n",
       "\n",
       "    .dataframe tbody tr th {\n",
       "        vertical-align: top;\n",
       "    }\n",
       "\n",
       "    .dataframe thead th {\n",
       "        text-align: right;\n",
       "    }\n",
       "</style>\n",
       "<table border=\"1\" class=\"dataframe\">\n",
       "  <thead>\n",
       "    <tr style=\"text-align: right;\">\n",
       "      <th></th>\n",
       "      <th>is_canceled</th>\n",
       "      <th>lead_time</th>\n",
       "      <th>arrival_date_year</th>\n",
       "      <th>arrival_date_week_number</th>\n",
       "      <th>arrival_date_day_of_month</th>\n",
       "      <th>stays_in_weekend_nights</th>\n",
       "      <th>stays_in_week_nights</th>\n",
       "      <th>adults</th>\n",
       "      <th>children</th>\n",
       "      <th>babies</th>\n",
       "      <th>is_repeated_guest</th>\n",
       "      <th>previous_cancellations</th>\n",
       "      <th>previous_bookings_not_canceled</th>\n",
       "      <th>booking_changes</th>\n",
       "      <th>agent</th>\n",
       "      <th>company</th>\n",
       "      <th>days_in_waiting_list</th>\n",
       "      <th>adr</th>\n",
       "      <th>required_car_parking_spaces</th>\n",
       "      <th>total_of_special_requests</th>\n",
       "    </tr>\n",
       "  </thead>\n",
       "  <tbody>\n",
       "    <tr>\n",
       "      <th>count</th>\n",
       "      <td>119390.000000</td>\n",
       "      <td>119390.000000</td>\n",
       "      <td>119390.000000</td>\n",
       "      <td>119390.000000</td>\n",
       "      <td>119390.000000</td>\n",
       "      <td>119390.000000</td>\n",
       "      <td>119390.000000</td>\n",
       "      <td>119390.000000</td>\n",
       "      <td>119386.000000</td>\n",
       "      <td>119390.000000</td>\n",
       "      <td>119390.000000</td>\n",
       "      <td>119390.000000</td>\n",
       "      <td>119390.000000</td>\n",
       "      <td>119390.000000</td>\n",
       "      <td>103050.000000</td>\n",
       "      <td>6797.000000</td>\n",
       "      <td>119390.000000</td>\n",
       "      <td>119390.000000</td>\n",
       "      <td>119390.000000</td>\n",
       "      <td>119390.000000</td>\n",
       "    </tr>\n",
       "    <tr>\n",
       "      <th>mean</th>\n",
       "      <td>0.370416</td>\n",
       "      <td>104.011416</td>\n",
       "      <td>2016.156554</td>\n",
       "      <td>27.165173</td>\n",
       "      <td>15.798241</td>\n",
       "      <td>0.927599</td>\n",
       "      <td>2.500302</td>\n",
       "      <td>1.856403</td>\n",
       "      <td>0.103890</td>\n",
       "      <td>0.007949</td>\n",
       "      <td>0.031912</td>\n",
       "      <td>0.087118</td>\n",
       "      <td>0.137097</td>\n",
       "      <td>0.221124</td>\n",
       "      <td>86.693382</td>\n",
       "      <td>189.266735</td>\n",
       "      <td>2.321149</td>\n",
       "      <td>101.831122</td>\n",
       "      <td>0.062518</td>\n",
       "      <td>0.571363</td>\n",
       "    </tr>\n",
       "    <tr>\n",
       "      <th>std</th>\n",
       "      <td>0.482918</td>\n",
       "      <td>106.863097</td>\n",
       "      <td>0.707476</td>\n",
       "      <td>13.605138</td>\n",
       "      <td>8.780829</td>\n",
       "      <td>0.998613</td>\n",
       "      <td>1.908286</td>\n",
       "      <td>0.579261</td>\n",
       "      <td>0.398561</td>\n",
       "      <td>0.097436</td>\n",
       "      <td>0.175767</td>\n",
       "      <td>0.844336</td>\n",
       "      <td>1.497437</td>\n",
       "      <td>0.652306</td>\n",
       "      <td>110.774548</td>\n",
       "      <td>131.655015</td>\n",
       "      <td>17.594721</td>\n",
       "      <td>50.535790</td>\n",
       "      <td>0.245291</td>\n",
       "      <td>0.792798</td>\n",
       "    </tr>\n",
       "    <tr>\n",
       "      <th>min</th>\n",
       "      <td>0.000000</td>\n",
       "      <td>0.000000</td>\n",
       "      <td>2015.000000</td>\n",
       "      <td>1.000000</td>\n",
       "      <td>1.000000</td>\n",
       "      <td>0.000000</td>\n",
       "      <td>0.000000</td>\n",
       "      <td>0.000000</td>\n",
       "      <td>0.000000</td>\n",
       "      <td>0.000000</td>\n",
       "      <td>0.000000</td>\n",
       "      <td>0.000000</td>\n",
       "      <td>0.000000</td>\n",
       "      <td>0.000000</td>\n",
       "      <td>1.000000</td>\n",
       "      <td>6.000000</td>\n",
       "      <td>0.000000</td>\n",
       "      <td>-6.380000</td>\n",
       "      <td>0.000000</td>\n",
       "      <td>0.000000</td>\n",
       "    </tr>\n",
       "    <tr>\n",
       "      <th>25%</th>\n",
       "      <td>0.000000</td>\n",
       "      <td>18.000000</td>\n",
       "      <td>2016.000000</td>\n",
       "      <td>16.000000</td>\n",
       "      <td>8.000000</td>\n",
       "      <td>0.000000</td>\n",
       "      <td>1.000000</td>\n",
       "      <td>2.000000</td>\n",
       "      <td>0.000000</td>\n",
       "      <td>0.000000</td>\n",
       "      <td>0.000000</td>\n",
       "      <td>0.000000</td>\n",
       "      <td>0.000000</td>\n",
       "      <td>0.000000</td>\n",
       "      <td>9.000000</td>\n",
       "      <td>62.000000</td>\n",
       "      <td>0.000000</td>\n",
       "      <td>69.290000</td>\n",
       "      <td>0.000000</td>\n",
       "      <td>0.000000</td>\n",
       "    </tr>\n",
       "    <tr>\n",
       "      <th>50%</th>\n",
       "      <td>0.000000</td>\n",
       "      <td>69.000000</td>\n",
       "      <td>2016.000000</td>\n",
       "      <td>28.000000</td>\n",
       "      <td>16.000000</td>\n",
       "      <td>1.000000</td>\n",
       "      <td>2.000000</td>\n",
       "      <td>2.000000</td>\n",
       "      <td>0.000000</td>\n",
       "      <td>0.000000</td>\n",
       "      <td>0.000000</td>\n",
       "      <td>0.000000</td>\n",
       "      <td>0.000000</td>\n",
       "      <td>0.000000</td>\n",
       "      <td>14.000000</td>\n",
       "      <td>179.000000</td>\n",
       "      <td>0.000000</td>\n",
       "      <td>94.575000</td>\n",
       "      <td>0.000000</td>\n",
       "      <td>0.000000</td>\n",
       "    </tr>\n",
       "    <tr>\n",
       "      <th>75%</th>\n",
       "      <td>1.000000</td>\n",
       "      <td>160.000000</td>\n",
       "      <td>2017.000000</td>\n",
       "      <td>38.000000</td>\n",
       "      <td>23.000000</td>\n",
       "      <td>2.000000</td>\n",
       "      <td>3.000000</td>\n",
       "      <td>2.000000</td>\n",
       "      <td>0.000000</td>\n",
       "      <td>0.000000</td>\n",
       "      <td>0.000000</td>\n",
       "      <td>0.000000</td>\n",
       "      <td>0.000000</td>\n",
       "      <td>0.000000</td>\n",
       "      <td>229.000000</td>\n",
       "      <td>270.000000</td>\n",
       "      <td>0.000000</td>\n",
       "      <td>126.000000</td>\n",
       "      <td>0.000000</td>\n",
       "      <td>1.000000</td>\n",
       "    </tr>\n",
       "    <tr>\n",
       "      <th>max</th>\n",
       "      <td>1.000000</td>\n",
       "      <td>737.000000</td>\n",
       "      <td>2017.000000</td>\n",
       "      <td>53.000000</td>\n",
       "      <td>31.000000</td>\n",
       "      <td>19.000000</td>\n",
       "      <td>50.000000</td>\n",
       "      <td>55.000000</td>\n",
       "      <td>10.000000</td>\n",
       "      <td>10.000000</td>\n",
       "      <td>1.000000</td>\n",
       "      <td>26.000000</td>\n",
       "      <td>72.000000</td>\n",
       "      <td>21.000000</td>\n",
       "      <td>535.000000</td>\n",
       "      <td>543.000000</td>\n",
       "      <td>391.000000</td>\n",
       "      <td>5400.000000</td>\n",
       "      <td>8.000000</td>\n",
       "      <td>5.000000</td>\n",
       "    </tr>\n",
       "  </tbody>\n",
       "</table>\n",
       "</div>"
      ],
      "text/plain": [
       "         is_canceled      lead_time  arrival_date_year  \\\n",
       "count  119390.000000  119390.000000      119390.000000   \n",
       "mean        0.370416     104.011416        2016.156554   \n",
       "std         0.482918     106.863097           0.707476   \n",
       "min         0.000000       0.000000        2015.000000   \n",
       "25%         0.000000      18.000000        2016.000000   \n",
       "50%         0.000000      69.000000        2016.000000   \n",
       "75%         1.000000     160.000000        2017.000000   \n",
       "max         1.000000     737.000000        2017.000000   \n",
       "\n",
       "       arrival_date_week_number  arrival_date_day_of_month  \\\n",
       "count             119390.000000              119390.000000   \n",
       "mean                  27.165173                  15.798241   \n",
       "std                   13.605138                   8.780829   \n",
       "min                    1.000000                   1.000000   \n",
       "25%                   16.000000                   8.000000   \n",
       "50%                   28.000000                  16.000000   \n",
       "75%                   38.000000                  23.000000   \n",
       "max                   53.000000                  31.000000   \n",
       "\n",
       "       stays_in_weekend_nights  stays_in_week_nights         adults  \\\n",
       "count            119390.000000         119390.000000  119390.000000   \n",
       "mean                  0.927599              2.500302       1.856403   \n",
       "std                   0.998613              1.908286       0.579261   \n",
       "min                   0.000000              0.000000       0.000000   \n",
       "25%                   0.000000              1.000000       2.000000   \n",
       "50%                   1.000000              2.000000       2.000000   \n",
       "75%                   2.000000              3.000000       2.000000   \n",
       "max                  19.000000             50.000000      55.000000   \n",
       "\n",
       "            children         babies  is_repeated_guest  \\\n",
       "count  119386.000000  119390.000000      119390.000000   \n",
       "mean        0.103890       0.007949           0.031912   \n",
       "std         0.398561       0.097436           0.175767   \n",
       "min         0.000000       0.000000           0.000000   \n",
       "25%         0.000000       0.000000           0.000000   \n",
       "50%         0.000000       0.000000           0.000000   \n",
       "75%         0.000000       0.000000           0.000000   \n",
       "max        10.000000      10.000000           1.000000   \n",
       "\n",
       "       previous_cancellations  previous_bookings_not_canceled  \\\n",
       "count           119390.000000                   119390.000000   \n",
       "mean                 0.087118                        0.137097   \n",
       "std                  0.844336                        1.497437   \n",
       "min                  0.000000                        0.000000   \n",
       "25%                  0.000000                        0.000000   \n",
       "50%                  0.000000                        0.000000   \n",
       "75%                  0.000000                        0.000000   \n",
       "max                 26.000000                       72.000000   \n",
       "\n",
       "       booking_changes          agent      company  days_in_waiting_list  \\\n",
       "count    119390.000000  103050.000000  6797.000000         119390.000000   \n",
       "mean          0.221124      86.693382   189.266735              2.321149   \n",
       "std           0.652306     110.774548   131.655015             17.594721   \n",
       "min           0.000000       1.000000     6.000000              0.000000   \n",
       "25%           0.000000       9.000000    62.000000              0.000000   \n",
       "50%           0.000000      14.000000   179.000000              0.000000   \n",
       "75%           0.000000     229.000000   270.000000              0.000000   \n",
       "max          21.000000     535.000000   543.000000            391.000000   \n",
       "\n",
       "                 adr  required_car_parking_spaces  total_of_special_requests  \n",
       "count  119390.000000                119390.000000              119390.000000  \n",
       "mean      101.831122                     0.062518                   0.571363  \n",
       "std        50.535790                     0.245291                   0.792798  \n",
       "min        -6.380000                     0.000000                   0.000000  \n",
       "25%        69.290000                     0.000000                   0.000000  \n",
       "50%        94.575000                     0.000000                   0.000000  \n",
       "75%       126.000000                     0.000000                   1.000000  \n",
       "max      5400.000000                     8.000000                   5.000000  "
      ]
     },
     "execution_count": 7,
     "metadata": {},
     "output_type": "execute_result"
    }
   ],
   "source": [
    "data.describe()"
   ]
  },
  {
   "cell_type": "markdown",
   "metadata": {},
   "source": [
    "We can see that 37% of the entire is_canceled variable are \"1\". It is a little bit imbalanced but it should not be a huge problem in this case."
   ]
  },
  {
   "cell_type": "markdown",
   "metadata": {},
   "source": [
    "Now lets see the unique values per column:"
   ]
  },
  {
   "cell_type": "code",
   "execution_count": 8,
   "metadata": {},
   "outputs": [
    {
     "name": "stdout",
     "output_type": "stream",
     "text": [
      "hotel - 2\n",
      "['City Hotel' 'Resort Hotel']\n",
      "\n",
      "is_canceled - 2\n",
      "[1 0]\n",
      "\n",
      "lead_time - 479\n",
      "[ 49  33   0  13 268   9  82 210 154 271 364  78  29 496   3 100 299 236\n",
      " 418 174 121  72  51  22 129  14  31 235 332 162  27  40  93  15   5  96\n",
      "  62 188  20  75 109 281  41 142 178  19  83  87 211  11   1  17 192  52\n",
      " 150  84  70  89  60 105  63  99 218 134  30  38  59  34 207  46  69  68\n",
      "  58 185  79 156 240 141 186 169  42 367  64  32 180  88 304  54 101  53\n",
      " 112   2 103  86 230 219  10 161 358 111 108  23 122  39 135  94 146 198\n",
      " 315 131  35  91  76   8   4 265 226  18  81  66 115  24 160 475  74  97\n",
      " 199 200  37 212 176 222 275 116 409 310  28 128 208  36  16  45  61 165\n",
      " 155 119 464 163 118  47  95 261 114 183   6  44 126 123 140 164 305 260\n",
      " 319 107 158 130  12 151  77 138  92 316 322  56 274 255 152 269  43 317\n",
      " 454 221 264  98 181 133 351  65 414 204 173 136 383  90 127 244  85 175\n",
      " 215 213   7 386  57 149 124  80 157 405 144  71 256 132 106 206 117 143\n",
      "  67 102 318 309 166 258 245  48 194 216 292 336  50 273 167  26 314 229\n",
      " 289 110 308 461 189 197  25 263 321 277 159 239 153 301 139  55 288 223\n",
      " 190 300 137 168 113 335 286 171 283 225 196 172 282 323 259 234 327 312\n",
      " 203 517 408 242 179  73 217 145 177 287 209 272 306 344 465 231 297 280\n",
      " 201 257 120 191 170 267 352 187 278 457 214 342 377 248 333 104 294 195\n",
      " 350 385 311 220 233 479 125 147 148 434 423 193 276 339 270 355  21 328\n",
      " 363 238 302 250 422 340 444 184 284 251 504 349 295 365 182 381 247 279\n",
      " 338 266 243 372 360 468 205 326 420 412 241 313 410 433 545 626 622 330\n",
      " 307 391 329 343 290 232 397 587 253 296 224 573 341 291 398 524 356 462\n",
      " 262 254 303 237 324 325 357 353 246 202 298 478 346 337 368 331 419 437\n",
      " 396 531 538 395 293 228 518 388 249 482 285 443 440 451 629 374 378 605\n",
      " 227 320 594 615 252 447 559 393 406 503 371 411 426 379 580 445 407 359\n",
      " 601 394 471 373 384 608 403 542 493 476 510 532 334 552 348 347 429 448\n",
      " 521 361 507 489 354 345 399 490 450 566 424 460 435 467 390 376 362 366\n",
      " 375 380 389 400 737 458 387 382 463 709 370]\n",
      "\n",
      "arrival_date_year - 3\n",
      "[2017 2015 2016]\n",
      "\n",
      "arrival_date_month - 12\n",
      "['July' 'October' 'April' 'August' 'January' 'September' 'June' 'November'\n",
      " 'February' 'May' 'December' 'March']\n",
      "\n",
      "arrival_date_week_number - 53\n",
      "[28 43 17 36 29  4 15 27 39 24  1 47  8 33 20 40 16 44 25 32 23 14 50 26\n",
      " 53 46 31 30 19 49 21 42  9 13 34 10 45 48 38 11 18 22 51  3 35 12 52 37\n",
      "  5 41  7  2  6]\n",
      "\n",
      "arrival_date_day_of_month - 31\n",
      "[12 21 23 29 17  8  6  9 16  2 10 20 26 31 28 19  3  7  5 25 24 22 11 27\n",
      " 30 15  4 14 18  1 13]\n",
      "\n",
      "stays_in_weekend_nights - 17\n",
      "[ 0  1  2  4  3  6  7  5  8 10 14 16  9 13 18 12 19]\n",
      "\n",
      "stays_in_week_nights - 35\n",
      "[ 1  4  0  2  3  5  6  9 11  7 10  8 15 18 20 19 14 21 13 12 34 22 16 41\n",
      " 24 40 25 30 17 42 32 33 26 50 35]\n",
      "\n",
      "adults - 14\n",
      "[ 2  1  3  0  4  5 26 20  6 27 55 10 50 40]\n",
      "\n",
      "children - 6\n",
      "[ 0.  1.  2.  3. nan 10.]\n",
      "\n",
      "babies - 5\n",
      "[ 0  1  2 10  9]\n",
      "\n",
      "meal - 5\n",
      "['BB' 'HB' 'SC' 'Undefined' 'FB']\n",
      "\n",
      "country - 178\n",
      "['PRT' 'DEU' 'ITA' 'HRV' 'NLD' 'CN' 'GBR' 'BEL' 'ESP' 'FRA' 'ISR' 'JPN'\n",
      " 'IRL' 'RUS' 'BRA' 'KOR' 'CZE' 'JEY' 'USA' 'NOR' 'AUT' 'MEX' 'CHE' 'AGO'\n",
      " 'POL' 'ROU' 'AUS' 'CHN' nan 'PHL' 'IRN' 'FIN' 'SWE' 'DNK' 'MAR' 'HKG'\n",
      " 'LUX' 'ISL' 'ARG' 'EST' 'BGD' 'URY' 'MDV' 'BGR' 'ALB' 'GRC' 'IND' 'TUR'\n",
      " 'SRB' 'SGP' 'CYP' 'ETH' 'LBN' 'HUN' 'PER' 'THA' 'TUN' 'DZA' 'MOZ' 'CRI'\n",
      " 'ARE' 'GEO' 'LTU' 'TWN' 'BLR' 'NZL' 'SAU' 'KAZ' 'SVK' 'LKA' 'BOL' 'IMN'\n",
      " 'KWT' 'PAN' 'UKR' 'JOR' 'MAC' 'CHL' 'IDN' 'MYS' 'VEN' 'ECU' 'GNB' 'CAF'\n",
      " 'PRI' 'CPV' 'LVA' 'ZAF' 'SVN' 'SUR' 'UGA' 'QAT' 'MKD' 'MUS' 'EGY' 'DOM'\n",
      " 'PAK' 'ARM' 'RWA' 'ZWE' 'IRQ' 'NGA' 'LBY' 'SEN' 'COL' 'VNM' 'OMN' 'TGO'\n",
      " 'KHM' 'MNE' 'GHA' 'MCO' 'AZE' 'TJK' 'DMA' 'GGY' 'GTM' 'FRO' 'BIH' 'GAB'\n",
      " 'CIV' 'TZA' 'CUB' 'PLW' 'ATA' 'MWI' 'KEN' 'ZMB' 'MLT' 'PRY' 'CMR' 'BWA'\n",
      " 'LAO' 'STP' 'GIB' 'BHR' 'ABW' 'GUY' 'NAM' 'GLP' 'JAM' 'VGB' 'SYR' 'AND'\n",
      " 'COM' 'BDI' 'MLI' 'SDN' 'ASM' 'LIE' 'BFA' 'SYC' 'KIR' 'DJI' 'MRT' 'MYT'\n",
      " 'CYM' 'AIA' 'TMP' 'UZB' 'NIC' 'MMR' 'KNA' 'SLV' 'SMR' 'NCL' 'BRB' 'BEN'\n",
      " 'UMI' 'FJI' 'PYF' 'HND' 'LCA' 'ATF' 'SLE' 'BHS' 'MDG' 'NPL']\n",
      "\n",
      "market_segment - 8\n",
      "['Offline TA/TO' 'Online TA' 'Direct' 'Groups' 'Corporate' 'Complementary'\n",
      " 'Aviation' 'Undefined']\n",
      "\n",
      "distribution_channel - 5\n",
      "['TA/TO' 'Direct' 'Corporate' 'GDS' 'Undefined']\n",
      "\n",
      "is_repeated_guest - 2\n",
      "[0 1]\n",
      "\n",
      "previous_cancellations - 15\n",
      "[ 0  1  2 14 24 26 19 25  3  6  4 11 13  5 21]\n",
      "\n",
      "previous_bookings_not_canceled - 73\n",
      "[ 0  1  3  7  2  4  8  5 16 12  6 19 11  9 26 34 13 23 10 14 68 15 20 39\n",
      " 44 28 24 17 27 18 31 46 22 25 29 54 52 48 53 21 57 61 38 62 30 35 56 42\n",
      " 59 40 58 64 32 69 45 65 70 49 63 66 67 36 47 72 55 51 33 41 37 60 50 43\n",
      " 71]\n",
      "\n",
      "reserved_room_type - 10\n",
      "['A' 'D' 'E' 'G' 'F' 'B' 'C' 'H' 'P' 'L']\n",
      "\n",
      "assigned_room_type - 12\n",
      "['A' 'I' 'D' 'E' 'G' 'H' 'F' 'B' 'C' 'K' 'P' 'L']\n",
      "\n",
      "booking_changes - 21\n",
      "[ 0  1  2  3  4  6  5 11  7 16 10  9 12 15 14  8 13 20 17 18 21]\n",
      "\n",
      "deposit_type - 3\n",
      "['No Deposit' 'Non Refund' 'Refundable']\n",
      "\n",
      "agent - 334\n",
      "[ 52.   6.   9. 339.   5. 240.  12.  21.   7.  14.   1.  nan 315.  58.\n",
      "  37. 134. 185. 484. 241. 250. 119.   3.  26.   8. 242.  34.  19. 196.\n",
      "  85.  10. 326. 104.   2.  35. 152. 334.  31. 335.  20. 481. 314. 359.\n",
      " 183. 177.  28.  89.  27.  83.  29.  17. 243. 262. 229.  96. 308. 138.\n",
      "  86. 142. 251. 115.  30. 313.  41. 493. 171.  44. 323. 159.  16.  40.\n",
      " 253. 205.   4. 298.  98.  11. 273. 111.  39. 281. 118.  42.  95. 168.\n",
      " 167.  15.  22. 459. 192. 133.  94. 397. 147. 146.  81. 191. 385.  67.\n",
      " 149. 236. 348. 174.  66. 467. 410. 208. 286. 234.  82.  38. 132.  36.\n",
      " 368.  60. 127. 195. 468.  99. 219.  68. 143. 156. 248. 364.  69.  91.\n",
      " 434. 307. 261.  57. 336.  56. 411. 155. 151. 527. 170. 249. 252. 270.\n",
      " 509. 510. 464. 245. 502. 390.  24.  71.  79. 375.  50. 193.  33. 330.\n",
      " 350. 162. 423. 214. 154.  87. 290. 531. 112. 153.  47.  72. 296.  74.\n",
      "  32. 175. 220. 201. 440. 474. 354.  13. 235. 446. 256. 332.  25. 173.\n",
      " 254. 182. 163. 139.  92.  78.  23. 325.  64. 157. 495. 526. 449. 360.\n",
      "  75.  77. 295. 455. 305. 184. 479. 430. 436. 378. 181. 128.  53. 441.\n",
      " 387. 405.  63. 106. 187. 492. 327. 384. 328. 331. 450. 276. 425. 352.\n",
      " 344. 371.  55. 121. 394. 275. 508. 257. 310. 429. 180. 288. 321. 324.\n",
      " 110. 103. 223. 302. 393. 232. 300. 306. 129. 165. 141. 150. 346. 105.\n",
      " 278. 337. 126. 367. 535. 211. 418. 283. 107. 476. 144. 215. 258.  88.\n",
      " 303. 454. 475. 427. 227. 403. 304.  70. 404. 285.  45. 358.  90. 216.\n",
      " 483. 289. 451. 341. 431. 244. 438. 363. 355. 453. 461. 388. 280. 444.\n",
      " 299. 282. 135. 391. 179. 287. 420. 480. 197. 117. 426. 148. 294. 269.\n",
      " 472. 158.  73. 265. 408. 469. 210. 291.  54. 497. 122. 247. 414. 370.\n",
      "  59.  61.  93. 213. 333. 416. 114. 406. 267. 433. 301. 432.]\n",
      "\n",
      "company - 353\n",
      "[ nan 275. 281.  67.  72.  39.  40. 135. 290.  38. 379. 193. 110. 153.\n",
      " 148. 317. 507.  51. 169. 233. 154. 219. 384. 180.  68. 223.  31. 385.\n",
      " 202.  91. 408.  45. 238. 498. 478. 224. 343. 209. 242. 280. 216. 331.\n",
      "  86. 398. 308. 342. 515. 388.  62. 107. 485. 291. 409. 418. 451.  16.\n",
      " 525.  29. 218.   9. 424. 477.  53. 521. 282. 302. 270. 286. 118.  81.\n",
      "  94. 195. 399. 186.  20.  47. 292.  92. 108. 113. 132. 197. 405. 200.\n",
      " 105. 174. 144. 382. 183.  99. 380. 337.  88. 428. 450.  46. 365. 353.\n",
      " 407. 360. 230. 393. 465. 167. 423. 222. 221. 307. 297. 444. 369. 289.\n",
      " 263. 192. 390. 426. 100. 127. 392. 470. 378. 367. 112. 348. 227. 293.\n",
      " 504. 204. 163. 397. 203. 338. 255. 178. 179. 150. 383. 130. 321. 523.\n",
      " 366.  22. 140.  78. 482. 137. 251. 349. 288. 269.  34. 149. 122. 400.\n",
      " 146.  49. 185.  48.  42. 313. 437. 246. 364. 159. 232.  82. 115. 435.\n",
      "  54. 142. 511. 456. 371. 422.  28.  43.  14. 330. 279. 324. 356. 333.\n",
      " 530. 460. 319. 395. 260. 323. 458. 103. 394. 334. 486. 272. 346. 445.\n",
      " 109.  12.  77. 531. 358.  52. 207. 143. 439. 325. 499. 274.  59. 215.\n",
      " 225. 311. 417. 312. 484. 415. 268. 528.  83.  84. 329. 421. 494. 377.\n",
      " 361. 309. 318. 355. 362.  37. 403.  64. 120. 332. 357. 352. 448. 250.\n",
      " 481. 396. 368. 277.  73. 457. 350. 165.  65. 483. 271. 497. 240. 433.\n",
      " 539. 452. 287. 492. 220. 514. 455. 490. 273. 412.   6. 534. 454. 320.\n",
      " 126. 254. 217.  76. 258. 420. 101. 373.  35. 243. 516. 158. 479. 518.\n",
      "  18. 278. 245. 410. 443. 512. 459. 104. 391. 436. 411.  32. 259. 442.\n",
      " 210. 139. 314. 284. 341. 304. 543. 316.  96. 257.  61. 106. 116. 491.\n",
      " 416. 506. 425. 401. 229. 351.  10. 347. 402.  93. 102. 413. 234.  85.\n",
      " 487.  11. 501. 372.  71. 253. 461. 184. 301. 168. 212. 237. 429. 446.\n",
      " 466. 370. 305.   8. 386. 447. 496.  80. 376. 489. 541. 160. 513. 419.\n",
      " 264. 213. 520.]\n",
      "\n",
      "days_in_waiting_list - 128\n",
      "[  0 223  46  58  61  39  77  63  91  69  96 122  65  22 101  59  57  48\n",
      "  31  40  75  20  35  99  89  25  79  71  50 391  49  42  80   6   3  87\n",
      " 111  62  44  55  43  28  56  45  41 147  38  93 160   9   2 120  10  34\n",
      "  68  98  24 178  17 187  21 207 176 125 107  85  14 215  27   8 154 108\n",
      "  19 162  33 236 379  60 121  47   1  32  15  70  26 224 330  97 113   4\n",
      " 259   5  36 150  64  13  81   7 174  11  16  12  23  84  92 105  18  74\n",
      " 117 100 116 167  37 185 109 165  73 175  53 183  83  30 142  72  54 193\n",
      "  76  52]\n",
      "\n",
      "customer_type - 4\n",
      "['Transient' 'Transient-Party' 'Contract' 'Group']\n",
      "\n",
      "adr - 8879\n",
      "[ 80.1   17.6  123.   ...  51.02 119.38  52.6 ]\n",
      "\n",
      "required_car_parking_spaces - 5\n",
      "[0 1 2 3 8]\n",
      "\n",
      "total_of_special_requests - 6\n",
      "[1 0 2 4 3 5]\n",
      "\n",
      "reservation_status - 3\n",
      "['Canceled' 'Check-Out' 'No-Show']\n",
      "\n",
      "reservation_status_date - 926\n",
      "['2017-05-27' '2015-09-28' '2016-04-25' '2016-08-29' '2015-06-26'\n",
      " '2016-01-23' '2016-04-12' '2017-05-17' '2017-06-22' '2016-09-24'\n",
      " '2017-05-11' '2017-04-26' '2016-12-31' '2015-10-21' '2016-07-14'\n",
      " '2016-02-21' '2016-07-15' '2016-04-18' '2015-07-02' '2016-08-02'\n",
      " '2016-12-09' '2016-09-01' '2015-10-31' '2017-06-23' '2016-08-04'\n",
      " '2017-06-09' '2016-06-28' '2017-04-04' '2016-12-08' '2016-10-28'\n",
      " '2016-06-26' '2016-06-07' '2017-07-02' '2016-12-28' '2016-06-24'\n",
      " '2015-11-15' '2016-07-08' '2017-07-13' '2015-07-30' '2016-11-21'\n",
      " '2016-01-18' '2017-05-12' '2015-11-22' '2016-09-05' '2017-08-02'\n",
      " '2016-08-05' '2016-07-22' '2017-06-11' '2017-02-06' '2017-04-13'\n",
      " '2016-12-01' '2015-10-01' '2017-01-18' '2017-03-12' '2017-05-24'\n",
      " '2016-02-18' '2016-09-13' '2017-03-06' '2017-07-28' '2017-03-29'\n",
      " '2015-12-14' '2016-08-16' '2016-07-27' '2017-01-01' '2016-03-04'\n",
      " '2016-11-07' '2015-12-01' '2015-09-19' '2017-01-17' '2017-05-16'\n",
      " '2015-09-09' '2016-05-03' '2016-05-18' '2017-03-21' '2015-10-04'\n",
      " '2016-05-25' '2017-05-09' '2016-08-03' '2016-02-20' '2017-04-18'\n",
      " '2015-12-20' '2016-11-25' '2017-01-19' '2017-01-02' '2016-10-21'\n",
      " '2016-07-30' '2016-01-06' '2017-02-23' '2016-02-16' '2017-09-04'\n",
      " '2017-03-26' '2016-11-15' '2015-09-21' '2017-05-20' '2017-01-05'\n",
      " '2016-08-20' '2016-03-08' '2015-01-01' '2016-11-30' '2015-10-22'\n",
      " '2016-03-13' '2016-11-16' '2017-06-10' '2016-09-22' '2015-07-06'\n",
      " '2015-08-16' '2016-06-03' '2016-08-21' '2015-08-20' '2016-02-01'\n",
      " '2017-08-19' '2016-04-27' '2016-01-11' '2016-02-12' '2016-01-26'\n",
      " '2016-07-13' '2015-09-26' '2016-07-11' '2017-01-07' '2016-07-28'\n",
      " '2015-07-23' '2016-05-06' '2016-09-23' '2015-08-30' '2016-11-17'\n",
      " '2016-02-10' '2017-05-29' '2017-05-19' '2016-09-20' '2017-04-08'\n",
      " '2016-07-16' '2015-05-27' '2017-06-04' '2016-11-27' '2016-01-28'\n",
      " '2015-12-29' '2017-03-11' '2015-09-23' '2016-06-22' '2017-04-06'\n",
      " '2016-11-19' '2016-11-04' '2016-01-08' '2016-06-12' '2016-11-06'\n",
      " '2016-04-09' '2015-04-02' '2016-07-24' '2016-11-26' '2016-12-02'\n",
      " '2015-08-21' '2017-06-05' '2017-08-28' '2016-01-05' '2016-02-13'\n",
      " '2016-03-02' '2016-04-03' '2016-06-19' '2016-07-02' '2016-08-19'\n",
      " '2016-12-29' '2016-05-10' '2017-03-08' '2017-04-05' '2017-01-26'\n",
      " '2015-10-12' '2016-05-28' '2015-10-14' '2015-07-09' '2015-08-01'\n",
      " '2015-08-08' '2016-12-15' '2017-08-21' '2017-08-31' '2017-05-30'\n",
      " '2016-03-18' '2016-10-20' '2016-09-15' '2017-05-06' '2017-04-03'\n",
      " '2017-05-26' '2017-04-21' '2017-04-28' '2017-04-07' '2017-06-08'\n",
      " '2015-08-09' '2015-08-02' '2016-08-17' '2017-02-16' '2017-07-11'\n",
      " '2015-10-06' '2016-01-03' '2016-03-23' '2016-09-03' '2015-12-06'\n",
      " '2016-09-27' '2017-06-30' '2016-06-30' '2016-04-13' '2015-08-17'\n",
      " '2016-05-31' '2017-06-01' '2015-07-08' '2016-07-18' '2016-03-15'\n",
      " '2016-12-07' '2015-07-27' '2016-03-29' '2016-09-28' '2016-03-06'\n",
      " '2017-07-06' '2016-10-09' '2015-08-27' '2016-04-06' '2015-12-16'\n",
      " '2016-10-08' '2017-01-24' '2017-04-15' '2016-05-17' '2016-06-14'\n",
      " '2017-05-10' '2016-05-08' '2016-03-10' '2016-03-12' '2016-11-23'\n",
      " '2017-01-08' '2015-11-14' '2016-09-07' '2017-06-24' '2017-02-03'\n",
      " '2017-08-30' '2016-05-29' '2016-02-14' '2015-11-24' '2015-10-11'\n",
      " '2016-12-11' '2016-03-17' '2017-07-04' '2015-11-30' '2015-04-18'\n",
      " '2016-02-02' '2015-06-17' '2017-01-15' '2015-11-19' '2016-03-16'\n",
      " '2017-03-16' '2016-09-26' '2015-08-14' '2017-07-09' '2015-09-05'\n",
      " '2016-01-10' '2017-04-24' '2017-08-17' '2017-06-18' '2015-11-11'\n",
      " '2015-10-19' '2016-07-09' '2016-02-09' '2015-08-15' '2015-10-20'\n",
      " '2015-07-10' '2017-03-27' '2016-08-15' '2016-12-21' '2017-02-12'\n",
      " '2016-03-03' '2015-12-18' '2016-12-20' '2017-03-07' '2017-07-15'\n",
      " '2016-09-29' '2016-08-26' '2016-12-18' '2017-07-24' '2017-07-12'\n",
      " '2016-04-29' '2016-05-12' '2016-12-13' '2016-07-06' '2016-03-27'\n",
      " '2016-10-27' '2017-01-20' '2017-04-16' '2016-09-06' '2016-06-20'\n",
      " '2017-01-29' '2016-02-07' '2017-02-28' '2016-06-11' '2015-10-25'\n",
      " '2017-01-30' '2015-11-04' '2017-02-08' '2017-05-08' '2015-12-25'\n",
      " '2016-05-14' '2017-08-18' '2016-06-06' '2017-06-06' '2017-03-28'\n",
      " '2017-02-15' '2015-11-20' '2016-09-21' '2016-03-28' '2017-08-26'\n",
      " '2017-05-23' '2016-05-13' '2017-01-03' '2015-09-17' '2016-10-02'\n",
      " '2016-09-25' '2016-10-06' '2016-11-09' '2017-03-17' '2015-10-30'\n",
      " '2015-11-17' '2015-10-07' '2016-03-24' '2017-01-10' '2016-04-20'\n",
      " '2016-02-05' '2017-05-22' '2017-09-03' '2016-11-05' '2017-07-07'\n",
      " '2017-03-18' '2017-04-17' '2016-10-18' '2015-07-07' '2017-02-17'\n",
      " '2015-04-28' '2015-07-16' '2016-03-09' '2017-07-31' '2016-09-12'\n",
      " '2016-08-25' '2015-09-12' '2017-03-05' '2016-10-29' '2017-06-26'\n",
      " '2017-04-09' '2016-09-18' '2016-04-10' '2016-04-21' '2015-10-10'\n",
      " '2016-10-13' '2016-05-15' '2015-08-10' '2016-09-02' '2015-10-18'\n",
      " '2015-03-25' '2015-11-03' '2017-06-16' '2017-08-06' '2017-09-01'\n",
      " '2017-06-03' '2015-05-14' '2017-05-15' '2016-12-30' '2016-12-05'\n",
      " '2015-11-10' '2016-03-26' '2016-01-01' '2015-09-11' '2015-09-18'\n",
      " '2016-04-17' '2016-04-30' '2017-05-21' '2015-07-18' '2017-01-21'\n",
      " '2016-07-03' '2017-02-25' '2016-11-12' '2015-08-31' '2016-02-29'\n",
      " '2017-08-01' '2016-11-28' '2016-10-17' '2016-07-25' '2016-04-15'\n",
      " '2017-05-14' '2016-05-22' '2015-11-05' '2016-06-01' '2015-12-22'\n",
      " '2016-12-27' '2017-02-24' '2015-07-29' '2016-03-07' '2015-10-29'\n",
      " '2016-07-20' '2017-02-09' '2017-02-19' '2016-04-22' '2015-09-14'\n",
      " '2015-04-30' '2017-03-30' '2016-04-04' '2016-08-11' '2017-06-25'\n",
      " '2015-08-22' '2015-04-15' '2016-11-24' '2015-08-13' '2017-07-22'\n",
      " '2017-03-15' '2016-09-19' '2016-10-23' '2016-11-02' '2015-08-29'\n",
      " '2016-09-14' '2015-09-04' '2016-05-20' '2016-02-23' '2015-07-03'\n",
      " '2017-08-14' '2015-12-12' '2017-04-29' '2016-01-13' '2016-01-22'\n",
      " '2016-11-14' '2016-04-11' '2016-10-10' '2015-06-01' '2015-10-03'\n",
      " '2016-12-16' '2017-07-30' '2016-08-13' '2015-09-30' '2017-03-14'\n",
      " '2016-04-19' '2016-06-09' '2016-02-03' '2015-07-26' '2016-02-27'\n",
      " '2016-02-25' '2017-03-25' '2016-07-21' '2017-01-27' '2017-02-02'\n",
      " '2015-04-23' '2015-09-22' '2017-07-16' '2016-06-10' '2017-02-13'\n",
      " '2017-08-15' '2017-06-21' '2016-04-26' '2017-03-23' '2016-12-17'\n",
      " '2017-04-11' '2015-08-28' '2016-12-12' '2016-09-04' '2016-05-26'\n",
      " '2017-02-07' '2016-07-23' '2016-05-19' '2015-11-06' '2016-05-27'\n",
      " '2016-05-04' '2017-05-28' '2017-05-05' '2016-06-13' '2016-08-06'\n",
      " '2016-02-15' '2016-05-23' '2015-08-19' '2015-08-12' '2017-05-02'\n",
      " '2016-01-09' '2015-07-24' '2016-09-11' '2015-11-02' '2017-07-20'\n",
      " '2015-05-16' '2017-01-22' '2017-02-20' '2016-05-30' '2017-08-03'\n",
      " '2017-03-20' '2016-04-28' '2015-11-12' '2017-03-22' '2016-08-27'\n",
      " '2016-01-29' '2015-09-29' '2016-06-29' '2017-02-11' '2016-10-14'\n",
      " '2016-10-24' '2017-04-20' '2017-07-23' '2017-03-24' '2015-11-08'\n",
      " '2017-07-01' '2016-10-05' '2016-12-22' '2015-06-30' '2017-07-29'\n",
      " '2016-08-08' '2016-07-12' '2016-02-19' '2015-09-27' '2015-07-14'\n",
      " '2017-01-16' '2015-09-24' '2017-01-13' '2015-12-04' '2016-11-13'\n",
      " '2016-10-15' '2015-05-06' '2016-01-27' '2016-07-31' '2017-01-06'\n",
      " '2016-10-07' '2016-03-11' '2017-04-12' '2016-10-30' '2015-09-08'\n",
      " '2017-02-10' '2015-06-15' '2017-05-07' '2016-07-04' '2016-12-04'\n",
      " '2017-07-03' '2015-12-08' '2016-10-22' '2017-08-24' '2017-02-05'\n",
      " '2017-04-30' '2016-04-08' '2015-10-27' '2017-01-23' '2017-04-19'\n",
      " '2015-08-03' '2016-11-01' '2015-07-22' '2017-04-22' '2015-05-29'\n",
      " '2017-06-29' '2016-06-02' '2017-03-09' '2016-02-22' '2017-04-25'\n",
      " '2015-12-13' '2017-01-28' '2016-11-11' '2015-08-24' '2016-08-30'\n",
      " '2016-03-05' '2016-01-19' '2016-06-17' '2016-12-06' '2017-03-10'\n",
      " '2016-06-23' '2015-01-21' '2015-10-16' '2017-06-27' '2017-01-31'\n",
      " '2017-03-19' '2016-07-01' '2015-11-26' '2016-01-20' '2017-08-27'\n",
      " '2015-12-09' '2015-10-28' '2017-08-09' '2017-08-04' '2016-03-22'\n",
      " '2016-02-28' '2016-05-16' '2016-10-16' '2017-05-13' '2017-09-02'\n",
      " '2016-03-31' '2017-06-28' '2016-12-24' '2015-10-17' '2016-11-10'\n",
      " '2017-06-20' '2016-10-11' '2017-03-13' '2016-03-30' '2015-10-05'\n",
      " '2015-09-13' '2016-09-30' '2017-08-12' '2016-06-05' '2017-01-11'\n",
      " '2015-08-07' '2017-07-19' '2016-07-05' '2017-04-14' '2017-06-14'\n",
      " '2017-06-02' '2015-11-18' '2016-02-11' '2015-08-05' '2015-09-03'\n",
      " '2016-05-11' '2015-01-30' '2017-03-02' '2017-06-17' '2015-11-16'\n",
      " '2016-01-24' '2016-08-09' '2016-01-21' '2017-04-02' '2015-09-06'\n",
      " '2015-07-19' '2015-08-23' '2017-07-25' '2017-07-14' '2015-12-23'\n",
      " '2016-08-24' '2016-09-08' '2017-07-26' '2015-09-15' '2017-02-21'\n",
      " '2017-04-01' '2016-05-07' '2016-10-31' '2015-08-11' '2016-03-21'\n",
      " '2016-08-23' '2016-02-08' '2017-03-04' '2017-08-07' '2017-06-07'\n",
      " '2017-08-11' '2016-08-10' '2016-02-26' '2016-05-21' '2016-05-24'\n",
      " '2016-09-10' '2015-09-02' '2016-08-14' '2016-09-17' '2017-07-18'\n",
      " '2016-07-29' '2016-07-10' '2016-06-25' '2015-10-23' '2016-07-19'\n",
      " '2016-01-02' '2015-11-25' '2016-08-18' '2017-08-08' '2015-05-12'\n",
      " '2016-11-20' '2015-08-18' '2017-08-29' '2017-06-15' '2016-06-08'\n",
      " '2015-11-09' '2014-10-17' '2015-10-26' '2017-02-04' '2016-03-25'\n",
      " '2016-05-02' '2015-12-26' '2016-08-28' '2016-06-16' '2016-02-04'\n",
      " '2016-10-04' '2017-08-05' '2016-05-05' '2015-12-11' '2016-01-12'\n",
      " '2015-04-29' '2017-04-23' '2015-12-07' '2017-03-31' '2016-02-24'\n",
      " '2015-12-02' '2016-02-17' '2016-12-23' '2016-08-31' '2017-05-25'\n",
      " '2016-06-15' '2015-12-03' '2016-11-22' '2016-04-07' '2016-12-14'\n",
      " '2016-10-03' '2017-01-09' '2017-07-08' '2015-09-25' '2015-05-28'\n",
      " '2015-03-03' '2015-11-07' '2015-09-16' '2016-03-01' '2017-08-25'\n",
      " '2017-02-14' '2015-07-11' '2017-01-14' '2015-10-09' '2017-07-10'\n",
      " '2016-08-07' '2017-02-26' '2017-05-18' '2017-09-06' '2015-12-28'\n",
      " '2016-06-27' '2016-10-25' '2016-01-14' '2015-10-13' '2016-01-07'\n",
      " '2016-03-20' '2017-04-27' '2016-06-21' '2015-11-27' '2016-12-19'\n",
      " '2015-06-09' '2017-05-31' '2015-10-15' '2016-01-04' '2017-01-25'\n",
      " '2016-12-26' '2016-01-31' '2016-07-17' '2015-12-24' '2017-06-19'\n",
      " '2015-09-20' '2016-08-12' '2017-08-20' '2017-04-10' '2016-09-16'\n",
      " '2015-06-16' '2017-07-17' '2015-05-18' '2016-11-08' '2017-01-12'\n",
      " '2016-07-26' '2016-01-16' '2017-06-13' '2017-03-01' '2016-01-30'\n",
      " '2016-12-03' '2015-11-21' '2015-07-31' '2015-12-10' '2015-03-24'\n",
      " '2015-11-23' '2015-07-20' '2017-08-13' '2015-10-08' '2015-09-07'\n",
      " '2015-09-01' '2017-05-04' '2015-08-06' '2015-06-19' '2015-10-24'\n",
      " '2015-06-29' '2015-12-30' '2016-04-14' '2017-03-03' '2015-12-05'\n",
      " '2016-04-01' '2016-04-16' '2017-02-01' '2017-08-10' '2016-12-10'\n",
      " '2016-04-23' '2015-07-21' '2015-05-20' '2017-07-05' '2015-07-01'\n",
      " '2015-11-29' '2017-08-16' '2017-07-27' '2016-10-26' '2016-08-01'\n",
      " '2015-08-26' '2017-08-22' '2016-04-05' '2017-08-23' '2016-01-15'\n",
      " '2016-10-12' '2016-09-09' '2016-01-17' '2015-04-08' '2017-06-12'\n",
      " '2016-12-25' '2015-06-23' '2015-09-10' '2016-03-14' '2016-11-18'\n",
      " '2017-05-01' '2017-07-21' '2017-02-27' '2016-04-24' '2015-02-09'\n",
      " '2015-07-17' '2016-05-09' '2015-11-28' '2015-07-15' '2016-06-04'\n",
      " '2016-08-22' '2015-07-25' '2016-10-19' '2015-12-31' '2017-01-04'\n",
      " '2016-07-07' '2015-07-04' '2016-04-02' '2015-05-01' '2016-02-06'\n",
      " '2015-12-19' '2017-02-18' '2015-11-01' '2015-07-28' '2015-08-25'\n",
      " '2017-02-22' '2015-12-15' '2015-08-04' '2017-09-05' '2015-01-02'\n",
      " '2016-03-19' '2015-10-02' '2016-06-18' '2017-05-03' '2015-07-12'\n",
      " '2015-06-25' '2015-07-05' '2016-11-29' '2016-05-01' '2015-06-12'\n",
      " '2016-01-25' '2015-05-19' '2015-11-13' '2015-04-04' '2016-11-03'\n",
      " '2015-12-27' '2015-06-11' '2015-07-13' '2015-12-17' '2016-10-01'\n",
      " '2017-09-08' '2015-12-21' '2017-09-09' '2015-06-22' '2015-06-05'\n",
      " '2015-02-26' '2015-04-17' '2015-03-23' '2015-05-25' '2015-04-03'\n",
      " '2015-04-16' '2015-05-05' '2015-06-02' '2015-04-10' '2015-05-15'\n",
      " '2015-03-09' '2015-04-24' '2015-06-08' '2015-05-23' '2015-05-22'\n",
      " '2015-01-20' '2015-04-13' '2015-03-18' '2015-04-05' '2015-01-22'\n",
      " '2015-06-24' '2015-05-09' '2015-06-04' '2015-04-20' '2015-06-13'\n",
      " '2015-01-28' '2015-06-03' '2015-06-10' '2015-02-02' '2015-05-13'\n",
      " '2015-02-23' '2015-02-17' '2015-06-20' '2015-05-11' '2015-04-27'\n",
      " '2015-06-27' '2015-06-18' '2015-03-05' '2015-05-04' '2015-05-26'\n",
      " '2015-05-08' '2015-02-05' '2015-02-25' '2017-09-07' '2015-04-22'\n",
      " '2015-03-06' '2015-06-06' '2015-05-30' '2014-11-18' '2015-02-19'\n",
      " '2015-06-14' '2015-02-12' '2015-05-21' '2015-05-07' '2015-03-31'\n",
      " '2015-03-29' '2015-02-10' '2015-04-14' '2017-09-10' '2015-02-20'\n",
      " '2015-02-11' '2015-04-25' '2015-03-12' '2015-03-04' '2015-02-27'\n",
      " '2017-09-14' '2015-04-11' '2015-03-10' '2015-03-17' '2015-01-18'\n",
      " '2015-03-11' '2015-04-06' '2017-09-12' '2015-04-21' '2015-03-30'\n",
      " '2015-02-06' '2015-01-29' '2015-02-24' '2015-03-28' '2015-03-13'\n",
      " '2015-04-07']\n",
      "\n"
     ]
    }
   ],
   "source": [
    "for column in data:\n",
    "    print(f'{column} - {len(data[column].unique())}')\n",
    "    print(data[column].unique())\n",
    "    print()"
   ]
  },
  {
   "cell_type": "markdown",
   "metadata": {},
   "source": [
    "Missing Values"
   ]
  },
  {
   "cell_type": "code",
   "execution_count": 9,
   "metadata": {},
   "outputs": [
    {
     "data": {
      "text/plain": [
       "children     0.003350\n",
       "country      0.408744\n",
       "agent       13.686238\n",
       "company     94.306893\n",
       "dtype: float64"
      ]
     },
     "execution_count": 9,
     "metadata": {},
     "output_type": "execute_result"
    }
   ],
   "source": [
    "a = data.isna().mean()*100\n",
    "a[a>0]"
   ]
  },
  {
   "cell_type": "code",
   "execution_count": 10,
   "metadata": {},
   "outputs": [
    {
     "data": {
      "text/plain": [
       "children         4\n",
       "country        488\n",
       "agent        16340\n",
       "company     112593\n",
       "dtype: int64"
      ]
     },
     "execution_count": 10,
     "metadata": {},
     "output_type": "execute_result"
    }
   ],
   "source": [
    "a = data.isna().sum()\n",
    "a[a>0]"
   ]
  },
  {
   "cell_type": "markdown",
   "metadata": {},
   "source": [
    "Distributions"
   ]
  },
  {
   "cell_type": "code",
   "execution_count": 11,
   "metadata": {},
   "outputs": [
    {
     "data": {
      "text/plain": [
       "['is_canceled',\n",
       " 'lead_time',\n",
       " 'arrival_date_year',\n",
       " 'arrival_date_week_number',\n",
       " 'arrival_date_day_of_month',\n",
       " 'stays_in_weekend_nights',\n",
       " 'stays_in_week_nights',\n",
       " 'adults',\n",
       " 'children',\n",
       " 'babies',\n",
       " 'is_repeated_guest',\n",
       " 'previous_cancellations',\n",
       " 'previous_bookings_not_canceled',\n",
       " 'booking_changes',\n",
       " 'agent',\n",
       " 'company',\n",
       " 'days_in_waiting_list',\n",
       " 'adr',\n",
       " 'required_car_parking_spaces',\n",
       " 'total_of_special_requests']"
      ]
     },
     "execution_count": 11,
     "metadata": {},
     "output_type": "execute_result"
    }
   ],
   "source": [
    "numeric_columns = data.select_dtypes(include=np.number).columns\n",
    "list(numeric_columns)"
   ]
  },
  {
   "cell_type": "code",
   "execution_count": 12,
   "metadata": {},
   "outputs": [
    {
     "data": {
      "text/plain": [
       "Index(['hotel', 'arrival_date_month', 'meal', 'country', 'market_segment',\n",
       "       'distribution_channel', 'reserved_room_type', 'assigned_room_type',\n",
       "       'deposit_type', 'customer_type', 'reservation_status',\n",
       "       'reservation_status_date'],\n",
       "      dtype='object')"
      ]
     },
     "execution_count": 12,
     "metadata": {},
     "output_type": "execute_result"
    }
   ],
   "source": [
    "non_numeric_columns = data.select_dtypes(exclude=np.number).columns\n",
    "non_numeric_columns"
   ]
  },
  {
   "cell_type": "markdown",
   "metadata": {},
   "source": [
    "Numeric Columns:"
   ]
  },
  {
   "cell_type": "code",
   "execution_count": 13,
   "metadata": {
    "scrolled": false
   },
   "outputs": [
    {
     "name": "stdout",
     "output_type": "stream",
     "text": [
      "Column: is_canceled\n",
      "Unique values: 2\n"
     ]
    },
    {
     "data": {
      "image/png": "[encoded data removed]",
      "text/plain": [
       "<Figure size 432x288 with 1 Axes>"
      ]
     },
     "metadata": {
      "needs_background": "light"
     },
     "output_type": "display_data"
    },
    {
     "name": "stdout",
     "output_type": "stream",
     "text": [
      "Column: lead_time\n",
      "Unique values: 479\n"
     ]
    },
    {
     "data": {
      "image/png": "[encoded data removed]",
      "text/plain": [
       "<Figure size 432x288 with 1 Axes>"
      ]
     },
     "metadata": {
      "needs_background": "light"
     },
     "output_type": "display_data"
    },
    {
     "name": "stdout",
     "output_type": "stream",
     "text": [
      "Column: arrival_date_year\n",
      "Unique values: 3\n"
     ]
    },
    {
     "data": {
      "image/png": "[encoded data removed]",
      "text/plain": [
       "<Figure size 432x288 with 1 Axes>"
      ]
     },
     "metadata": {
      "needs_background": "light"
     },
     "output_type": "display_data"
    },
    {
     "name": "stdout",
     "output_type": "stream",
     "text": [
      "Column: arrival_date_week_number\n",
      "Unique values: 53\n"
     ]
    },
    {
     "data": {
      "image/png": "[encoded data removed]",
      "text/plain": [
       "<Figure size 432x288 with 1 Axes>"
      ]
     },
     "metadata": {
      "needs_background": "light"
     },
     "output_type": "display_data"
    },
    {
     "name": "stdout",
     "output_type": "stream",
     "text": [
      "Column: arrival_date_day_of_month\n",
      "Unique values: 31\n"
     ]
    },
    {
     "data": {
      "image/png": "[encoded data removed]",
      "text/plain": [
       "<Figure size 432x288 with 1 Axes>"
      ]
     },
     "metadata": {
      "needs_background": "light"
     },
     "output_type": "display_data"
    },
    {
     "name": "stdout",
     "output_type": "stream",
     "text": [
      "Column: stays_in_weekend_nights\n",
      "Unique values: 17\n"
     ]
    },
    {
     "data": {
      "image/png": "[encoded data removed]",
      "text/plain": [
       "<Figure size 432x288 with 1 Axes>"
      ]
     },
     "metadata": {
      "needs_background": "light"
     },
     "output_type": "display_data"
    },
    {
     "name": "stdout",
     "output_type": "stream",
     "text": [
      "Column: stays_in_week_nights\n",
      "Unique values: 35\n"
     ]
    },
    {
     "data": {
      "image/png": "[encoded data removed]",
      "text/plain": [
       "<Figure size 432x288 with 1 Axes>"
      ]
     },
     "metadata": {
      "needs_background": "light"
     },
     "output_type": "display_data"
    },
    {
     "name": "stdout",
     "output_type": "stream",
     "text": [
      "Column: adults\n",
      "Unique values: 14\n"
     ]
    },
    {
     "data": {
      "image/png": "[encoded data removed]",
      "text/plain": [
       "<Figure size 432x288 with 1 Axes>"
      ]
     },
     "metadata": {
      "needs_background": "light"
     },
     "output_type": "display_data"
    },
    {
     "name": "stdout",
     "output_type": "stream",
     "text": [
      "Column: children\n",
      "Unique values: 6\n"
     ]
    },
    {
     "data": {
      "image/png": "[encoded data removed]",
      "text/plain": [
       "<Figure size 432x288 with 1 Axes>"
      ]
     },
     "metadata": {
      "needs_background": "light"
     },
     "output_type": "display_data"
    },
    {
     "name": "stdout",
     "output_type": "stream",
     "text": [
      "Column: babies\n",
      "Unique values: 5\n"
     ]
    },
    {
     "data": {
      "image/png": "[encoded data removed]",
      "text/plain": [
       "<Figure size 432x288 with 1 Axes>"
      ]
     },
     "metadata": {
      "needs_background": "light"
     },
     "output_type": "display_data"
    },
    {
     "name": "stdout",
     "output_type": "stream",
     "text": [
      "Column: is_repeated_guest\n",
      "Unique values: 2\n"
     ]
    },
    {
     "data": {
      "image/png": "[encoded data removed]",
      "text/plain": [
       "<Figure size 432x288 with 1 Axes>"
      ]
     },
     "metadata": {
      "needs_background": "light"
     },
     "output_type": "display_data"
    },
    {
     "name": "stdout",
     "output_type": "stream",
     "text": [
      "Column: previous_cancellations\n",
      "Unique values: 15\n"
     ]
    },
    {
     "data": {
      "image/png": "[encoded data removed]",
      "text/plain": [
       "<Figure size 432x288 with 1 Axes>"
      ]
     },
     "metadata": {
      "needs_background": "light"
     },
     "output_type": "display_data"
    },
    {
     "name": "stdout",
     "output_type": "stream",
     "text": [
      "Column: previous_bookings_not_canceled\n",
      "Unique values: 73\n"
     ]
    },
    {
     "data": {
      "image/png": "[encoded data removed]",
      "text/plain": [
       "<Figure size 432x288 with 1 Axes>"
      ]
     },
     "metadata": {
      "needs_background": "light"
     },
     "output_type": "display_data"
    },
    {
     "name": "stdout",
     "output_type": "stream",
     "text": [
      "Column: booking_changes\n",
      "Unique values: 21\n"
     ]
    },
    {
     "data": {
      "image/png": "[encoded data removed]",
      "text/plain": [
       "<Figure size 432x288 with 1 Axes>"
      ]
     },
     "metadata": {
      "needs_background": "light"
     },
     "output_type": "display_data"
    },
    {
     "name": "stdout",
     "output_type": "stream",
     "text": [
      "Column: agent\n",
      "Unique values: 334\n"
     ]
    },
    {
     "data": {
      "image/png": "[encoded data removed]",
      "text/plain": [
       "<Figure size 432x288 with 1 Axes>"
      ]
     },
     "metadata": {
      "needs_background": "light"
     },
     "output_type": "display_data"
    },
    {
     "name": "stdout",
     "output_type": "stream",
     "text": [
      "Column: company\n",
      "Unique values: 353\n"
     ]
    },
    {
     "data": {
      "image/png": "[encoded data removed]",
      "text/plain": [
       "<Figure size 432x288 with 1 Axes>"
      ]
     },
     "metadata": {
      "needs_background": "light"
     },
     "output_type": "display_data"
    },
    {
     "name": "stdout",
     "output_type": "stream",
     "text": [
      "Column: days_in_waiting_list\n",
      "Unique values: 128\n"
     ]
    },
    {
     "data": {
      "image/png": "[encoded data removed]",
      "text/plain": [
       "<Figure size 432x288 with 1 Axes>"
      ]
     },
     "metadata": {
      "needs_background": "light"
     },
     "output_type": "display_data"
    },
    {
     "name": "stdout",
     "output_type": "stream",
     "text": [
      "Column: adr\n",
      "Unique values: 8879\n"
     ]
    },
    {
     "data": {
      "image/png": "[encoded data removed]",
      "text/plain": [
       "<Figure size 432x288 with 1 Axes>"
      ]
     },
     "metadata": {
      "needs_background": "light"
     },
     "output_type": "display_data"
    },
    {
     "name": "stdout",
     "output_type": "stream",
     "text": [
      "Column: required_car_parking_spaces\n",
      "Unique values: 5\n"
     ]
    },
    {
     "data": {
      "image/png": "[encoded data removed]",
      "text/plain": [
       "<Figure size 432x288 with 1 Axes>"
      ]
     },
     "metadata": {
      "needs_background": "light"
     },
     "output_type": "display_data"
    },
    {
     "name": "stdout",
     "output_type": "stream",
     "text": [
      "Column: total_of_special_requests\n",
      "Unique values: 6\n"
     ]
    },
    {
     "data": {
      "image/png": "[encoded data removed]",
      "text/plain": [
       "<Figure size 432x288 with 1 Axes>"
      ]
     },
     "metadata": {
      "needs_background": "light"
     },
     "output_type": "display_data"
    }
   ],
   "source": [
    "for column in numeric_columns:\n",
    "    print(f'Column: {column}')\n",
    "    print(f'Unique values: {len(data[column].unique())}')\n",
    "    data[column].plot.hist(bins=20)\n",
    "    plt.show()"
   ]
  },
  {
   "cell_type": "markdown",
   "metadata": {},
   "source": [
    "Categorical Columns:"
   ]
  },
  {
   "cell_type": "code",
   "execution_count": 14,
   "metadata": {
    "scrolled": false
   },
   "outputs": [
    {
     "name": "stdout",
     "output_type": "stream",
     "text": [
      "Columns: hotel\n",
      "Unique values: 2\n"
     ]
    },
    {
     "data": {
      "image/png": "[encoded data removed]",
      "text/plain": [
       "<Figure size 432x288 with 1 Axes>"
      ]
     },
     "metadata": {
      "needs_background": "light"
     },
     "output_type": "display_data"
    },
    {
     "name": "stdout",
     "output_type": "stream",
     "text": [
      "Columns: arrival_date_month\n",
      "Unique values: 12\n"
     ]
    },
    {
     "data": {
      "image/png": "[encoded data removed]",
      "text/plain": [
       "<Figure size 432x288 with 1 Axes>"
      ]
     },
     "metadata": {
      "needs_background": "light"
     },
     "output_type": "display_data"
    },
    {
     "name": "stdout",
     "output_type": "stream",
     "text": [
      "Columns: meal\n",
      "Unique values: 5\n"
     ]
    },
    {
     "data": {
      "image/png": "[encoded data removed]",
      "text/plain": [
       "<Figure size 432x288 with 1 Axes>"
      ]
     },
     "metadata": {
      "needs_background": "light"
     },
     "output_type": "display_data"
    },
    {
     "name": "stdout",
     "output_type": "stream",
     "text": [
      "Columns: country\n",
      "Unique values: 178\n"
     ]
    },
    {
     "data": {
      "image/png": "[encoded data removed]",
      "text/plain": [
       "<Figure size 432x288 with 1 Axes>"
      ]
     },
     "metadata": {
      "needs_background": "light"
     },
     "output_type": "display_data"
    },
    {
     "name": "stdout",
     "output_type": "stream",
     "text": [
      "Columns: market_segment\n",
      "Unique values: 8\n"
     ]
    },
    {
     "data": {
      "image/png": "[encoded data removed]",
      "text/plain": [
       "<Figure size 432x288 with 1 Axes>"
      ]
     },
     "metadata": {
      "needs_background": "light"
     },
     "output_type": "display_data"
    },
    {
     "name": "stdout",
     "output_type": "stream",
     "text": [
      "Columns: distribution_channel\n",
      "Unique values: 5\n"
     ]
    },
    {
     "data": {
      "image/png": "[encoded data removed]",
      "text/plain": [
       "<Figure size 432x288 with 1 Axes>"
      ]
     },
     "metadata": {
      "needs_background": "light"
     },
     "output_type": "display_data"
    },
    {
     "name": "stdout",
     "output_type": "stream",
     "text": [
      "Columns: reserved_room_type\n",
      "Unique values: 10\n"
     ]
    },
    {
     "data": {
      "image/png": "[encoded data removed]",
      "text/plain": [
       "<Figure size 432x288 with 1 Axes>"
      ]
     },
     "metadata": {
      "needs_background": "light"
     },
     "output_type": "display_data"
    },
    {
     "name": "stdout",
     "output_type": "stream",
     "text": [
      "Columns: assigned_room_type\n",
      "Unique values: 12\n"
     ]
    },
    {
     "data": {
      "image/png": "[encoded data removed]",
      "text/plain": [
       "<Figure size 432x288 with 1 Axes>"
      ]
     },
     "metadata": {
      "needs_background": "light"
     },
     "output_type": "display_data"
    },
    {
     "name": "stdout",
     "output_type": "stream",
     "text": [
      "Columns: deposit_type\n",
      "Unique values: 3\n"
     ]
    },
    {
     "data": {
      "image/png": "[encoded data removed]",
      "text/plain": [
       "<Figure size 432x288 with 1 Axes>"
      ]
     },
     "metadata": {
      "needs_background": "light"
     },
     "output_type": "display_data"
    },
    {
     "name": "stdout",
     "output_type": "stream",
     "text": [
      "Columns: customer_type\n",
      "Unique values: 4\n"
     ]
    },
    {
     "data": {
      "image/png": "[encoded data removed]",
      "text/plain": [
       "<Figure size 432x288 with 1 Axes>"
      ]
     },
     "metadata": {
      "needs_background": "light"
     },
     "output_type": "display_data"
    },
    {
     "name": "stdout",
     "output_type": "stream",
     "text": [
      "Columns: reservation_status\n",
      "Unique values: 3\n"
     ]
    },
    {
     "data": {
      "image/png": "[encoded data removed]",
      "text/plain": [
       "<Figure size 432x288 with 1 Axes>"
      ]
     },
     "metadata": {
      "needs_background": "light"
     },
     "output_type": "display_data"
    },
    {
     "name": "stdout",
     "output_type": "stream",
     "text": [
      "Columns: reservation_status_date\n",
      "Unique values: 926\n"
     ]
    },
    {
     "data": {
      "image/png": "[encoded data removed]",
      "text/plain": [
       "<Figure size 432x288 with 1 Axes>"
      ]
     },
     "metadata": {
      "needs_background": "light"
     },
     "output_type": "display_data"
    }
   ],
   "source": [
    "\n",
    "for column in non_numeric_columns:\n",
    "    print(f'Columns: {column}')\n",
    "    print(f'Unique values: {len(data[column].unique())}')\n",
    "    data[column].value_counts().plot.bar()\n",
    "    plt.show()"
   ]
  },
  {
   "cell_type": "code",
   "execution_count": 15,
   "metadata": {},
   "outputs": [
    {
     "data": {
      "image/png": "[encoded data removed]",
      "text/plain": [
       "<Figure size 432x288 with 1 Axes>"
      ]
     },
     "metadata": {},
     "output_type": "display_data"
    }
   ],
   "source": [
    "sns.set(style = \"darkgrid\")\n",
    "plt.title(\"Canceled or not\", fontdict = {'fontsize': 20})\n",
    "ax = sns.countplot(x = \"is_canceled\", hue = 'is_repeated_guest', data = data)"
   ]
  },
  {
   "cell_type": "markdown",
   "metadata": {},
   "source": [
    "From the graph above we can assume that repeated guests do not cancel their reservations. The data looks logic."
   ]
  },
  {
   "cell_type": "code",
   "execution_count": 16,
   "metadata": {},
   "outputs": [
    {
     "data": {
      "image/png": "[encoded data removed]",
      "text/plain": [
       "<Figure size 936x720 with 1 Axes>"
      ]
     },
     "metadata": {},
     "output_type": "display_data"
    }
   ],
   "source": [
    "plt.figure(figsize = (13,10))\n",
    "sns.set(style = \"darkgrid\")\n",
    "plt.title(\"Countplot Distributon of Segments by Cancellation\", fontdict = {'fontsize':20})\n",
    "ax = sns.countplot(x = \"market_segment\", hue = 'is_canceled', data = data)"
   ]
  },
  {
   "cell_type": "code",
   "execution_count": 17,
   "metadata": {
    "scrolled": false
   },
   "outputs": [
    {
     "data": {
      "image/png": "[encoded data removed]",
      "text/plain": [
       "<Figure size 936x720 with 1 Axes>"
      ]
     },
     "metadata": {},
     "output_type": "display_data"
    }
   ],
   "source": [
    "plt.figure(figsize = (13,10))\n",
    "sns.set(style = \"darkgrid\")\n",
    "plt.title(\"Countplot Distrubiton of Segment by Deposit Type\", fontdict = {'fontsize':20})\n",
    "ax = sns.countplot(x = \"market_segment\", hue = 'deposit_type', data = data)"
   ]
  },
  {
   "cell_type": "markdown",
   "metadata": {},
   "source": [
    "- When we look at Distribution of Segment by Deposit Type graph it is clear that Group reservations are often made with Non Refund Deposit - which is quite obvious because group reservations are much bigger than individual guests and they require reservation of many rooms. When the group cancels the reservation, hotel will not be easily able to fill the empty rooms.\n",
    "- I guess that case with Offline TA/TO is similar. Travel Agents probably reserve many rooms at the same time so they may be treated same as groups - these are only my assumption, I am not sure of this case."
   ]
  },
  {
   "cell_type": "code",
   "execution_count": 18,
   "metadata": {},
   "outputs": [],
   "source": [
    "months = ['January', 'February', 'March', 'April', 'May', 'June', 'July', 'August', 'September', 'October', \\\n",
    "         'November', 'December']"
   ]
  },
  {
   "cell_type": "code",
   "execution_count": 19,
   "metadata": {
    "scrolled": true
   },
   "outputs": [
    {
     "data": {
      "image/png": "[encoded data removed]",
      "text/plain": [
       "<Figure size 1440x720 with 1 Axes>"
      ]
     },
     "metadata": {},
     "output_type": "display_data"
    }
   ],
   "source": [
    "plt.figure(figsize = (20,10))\n",
    "sns.barplot(x = 'arrival_date_month', y = 'is_canceled', hue = 'hotel', data = data, order = months);"
   ]
  },
  {
   "cell_type": "code",
   "execution_count": 20,
   "metadata": {},
   "outputs": [
    {
     "data": {
      "image/png": "[encoded data removed]",
      "text/plain": [
       "<Figure size 936x720 with 1 Axes>"
      ]
     },
     "metadata": {},
     "output_type": "display_data"
    }
   ],
   "source": [
    "plt.figure(figsize =(13,10))\n",
    "sns.set(style=\"darkgrid\")\n",
    "plt.title(\"Total Customers - Monthly \", fontdict={'fontsize': 20})\n",
    "ax = sns.countplot(x = \"arrival_date_month\", hue = 'hotel', data = data, order = months)"
   ]
  },
  {
   "cell_type": "markdown",
   "metadata": {},
   "source": [
    "We can clearly see that during winter time there is a lot less guests in both hotels. The cancelation rate is lower in that period of time as well in Resort Hotel. In City Hotel the cancelation rate is generally on the constant level for the entire year."
   ]
  },
  {
   "cell_type": "markdown",
   "metadata": {},
   "source": [
    "How to deal with Country variable?"
   ]
  },
  {
   "cell_type": "code",
   "execution_count": 21,
   "metadata": {
    "scrolled": true
   },
   "outputs": [
    {
     "data": {
      "text/plain": [
       "PRT    48590\n",
       "GBR    12129\n",
       "FRA    10415\n",
       "ESP     8568\n",
       "DEU     7287\n",
       "ITA     3766\n",
       "IRL     3375\n",
       "BEL     2342\n",
       "BRA     2224\n",
       "NLD     2104\n",
       "USA     2097\n",
       "CHE     1730\n",
       "CN      1279\n",
       "AUT     1263\n",
       "SWE     1024\n",
       "CHN      999\n",
       "POL      919\n",
       "ISR      669\n",
       "RUS      632\n",
       "NOR      607\n",
       "Name: country, dtype: int64"
      ]
     },
     "execution_count": 21,
     "metadata": {},
     "output_type": "execute_result"
    }
   ],
   "source": [
    "data.country.value_counts().head(20)"
   ]
  },
  {
   "cell_type": "markdown",
   "metadata": {},
   "source": [
    "# Feature Engineering"
   ]
  },
  {
   "cell_type": "markdown",
   "metadata": {},
   "source": [
    "Conclusions:\n",
    "- Numeric columns are skewed. For linear algorithms it can be a problem. Log or Yeo-Jonson transformation may help.\n",
    "\n",
    "Categorical columns:\n",
    "- City and Resort hotel: change for binary\n",
    "- Arrival date month: one hot encoding (?) - not sure yet\n",
    "- Meal: BB + others\n",
    "- Country: Group the countries\n",
    "- Market_segment: Online TA, Offline TA/TO, Groups, Others\n",
    "- Distribution_channel: TA/TO, Others\n",
    "- Reserved_room_type: A, Others\n",
    "- Assigned_room_type: A, D, Others\n",
    "- deposit_type: No Deposit, Non Refund Deposit, Refundable\n",
    "- Customer_type: Transient, Others\n",
    "- Reservation_status: CHeck-out, Canceled, No-show\n",
    "- reservation_status_date: Remove(?)\n",
    "\n",
    "Numeric columns:\n",
    "- Company: Remove, too many missing values\n",
    "- Agent: Remove\n",
    "- Children: fill with mode\n",
    "- Country: drop NA"
   ]
  },
  {
   "cell_type": "code",
   "execution_count": 22,
   "metadata": {},
   "outputs": [],
   "source": [
    "df = data.copy()"
   ]
  },
  {
   "cell_type": "code",
   "execution_count": 23,
   "metadata": {},
   "outputs": [],
   "source": [
    "# I want to remove \"company\" and \"reservation_status_date\" + \"agent\"\n",
    "\n",
    "class RemoveColumnsTransformer(BaseEstimator, TransformerMixin):\n",
    "    def __init__(self, columns_to_remove: list):\n",
    "        self.columns_to_remove = columns_to_remove\n",
    "    \n",
    "    # even if nothing to fit, this method must return self\n",
    "    def fit(self, X, y = None ):\n",
    "        return self \n",
    "    \n",
    "    def transform(self, X, y = None ):\n",
    "        return X.drop(self.columns_to_remove, axis=1)"
   ]
  },
  {
   "cell_type": "code",
   "execution_count": 24,
   "metadata": {},
   "outputs": [],
   "source": [
    "class SelectColumnsByTypeTransformer(BaseEstimator, TransformerMixin):\n",
    "    def __init__( self, type_to_select):\n",
    "        self.type_to_select = type_to_select\n",
    "    \n",
    "    \n",
    "    def fit( self, X, y = None ):\n",
    "        return self \n",
    "    \n",
    "    def transform( self, X, y = None ):\n",
    "        if self.type_to_select == 'numeric':\n",
    "            return X.select_dtypes(include=np.number)\n",
    "        else:\n",
    "            return X.select_dtypes(exclude=np.number)"
   ]
  },
  {
   "cell_type": "code",
   "execution_count": 25,
   "metadata": {},
   "outputs": [],
   "source": [
    "class HotelTransformer(BaseEstimator, TransformerMixin):\n",
    "    def __init__(self):\n",
    "        pass\n",
    "    \n",
    "    def fit( self, X, y = None ):\n",
    "        return self \n",
    "    \n",
    "    def transform( self, X, y = None ):\n",
    "        X['hotel'] = X['hotel'].apply(lambda x: 0 if x=='Resort Hotel' else 1)\n",
    "        return X"
   ]
  },
  {
   "cell_type": "code",
   "execution_count": 26,
   "metadata": {},
   "outputs": [],
   "source": [
    "class Market_segment_Transformer(BaseEstimator, TransformerMixin):\n",
    "    def __init__(self):\n",
    "        pass\n",
    "    \n",
    "    def fit( self, X, y = None ):\n",
    "        return self \n",
    "    \n",
    "    def transform( self, X, y = None ):\n",
    "        categories = ['Online TA', 'Offline TA/TO', 'Groups', 'Direct']\n",
    "        X['market_segment'] = X['market_segment'].apply(lambda x: \"Other\" if x not in categories else x)\n",
    "        return X"
   ]
  },
  {
   "cell_type": "code",
   "execution_count": 27,
   "metadata": {},
   "outputs": [],
   "source": [
    "class ChannelTransformer(BaseEstimator, TransformerMixin):\n",
    "    def __init__(self):\n",
    "        pass\n",
    "    \n",
    "    def fit( self, X, y = None ):\n",
    "        return self \n",
    "    \n",
    "    def transform( self, X, y = None ):\n",
    "        X['distribution_channel'] = X['distribution_channel'].apply(lambda x: 1 if x=='TA/TO' else 0)\n",
    "        return X"
   ]
  },
  {
   "cell_type": "code",
   "execution_count": 28,
   "metadata": {},
   "outputs": [],
   "source": [
    "class ReservedTransformer(BaseEstimator, TransformerMixin):\n",
    "    def __init__(self):\n",
    "        pass\n",
    "    \n",
    "    def fit( self, X, y = None ):\n",
    "        return self \n",
    "    \n",
    "    def transform( self, X, y = None ):\n",
    "        X['reserved_room_type'] = X['reserved_room_type'].apply(lambda x: 1 if x=='A' else 0)\n",
    "        return X"
   ]
  },
  {
   "cell_type": "code",
   "execution_count": 29,
   "metadata": {},
   "outputs": [],
   "source": [
    "class AssignedTransformer(BaseEstimator, TransformerMixin):\n",
    "    def __init__(self):\n",
    "        pass\n",
    "    \n",
    "    def fit( self, X, y = None ):\n",
    "        return self \n",
    "    \n",
    "    def transform( self, X, y = None ):\n",
    "        categories = ['A', 'D']\n",
    "        X['assigned_room_type'] = X['assigned_room_type'].apply(lambda x: \"Other\" if x not in categories else x)\n",
    "        return X"
   ]
  },
  {
   "cell_type": "code",
   "execution_count": 30,
   "metadata": {},
   "outputs": [],
   "source": [
    "class CustomerTransformer(BaseEstimator, TransformerMixin):\n",
    "    def __init__(self):\n",
    "        pass\n",
    "    \n",
    "    def fit( self, X, y = None ):\n",
    "        return self \n",
    "    \n",
    "    def transform( self, X, y = None ):\n",
    "        X['customer_type'] = X['customer_type'].apply(lambda x: 1 if x=='Transient' else 0)\n",
    "        return X"
   ]
  },
  {
   "cell_type": "code",
   "execution_count": 31,
   "metadata": {},
   "outputs": [],
   "source": [
    "class ImputeNumColsTransformer(BaseEstimator, TransformerMixin):\n",
    "    def __init__( self, method):\n",
    "        self.method=method\n",
    "        # for keeping values to impute any specified column\n",
    "        self.impute_values = {}\n",
    "        \n",
    "    def fit( self, X, y = None ):\n",
    "        if self.method == 'mean':\n",
    "            for col in X:\n",
    "                mean = X[col].mean()\n",
    "                self.impute_values[col] = mean\n",
    "        # extra option is added here\n",
    "        elif self.method == 'median':\n",
    "            for col in X:\n",
    "                median = X[col].median()\n",
    "                self.impute_values[col] = median\n",
    "            \n",
    "        return self \n",
    "    \n",
    "    def transform( self, X, y = None ):\n",
    "        for col in X:\n",
    "            value_to_impute = self.impute_values[col]\n",
    "            X[col] = X[col].fillna(value_to_impute)\n",
    "        return X"
   ]
  },
  {
   "cell_type": "code",
   "execution_count": 32,
   "metadata": {},
   "outputs": [],
   "source": [
    "class ImputeCatColsTransformer(BaseEstimator, TransformerMixin):\n",
    "    def __init__( self, method='mode'):\n",
    "        self.method=method\n",
    "        # for keeping values to impute any specified column\n",
    "        self.impute_values = {}\n",
    "        \n",
    "    def fit( self, X, y = None ):\n",
    "        if self.method == 'mode':\n",
    "            for col in X:\n",
    "                mode = X[col].mode()[0]\n",
    "                self.impute_values[col] = mode\n",
    "        elif self.method == 'missing':\n",
    "            for col in X:\n",
    "                self.impute_values[col] = 'missing'\n",
    "        return self \n",
    "    \n",
    "    def transform( self, X, y = None ):\n",
    "        for col in X:\n",
    "            value_to_impute = self.impute_values[col]\n",
    "            X[col] = X[col].astype('object')\n",
    "            X[col] = X[col].fillna(value_to_impute)\n",
    "        return X"
   ]
  },
  {
   "cell_type": "code",
   "execution_count": 33,
   "metadata": {},
   "outputs": [],
   "source": [
    "class DropNATransformer(BaseEstimator, TransformerMixin):\n",
    "    def __init__(self):\n",
    "        pass\n",
    "        \n",
    "        \n",
    "    def fit( self, X, y = None ):\n",
    "        return self \n",
    "    \n",
    "    def transform( self, X, y = None ):\n",
    "        df_features = X.copy()      \n",
    "        \n",
    "        # drop missing values\n",
    "        df_features = df_features.dropna()\n",
    "    \n",
    "        return df_features"
   ]
  },
  {
   "cell_type": "code",
   "execution_count": 34,
   "metadata": {},
   "outputs": [],
   "source": [
    "class GetDummiesTransformer(BaseEstimator, TransformerMixin):\n",
    "    def __init__(self):\n",
    "        pass\n",
    "        \n",
    "        \n",
    "    def fit( self, X, y = None ):\n",
    "        return self \n",
    "    \n",
    "    def transform( self, X, y = None ):\n",
    "        df_features = X.copy()      \n",
    "        \n",
    "        # drop missing values\n",
    "        df_features = pd.get_dummies(df_features)\n",
    "    \n",
    "        return df_features"
   ]
  },
  {
   "cell_type": "code",
   "execution_count": 35,
   "metadata": {},
   "outputs": [],
   "source": [
    "class SelectColumnsTransformer(BaseEstimator, TransformerMixin):\n",
    "    def __init__( self, columns_to_select: list):\n",
    "        self.columns_to_select = columns_to_select\n",
    "    \n",
    "    # even if nothing to fit, this method must return self\n",
    "    def fit( self, X, y = None ):\n",
    "        return self \n",
    "    \n",
    "    def transform( self, X, y = None ):\n",
    "        return X[self.columns_to_select]"
   ]
  },
  {
   "cell_type": "code",
   "execution_count": 36,
   "metadata": {},
   "outputs": [],
   "source": [
    "class MealTransformer(BaseEstimator, TransformerMixin):\n",
    "    def __init__(self):\n",
    "        pass\n",
    "    \n",
    "    def fit( self, X, y = None ):\n",
    "        return self \n",
    "    \n",
    "    def transform( self, X, y = None ):\n",
    "        X['meal'] = X['meal'].apply(lambda x: 'BB' if x=='BB' else 'Other')\n",
    "        return X"
   ]
  },
  {
   "cell_type": "code",
   "execution_count": 37,
   "metadata": {},
   "outputs": [
    {
     "data": {
      "text/plain": [
       "['lead_time',\n",
       " 'arrival_date_year',\n",
       " 'arrival_date_week_number',\n",
       " 'arrival_date_day_of_month',\n",
       " 'stays_in_weekend_nights',\n",
       " 'stays_in_week_nights',\n",
       " 'adults',\n",
       " 'children',\n",
       " 'babies',\n",
       " 'is_repeated_guest',\n",
       " 'previous_cancellations',\n",
       " 'previous_bookings_not_canceled',\n",
       " 'booking_changes',\n",
       " 'agent',\n",
       " 'company',\n",
       " 'days_in_waiting_list',\n",
       " 'adr',\n",
       " 'required_car_parking_spaces',\n",
       " 'total_of_special_requests']"
      ]
     },
     "execution_count": 37,
     "metadata": {},
     "output_type": "execute_result"
    }
   ],
   "source": [
    "num_cols = list(numeric_columns[1:])\n",
    "num_cols"
   ]
  },
  {
   "cell_type": "code",
   "execution_count": 38,
   "metadata": {},
   "outputs": [
    {
     "data": {
      "text/plain": [
       "['hotel',\n",
       " 'arrival_date_month',\n",
       " 'meal',\n",
       " 'country',\n",
       " 'market_segment',\n",
       " 'distribution_channel',\n",
       " 'reserved_room_type',\n",
       " 'assigned_room_type',\n",
       " 'deposit_type',\n",
       " 'customer_type',\n",
       " 'reservation_status',\n",
       " 'reservation_status_date']"
      ]
     },
     "execution_count": 38,
     "metadata": {},
     "output_type": "execute_result"
    }
   ],
   "source": [
    "cat_cols = list(non_numeric_columns)\n",
    "cat_cols"
   ]
  },
  {
   "cell_type": "code",
   "execution_count": null,
   "metadata": {},
   "outputs": [],
   "source": [
    "# split data into training and test set \n",
    "X_train, X_test, y_train, y_test = train_test_split(data.drop('is_canceled', axis=1), \n",
    "                                                    data['is_canceled'], \n",
    "                                                    test_size=0.2,\n",
    "                                                    stratify=data['is_canceled'],\n",
    "                                                    random_state=42)"
   ]
  },
  {
   "cell_type": "code",
   "execution_count": 50,
   "metadata": {},
   "outputs": [],
   "source": [
    "# Numeric columns PIPELINE\n",
    "\n",
    "steps1 = [\n",
    "    ('selector1', SelectColumnsByTypeTransformer(type_to_select='numeric')),\n",
    "    ('remove1', RemoveColumnsTransformer(columns_to_remove=['company', 'agent'])),\n",
    "    ('imputer', ImputeNumColsTransformer(method='median')), \n",
    "    ('scaler', StandardScaler())\n",
    "]\n",
    "\n",
    "transformer_1 = Pipeline(steps=steps1)\n",
    "\n",
    "\n",
    "steps2 = [\n",
    "    ('selector2', SelectColumnsByTypeTransformer(type_to_select='categorical')),\n",
    "    ('remove2', RemoveColumnsTransformer(columns_to_remove=['arrival_date_month', 'reservation_status_date', 'country'])),\n",
    "    ('hotel', HotelTransformer()),\n",
    "    ('market_segmentation', Market_segment_Transformer()),\n",
    "    ('channel_transformer', ChannelTransformer()),\n",
    "    ('reserved_transformer', ReservedTransformer()),\n",
    "    ('assigned_transformer', AssignedTransformer()),\n",
    "    ('customer_transformer', CustomerTransformer()),\n",
    "    ('meal_transformer', MealTransformer()),\n",
    "    ('imput_cat_cols', ImputeCatColsTransformer(method='mode')),\n",
    "    ('dropna', DropNATransformer()),\n",
    "    ('one_hot', GetDummiesTransformer())\n",
    "]\n",
    "\n",
    "transformer_2 = Pipeline(steps=steps2)"
   ]
  },
  {
   "cell_type": "code",
   "execution_count": 52,
   "metadata": {},
   "outputs": [],
   "source": [
    "transformer_list = [ ('categorical_pipeline', transformer_1),\n",
    "                  ('numerical_pipeline', transformer_2)]\n",
    "\n",
    "combined_pipeline = FeatureUnion(transformer_list=transformer_list)\n",
    "\n",
    "\n",
    "final_pipeline = Pipeline(steps = [\n",
    "    ('combined_pipeline', combined_pipeline),\n",
    "    ('pca', PCA()),\n",
    "    ('logistic_regression', LogisticRegression())\n",
    "])"
   ]
  },
  {
   "cell_type": "code",
   "execution_count": 53,
   "metadata": {},
   "outputs": [
    {
     "data": {
      "text/plain": [
       "Pipeline(steps=[('combined_pipeline',\n",
       "                 FeatureUnion(transformer_list=[('categorical_pipeline',\n",
       "                                                 Pipeline(steps=[('selector1',\n",
       "                                                                  SelectColumnsByTypeTransformer(type_to_select='numeric')),\n",
       "                                                                 ('remove1',\n",
       "                                                                  RemoveColumnsTransformer(columns_to_remove=['company',\n",
       "                                                                                                              'agent'])),\n",
       "                                                                 ('imputer',\n",
       "                                                                  ImputeNumColsTransformer(method='median')),\n",
       "                                                                 ('scaler',\n",
       "                                                                  StandardScaler())])),\n",
       "                                                ('numerica...\n",
       "                                                                 ('reserved_transformer',\n",
       "                                                                  ReservedTransformer()),\n",
       "                                                                 ('assigned_transformer',\n",
       "                                                                  AssignedTransformer()),\n",
       "                                                                 ('customer_transformer',\n",
       "                                                                  CustomerTransformer()),\n",
       "                                                                 ('meal_transformer',\n",
       "                                                                  MealTransformer()),\n",
       "                                                                 ('imput_cat_cols',\n",
       "                                                                  ImputeCatColsTransformer()),\n",
       "                                                                 ('dropna',\n",
       "                                                                  DropNATransformer()),\n",
       "                                                                 ('one_hot',\n",
       "                                                                  GetDummiesTransformer())]))])),\n",
       "                ('pca', PCA()), ('logistic_regression', LogisticRegression())])"
      ]
     },
     "execution_count": 53,
     "metadata": {},
     "output_type": "execute_result"
    }
   ],
   "source": [
    "final_pipeline.fit(X_train, y_train)"
   ]
  },
  {
   "cell_type": "code",
   "execution_count": 54,
   "metadata": {},
   "outputs": [
    {
     "data": {
      "text/plain": [
       "1.0"
      ]
     },
     "execution_count": 54,
     "metadata": {},
     "output_type": "execute_result"
    }
   ],
   "source": [
    "final_pipeline.score(X_test, y_test)"
   ]
  },
  {
   "cell_type": "code",
   "execution_count": 58,
   "metadata": {},
   "outputs": [],
   "source": [
    "from sklearn.metrics import roc_curve, roc_auc_score, precision_score,\\\n",
    "recall_score, precision_recall_curve, f1_score, confusion_matrix, auc"
   ]
  },
  {
   "cell_type": "code",
   "execution_count": 56,
   "metadata": {},
   "outputs": [
    {
     "data": {
      "text/plain": [
       "array([0, 0, 1, ..., 0, 0, 0], dtype=int64)"
      ]
     },
     "execution_count": 56,
     "metadata": {},
     "output_type": "execute_result"
    }
   ],
   "source": [
    "predictions = final_pipeline.predict(X_test)\n",
    "predictions"
   ]
  },
  {
   "cell_type": "code",
   "execution_count": 60,
   "metadata": {},
   "outputs": [
    {
     "data": {
      "text/plain": [
       "array([[15033,     0],\n",
       "       [    0,  8845]], dtype=int64)"
      ]
     },
     "execution_count": 60,
     "metadata": {},
     "output_type": "execute_result"
    }
   ],
   "source": [
    "confusion_matrix(predictions, y_test)"
   ]
  },
  {
   "cell_type": "code",
   "execution_count": 62,
   "metadata": {
    "scrolled": true
   },
   "outputs": [
    {
     "data": {
      "text/html": [
       "<div>\n",
       "<style scoped>\n",
       "    .dataframe tbody tr th:only-of-type {\n",
       "        vertical-align: middle;\n",
       "    }\n",
       "\n",
       "    .dataframe tbody tr th {\n",
       "        vertical-align: top;\n",
       "    }\n",
       "\n",
       "    .dataframe thead th {\n",
       "        text-align: right;\n",
       "    }\n",
       "</style>\n",
       "<table border=\"1\" class=\"dataframe\">\n",
       "  <thead>\n",
       "    <tr style=\"text-align: right;\">\n",
       "      <th></th>\n",
       "      <th>Actual 0</th>\n",
       "      <th>Actual 1</th>\n",
       "    </tr>\n",
       "  </thead>\n",
       "  <tbody>\n",
       "    <tr>\n",
       "      <th>Pred 0</th>\n",
       "      <td>15033</td>\n",
       "      <td>0</td>\n",
       "    </tr>\n",
       "    <tr>\n",
       "      <th>Pred 1</th>\n",
       "      <td>0</td>\n",
       "      <td>8845</td>\n",
       "    </tr>\n",
       "  </tbody>\n",
       "</table>\n",
       "</div>"
      ],
      "text/plain": [
       "        Actual 0  Actual 1\n",
       "Pred 0     15033         0\n",
       "Pred 1         0      8845"
      ]
     },
     "execution_count": 62,
     "metadata": {},
     "output_type": "execute_result"
    }
   ],
   "source": [
    "pd.DataFrame(confusion_matrix(predictions, y_test), index=['Pred 0', 'Pred 1'], columns=['Actual 0', 'Actual 1'])"
   ]
  },
  {
   "cell_type": "code",
   "execution_count": 63,
   "metadata": {
    "scrolled": true
   },
   "outputs": [
    {
     "data": {
      "text/html": [
       "<div>\n",
       "<style scoped>\n",
       "    .dataframe tbody tr th:only-of-type {\n",
       "        vertical-align: middle;\n",
       "    }\n",
       "\n",
       "    .dataframe tbody tr th {\n",
       "        vertical-align: top;\n",
       "    }\n",
       "\n",
       "    .dataframe thead th {\n",
       "        text-align: right;\n",
       "    }\n",
       "</style>\n",
       "<table border=\"1\" class=\"dataframe\">\n",
       "  <thead>\n",
       "    <tr style=\"text-align: right;\">\n",
       "      <th></th>\n",
       "      <th>Predict</th>\n",
       "      <th>Actual</th>\n",
       "    </tr>\n",
       "  </thead>\n",
       "  <tbody>\n",
       "    <tr>\n",
       "      <th>0</th>\n",
       "      <td>0</td>\n",
       "      <td>0</td>\n",
       "    </tr>\n",
       "    <tr>\n",
       "      <th>1</th>\n",
       "      <td>0</td>\n",
       "      <td>0</td>\n",
       "    </tr>\n",
       "    <tr>\n",
       "      <th>2</th>\n",
       "      <td>1</td>\n",
       "      <td>1</td>\n",
       "    </tr>\n",
       "    <tr>\n",
       "      <th>3</th>\n",
       "      <td>0</td>\n",
       "      <td>0</td>\n",
       "    </tr>\n",
       "    <tr>\n",
       "      <th>4</th>\n",
       "      <td>0</td>\n",
       "      <td>0</td>\n",
       "    </tr>\n",
       "  </tbody>\n",
       "</table>\n",
       "</div>"
      ],
      "text/plain": [
       "   Predict  Actual\n",
       "0        0       0\n",
       "1        0       0\n",
       "2        1       1\n",
       "3        0       0\n",
       "4        0       0"
      ]
     },
     "execution_count": 63,
     "metadata": {},
     "output_type": "execute_result"
    }
   ],
   "source": [
    "a = pd.DataFrame([predictions, y_test]).T\n",
    "a.columns = ['Predict', 'Actual']\n",
    "a.head()"
   ]
  },
  {
   "cell_type": "code",
   "execution_count": 64,
   "metadata": {
    "scrolled": true
   },
   "outputs": [
    {
     "data": {
      "text/html": [
       "<div>\n",
       "<style scoped>\n",
       "    .dataframe tbody tr th:only-of-type {\n",
       "        vertical-align: middle;\n",
       "    }\n",
       "\n",
       "    .dataframe tbody tr th {\n",
       "        vertical-align: top;\n",
       "    }\n",
       "\n",
       "    .dataframe thead th {\n",
       "        text-align: right;\n",
       "    }\n",
       "</style>\n",
       "<table border=\"1\" class=\"dataframe\">\n",
       "  <thead>\n",
       "    <tr style=\"text-align: right;\">\n",
       "      <th></th>\n",
       "      <th>Predict</th>\n",
       "      <th>Actual</th>\n",
       "    </tr>\n",
       "  </thead>\n",
       "  <tbody>\n",
       "    <tr>\n",
       "      <th>2</th>\n",
       "      <td>1</td>\n",
       "      <td>1</td>\n",
       "    </tr>\n",
       "    <tr>\n",
       "      <th>5</th>\n",
       "      <td>1</td>\n",
       "      <td>1</td>\n",
       "    </tr>\n",
       "    <tr>\n",
       "      <th>6</th>\n",
       "      <td>1</td>\n",
       "      <td>1</td>\n",
       "    </tr>\n",
       "    <tr>\n",
       "      <th>10</th>\n",
       "      <td>1</td>\n",
       "      <td>1</td>\n",
       "    </tr>\n",
       "    <tr>\n",
       "      <th>13</th>\n",
       "      <td>1</td>\n",
       "      <td>1</td>\n",
       "    </tr>\n",
       "    <tr>\n",
       "      <th>...</th>\n",
       "      <td>...</td>\n",
       "      <td>...</td>\n",
       "    </tr>\n",
       "    <tr>\n",
       "      <th>23865</th>\n",
       "      <td>1</td>\n",
       "      <td>1</td>\n",
       "    </tr>\n",
       "    <tr>\n",
       "      <th>23866</th>\n",
       "      <td>1</td>\n",
       "      <td>1</td>\n",
       "    </tr>\n",
       "    <tr>\n",
       "      <th>23869</th>\n",
       "      <td>1</td>\n",
       "      <td>1</td>\n",
       "    </tr>\n",
       "    <tr>\n",
       "      <th>23870</th>\n",
       "      <td>1</td>\n",
       "      <td>1</td>\n",
       "    </tr>\n",
       "    <tr>\n",
       "      <th>23874</th>\n",
       "      <td>1</td>\n",
       "      <td>1</td>\n",
       "    </tr>\n",
       "  </tbody>\n",
       "</table>\n",
       "<p>8845 rows × 2 columns</p>\n",
       "</div>"
      ],
      "text/plain": [
       "       Predict  Actual\n",
       "2            1       1\n",
       "5            1       1\n",
       "6            1       1\n",
       "10           1       1\n",
       "13           1       1\n",
       "...        ...     ...\n",
       "23865        1       1\n",
       "23866        1       1\n",
       "23869        1       1\n",
       "23870        1       1\n",
       "23874        1       1\n",
       "\n",
       "[8845 rows x 2 columns]"
      ]
     },
     "execution_count": 64,
     "metadata": {},
     "output_type": "execute_result"
    }
   ],
   "source": [
    "recall_df = a[a.Actual==1]\n",
    "recall_df"
   ]
  },
  {
   "cell_type": "code",
   "execution_count": 65,
   "metadata": {},
   "outputs": [
    {
     "data": {
      "text/plain": [
       "1.0"
      ]
     },
     "execution_count": 65,
     "metadata": {},
     "output_type": "execute_result"
    }
   ],
   "source": [
    "recall = recall_df.Predict.sum() / recall_df.Actual.sum()\n",
    "recall"
   ]
  },
  {
   "cell_type": "code",
   "execution_count": 66,
   "metadata": {},
   "outputs": [
    {
     "data": {
      "text/html": [
       "<div>\n",
       "<style scoped>\n",
       "    .dataframe tbody tr th:only-of-type {\n",
       "        vertical-align: middle;\n",
       "    }\n",
       "\n",
       "    .dataframe tbody tr th {\n",
       "        vertical-align: top;\n",
       "    }\n",
       "\n",
       "    .dataframe thead th {\n",
       "        text-align: right;\n",
       "    }\n",
       "</style>\n",
       "<table border=\"1\" class=\"dataframe\">\n",
       "  <thead>\n",
       "    <tr style=\"text-align: right;\">\n",
       "      <th></th>\n",
       "      <th>Predict</th>\n",
       "      <th>Actual</th>\n",
       "    </tr>\n",
       "  </thead>\n",
       "  <tbody>\n",
       "    <tr>\n",
       "      <th>2</th>\n",
       "      <td>1</td>\n",
       "      <td>1</td>\n",
       "    </tr>\n",
       "    <tr>\n",
       "      <th>5</th>\n",
       "      <td>1</td>\n",
       "      <td>1</td>\n",
       "    </tr>\n",
       "    <tr>\n",
       "      <th>6</th>\n",
       "      <td>1</td>\n",
       "      <td>1</td>\n",
       "    </tr>\n",
       "    <tr>\n",
       "      <th>10</th>\n",
       "      <td>1</td>\n",
       "      <td>1</td>\n",
       "    </tr>\n",
       "    <tr>\n",
       "      <th>13</th>\n",
       "      <td>1</td>\n",
       "      <td>1</td>\n",
       "    </tr>\n",
       "    <tr>\n",
       "      <th>...</th>\n",
       "      <td>...</td>\n",
       "      <td>...</td>\n",
       "    </tr>\n",
       "    <tr>\n",
       "      <th>23865</th>\n",
       "      <td>1</td>\n",
       "      <td>1</td>\n",
       "    </tr>\n",
       "    <tr>\n",
       "      <th>23866</th>\n",
       "      <td>1</td>\n",
       "      <td>1</td>\n",
       "    </tr>\n",
       "    <tr>\n",
       "      <th>23869</th>\n",
       "      <td>1</td>\n",
       "      <td>1</td>\n",
       "    </tr>\n",
       "    <tr>\n",
       "      <th>23870</th>\n",
       "      <td>1</td>\n",
       "      <td>1</td>\n",
       "    </tr>\n",
       "    <tr>\n",
       "      <th>23874</th>\n",
       "      <td>1</td>\n",
       "      <td>1</td>\n",
       "    </tr>\n",
       "  </tbody>\n",
       "</table>\n",
       "<p>8845 rows × 2 columns</p>\n",
       "</div>"
      ],
      "text/plain": [
       "       Predict  Actual\n",
       "2            1       1\n",
       "5            1       1\n",
       "6            1       1\n",
       "10           1       1\n",
       "13           1       1\n",
       "...        ...     ...\n",
       "23865        1       1\n",
       "23866        1       1\n",
       "23869        1       1\n",
       "23870        1       1\n",
       "23874        1       1\n",
       "\n",
       "[8845 rows x 2 columns]"
      ]
     },
     "execution_count": 66,
     "metadata": {},
     "output_type": "execute_result"
    }
   ],
   "source": [
    "precision_df = a[a.Predict==1]\n",
    "precision_df"
   ]
  },
  {
   "cell_type": "code",
   "execution_count": 67,
   "metadata": {},
   "outputs": [
    {
     "data": {
      "text/plain": [
       "1.0"
      ]
     },
     "execution_count": 67,
     "metadata": {},
     "output_type": "execute_result"
    }
   ],
   "source": [
    "precision = precision_df.Actual.sum() / precision_df.Predict.sum()\n",
    "precision"
   ]
  },
  {
   "cell_type": "code",
   "execution_count": null,
   "metadata": {},
   "outputs": [],
   "source": []
  }
 ],
 "metadata": {
  "kernelspec": {
   "display_name": "Python 3",
   "language": "python",
   "name": "python3"
  },
  "language_info": {
   "codemirror_mode": {
    "name": "ipython",
    "version": 3
   },
   "file_extension": ".py",
   "mimetype": "text/x-python",
   "name": "python",
   "nbconvert_exporter": "python",
   "pygments_lexer": "ipython3",
   "version": "3.8.3"
  }
 },
 "nbformat": 4,
 "nbformat_minor": 4
}
